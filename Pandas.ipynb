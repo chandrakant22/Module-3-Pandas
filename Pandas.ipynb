{
  "cells": [
    {
      "cell_type": "markdown",
      "metadata": {
        "id": "view-in-github",
        "colab_type": "text"
      },
      "source": [
        "<a href=\"https://colab.research.google.com/github/chandrakant22/Module-3-Pandas/blob/main/Pandas.ipynb\" target=\"_parent\"><img src=\"https://colab.research.google.com/assets/colab-badge.svg\" alt=\"Open In Colab\"/></a>"
      ]
    },
    {
      "cell_type": "markdown",
      "id": "cc2c30d7",
      "metadata": {
        "id": "cc2c30d7"
      },
      "source": []
    },
    {
      "cell_type": "code",
      "source": [
        "from google.colab import drive\n",
        "drive.mount('/content/drive')"
      ],
      "metadata": {
        "id": "CSx0QsT72RjS"
      },
      "id": "CSx0QsT72RjS",
      "execution_count": null,
      "outputs": []
    },
    {
      "cell_type": "code",
      "execution_count": null,
      "id": "52b298dd",
      "metadata": {
        "id": "52b298dd"
      },
      "outputs": [],
      "source": [
        "import pandas as pd"
      ]
    },
    {
      "cell_type": "code",
      "execution_count": null,
      "id": "51f64de9",
      "metadata": {
        "colab": {
          "base_uri": "https://localhost:8080/",
          "height": 36
        },
        "id": "51f64de9",
        "outputId": "21fa4097-20d2-4223-c5f0-47dc83ccc19f"
      },
      "outputs": [
        {
          "output_type": "execute_result",
          "data": {
            "text/plain": [
              "'1.3.5'"
            ],
            "application/vnd.google.colaboratory.intrinsic+json": {
              "type": "string"
            }
          },
          "metadata": {},
          "execution_count": 2
        }
      ],
      "source": [
        "pd.__version__"
      ]
    },
    {
      "cell_type": "markdown",
      "id": "927b94d9",
      "metadata": {
        "id": "927b94d9"
      },
      "source": [
        "#### Series"
      ]
    },
    {
      "cell_type": "code",
      "execution_count": null,
      "id": "ba4d5bbe",
      "metadata": {
        "colab": {
          "base_uri": "https://localhost:8080/"
        },
        "id": "ba4d5bbe",
        "outputId": "14ae66d8-696b-418f-fadd-813fee5684fd"
      },
      "outputs": [
        {
          "output_type": "stream",
          "name": "stdout",
          "text": [
            "[1, 2, -3, 6.5, 'data values']\n"
          ]
        }
      ],
      "source": [
        "list_1 = [1,2,-3,6.5,'data values']\n",
        "print(list_1)"
      ]
    },
    {
      "cell_type": "code",
      "execution_count": null,
      "id": "91826b81",
      "metadata": {
        "colab": {
          "base_uri": "https://localhost:8080/"
        },
        "id": "91826b81",
        "outputId": "c1ee540c-bb98-4533-ded3-9709a9d40064"
      },
      "outputs": [
        {
          "output_type": "stream",
          "name": "stdout",
          "text": [
            "0              1\n",
            "1              2\n",
            "2             -3\n",
            "3            6.5\n",
            "4    data values\n",
            "dtype: object\n"
          ]
        }
      ],
      "source": [
        "series_1 = pd.Series(list_1)\n",
        "print(series_1)"
      ]
    },
    {
      "cell_type": "code",
      "execution_count": null,
      "id": "573a2dc9",
      "metadata": {
        "colab": {
          "base_uri": "https://localhost:8080/"
        },
        "id": "573a2dc9",
        "outputId": "0e1f1f06-b813-4143-eced-09ec377383f7"
      },
      "outputs": [
        {
          "output_type": "execute_result",
          "data": {
            "text/plain": [
              "pandas.core.series.Series"
            ]
          },
          "metadata": {},
          "execution_count": 5
        }
      ],
      "source": [
        "type(series_1)"
      ]
    },
    {
      "cell_type": "code",
      "execution_count": null,
      "id": "363434c8",
      "metadata": {
        "colab": {
          "base_uri": "https://localhost:8080/"
        },
        "id": "363434c8",
        "outputId": "a8138f93-8c8c-4cef-8516-74cc35376ba3"
      },
      "outputs": [
        {
          "output_type": "stream",
          "name": "stdout",
          "text": [
            "0    1\n",
            "1    2\n",
            "2    3\n",
            "3    4\n",
            "dtype: int64\n"
          ]
        }
      ],
      "source": [
        "series_2 = pd.Series([1,2,3,4])\n",
        "print(series_2)"
      ]
    },
    {
      "cell_type": "code",
      "execution_count": null,
      "id": "494e2f40",
      "metadata": {
        "colab": {
          "base_uri": "https://localhost:8080/"
        },
        "id": "494e2f40",
        "outputId": "9a12c718-ea45-415d-d14b-5f57115d72ac"
      },
      "outputs": [
        {
          "output_type": "stream",
          "name": "stdout",
          "text": [
            "Series([], dtype: float64)\n"
          ]
        },
        {
          "output_type": "stream",
          "name": "stderr",
          "text": [
            "<ipython-input-7-79e25d8c2062>:1: DeprecationWarning: The default dtype for empty Series will be 'object' instead of 'float64' in a future version. Specify a dtype explicitly to silence this warning.\n",
            "  empty_l = pd.Series([])\n"
          ]
        }
      ],
      "source": [
        "empty_l = pd.Series([])\n",
        "print(empty_l) "
      ]
    },
    {
      "cell_type": "code",
      "execution_count": null,
      "id": "42966b46",
      "metadata": {
        "colab": {
          "base_uri": "https://localhost:8080/"
        },
        "id": "42966b46",
        "outputId": "c2604e5e-7623-4465-d50c-9c431fe2f5ee"
      },
      "outputs": [
        {
          "output_type": "stream",
          "name": "stdout",
          "text": [
            "a    1\n",
            "b    2\n",
            "c    3\n",
            "d    4\n",
            "dtype: int64\n"
          ]
        }
      ],
      "source": [
        "series_3 = pd.Series([1,2,3,4],index = ['a','b','c','d'])\n",
        "print(series_3)"
      ]
    },
    {
      "cell_type": "code",
      "execution_count": null,
      "id": "65db0d30",
      "metadata": {
        "colab": {
          "base_uri": "https://localhost:8080/"
        },
        "id": "65db0d30",
        "outputId": "952293cd-0335-4cd5-c689-157edf747b24"
      },
      "outputs": [
        {
          "output_type": "stream",
          "name": "stdout",
          "text": [
            "a    1.0\n",
            "b    2.0\n",
            "c    3.0\n",
            "d    4.0\n",
            "dtype: float64\n"
          ]
        }
      ],
      "source": [
        "series_3 = pd.Series([1,2,3,4],index = ['a','b','c','d'],dtype = float)\n",
        "print(series_3)"
      ]
    },
    {
      "cell_type": "code",
      "execution_count": null,
      "id": "c5edd2e9",
      "metadata": {
        "scrolled": false,
        "colab": {
          "base_uri": "https://localhost:8080/"
        },
        "id": "c5edd2e9",
        "outputId": "ddff9a87-e3b4-49ec-da2f-4debecc08a51"
      },
      "outputs": [
        {
          "output_type": "stream",
          "name": "stdout",
          "text": [
            "a    1.0\n",
            "b    2.0\n",
            "c    3.0\n",
            "d    4.0\n",
            "Name: data values, dtype: float64\n"
          ]
        }
      ],
      "source": [
        "series_3 = pd.Series([1,2,3,4],index = ['a','b','c','d'],dtype = float,name = 'data values')\n",
        "print(series_3)"
      ]
    },
    {
      "cell_type": "code",
      "execution_count": null,
      "id": "489ec607",
      "metadata": {
        "colab": {
          "base_uri": "https://localhost:8080/"
        },
        "id": "489ec607",
        "outputId": "6b1501ca-fc64-4c28-9848-1b805356ddb5"
      },
      "outputs": [
        {
          "output_type": "stream",
          "name": "stdout",
          "text": [
            "0    0.5\n",
            "dtype: float64\n"
          ]
        }
      ],
      "source": [
        "scalar_1 = pd.Series(0.5)\n",
        "print(scalar_1)"
      ]
    },
    {
      "cell_type": "code",
      "execution_count": null,
      "id": "b613b25b",
      "metadata": {
        "colab": {
          "base_uri": "https://localhost:8080/"
        },
        "id": "b613b25b",
        "outputId": "101f6946-02fd-4442-92d4-8b965228a7cf"
      },
      "outputs": [
        {
          "output_type": "stream",
          "name": "stdout",
          "text": [
            "1    0.5\n",
            "2    0.5\n",
            "3    0.5\n",
            "dtype: float64\n"
          ]
        }
      ],
      "source": [
        "scalar_1 = pd.Series(0.5,index = [1,2,3])\n",
        "print(scalar_1)"
      ]
    },
    {
      "cell_type": "code",
      "execution_count": null,
      "id": "5eb979b7",
      "metadata": {
        "colab": {
          "base_uri": "https://localhost:8080/"
        },
        "id": "5eb979b7",
        "outputId": "edee61f3-95b4-4229-a200-5c29ba798719"
      },
      "outputs": [
        {
          "output_type": "stream",
          "name": "stdout",
          "text": [
            "a    1\n",
            "b    2\n",
            "dtype: int64\n"
          ]
        }
      ],
      "source": [
        "dict_1 = pd.Series({'a':1,'b':2})\n",
        "print(dict_1)"
      ]
    },
    {
      "cell_type": "code",
      "execution_count": null,
      "id": "812b2e31",
      "metadata": {
        "colab": {
          "base_uri": "https://localhost:8080/"
        },
        "id": "812b2e31",
        "outputId": "70dedf07-3b49-4663-bc80-406ec248c707"
      },
      "outputs": [
        {
          "output_type": "stream",
          "name": "stdout",
          "text": [
            "0    1\n",
            "1    2\n",
            "2    3\n",
            "3    4\n",
            "4    5\n",
            "dtype: int64\n"
          ]
        }
      ],
      "source": [
        "series_4 = pd.Series([1,2,3,4,5])\n",
        "print(series_4)"
      ]
    },
    {
      "cell_type": "code",
      "execution_count": null,
      "id": "bedc7d99",
      "metadata": {
        "colab": {
          "base_uri": "https://localhost:8080/"
        },
        "id": "bedc7d99",
        "outputId": "b0d9b3e4-6171-4b9a-c77f-87f06c0033bb"
      },
      "outputs": [
        {
          "output_type": "execute_result",
          "data": {
            "text/plain": [
              "1"
            ]
          },
          "metadata": {},
          "execution_count": 15
        }
      ],
      "source": [
        "series_4[0]"
      ]
    },
    {
      "cell_type": "code",
      "execution_count": null,
      "id": "5df2d114",
      "metadata": {
        "colab": {
          "base_uri": "https://localhost:8080/"
        },
        "id": "5df2d114",
        "outputId": "341ab226-9c66-4e7a-c23f-1524f5425ae7"
      },
      "outputs": [
        {
          "output_type": "execute_result",
          "data": {
            "text/plain": [
              "0    1\n",
              "1    2\n",
              "2    3\n",
              "dtype: int64"
            ]
          },
          "metadata": {},
          "execution_count": 16
        }
      ],
      "source": [
        "series_4[0:3]"
      ]
    },
    {
      "cell_type": "code",
      "execution_count": null,
      "id": "4c8dc83e",
      "metadata": {
        "colab": {
          "base_uri": "https://localhost:8080/"
        },
        "id": "4c8dc83e",
        "outputId": "1763e63c-a3d2-4eae-f5c5-e49be2c39997"
      },
      "outputs": [
        {
          "output_type": "execute_result",
          "data": {
            "text/plain": [
              "5"
            ]
          },
          "metadata": {},
          "execution_count": 17
        }
      ],
      "source": [
        "max(series_4)"
      ]
    },
    {
      "cell_type": "code",
      "execution_count": null,
      "id": "b2455e2c",
      "metadata": {
        "colab": {
          "base_uri": "https://localhost:8080/"
        },
        "id": "b2455e2c",
        "outputId": "43bd066e-ad63-42ca-b7bf-22d5b33ebcb6"
      },
      "outputs": [
        {
          "output_type": "execute_result",
          "data": {
            "text/plain": [
              "1"
            ]
          },
          "metadata": {},
          "execution_count": 18
        }
      ],
      "source": [
        "min(series_4)"
      ]
    },
    {
      "cell_type": "code",
      "execution_count": null,
      "id": "3964e998",
      "metadata": {
        "colab": {
          "base_uri": "https://localhost:8080/"
        },
        "id": "3964e998",
        "outputId": "17b48ce1-8f6c-43be-d7a9-d941b43cd154"
      },
      "outputs": [
        {
          "output_type": "execute_result",
          "data": {
            "text/plain": [
              "3    4\n",
              "4    5\n",
              "dtype: int64"
            ]
          },
          "metadata": {},
          "execution_count": 19
        }
      ],
      "source": [
        "series_4[series_4 > 3]"
      ]
    },
    {
      "cell_type": "code",
      "execution_count": null,
      "id": "225645be",
      "metadata": {
        "colab": {
          "base_uri": "https://localhost:8080/"
        },
        "id": "225645be",
        "outputId": "2330d1a0-9974-4ffc-c4b9-734d6b582621"
      },
      "outputs": [
        {
          "output_type": "execute_result",
          "data": {
            "text/plain": [
              "0    1\n",
              "1    2\n",
              "2    3\n",
              "3    4\n",
              "4    5\n",
              "dtype: int64"
            ]
          },
          "metadata": {},
          "execution_count": 20
        }
      ],
      "source": [
        "series_5 = pd.Series([1,2,3,4,5])\n",
        "series_5"
      ]
    },
    {
      "cell_type": "code",
      "execution_count": null,
      "id": "ad0055d0",
      "metadata": {
        "colab": {
          "base_uri": "https://localhost:8080/"
        },
        "id": "ad0055d0",
        "outputId": "6ea98a25-5c9d-452b-bf7e-aee935f8ff32"
      },
      "outputs": [
        {
          "output_type": "execute_result",
          "data": {
            "text/plain": [
              "0     2\n",
              "1     4\n",
              "2     6\n",
              "3     8\n",
              "4    10\n",
              "dtype: int64"
            ]
          },
          "metadata": {},
          "execution_count": 21
        }
      ],
      "source": [
        "series_4 + series_5"
      ]
    },
    {
      "cell_type": "code",
      "execution_count": null,
      "id": "7b63da8f",
      "metadata": {
        "colab": {
          "base_uri": "https://localhost:8080/"
        },
        "id": "7b63da8f",
        "outputId": "e35b934c-6e95-4fcf-dfc3-62ab9db14612"
      },
      "outputs": [
        {
          "output_type": "execute_result",
          "data": {
            "text/plain": [
              "0    1\n",
              "1    2\n",
              "2    3\n",
              "dtype: int64"
            ]
          },
          "metadata": {},
          "execution_count": 22
        }
      ],
      "source": [
        "series_6 = pd.Series([1,2,3])\n",
        "series_6"
      ]
    },
    {
      "cell_type": "code",
      "execution_count": null,
      "id": "f9405a37",
      "metadata": {
        "colab": {
          "base_uri": "https://localhost:8080/"
        },
        "id": "f9405a37",
        "outputId": "ad52464b-d269-49e7-b943-c39bf867a89a"
      },
      "outputs": [
        {
          "output_type": "execute_result",
          "data": {
            "text/plain": [
              "0    2.0\n",
              "1    4.0\n",
              "2    6.0\n",
              "3    NaN\n",
              "4    NaN\n",
              "dtype: float64"
            ]
          },
          "metadata": {},
          "execution_count": 23
        }
      ],
      "source": [
        "# NaN Missing Values Handling \n",
        "series_5 + series_6"
      ]
    },
    {
      "cell_type": "markdown",
      "id": "b36e0c1b",
      "metadata": {
        "id": "b36e0c1b"
      },
      "source": [
        "#### DataFrame"
      ]
    },
    {
      "cell_type": "code",
      "execution_count": null,
      "id": "fadc41a8",
      "metadata": {
        "id": "fadc41a8"
      },
      "outputs": [],
      "source": [
        "import pandas as pd"
      ]
    },
    {
      "cell_type": "code",
      "execution_count": null,
      "id": "32635cd9",
      "metadata": {
        "id": "32635cd9",
        "outputId": "8894c500-45b9-44df-a027-87910ba7cb49",
        "colab": {
          "base_uri": "https://localhost:8080/"
        }
      },
      "outputs": [
        {
          "output_type": "stream",
          "name": "stdout",
          "text": [
            "Empty DataFrame\n",
            "Columns: []\n",
            "Index: []\n"
          ]
        }
      ],
      "source": [
        "emt_df = pd.DataFrame()\n",
        "print(emt_df)"
      ]
    },
    {
      "cell_type": "code",
      "execution_count": null,
      "id": "dbf0a0df",
      "metadata": {
        "id": "dbf0a0df",
        "outputId": "8cd93d6f-c72f-405b-8c1d-6575a553dd3d",
        "colab": {
          "base_uri": "https://localhost:8080/"
        }
      },
      "outputs": [
        {
          "output_type": "stream",
          "name": "stdout",
          "text": [
            "['a', 'b', 'c']\n"
          ]
        }
      ],
      "source": [
        "lst = ['a','b','c']\n",
        "print(lst)"
      ]
    },
    {
      "cell_type": "code",
      "execution_count": null,
      "id": "150895e9",
      "metadata": {
        "id": "150895e9",
        "outputId": "dc599697-e365-4faa-ffe6-fc4a48306fce",
        "colab": {
          "base_uri": "https://localhost:8080/"
        }
      },
      "outputs": [
        {
          "output_type": "stream",
          "name": "stdout",
          "text": [
            "   0\n",
            "0  a\n",
            "1  b\n",
            "2  c\n"
          ]
        }
      ],
      "source": [
        "df_1 = pd.DataFrame(lst)\n",
        "print(df_1)"
      ]
    },
    {
      "cell_type": "code",
      "execution_count": null,
      "id": "640e97c6",
      "metadata": {
        "id": "640e97c6",
        "outputId": "2b91bafc-4cc9-408f-f51c-22b202382b57",
        "colab": {
          "base_uri": "https://localhost:8080/",
          "height": 172
        }
      },
      "outputs": [
        {
          "output_type": "execute_result",
          "data": {
            "text/plain": [
              "   0\n",
              "0  a\n",
              "1  b\n",
              "2  c"
            ],
            "text/html": [
              "\n",
              "  <div id=\"df-2a2f60b7-3ffb-4514-bf11-48513f9295a8\">\n",
              "    <div class=\"colab-df-container\">\n",
              "      <div>\n",
              "<style scoped>\n",
              "    .dataframe tbody tr th:only-of-type {\n",
              "        vertical-align: middle;\n",
              "    }\n",
              "\n",
              "    .dataframe tbody tr th {\n",
              "        vertical-align: top;\n",
              "    }\n",
              "\n",
              "    .dataframe thead th {\n",
              "        text-align: right;\n",
              "    }\n",
              "</style>\n",
              "<table border=\"1\" class=\"dataframe\">\n",
              "  <thead>\n",
              "    <tr style=\"text-align: right;\">\n",
              "      <th></th>\n",
              "      <th>0</th>\n",
              "    </tr>\n",
              "  </thead>\n",
              "  <tbody>\n",
              "    <tr>\n",
              "      <th>0</th>\n",
              "      <td>a</td>\n",
              "    </tr>\n",
              "    <tr>\n",
              "      <th>1</th>\n",
              "      <td>b</td>\n",
              "    </tr>\n",
              "    <tr>\n",
              "      <th>2</th>\n",
              "      <td>c</td>\n",
              "    </tr>\n",
              "  </tbody>\n",
              "</table>\n",
              "</div>\n",
              "      <button class=\"colab-df-convert\" onclick=\"convertToInteractive('df-2a2f60b7-3ffb-4514-bf11-48513f9295a8')\"\n",
              "              title=\"Convert this dataframe to an interactive table.\"\n",
              "              style=\"display:none;\">\n",
              "        \n",
              "  <svg xmlns=\"http://www.w3.org/2000/svg\" height=\"24px\"viewBox=\"0 0 24 24\"\n",
              "       width=\"24px\">\n",
              "    <path d=\"M0 0h24v24H0V0z\" fill=\"none\"/>\n",
              "    <path d=\"M18.56 5.44l.94 2.06.94-2.06 2.06-.94-2.06-.94-.94-2.06-.94 2.06-2.06.94zm-11 1L8.5 8.5l.94-2.06 2.06-.94-2.06-.94L8.5 2.5l-.94 2.06-2.06.94zm10 10l.94 2.06.94-2.06 2.06-.94-2.06-.94-.94-2.06-.94 2.06-2.06.94z\"/><path d=\"M17.41 7.96l-1.37-1.37c-.4-.4-.92-.59-1.43-.59-.52 0-1.04.2-1.43.59L10.3 9.45l-7.72 7.72c-.78.78-.78 2.05 0 2.83L4 21.41c.39.39.9.59 1.41.59.51 0 1.02-.2 1.41-.59l7.78-7.78 2.81-2.81c.8-.78.8-2.07 0-2.86zM5.41 20L4 18.59l7.72-7.72 1.47 1.35L5.41 20z\"/>\n",
              "  </svg>\n",
              "      </button>\n",
              "      \n",
              "  <style>\n",
              "    .colab-df-container {\n",
              "      display:flex;\n",
              "      flex-wrap:wrap;\n",
              "      gap: 12px;\n",
              "    }\n",
              "\n",
              "    .colab-df-convert {\n",
              "      background-color: #E8F0FE;\n",
              "      border: none;\n",
              "      border-radius: 50%;\n",
              "      cursor: pointer;\n",
              "      display: none;\n",
              "      fill: #1967D2;\n",
              "      height: 32px;\n",
              "      padding: 0 0 0 0;\n",
              "      width: 32px;\n",
              "    }\n",
              "\n",
              "    .colab-df-convert:hover {\n",
              "      background-color: #E2EBFA;\n",
              "      box-shadow: 0px 1px 2px rgba(60, 64, 67, 0.3), 0px 1px 3px 1px rgba(60, 64, 67, 0.15);\n",
              "      fill: #174EA6;\n",
              "    }\n",
              "\n",
              "    [theme=dark] .colab-df-convert {\n",
              "      background-color: #3B4455;\n",
              "      fill: #D2E3FC;\n",
              "    }\n",
              "\n",
              "    [theme=dark] .colab-df-convert:hover {\n",
              "      background-color: #434B5C;\n",
              "      box-shadow: 0px 1px 3px 1px rgba(0, 0, 0, 0.15);\n",
              "      filter: drop-shadow(0px 1px 2px rgba(0, 0, 0, 0.3));\n",
              "      fill: #FFFFFF;\n",
              "    }\n",
              "  </style>\n",
              "\n",
              "      <script>\n",
              "        const buttonEl =\n",
              "          document.querySelector('#df-2a2f60b7-3ffb-4514-bf11-48513f9295a8 button.colab-df-convert');\n",
              "        buttonEl.style.display =\n",
              "          google.colab.kernel.accessAllowed ? 'block' : 'none';\n",
              "\n",
              "        async function convertToInteractive(key) {\n",
              "          const element = document.querySelector('#df-2a2f60b7-3ffb-4514-bf11-48513f9295a8');\n",
              "          const dataTable =\n",
              "            await google.colab.kernel.invokeFunction('convertToInteractive',\n",
              "                                                     [key], {});\n",
              "          if (!dataTable) return;\n",
              "\n",
              "          const docLinkHtml = 'Like what you see? Visit the ' +\n",
              "            '<a target=\"_blank\" href=https://colab.research.google.com/notebooks/data_table.ipynb>data table notebook</a>'\n",
              "            + ' to learn more about interactive tables.';\n",
              "          element.innerHTML = '';\n",
              "          dataTable['output_type'] = 'display_data';\n",
              "          await google.colab.output.renderOutput(dataTable, element);\n",
              "          const docLink = document.createElement('div');\n",
              "          docLink.innerHTML = docLinkHtml;\n",
              "          element.appendChild(docLink);\n",
              "        }\n",
              "      </script>\n",
              "    </div>\n",
              "  </div>\n",
              "  "
            ]
          },
          "metadata": {},
          "execution_count": 28
        }
      ],
      "source": [
        "df_1"
      ]
    },
    {
      "cell_type": "code",
      "execution_count": null,
      "id": "49e795d8",
      "metadata": {
        "id": "49e795d8",
        "outputId": "f8e7cdb2-7d24-4f70-83bf-bbd695db4136",
        "colab": {
          "base_uri": "https://localhost:8080/"
        }
      },
      "outputs": [
        {
          "output_type": "stream",
          "name": "stdout",
          "text": [
            "[[1, 2, 3], [2, 3, 4], [4, 5, 6]]\n"
          ]
        }
      ],
      "source": [
        "lst_of_lst = [[1,2,3],[2,3,4],[4,5,6]]\n",
        "print(lst_of_lst)"
      ]
    },
    {
      "cell_type": "code",
      "source": [
        "import numpy as np\n",
        "a = np.array(lst_of_lst)\n",
        "a"
      ],
      "metadata": {
        "colab": {
          "base_uri": "https://localhost:8080/"
        },
        "id": "tQsVmIrF4Mmu",
        "outputId": "1a54590c-9752-48e0-ffe1-42447ad64fd5"
      },
      "id": "tQsVmIrF4Mmu",
      "execution_count": null,
      "outputs": [
        {
          "output_type": "execute_result",
          "data": {
            "text/plain": [
              "array([[1, 2, 3],\n",
              "       [2, 3, 4],\n",
              "       [4, 5, 6]])"
            ]
          },
          "metadata": {},
          "execution_count": 35
        }
      ]
    },
    {
      "cell_type": "code",
      "execution_count": null,
      "id": "9c46e3da",
      "metadata": {
        "id": "9c46e3da",
        "outputId": "a2d47dba-67b2-45bc-ff60-361e88ea3290",
        "colab": {
          "base_uri": "https://localhost:8080/"
        }
      },
      "outputs": [
        {
          "output_type": "stream",
          "name": "stdout",
          "text": [
            "   0  1  2\n",
            "0  1  2  3\n",
            "1  2  3  4\n",
            "2  4  5  6\n"
          ]
        }
      ],
      "source": [
        "df_2 = pd.DataFrame(lst_of_lst)\n",
        "print(df_2)"
      ]
    },
    {
      "cell_type": "code",
      "execution_count": null,
      "id": "d3335c25",
      "metadata": {
        "id": "d3335c25",
        "outputId": "57405065-861b-49d5-cb46-423ac1a9e7c1",
        "colab": {
          "base_uri": "https://localhost:8080/",
          "height": 143
        }
      },
      "outputs": [
        {
          "output_type": "execute_result",
          "data": {
            "text/plain": [
              "   0  1  2\n",
              "0  1  2  3\n",
              "1  2  3  4\n",
              "2  4  5  6"
            ],
            "text/html": [
              "\n",
              "  <div id=\"df-5c0c3909-6807-4095-829c-f9a726ee8c58\">\n",
              "    <div class=\"colab-df-container\">\n",
              "      <div>\n",
              "<style scoped>\n",
              "    .dataframe tbody tr th:only-of-type {\n",
              "        vertical-align: middle;\n",
              "    }\n",
              "\n",
              "    .dataframe tbody tr th {\n",
              "        vertical-align: top;\n",
              "    }\n",
              "\n",
              "    .dataframe thead th {\n",
              "        text-align: right;\n",
              "    }\n",
              "</style>\n",
              "<table border=\"1\" class=\"dataframe\">\n",
              "  <thead>\n",
              "    <tr style=\"text-align: right;\">\n",
              "      <th></th>\n",
              "      <th>0</th>\n",
              "      <th>1</th>\n",
              "      <th>2</th>\n",
              "    </tr>\n",
              "  </thead>\n",
              "  <tbody>\n",
              "    <tr>\n",
              "      <th>0</th>\n",
              "      <td>1</td>\n",
              "      <td>2</td>\n",
              "      <td>3</td>\n",
              "    </tr>\n",
              "    <tr>\n",
              "      <th>1</th>\n",
              "      <td>2</td>\n",
              "      <td>3</td>\n",
              "      <td>4</td>\n",
              "    </tr>\n",
              "    <tr>\n",
              "      <th>2</th>\n",
              "      <td>4</td>\n",
              "      <td>5</td>\n",
              "      <td>6</td>\n",
              "    </tr>\n",
              "  </tbody>\n",
              "</table>\n",
              "</div>\n",
              "      <button class=\"colab-df-convert\" onclick=\"convertToInteractive('df-5c0c3909-6807-4095-829c-f9a726ee8c58')\"\n",
              "              title=\"Convert this dataframe to an interactive table.\"\n",
              "              style=\"display:none;\">\n",
              "        \n",
              "  <svg xmlns=\"http://www.w3.org/2000/svg\" height=\"24px\"viewBox=\"0 0 24 24\"\n",
              "       width=\"24px\">\n",
              "    <path d=\"M0 0h24v24H0V0z\" fill=\"none\"/>\n",
              "    <path d=\"M18.56 5.44l.94 2.06.94-2.06 2.06-.94-2.06-.94-.94-2.06-.94 2.06-2.06.94zm-11 1L8.5 8.5l.94-2.06 2.06-.94-2.06-.94L8.5 2.5l-.94 2.06-2.06.94zm10 10l.94 2.06.94-2.06 2.06-.94-2.06-.94-.94-2.06-.94 2.06-2.06.94z\"/><path d=\"M17.41 7.96l-1.37-1.37c-.4-.4-.92-.59-1.43-.59-.52 0-1.04.2-1.43.59L10.3 9.45l-7.72 7.72c-.78.78-.78 2.05 0 2.83L4 21.41c.39.39.9.59 1.41.59.51 0 1.02-.2 1.41-.59l7.78-7.78 2.81-2.81c.8-.78.8-2.07 0-2.86zM5.41 20L4 18.59l7.72-7.72 1.47 1.35L5.41 20z\"/>\n",
              "  </svg>\n",
              "      </button>\n",
              "      \n",
              "  <style>\n",
              "    .colab-df-container {\n",
              "      display:flex;\n",
              "      flex-wrap:wrap;\n",
              "      gap: 12px;\n",
              "    }\n",
              "\n",
              "    .colab-df-convert {\n",
              "      background-color: #E8F0FE;\n",
              "      border: none;\n",
              "      border-radius: 50%;\n",
              "      cursor: pointer;\n",
              "      display: none;\n",
              "      fill: #1967D2;\n",
              "      height: 32px;\n",
              "      padding: 0 0 0 0;\n",
              "      width: 32px;\n",
              "    }\n",
              "\n",
              "    .colab-df-convert:hover {\n",
              "      background-color: #E2EBFA;\n",
              "      box-shadow: 0px 1px 2px rgba(60, 64, 67, 0.3), 0px 1px 3px 1px rgba(60, 64, 67, 0.15);\n",
              "      fill: #174EA6;\n",
              "    }\n",
              "\n",
              "    [theme=dark] .colab-df-convert {\n",
              "      background-color: #3B4455;\n",
              "      fill: #D2E3FC;\n",
              "    }\n",
              "\n",
              "    [theme=dark] .colab-df-convert:hover {\n",
              "      background-color: #434B5C;\n",
              "      box-shadow: 0px 1px 3px 1px rgba(0, 0, 0, 0.15);\n",
              "      filter: drop-shadow(0px 1px 2px rgba(0, 0, 0, 0.3));\n",
              "      fill: #FFFFFF;\n",
              "    }\n",
              "  </style>\n",
              "\n",
              "      <script>\n",
              "        const buttonEl =\n",
              "          document.querySelector('#df-5c0c3909-6807-4095-829c-f9a726ee8c58 button.colab-df-convert');\n",
              "        buttonEl.style.display =\n",
              "          google.colab.kernel.accessAllowed ? 'block' : 'none';\n",
              "\n",
              "        async function convertToInteractive(key) {\n",
              "          const element = document.querySelector('#df-5c0c3909-6807-4095-829c-f9a726ee8c58');\n",
              "          const dataTable =\n",
              "            await google.colab.kernel.invokeFunction('convertToInteractive',\n",
              "                                                     [key], {});\n",
              "          if (!dataTable) return;\n",
              "\n",
              "          const docLinkHtml = 'Like what you see? Visit the ' +\n",
              "            '<a target=\"_blank\" href=https://colab.research.google.com/notebooks/data_table.ipynb>data table notebook</a>'\n",
              "            + ' to learn more about interactive tables.';\n",
              "          element.innerHTML = '';\n",
              "          dataTable['output_type'] = 'display_data';\n",
              "          await google.colab.output.renderOutput(dataTable, element);\n",
              "          const docLink = document.createElement('div');\n",
              "          docLink.innerHTML = docLinkHtml;\n",
              "          element.appendChild(docLink);\n",
              "        }\n",
              "      </script>\n",
              "    </div>\n",
              "  </div>\n",
              "  "
            ]
          },
          "metadata": {},
          "execution_count": 36
        }
      ],
      "source": [
        "df_2"
      ]
    },
    {
      "cell_type": "code",
      "execution_count": null,
      "id": "eed29f6b",
      "metadata": {
        "id": "eed29f6b",
        "outputId": "e5a918b9-1e41-4898-aee9-c93efd9a2cd3",
        "colab": {
          "base_uri": "https://localhost:8080/"
        }
      },
      "outputs": [
        {
          "output_type": "stream",
          "name": "stdout",
          "text": [
            "{'ID': [11, 22, 33, 44]}\n"
          ]
        }
      ],
      "source": [
        "dict_1 = {'ID': [11,22,33,44]}\n",
        "print(dict_1)"
      ]
    },
    {
      "cell_type": "code",
      "execution_count": null,
      "id": "35a8c810",
      "metadata": {
        "id": "35a8c810",
        "outputId": "3745cef9-3759-42c4-84c5-5f450c3e8f6d",
        "colab": {
          "base_uri": "https://localhost:8080/",
          "height": 175
        }
      },
      "outputs": [
        {
          "output_type": "execute_result",
          "data": {
            "text/plain": [
              "   ID\n",
              "0  11\n",
              "1  22\n",
              "2  33\n",
              "3  44"
            ],
            "text/html": [
              "\n",
              "  <div id=\"df-6114dee3-30b3-4e5a-85dd-ba53dbb1af16\">\n",
              "    <div class=\"colab-df-container\">\n",
              "      <div>\n",
              "<style scoped>\n",
              "    .dataframe tbody tr th:only-of-type {\n",
              "        vertical-align: middle;\n",
              "    }\n",
              "\n",
              "    .dataframe tbody tr th {\n",
              "        vertical-align: top;\n",
              "    }\n",
              "\n",
              "    .dataframe thead th {\n",
              "        text-align: right;\n",
              "    }\n",
              "</style>\n",
              "<table border=\"1\" class=\"dataframe\">\n",
              "  <thead>\n",
              "    <tr style=\"text-align: right;\">\n",
              "      <th></th>\n",
              "      <th>ID</th>\n",
              "    </tr>\n",
              "  </thead>\n",
              "  <tbody>\n",
              "    <tr>\n",
              "      <th>0</th>\n",
              "      <td>11</td>\n",
              "    </tr>\n",
              "    <tr>\n",
              "      <th>1</th>\n",
              "      <td>22</td>\n",
              "    </tr>\n",
              "    <tr>\n",
              "      <th>2</th>\n",
              "      <td>33</td>\n",
              "    </tr>\n",
              "    <tr>\n",
              "      <th>3</th>\n",
              "      <td>44</td>\n",
              "    </tr>\n",
              "  </tbody>\n",
              "</table>\n",
              "</div>\n",
              "      <button class=\"colab-df-convert\" onclick=\"convertToInteractive('df-6114dee3-30b3-4e5a-85dd-ba53dbb1af16')\"\n",
              "              title=\"Convert this dataframe to an interactive table.\"\n",
              "              style=\"display:none;\">\n",
              "        \n",
              "  <svg xmlns=\"http://www.w3.org/2000/svg\" height=\"24px\"viewBox=\"0 0 24 24\"\n",
              "       width=\"24px\">\n",
              "    <path d=\"M0 0h24v24H0V0z\" fill=\"none\"/>\n",
              "    <path d=\"M18.56 5.44l.94 2.06.94-2.06 2.06-.94-2.06-.94-.94-2.06-.94 2.06-2.06.94zm-11 1L8.5 8.5l.94-2.06 2.06-.94-2.06-.94L8.5 2.5l-.94 2.06-2.06.94zm10 10l.94 2.06.94-2.06 2.06-.94-2.06-.94-.94-2.06-.94 2.06-2.06.94z\"/><path d=\"M17.41 7.96l-1.37-1.37c-.4-.4-.92-.59-1.43-.59-.52 0-1.04.2-1.43.59L10.3 9.45l-7.72 7.72c-.78.78-.78 2.05 0 2.83L4 21.41c.39.39.9.59 1.41.59.51 0 1.02-.2 1.41-.59l7.78-7.78 2.81-2.81c.8-.78.8-2.07 0-2.86zM5.41 20L4 18.59l7.72-7.72 1.47 1.35L5.41 20z\"/>\n",
              "  </svg>\n",
              "      </button>\n",
              "      \n",
              "  <style>\n",
              "    .colab-df-container {\n",
              "      display:flex;\n",
              "      flex-wrap:wrap;\n",
              "      gap: 12px;\n",
              "    }\n",
              "\n",
              "    .colab-df-convert {\n",
              "      background-color: #E8F0FE;\n",
              "      border: none;\n",
              "      border-radius: 50%;\n",
              "      cursor: pointer;\n",
              "      display: none;\n",
              "      fill: #1967D2;\n",
              "      height: 32px;\n",
              "      padding: 0 0 0 0;\n",
              "      width: 32px;\n",
              "    }\n",
              "\n",
              "    .colab-df-convert:hover {\n",
              "      background-color: #E2EBFA;\n",
              "      box-shadow: 0px 1px 2px rgba(60, 64, 67, 0.3), 0px 1px 3px 1px rgba(60, 64, 67, 0.15);\n",
              "      fill: #174EA6;\n",
              "    }\n",
              "\n",
              "    [theme=dark] .colab-df-convert {\n",
              "      background-color: #3B4455;\n",
              "      fill: #D2E3FC;\n",
              "    }\n",
              "\n",
              "    [theme=dark] .colab-df-convert:hover {\n",
              "      background-color: #434B5C;\n",
              "      box-shadow: 0px 1px 3px 1px rgba(0, 0, 0, 0.15);\n",
              "      filter: drop-shadow(0px 1px 2px rgba(0, 0, 0, 0.3));\n",
              "      fill: #FFFFFF;\n",
              "    }\n",
              "  </style>\n",
              "\n",
              "      <script>\n",
              "        const buttonEl =\n",
              "          document.querySelector('#df-6114dee3-30b3-4e5a-85dd-ba53dbb1af16 button.colab-df-convert');\n",
              "        buttonEl.style.display =\n",
              "          google.colab.kernel.accessAllowed ? 'block' : 'none';\n",
              "\n",
              "        async function convertToInteractive(key) {\n",
              "          const element = document.querySelector('#df-6114dee3-30b3-4e5a-85dd-ba53dbb1af16');\n",
              "          const dataTable =\n",
              "            await google.colab.kernel.invokeFunction('convertToInteractive',\n",
              "                                                     [key], {});\n",
              "          if (!dataTable) return;\n",
              "\n",
              "          const docLinkHtml = 'Like what you see? Visit the ' +\n",
              "            '<a target=\"_blank\" href=https://colab.research.google.com/notebooks/data_table.ipynb>data table notebook</a>'\n",
              "            + ' to learn more about interactive tables.';\n",
              "          element.innerHTML = '';\n",
              "          dataTable['output_type'] = 'display_data';\n",
              "          await google.colab.output.renderOutput(dataTable, element);\n",
              "          const docLink = document.createElement('div');\n",
              "          docLink.innerHTML = docLinkHtml;\n",
              "          element.appendChild(docLink);\n",
              "        }\n",
              "      </script>\n",
              "    </div>\n",
              "  </div>\n",
              "  "
            ]
          },
          "metadata": {},
          "execution_count": 38
        }
      ],
      "source": [
        "df_3 = pd.DataFrame(dict_1)\n",
        "df_3"
      ]
    },
    {
      "cell_type": "code",
      "execution_count": null,
      "id": "953766ef",
      "metadata": {
        "id": "953766ef",
        "outputId": "ef5c0dbe-ad7f-478d-f2e0-86bf890e1443",
        "colab": {
          "base_uri": "https://localhost:8080/"
        }
      },
      "outputs": [
        {
          "output_type": "stream",
          "name": "stdout",
          "text": [
            "{'PIP_NAME': ['Python'], 'VERSION': [3105]}\n"
          ]
        }
      ],
      "source": [
        "dict_2 = {'PIP_NAME': ['Python'],'VERSION': [3_10_5]}\n",
        "print(dict_2)"
      ]
    },
    {
      "cell_type": "code",
      "execution_count": null,
      "id": "e2af0194",
      "metadata": {
        "id": "e2af0194",
        "outputId": "0cc1c1e9-0e3c-4e6b-be2d-11aa34e9a0f9",
        "colab": {
          "base_uri": "https://localhost:8080/",
          "height": 81
        }
      },
      "outputs": [
        {
          "output_type": "execute_result",
          "data": {
            "text/plain": [
              "  PIP_NAME  VERSION\n",
              "0   Python     3105"
            ],
            "text/html": [
              "\n",
              "  <div id=\"df-04282df3-18ed-411a-856f-b4c7a02c62eb\">\n",
              "    <div class=\"colab-df-container\">\n",
              "      <div>\n",
              "<style scoped>\n",
              "    .dataframe tbody tr th:only-of-type {\n",
              "        vertical-align: middle;\n",
              "    }\n",
              "\n",
              "    .dataframe tbody tr th {\n",
              "        vertical-align: top;\n",
              "    }\n",
              "\n",
              "    .dataframe thead th {\n",
              "        text-align: right;\n",
              "    }\n",
              "</style>\n",
              "<table border=\"1\" class=\"dataframe\">\n",
              "  <thead>\n",
              "    <tr style=\"text-align: right;\">\n",
              "      <th></th>\n",
              "      <th>PIP_NAME</th>\n",
              "      <th>VERSION</th>\n",
              "    </tr>\n",
              "  </thead>\n",
              "  <tbody>\n",
              "    <tr>\n",
              "      <th>0</th>\n",
              "      <td>Python</td>\n",
              "      <td>3105</td>\n",
              "    </tr>\n",
              "  </tbody>\n",
              "</table>\n",
              "</div>\n",
              "      <button class=\"colab-df-convert\" onclick=\"convertToInteractive('df-04282df3-18ed-411a-856f-b4c7a02c62eb')\"\n",
              "              title=\"Convert this dataframe to an interactive table.\"\n",
              "              style=\"display:none;\">\n",
              "        \n",
              "  <svg xmlns=\"http://www.w3.org/2000/svg\" height=\"24px\"viewBox=\"0 0 24 24\"\n",
              "       width=\"24px\">\n",
              "    <path d=\"M0 0h24v24H0V0z\" fill=\"none\"/>\n",
              "    <path d=\"M18.56 5.44l.94 2.06.94-2.06 2.06-.94-2.06-.94-.94-2.06-.94 2.06-2.06.94zm-11 1L8.5 8.5l.94-2.06 2.06-.94-2.06-.94L8.5 2.5l-.94 2.06-2.06.94zm10 10l.94 2.06.94-2.06 2.06-.94-2.06-.94-.94-2.06-.94 2.06-2.06.94z\"/><path d=\"M17.41 7.96l-1.37-1.37c-.4-.4-.92-.59-1.43-.59-.52 0-1.04.2-1.43.59L10.3 9.45l-7.72 7.72c-.78.78-.78 2.05 0 2.83L4 21.41c.39.39.9.59 1.41.59.51 0 1.02-.2 1.41-.59l7.78-7.78 2.81-2.81c.8-.78.8-2.07 0-2.86zM5.41 20L4 18.59l7.72-7.72 1.47 1.35L5.41 20z\"/>\n",
              "  </svg>\n",
              "      </button>\n",
              "      \n",
              "  <style>\n",
              "    .colab-df-container {\n",
              "      display:flex;\n",
              "      flex-wrap:wrap;\n",
              "      gap: 12px;\n",
              "    }\n",
              "\n",
              "    .colab-df-convert {\n",
              "      background-color: #E8F0FE;\n",
              "      border: none;\n",
              "      border-radius: 50%;\n",
              "      cursor: pointer;\n",
              "      display: none;\n",
              "      fill: #1967D2;\n",
              "      height: 32px;\n",
              "      padding: 0 0 0 0;\n",
              "      width: 32px;\n",
              "    }\n",
              "\n",
              "    .colab-df-convert:hover {\n",
              "      background-color: #E2EBFA;\n",
              "      box-shadow: 0px 1px 2px rgba(60, 64, 67, 0.3), 0px 1px 3px 1px rgba(60, 64, 67, 0.15);\n",
              "      fill: #174EA6;\n",
              "    }\n",
              "\n",
              "    [theme=dark] .colab-df-convert {\n",
              "      background-color: #3B4455;\n",
              "      fill: #D2E3FC;\n",
              "    }\n",
              "\n",
              "    [theme=dark] .colab-df-convert:hover {\n",
              "      background-color: #434B5C;\n",
              "      box-shadow: 0px 1px 3px 1px rgba(0, 0, 0, 0.15);\n",
              "      filter: drop-shadow(0px 1px 2px rgba(0, 0, 0, 0.3));\n",
              "      fill: #FFFFFF;\n",
              "    }\n",
              "  </style>\n",
              "\n",
              "      <script>\n",
              "        const buttonEl =\n",
              "          document.querySelector('#df-04282df3-18ed-411a-856f-b4c7a02c62eb button.colab-df-convert');\n",
              "        buttonEl.style.display =\n",
              "          google.colab.kernel.accessAllowed ? 'block' : 'none';\n",
              "\n",
              "        async function convertToInteractive(key) {\n",
              "          const element = document.querySelector('#df-04282df3-18ed-411a-856f-b4c7a02c62eb');\n",
              "          const dataTable =\n",
              "            await google.colab.kernel.invokeFunction('convertToInteractive',\n",
              "                                                     [key], {});\n",
              "          if (!dataTable) return;\n",
              "\n",
              "          const docLinkHtml = 'Like what you see? Visit the ' +\n",
              "            '<a target=\"_blank\" href=https://colab.research.google.com/notebooks/data_table.ipynb>data table notebook</a>'\n",
              "            + ' to learn more about interactive tables.';\n",
              "          element.innerHTML = '';\n",
              "          dataTable['output_type'] = 'display_data';\n",
              "          await google.colab.output.renderOutput(dataTable, element);\n",
              "          const docLink = document.createElement('div');\n",
              "          docLink.innerHTML = docLinkHtml;\n",
              "          element.appendChild(docLink);\n",
              "        }\n",
              "      </script>\n",
              "    </div>\n",
              "  </div>\n",
              "  "
            ]
          },
          "metadata": {},
          "execution_count": 40
        }
      ],
      "source": [
        "df_4 = pd.DataFrame(dict_2)\n",
        "df_4"
      ]
    },
    {
      "cell_type": "markdown",
      "id": "b0d72623",
      "metadata": {
        "id": "b0d72623"
      },
      "source": [
        "***List Of Dict***"
      ]
    },
    {
      "cell_type": "code",
      "execution_count": null,
      "id": "9e008921",
      "metadata": {
        "id": "9e008921",
        "outputId": "a581ed79-8c2f-4688-a334-f69f8ce6e8a9",
        "colab": {
          "base_uri": "https://localhost:8080/",
          "height": 112
        }
      },
      "outputs": [
        {
          "output_type": "execute_result",
          "data": {
            "text/plain": [
              "   a  b\n",
              "0  1  2\n",
              "1  3  4"
            ],
            "text/html": [
              "\n",
              "  <div id=\"df-1bd33426-9fd6-4cdd-be6c-ff009174ceba\">\n",
              "    <div class=\"colab-df-container\">\n",
              "      <div>\n",
              "<style scoped>\n",
              "    .dataframe tbody tr th:only-of-type {\n",
              "        vertical-align: middle;\n",
              "    }\n",
              "\n",
              "    .dataframe tbody tr th {\n",
              "        vertical-align: top;\n",
              "    }\n",
              "\n",
              "    .dataframe thead th {\n",
              "        text-align: right;\n",
              "    }\n",
              "</style>\n",
              "<table border=\"1\" class=\"dataframe\">\n",
              "  <thead>\n",
              "    <tr style=\"text-align: right;\">\n",
              "      <th></th>\n",
              "      <th>a</th>\n",
              "      <th>b</th>\n",
              "    </tr>\n",
              "  </thead>\n",
              "  <tbody>\n",
              "    <tr>\n",
              "      <th>0</th>\n",
              "      <td>1</td>\n",
              "      <td>2</td>\n",
              "    </tr>\n",
              "    <tr>\n",
              "      <th>1</th>\n",
              "      <td>3</td>\n",
              "      <td>4</td>\n",
              "    </tr>\n",
              "  </tbody>\n",
              "</table>\n",
              "</div>\n",
              "      <button class=\"colab-df-convert\" onclick=\"convertToInteractive('df-1bd33426-9fd6-4cdd-be6c-ff009174ceba')\"\n",
              "              title=\"Convert this dataframe to an interactive table.\"\n",
              "              style=\"display:none;\">\n",
              "        \n",
              "  <svg xmlns=\"http://www.w3.org/2000/svg\" height=\"24px\"viewBox=\"0 0 24 24\"\n",
              "       width=\"24px\">\n",
              "    <path d=\"M0 0h24v24H0V0z\" fill=\"none\"/>\n",
              "    <path d=\"M18.56 5.44l.94 2.06.94-2.06 2.06-.94-2.06-.94-.94-2.06-.94 2.06-2.06.94zm-11 1L8.5 8.5l.94-2.06 2.06-.94-2.06-.94L8.5 2.5l-.94 2.06-2.06.94zm10 10l.94 2.06.94-2.06 2.06-.94-2.06-.94-.94-2.06-.94 2.06-2.06.94z\"/><path d=\"M17.41 7.96l-1.37-1.37c-.4-.4-.92-.59-1.43-.59-.52 0-1.04.2-1.43.59L10.3 9.45l-7.72 7.72c-.78.78-.78 2.05 0 2.83L4 21.41c.39.39.9.59 1.41.59.51 0 1.02-.2 1.41-.59l7.78-7.78 2.81-2.81c.8-.78.8-2.07 0-2.86zM5.41 20L4 18.59l7.72-7.72 1.47 1.35L5.41 20z\"/>\n",
              "  </svg>\n",
              "      </button>\n",
              "      \n",
              "  <style>\n",
              "    .colab-df-container {\n",
              "      display:flex;\n",
              "      flex-wrap:wrap;\n",
              "      gap: 12px;\n",
              "    }\n",
              "\n",
              "    .colab-df-convert {\n",
              "      background-color: #E8F0FE;\n",
              "      border: none;\n",
              "      border-radius: 50%;\n",
              "      cursor: pointer;\n",
              "      display: none;\n",
              "      fill: #1967D2;\n",
              "      height: 32px;\n",
              "      padding: 0 0 0 0;\n",
              "      width: 32px;\n",
              "    }\n",
              "\n",
              "    .colab-df-convert:hover {\n",
              "      background-color: #E2EBFA;\n",
              "      box-shadow: 0px 1px 2px rgba(60, 64, 67, 0.3), 0px 1px 3px 1px rgba(60, 64, 67, 0.15);\n",
              "      fill: #174EA6;\n",
              "    }\n",
              "\n",
              "    [theme=dark] .colab-df-convert {\n",
              "      background-color: #3B4455;\n",
              "      fill: #D2E3FC;\n",
              "    }\n",
              "\n",
              "    [theme=dark] .colab-df-convert:hover {\n",
              "      background-color: #434B5C;\n",
              "      box-shadow: 0px 1px 3px 1px rgba(0, 0, 0, 0.15);\n",
              "      filter: drop-shadow(0px 1px 2px rgba(0, 0, 0, 0.3));\n",
              "      fill: #FFFFFF;\n",
              "    }\n",
              "  </style>\n",
              "\n",
              "      <script>\n",
              "        const buttonEl =\n",
              "          document.querySelector('#df-1bd33426-9fd6-4cdd-be6c-ff009174ceba button.colab-df-convert');\n",
              "        buttonEl.style.display =\n",
              "          google.colab.kernel.accessAllowed ? 'block' : 'none';\n",
              "\n",
              "        async function convertToInteractive(key) {\n",
              "          const element = document.querySelector('#df-1bd33426-9fd6-4cdd-be6c-ff009174ceba');\n",
              "          const dataTable =\n",
              "            await google.colab.kernel.invokeFunction('convertToInteractive',\n",
              "                                                     [key], {});\n",
              "          if (!dataTable) return;\n",
              "\n",
              "          const docLinkHtml = 'Like what you see? Visit the ' +\n",
              "            '<a target=\"_blank\" href=https://colab.research.google.com/notebooks/data_table.ipynb>data table notebook</a>'\n",
              "            + ' to learn more about interactive tables.';\n",
              "          element.innerHTML = '';\n",
              "          dataTable['output_type'] = 'display_data';\n",
              "          await google.colab.output.renderOutput(dataTable, element);\n",
              "          const docLink = document.createElement('div');\n",
              "          docLink.innerHTML = docLinkHtml;\n",
              "          element.appendChild(docLink);\n",
              "        }\n",
              "      </script>\n",
              "    </div>\n",
              "  </div>\n",
              "  "
            ]
          },
          "metadata": {},
          "execution_count": 41
        }
      ],
      "source": [
        "lst_dict = [{'a': 1,'b': 2}, {'a': 3,'b': 4}]\n",
        "df_5 = pd.DataFrame(lst_dict)\n",
        "df_5"
      ]
    },
    {
      "cell_type": "code",
      "execution_count": null,
      "id": "c38e4854",
      "metadata": {
        "id": "c38e4854",
        "outputId": "50c36078-0cef-46c2-ea04-a1efa79308e4"
      },
      "outputs": [
        {
          "data": {
            "text/html": [
              "<div>\n",
              "<style scoped>\n",
              "    .dataframe tbody tr th:only-of-type {\n",
              "        vertical-align: middle;\n",
              "    }\n",
              "\n",
              "    .dataframe tbody tr th {\n",
              "        vertical-align: top;\n",
              "    }\n",
              "\n",
              "    .dataframe thead th {\n",
              "        text-align: right;\n",
              "    }\n",
              "</style>\n",
              "<table border=\"1\" class=\"dataframe\">\n",
              "  <thead>\n",
              "    <tr style=\"text-align: right;\">\n",
              "      <th></th>\n",
              "      <th>a</th>\n",
              "      <th>b</th>\n",
              "      <th>c</th>\n",
              "    </tr>\n",
              "  </thead>\n",
              "  <tbody>\n",
              "    <tr>\n",
              "      <th>0</th>\n",
              "      <td>1</td>\n",
              "      <td>2</td>\n",
              "      <td>NaN</td>\n",
              "    </tr>\n",
              "    <tr>\n",
              "      <th>1</th>\n",
              "      <td>3</td>\n",
              "      <td>4</td>\n",
              "      <td>5.0</td>\n",
              "    </tr>\n",
              "  </tbody>\n",
              "</table>\n",
              "</div>"
            ],
            "text/plain": [
              "   a  b    c\n",
              "0  1  2  NaN\n",
              "1  3  4  5.0"
            ]
          },
          "execution_count": 37,
          "metadata": {},
          "output_type": "execute_result"
        }
      ],
      "source": [
        "lst_dict = [{'a': 1,'b': 2}, {'a': 3,'b': 4,'c': 5}] # Missing Data Handling\n",
        "df_5 = pd.DataFrame(lst_dict)\n",
        "df_5"
      ]
    },
    {
      "cell_type": "markdown",
      "id": "2f5c873e",
      "metadata": {
        "id": "2f5c873e"
      },
      "source": [
        "***Dict Of Series***"
      ]
    },
    {
      "cell_type": "code",
      "execution_count": null,
      "id": "e7382f66",
      "metadata": {
        "id": "e7382f66",
        "outputId": "b7423f23-e1de-476d-930c-7c0812b8fd92"
      },
      "outputs": [
        {
          "data": {
            "text/html": [
              "<div>\n",
              "<style scoped>\n",
              "    .dataframe tbody tr th:only-of-type {\n",
              "        vertical-align: middle;\n",
              "    }\n",
              "\n",
              "    .dataframe tbody tr th {\n",
              "        vertical-align: top;\n",
              "    }\n",
              "\n",
              "    .dataframe thead th {\n",
              "        text-align: right;\n",
              "    }\n",
              "</style>\n",
              "<table border=\"1\" class=\"dataframe\">\n",
              "  <thead>\n",
              "    <tr style=\"text-align: right;\">\n",
              "      <th></th>\n",
              "      <th>ID</th>\n",
              "      <th>SN</th>\n",
              "    </tr>\n",
              "  </thead>\n",
              "  <tbody>\n",
              "    <tr>\n",
              "      <th>0</th>\n",
              "      <td>1</td>\n",
              "      <td>111</td>\n",
              "    </tr>\n",
              "    <tr>\n",
              "      <th>1</th>\n",
              "      <td>2</td>\n",
              "      <td>222</td>\n",
              "    </tr>\n",
              "    <tr>\n",
              "      <th>2</th>\n",
              "      <td>3</td>\n",
              "      <td>333</td>\n",
              "    </tr>\n",
              "  </tbody>\n",
              "</table>\n",
              "</div>"
            ],
            "text/plain": [
              "   ID   SN\n",
              "0   1  111\n",
              "1   2  222\n",
              "2   3  333"
            ]
          },
          "execution_count": 38,
          "metadata": {},
          "output_type": "execute_result"
        }
      ],
      "source": [
        "dict_sr = {'ID': pd.Series([1,2,3]), 'SN': pd.Series([111,222,333])}\n",
        "df_6 = pd.DataFrame(dict_sr)\n",
        "df_6"
      ]
    },
    {
      "cell_type": "markdown",
      "id": "0942fc2b",
      "metadata": {
        "id": "0942fc2b"
      },
      "source": [
        "***CSV***"
      ]
    },
    {
      "cell_type": "code",
      "source": [
        "import pandas as pd\n",
        "import numpy as np\n",
        "from google.colab import files\n",
        "\n",
        "files.upload()"
      ],
      "metadata": {
        "colab": {
          "base_uri": "https://localhost:8080/",
          "height": 125
        },
        "id": "PBe7qL_Mc7vh",
        "outputId": "4f968fe1-4ed7-44c5-85c9-3fe58ff05239"
      },
      "id": "PBe7qL_Mc7vh",
      "execution_count": null,
      "outputs": [
        {
          "output_type": "display_data",
          "data": {
            "text/plain": [
              "<IPython.core.display.HTML object>"
            ],
            "text/html": [
              "\n",
              "     <input type=\"file\" id=\"files-f23c710d-c4ee-4ebf-9aff-a269e8042f26\" name=\"files[]\" multiple disabled\n",
              "        style=\"border:none\" />\n",
              "     <output id=\"result-f23c710d-c4ee-4ebf-9aff-a269e8042f26\">\n",
              "      Upload widget is only available when the cell has been executed in the\n",
              "      current browser session. Please rerun this cell to enable.\n",
              "      </output>\n",
              "      <script>// Copyright 2017 Google LLC\n",
              "//\n",
              "// Licensed under the Apache License, Version 2.0 (the \"License\");\n",
              "// you may not use this file except in compliance with the License.\n",
              "// You may obtain a copy of the License at\n",
              "//\n",
              "//      http://www.apache.org/licenses/LICENSE-2.0\n",
              "//\n",
              "// Unless required by applicable law or agreed to in writing, software\n",
              "// distributed under the License is distributed on an \"AS IS\" BASIS,\n",
              "// WITHOUT WARRANTIES OR CONDITIONS OF ANY KIND, either express or implied.\n",
              "// See the License for the specific language governing permissions and\n",
              "// limitations under the License.\n",
              "\n",
              "/**\n",
              " * @fileoverview Helpers for google.colab Python module.\n",
              " */\n",
              "(function(scope) {\n",
              "function span(text, styleAttributes = {}) {\n",
              "  const element = document.createElement('span');\n",
              "  element.textContent = text;\n",
              "  for (const key of Object.keys(styleAttributes)) {\n",
              "    element.style[key] = styleAttributes[key];\n",
              "  }\n",
              "  return element;\n",
              "}\n",
              "\n",
              "// Max number of bytes which will be uploaded at a time.\n",
              "const MAX_PAYLOAD_SIZE = 100 * 1024;\n",
              "\n",
              "function _uploadFiles(inputId, outputId) {\n",
              "  const steps = uploadFilesStep(inputId, outputId);\n",
              "  const outputElement = document.getElementById(outputId);\n",
              "  // Cache steps on the outputElement to make it available for the next call\n",
              "  // to uploadFilesContinue from Python.\n",
              "  outputElement.steps = steps;\n",
              "\n",
              "  return _uploadFilesContinue(outputId);\n",
              "}\n",
              "\n",
              "// This is roughly an async generator (not supported in the browser yet),\n",
              "// where there are multiple asynchronous steps and the Python side is going\n",
              "// to poll for completion of each step.\n",
              "// This uses a Promise to block the python side on completion of each step,\n",
              "// then passes the result of the previous step as the input to the next step.\n",
              "function _uploadFilesContinue(outputId) {\n",
              "  const outputElement = document.getElementById(outputId);\n",
              "  const steps = outputElement.steps;\n",
              "\n",
              "  const next = steps.next(outputElement.lastPromiseValue);\n",
              "  return Promise.resolve(next.value.promise).then((value) => {\n",
              "    // Cache the last promise value to make it available to the next\n",
              "    // step of the generator.\n",
              "    outputElement.lastPromiseValue = value;\n",
              "    return next.value.response;\n",
              "  });\n",
              "}\n",
              "\n",
              "/**\n",
              " * Generator function which is called between each async step of the upload\n",
              " * process.\n",
              " * @param {string} inputId Element ID of the input file picker element.\n",
              " * @param {string} outputId Element ID of the output display.\n",
              " * @return {!Iterable<!Object>} Iterable of next steps.\n",
              " */\n",
              "function* uploadFilesStep(inputId, outputId) {\n",
              "  const inputElement = document.getElementById(inputId);\n",
              "  inputElement.disabled = false;\n",
              "\n",
              "  const outputElement = document.getElementById(outputId);\n",
              "  outputElement.innerHTML = '';\n",
              "\n",
              "  const pickedPromise = new Promise((resolve) => {\n",
              "    inputElement.addEventListener('change', (e) => {\n",
              "      resolve(e.target.files);\n",
              "    });\n",
              "  });\n",
              "\n",
              "  const cancel = document.createElement('button');\n",
              "  inputElement.parentElement.appendChild(cancel);\n",
              "  cancel.textContent = 'Cancel upload';\n",
              "  const cancelPromise = new Promise((resolve) => {\n",
              "    cancel.onclick = () => {\n",
              "      resolve(null);\n",
              "    };\n",
              "  });\n",
              "\n",
              "  // Wait for the user to pick the files.\n",
              "  const files = yield {\n",
              "    promise: Promise.race([pickedPromise, cancelPromise]),\n",
              "    response: {\n",
              "      action: 'starting',\n",
              "    }\n",
              "  };\n",
              "\n",
              "  cancel.remove();\n",
              "\n",
              "  // Disable the input element since further picks are not allowed.\n",
              "  inputElement.disabled = true;\n",
              "\n",
              "  if (!files) {\n",
              "    return {\n",
              "      response: {\n",
              "        action: 'complete',\n",
              "      }\n",
              "    };\n",
              "  }\n",
              "\n",
              "  for (const file of files) {\n",
              "    const li = document.createElement('li');\n",
              "    li.append(span(file.name, {fontWeight: 'bold'}));\n",
              "    li.append(span(\n",
              "        `(${file.type || 'n/a'}) - ${file.size} bytes, ` +\n",
              "        `last modified: ${\n",
              "            file.lastModifiedDate ? file.lastModifiedDate.toLocaleDateString() :\n",
              "                                    'n/a'} - `));\n",
              "    const percent = span('0% done');\n",
              "    li.appendChild(percent);\n",
              "\n",
              "    outputElement.appendChild(li);\n",
              "\n",
              "    const fileDataPromise = new Promise((resolve) => {\n",
              "      const reader = new FileReader();\n",
              "      reader.onload = (e) => {\n",
              "        resolve(e.target.result);\n",
              "      };\n",
              "      reader.readAsArrayBuffer(file);\n",
              "    });\n",
              "    // Wait for the data to be ready.\n",
              "    let fileData = yield {\n",
              "      promise: fileDataPromise,\n",
              "      response: {\n",
              "        action: 'continue',\n",
              "      }\n",
              "    };\n",
              "\n",
              "    // Use a chunked sending to avoid message size limits. See b/62115660.\n",
              "    let position = 0;\n",
              "    do {\n",
              "      const length = Math.min(fileData.byteLength - position, MAX_PAYLOAD_SIZE);\n",
              "      const chunk = new Uint8Array(fileData, position, length);\n",
              "      position += length;\n",
              "\n",
              "      const base64 = btoa(String.fromCharCode.apply(null, chunk));\n",
              "      yield {\n",
              "        response: {\n",
              "          action: 'append',\n",
              "          file: file.name,\n",
              "          data: base64,\n",
              "        },\n",
              "      };\n",
              "\n",
              "      let percentDone = fileData.byteLength === 0 ?\n",
              "          100 :\n",
              "          Math.round((position / fileData.byteLength) * 100);\n",
              "      percent.textContent = `${percentDone}% done`;\n",
              "\n",
              "    } while (position < fileData.byteLength);\n",
              "  }\n",
              "\n",
              "  // All done.\n",
              "  yield {\n",
              "    response: {\n",
              "      action: 'complete',\n",
              "    }\n",
              "  };\n",
              "}\n",
              "\n",
              "scope.google = scope.google || {};\n",
              "scope.google.colab = scope.google.colab || {};\n",
              "scope.google.colab._files = {\n",
              "  _uploadFiles,\n",
              "  _uploadFilesContinue,\n",
              "};\n",
              "})(self);\n",
              "</script> "
            ]
          },
          "metadata": {}
        },
        {
          "output_type": "stream",
          "name": "stdout",
          "text": [
            "Saving VC_Starups.csv to VC_Starups.csv\n"
          ]
        },
        {
          "output_type": "execute_result",
          "data": {
            "text/plain": [
              "{'VC_Starups.csv': b'\\xef\\xbb\\xbfDate,R&D Spend,Marketing Spend,Profit\\r\\n01-07-2019,165349,136897,192261\\r\\n02-07-2019,133848,151377,191792\\r\\n03-07-2019,153441,327468,191050\\r\\n04-07-2019,144372,63338,182901\\r\\n05-07-2019,142107,91391,166187\\r\\n'}"
            ]
          },
          "metadata": {},
          "execution_count": 9
        }
      ]
    },
    {
      "cell_type": "code",
      "execution_count": null,
      "id": "c9131acc",
      "metadata": {
        "id": "c9131acc",
        "outputId": "90f99ce7-e8ea-4ab5-9159-c87924d69fda",
        "colab": {
          "base_uri": "https://localhost:8080/",
          "height": 424
        }
      },
      "outputs": [
        {
          "output_type": "execute_result",
          "data": {
            "text/plain": [
              "     study_hours  student_marks\n",
              "0           6.83          78.50\n",
              "1           6.56          76.74\n",
              "2            NaN          78.68\n",
              "3           5.67          71.82\n",
              "4           8.67          84.19\n",
              "..           ...            ...\n",
              "195         7.53          81.67\n",
              "196         8.56          84.68\n",
              "197         8.94          86.75\n",
              "198         6.60          78.05\n",
              "199         8.35          83.50\n",
              "\n",
              "[200 rows x 2 columns]"
            ],
            "text/html": [
              "\n",
              "  <div id=\"df-b81c497b-8da0-4eba-acb1-b978fc3623ca\">\n",
              "    <div class=\"colab-df-container\">\n",
              "      <div>\n",
              "<style scoped>\n",
              "    .dataframe tbody tr th:only-of-type {\n",
              "        vertical-align: middle;\n",
              "    }\n",
              "\n",
              "    .dataframe tbody tr th {\n",
              "        vertical-align: top;\n",
              "    }\n",
              "\n",
              "    .dataframe thead th {\n",
              "        text-align: right;\n",
              "    }\n",
              "</style>\n",
              "<table border=\"1\" class=\"dataframe\">\n",
              "  <thead>\n",
              "    <tr style=\"text-align: right;\">\n",
              "      <th></th>\n",
              "      <th>study_hours</th>\n",
              "      <th>student_marks</th>\n",
              "    </tr>\n",
              "  </thead>\n",
              "  <tbody>\n",
              "    <tr>\n",
              "      <th>0</th>\n",
              "      <td>6.83</td>\n",
              "      <td>78.50</td>\n",
              "    </tr>\n",
              "    <tr>\n",
              "      <th>1</th>\n",
              "      <td>6.56</td>\n",
              "      <td>76.74</td>\n",
              "    </tr>\n",
              "    <tr>\n",
              "      <th>2</th>\n",
              "      <td>NaN</td>\n",
              "      <td>78.68</td>\n",
              "    </tr>\n",
              "    <tr>\n",
              "      <th>3</th>\n",
              "      <td>5.67</td>\n",
              "      <td>71.82</td>\n",
              "    </tr>\n",
              "    <tr>\n",
              "      <th>4</th>\n",
              "      <td>8.67</td>\n",
              "      <td>84.19</td>\n",
              "    </tr>\n",
              "    <tr>\n",
              "      <th>...</th>\n",
              "      <td>...</td>\n",
              "      <td>...</td>\n",
              "    </tr>\n",
              "    <tr>\n",
              "      <th>195</th>\n",
              "      <td>7.53</td>\n",
              "      <td>81.67</td>\n",
              "    </tr>\n",
              "    <tr>\n",
              "      <th>196</th>\n",
              "      <td>8.56</td>\n",
              "      <td>84.68</td>\n",
              "    </tr>\n",
              "    <tr>\n",
              "      <th>197</th>\n",
              "      <td>8.94</td>\n",
              "      <td>86.75</td>\n",
              "    </tr>\n",
              "    <tr>\n",
              "      <th>198</th>\n",
              "      <td>6.60</td>\n",
              "      <td>78.05</td>\n",
              "    </tr>\n",
              "    <tr>\n",
              "      <th>199</th>\n",
              "      <td>8.35</td>\n",
              "      <td>83.50</td>\n",
              "    </tr>\n",
              "  </tbody>\n",
              "</table>\n",
              "<p>200 rows × 2 columns</p>\n",
              "</div>\n",
              "      <button class=\"colab-df-convert\" onclick=\"convertToInteractive('df-b81c497b-8da0-4eba-acb1-b978fc3623ca')\"\n",
              "              title=\"Convert this dataframe to an interactive table.\"\n",
              "              style=\"display:none;\">\n",
              "        \n",
              "  <svg xmlns=\"http://www.w3.org/2000/svg\" height=\"24px\"viewBox=\"0 0 24 24\"\n",
              "       width=\"24px\">\n",
              "    <path d=\"M0 0h24v24H0V0z\" fill=\"none\"/>\n",
              "    <path d=\"M18.56 5.44l.94 2.06.94-2.06 2.06-.94-2.06-.94-.94-2.06-.94 2.06-2.06.94zm-11 1L8.5 8.5l.94-2.06 2.06-.94-2.06-.94L8.5 2.5l-.94 2.06-2.06.94zm10 10l.94 2.06.94-2.06 2.06-.94-2.06-.94-.94-2.06-.94 2.06-2.06.94z\"/><path d=\"M17.41 7.96l-1.37-1.37c-.4-.4-.92-.59-1.43-.59-.52 0-1.04.2-1.43.59L10.3 9.45l-7.72 7.72c-.78.78-.78 2.05 0 2.83L4 21.41c.39.39.9.59 1.41.59.51 0 1.02-.2 1.41-.59l7.78-7.78 2.81-2.81c.8-.78.8-2.07 0-2.86zM5.41 20L4 18.59l7.72-7.72 1.47 1.35L5.41 20z\"/>\n",
              "  </svg>\n",
              "      </button>\n",
              "      \n",
              "  <style>\n",
              "    .colab-df-container {\n",
              "      display:flex;\n",
              "      flex-wrap:wrap;\n",
              "      gap: 12px;\n",
              "    }\n",
              "\n",
              "    .colab-df-convert {\n",
              "      background-color: #E8F0FE;\n",
              "      border: none;\n",
              "      border-radius: 50%;\n",
              "      cursor: pointer;\n",
              "      display: none;\n",
              "      fill: #1967D2;\n",
              "      height: 32px;\n",
              "      padding: 0 0 0 0;\n",
              "      width: 32px;\n",
              "    }\n",
              "\n",
              "    .colab-df-convert:hover {\n",
              "      background-color: #E2EBFA;\n",
              "      box-shadow: 0px 1px 2px rgba(60, 64, 67, 0.3), 0px 1px 3px 1px rgba(60, 64, 67, 0.15);\n",
              "      fill: #174EA6;\n",
              "    }\n",
              "\n",
              "    [theme=dark] .colab-df-convert {\n",
              "      background-color: #3B4455;\n",
              "      fill: #D2E3FC;\n",
              "    }\n",
              "\n",
              "    [theme=dark] .colab-df-convert:hover {\n",
              "      background-color: #434B5C;\n",
              "      box-shadow: 0px 1px 3px 1px rgba(0, 0, 0, 0.15);\n",
              "      filter: drop-shadow(0px 1px 2px rgba(0, 0, 0, 0.3));\n",
              "      fill: #FFFFFF;\n",
              "    }\n",
              "  </style>\n",
              "\n",
              "      <script>\n",
              "        const buttonEl =\n",
              "          document.querySelector('#df-b81c497b-8da0-4eba-acb1-b978fc3623ca button.colab-df-convert');\n",
              "        buttonEl.style.display =\n",
              "          google.colab.kernel.accessAllowed ? 'block' : 'none';\n",
              "\n",
              "        async function convertToInteractive(key) {\n",
              "          const element = document.querySelector('#df-b81c497b-8da0-4eba-acb1-b978fc3623ca');\n",
              "          const dataTable =\n",
              "            await google.colab.kernel.invokeFunction('convertToInteractive',\n",
              "                                                     [key], {});\n",
              "          if (!dataTable) return;\n",
              "\n",
              "          const docLinkHtml = 'Like what you see? Visit the ' +\n",
              "            '<a target=\"_blank\" href=https://colab.research.google.com/notebooks/data_table.ipynb>data table notebook</a>'\n",
              "            + ' to learn more about interactive tables.';\n",
              "          element.innerHTML = '';\n",
              "          dataTable['output_type'] = 'display_data';\n",
              "          await google.colab.output.renderOutput(dataTable, element);\n",
              "          const docLink = document.createElement('div');\n",
              "          docLink.innerHTML = docLinkHtml;\n",
              "          element.appendChild(docLink);\n",
              "        }\n",
              "      </script>\n",
              "    </div>\n",
              "  </div>\n",
              "  "
            ]
          },
          "metadata": {},
          "execution_count": 2
        }
      ],
      "source": [
        "pd.read_csv('student_info.csv')"
      ]
    },
    {
      "cell_type": "code",
      "execution_count": null,
      "id": "3d9ccd53",
      "metadata": {
        "id": "3d9ccd53"
      },
      "outputs": [],
      "source": [
        "csv_1 = pd.read_csv('student_results.csv')"
      ]
    },
    {
      "cell_type": "code",
      "execution_count": null,
      "id": "5813435d",
      "metadata": {
        "id": "5813435d",
        "outputId": "6d08cad7-bf8d-448f-fc24-29d9ebfa492a",
        "colab": {
          "base_uri": "https://localhost:8080/",
          "height": 250
        }
      },
      "outputs": [
        {
          "output_type": "execute_result",
          "data": {
            "text/plain": [
              "   Student ID  Class  Study hrs  Sleeping hrs  Social Media usage hrs  \\\n",
              "0        1001     10          2             9                       3   \n",
              "1        1002     10          6             8                       2   \n",
              "2        1003     10          3             8                       2   \n",
              "3        1004     11          0            10                       1   \n",
              "4        1005     11          4             7                       2   \n",
              "\n",
              "   Mobile Games hrs  Percantege  \n",
              "0                 5          50  \n",
              "1                 0          80  \n",
              "2                 4          60  \n",
              "3                 5          45  \n",
              "4                 0          75  "
            ],
            "text/html": [
              "\n",
              "  <div id=\"df-72b5d649-de37-4f26-ac85-8504f671c087\">\n",
              "    <div class=\"colab-df-container\">\n",
              "      <div>\n",
              "<style scoped>\n",
              "    .dataframe tbody tr th:only-of-type {\n",
              "        vertical-align: middle;\n",
              "    }\n",
              "\n",
              "    .dataframe tbody tr th {\n",
              "        vertical-align: top;\n",
              "    }\n",
              "\n",
              "    .dataframe thead th {\n",
              "        text-align: right;\n",
              "    }\n",
              "</style>\n",
              "<table border=\"1\" class=\"dataframe\">\n",
              "  <thead>\n",
              "    <tr style=\"text-align: right;\">\n",
              "      <th></th>\n",
              "      <th>Student ID</th>\n",
              "      <th>Class</th>\n",
              "      <th>Study hrs</th>\n",
              "      <th>Sleeping hrs</th>\n",
              "      <th>Social Media usage hrs</th>\n",
              "      <th>Mobile Games hrs</th>\n",
              "      <th>Percantege</th>\n",
              "    </tr>\n",
              "  </thead>\n",
              "  <tbody>\n",
              "    <tr>\n",
              "      <th>0</th>\n",
              "      <td>1001</td>\n",
              "      <td>10</td>\n",
              "      <td>2</td>\n",
              "      <td>9</td>\n",
              "      <td>3</td>\n",
              "      <td>5</td>\n",
              "      <td>50</td>\n",
              "    </tr>\n",
              "    <tr>\n",
              "      <th>1</th>\n",
              "      <td>1002</td>\n",
              "      <td>10</td>\n",
              "      <td>6</td>\n",
              "      <td>8</td>\n",
              "      <td>2</td>\n",
              "      <td>0</td>\n",
              "      <td>80</td>\n",
              "    </tr>\n",
              "    <tr>\n",
              "      <th>2</th>\n",
              "      <td>1003</td>\n",
              "      <td>10</td>\n",
              "      <td>3</td>\n",
              "      <td>8</td>\n",
              "      <td>2</td>\n",
              "      <td>4</td>\n",
              "      <td>60</td>\n",
              "    </tr>\n",
              "    <tr>\n",
              "      <th>3</th>\n",
              "      <td>1004</td>\n",
              "      <td>11</td>\n",
              "      <td>0</td>\n",
              "      <td>10</td>\n",
              "      <td>1</td>\n",
              "      <td>5</td>\n",
              "      <td>45</td>\n",
              "    </tr>\n",
              "    <tr>\n",
              "      <th>4</th>\n",
              "      <td>1005</td>\n",
              "      <td>11</td>\n",
              "      <td>4</td>\n",
              "      <td>7</td>\n",
              "      <td>2</td>\n",
              "      <td>0</td>\n",
              "      <td>75</td>\n",
              "    </tr>\n",
              "  </tbody>\n",
              "</table>\n",
              "</div>\n",
              "      <button class=\"colab-df-convert\" onclick=\"convertToInteractive('df-72b5d649-de37-4f26-ac85-8504f671c087')\"\n",
              "              title=\"Convert this dataframe to an interactive table.\"\n",
              "              style=\"display:none;\">\n",
              "        \n",
              "  <svg xmlns=\"http://www.w3.org/2000/svg\" height=\"24px\"viewBox=\"0 0 24 24\"\n",
              "       width=\"24px\">\n",
              "    <path d=\"M0 0h24v24H0V0z\" fill=\"none\"/>\n",
              "    <path d=\"M18.56 5.44l.94 2.06.94-2.06 2.06-.94-2.06-.94-.94-2.06-.94 2.06-2.06.94zm-11 1L8.5 8.5l.94-2.06 2.06-.94-2.06-.94L8.5 2.5l-.94 2.06-2.06.94zm10 10l.94 2.06.94-2.06 2.06-.94-2.06-.94-.94-2.06-.94 2.06-2.06.94z\"/><path d=\"M17.41 7.96l-1.37-1.37c-.4-.4-.92-.59-1.43-.59-.52 0-1.04.2-1.43.59L10.3 9.45l-7.72 7.72c-.78.78-.78 2.05 0 2.83L4 21.41c.39.39.9.59 1.41.59.51 0 1.02-.2 1.41-.59l7.78-7.78 2.81-2.81c.8-.78.8-2.07 0-2.86zM5.41 20L4 18.59l7.72-7.72 1.47 1.35L5.41 20z\"/>\n",
              "  </svg>\n",
              "      </button>\n",
              "      \n",
              "  <style>\n",
              "    .colab-df-container {\n",
              "      display:flex;\n",
              "      flex-wrap:wrap;\n",
              "      gap: 12px;\n",
              "    }\n",
              "\n",
              "    .colab-df-convert {\n",
              "      background-color: #E8F0FE;\n",
              "      border: none;\n",
              "      border-radius: 50%;\n",
              "      cursor: pointer;\n",
              "      display: none;\n",
              "      fill: #1967D2;\n",
              "      height: 32px;\n",
              "      padding: 0 0 0 0;\n",
              "      width: 32px;\n",
              "    }\n",
              "\n",
              "    .colab-df-convert:hover {\n",
              "      background-color: #E2EBFA;\n",
              "      box-shadow: 0px 1px 2px rgba(60, 64, 67, 0.3), 0px 1px 3px 1px rgba(60, 64, 67, 0.15);\n",
              "      fill: #174EA6;\n",
              "    }\n",
              "\n",
              "    [theme=dark] .colab-df-convert {\n",
              "      background-color: #3B4455;\n",
              "      fill: #D2E3FC;\n",
              "    }\n",
              "\n",
              "    [theme=dark] .colab-df-convert:hover {\n",
              "      background-color: #434B5C;\n",
              "      box-shadow: 0px 1px 3px 1px rgba(0, 0, 0, 0.15);\n",
              "      filter: drop-shadow(0px 1px 2px rgba(0, 0, 0, 0.3));\n",
              "      fill: #FFFFFF;\n",
              "    }\n",
              "  </style>\n",
              "\n",
              "      <script>\n",
              "        const buttonEl =\n",
              "          document.querySelector('#df-72b5d649-de37-4f26-ac85-8504f671c087 button.colab-df-convert');\n",
              "        buttonEl.style.display =\n",
              "          google.colab.kernel.accessAllowed ? 'block' : 'none';\n",
              "\n",
              "        async function convertToInteractive(key) {\n",
              "          const element = document.querySelector('#df-72b5d649-de37-4f26-ac85-8504f671c087');\n",
              "          const dataTable =\n",
              "            await google.colab.kernel.invokeFunction('convertToInteractive',\n",
              "                                                     [key], {});\n",
              "          if (!dataTable) return;\n",
              "\n",
              "          const docLinkHtml = 'Like what you see? Visit the ' +\n",
              "            '<a target=\"_blank\" href=https://colab.research.google.com/notebooks/data_table.ipynb>data table notebook</a>'\n",
              "            + ' to learn more about interactive tables.';\n",
              "          element.innerHTML = '';\n",
              "          dataTable['output_type'] = 'display_data';\n",
              "          await google.colab.output.renderOutput(dataTable, element);\n",
              "          const docLink = document.createElement('div');\n",
              "          docLink.innerHTML = docLinkHtml;\n",
              "          element.appendChild(docLink);\n",
              "        }\n",
              "      </script>\n",
              "    </div>\n",
              "  </div>\n",
              "  "
            ]
          },
          "metadata": {},
          "execution_count": 5
        }
      ],
      "source": [
        "csv_1.head()"
      ]
    },
    {
      "cell_type": "markdown",
      "id": "971a8ae1",
      "metadata": {
        "id": "971a8ae1"
      },
      "source": [
        "#### How to Write CSV File In Pandas"
      ]
    },
    {
      "cell_type": "code",
      "execution_count": null,
      "id": "b9dfc546",
      "metadata": {
        "id": "b9dfc546",
        "outputId": "43dcabc8-b350-444a-cd0e-be2459b0416b"
      },
      "outputs": [
        {
          "data": {
            "text/html": [
              "<div>\n",
              "<style scoped>\n",
              "    .dataframe tbody tr th:only-of-type {\n",
              "        vertical-align: middle;\n",
              "    }\n",
              "\n",
              "    .dataframe tbody tr th {\n",
              "        vertical-align: top;\n",
              "    }\n",
              "\n",
              "    .dataframe thead th {\n",
              "        text-align: right;\n",
              "    }\n",
              "</style>\n",
              "<table border=\"1\" class=\"dataframe\">\n",
              "  <thead>\n",
              "    <tr style=\"text-align: right;\">\n",
              "      <th></th>\n",
              "      <th>ID</th>\n",
              "      <th>Name</th>\n",
              "      <th>Industry</th>\n",
              "      <th>Inception</th>\n",
              "      <th>Revenue</th>\n",
              "      <th>Expenses</th>\n",
              "      <th>Profit</th>\n",
              "      <th>Growth</th>\n",
              "    </tr>\n",
              "  </thead>\n",
              "  <tbody>\n",
              "    <tr>\n",
              "      <th>0</th>\n",
              "      <td>1</td>\n",
              "      <td>Lamtone</td>\n",
              "      <td>IT Services</td>\n",
              "      <td>2009</td>\n",
              "      <td>$11,757,018</td>\n",
              "      <td>6,482,465 Dollars</td>\n",
              "      <td>5274553</td>\n",
              "      <td>30%</td>\n",
              "    </tr>\n",
              "    <tr>\n",
              "      <th>1</th>\n",
              "      <td>2</td>\n",
              "      <td>Stripfind</td>\n",
              "      <td>Financial Services</td>\n",
              "      <td>2010</td>\n",
              "      <td>$12,329,371</td>\n",
              "      <td>916,455 Dollars</td>\n",
              "      <td>11412916</td>\n",
              "      <td>20%</td>\n",
              "    </tr>\n",
              "    <tr>\n",
              "      <th>2</th>\n",
              "      <td>3</td>\n",
              "      <td>Canecorporation</td>\n",
              "      <td>Health</td>\n",
              "      <td>2012</td>\n",
              "      <td>$10,597,009</td>\n",
              "      <td>7,591,189 Dollars</td>\n",
              "      <td>3005820</td>\n",
              "      <td>7%</td>\n",
              "    </tr>\n",
              "    <tr>\n",
              "      <th>3</th>\n",
              "      <td>4</td>\n",
              "      <td>Mattouch</td>\n",
              "      <td>IT Services</td>\n",
              "      <td>2013</td>\n",
              "      <td>$14,026,934</td>\n",
              "      <td>7,429,377 Dollars</td>\n",
              "      <td>6597557</td>\n",
              "      <td>not available</td>\n",
              "    </tr>\n",
              "    <tr>\n",
              "      <th>4</th>\n",
              "      <td>5</td>\n",
              "      <td>Techdrill</td>\n",
              "      <td>NaN</td>\n",
              "      <td>2009</td>\n",
              "      <td>$10,573,990</td>\n",
              "      <td>7,435,363 Dollars</td>\n",
              "      <td>3138627</td>\n",
              "      <td>NaN</td>\n",
              "    </tr>\n",
              "    <tr>\n",
              "      <th>5</th>\n",
              "      <td>6</td>\n",
              "      <td>Techline</td>\n",
              "      <td>NaN</td>\n",
              "      <td>2006</td>\n",
              "      <td>$13,898,119</td>\n",
              "      <td>5,470,303 Dollars</td>\n",
              "      <td>8427816</td>\n",
              "      <td>NaN</td>\n",
              "    </tr>\n",
              "    <tr>\n",
              "      <th>6</th>\n",
              "      <td>7</td>\n",
              "      <td>Cityace</td>\n",
              "      <td>NaN</td>\n",
              "      <td>2010</td>\n",
              "      <td>$9,254,614</td>\n",
              "      <td>6,249,498 Dollars</td>\n",
              "      <td>3005116</td>\n",
              "      <td>6%</td>\n",
              "    </tr>\n",
              "    <tr>\n",
              "      <th>7</th>\n",
              "      <td>8</td>\n",
              "      <td>Kayelectronics</td>\n",
              "      <td>NaN</td>\n",
              "      <td>2009</td>\n",
              "      <td>$9,451,943</td>\n",
              "      <td>3,878,113 Dollars</td>\n",
              "      <td>5573830</td>\n",
              "      <td>4%</td>\n",
              "    </tr>\n",
              "    <tr>\n",
              "      <th>8</th>\n",
              "      <td>9</td>\n",
              "      <td>Ganzlax</td>\n",
              "      <td>IT Services</td>\n",
              "      <td>2011</td>\n",
              "      <td>$14,001,180</td>\n",
              "      <td>NaN</td>\n",
              "      <td>11901180</td>\n",
              "      <td>18%</td>\n",
              "    </tr>\n",
              "    <tr>\n",
              "      <th>9</th>\n",
              "      <td>10</td>\n",
              "      <td>Trantraxlax</td>\n",
              "      <td>Government Services</td>\n",
              "      <td>2011</td>\n",
              "      <td>$11,088,336</td>\n",
              "      <td>5,635,276 Dollars</td>\n",
              "      <td>5453060</td>\n",
              "      <td>7%</td>\n",
              "    </tr>\n",
              "  </tbody>\n",
              "</table>\n",
              "</div>"
            ],
            "text/plain": [
              "   ID             Name             Industry  Inception       Revenue  \\\n",
              "0   1          Lamtone          IT Services       2009  $11,757,018    \n",
              "1   2        Stripfind   Financial Services       2010  $12,329,371    \n",
              "2   3  Canecorporation               Health       2012  $10,597,009    \n",
              "3   4         Mattouch          IT Services       2013  $14,026,934    \n",
              "4   5        Techdrill                  NaN       2009  $10,573,990    \n",
              "5   6         Techline                  NaN       2006  $13,898,119    \n",
              "6   7          Cityace                  NaN       2010   $9,254,614    \n",
              "7   8   Kayelectronics                  NaN       2009   $9,451,943    \n",
              "8   9          Ganzlax          IT Services       2011  $14,001,180    \n",
              "9  10      Trantraxlax  Government Services       2011  $11,088,336    \n",
              "\n",
              "            Expenses    Profit         Growth  \n",
              "0  6,482,465 Dollars   5274553            30%  \n",
              "1    916,455 Dollars  11412916            20%  \n",
              "2  7,591,189 Dollars   3005820             7%  \n",
              "3  7,429,377 Dollars   6597557  not available  \n",
              "4  7,435,363 Dollars   3138627            NaN  \n",
              "5  5,470,303 Dollars   8427816            NaN  \n",
              "6  6,249,498 Dollars   3005116             6%  \n",
              "7  3,878,113 Dollars   5573830             4%  \n",
              "8                NaN  11901180            18%  \n",
              "9  5,635,276 Dollars   5453060             7%  "
            ]
          },
          "execution_count": 43,
          "metadata": {},
          "output_type": "execute_result"
        }
      ],
      "source": [
        "df = pd.read_csv('Fortune_10.csv')\n",
        "df"
      ]
    },
    {
      "cell_type": "code",
      "source": [],
      "metadata": {
        "id": "1YqxQC_mYjDm"
      },
      "id": "1YqxQC_mYjDm",
      "execution_count": null,
      "outputs": []
    },
    {
      "cell_type": "code",
      "execution_count": null,
      "id": "aef3988f",
      "metadata": {
        "id": "aef3988f",
        "outputId": "55f8cecb-a38c-4763-e8d9-962903a6ec48"
      },
      "outputs": [
        {
          "data": {
            "text/plain": [
              "pandas.core.frame.DataFrame"
            ]
          },
          "execution_count": 44,
          "metadata": {},
          "output_type": "execute_result"
        }
      ],
      "source": [
        "type(df)"
      ]
    },
    {
      "cell_type": "code",
      "execution_count": null,
      "id": "8f207c70",
      "metadata": {
        "id": "8f207c70",
        "outputId": "3e2c9d7e-73e5-4fa8-ec66-ab8b9ddfd21f"
      },
      "outputs": [
        {
          "data": {
            "text/plain": [
              "Index(['ID', 'Name', 'Industry', 'Inception', 'Revenue', 'Expenses', 'Profit',\n",
              "       'Growth'],\n",
              "      dtype='object')"
            ]
          },
          "execution_count": 45,
          "metadata": {},
          "output_type": "execute_result"
        }
      ],
      "source": [
        "df.columns"
      ]
    },
    {
      "cell_type": "code",
      "execution_count": null,
      "id": "b70dd82c",
      "metadata": {
        "id": "b70dd82c",
        "outputId": "f240c8e0-ed85-473f-e8fa-433742922198"
      },
      "outputs": [
        {
          "data": {
            "text/html": [
              "<div>\n",
              "<style scoped>\n",
              "    .dataframe tbody tr th:only-of-type {\n",
              "        vertical-align: middle;\n",
              "    }\n",
              "\n",
              "    .dataframe tbody tr th {\n",
              "        vertical-align: top;\n",
              "    }\n",
              "\n",
              "    .dataframe thead th {\n",
              "        text-align: right;\n",
              "    }\n",
              "</style>\n",
              "<table border=\"1\" class=\"dataframe\">\n",
              "  <thead>\n",
              "    <tr style=\"text-align: right;\">\n",
              "      <th></th>\n",
              "      <th>ID</th>\n",
              "      <th>Name</th>\n",
              "      <th>Industry</th>\n",
              "      <th>Inception</th>\n",
              "      <th>Revenue</th>\n",
              "      <th>Expenses</th>\n",
              "      <th>Profit</th>\n",
              "      <th>Growth</th>\n",
              "    </tr>\n",
              "  </thead>\n",
              "  <tbody>\n",
              "    <tr>\n",
              "      <th>0</th>\n",
              "      <td>1</td>\n",
              "      <td>Lamtone</td>\n",
              "      <td>IT Services</td>\n",
              "      <td>2009</td>\n",
              "      <td>$11,757,018</td>\n",
              "      <td>6,482,465 Dollars</td>\n",
              "      <td>5274553</td>\n",
              "      <td>30%</td>\n",
              "    </tr>\n",
              "    <tr>\n",
              "      <th>1</th>\n",
              "      <td>2</td>\n",
              "      <td>Stripfind</td>\n",
              "      <td>Financial Services</td>\n",
              "      <td>2010</td>\n",
              "      <td>$12,329,371</td>\n",
              "      <td>916,455 Dollars</td>\n",
              "      <td>11412916</td>\n",
              "      <td>20%</td>\n",
              "    </tr>\n",
              "    <tr>\n",
              "      <th>2</th>\n",
              "      <td>3</td>\n",
              "      <td>Canecorporation</td>\n",
              "      <td>Health</td>\n",
              "      <td>2012</td>\n",
              "      <td>$10,597,009</td>\n",
              "      <td>7,591,189 Dollars</td>\n",
              "      <td>3005820</td>\n",
              "      <td>7%</td>\n",
              "    </tr>\n",
              "    <tr>\n",
              "      <th>3</th>\n",
              "      <td>4</td>\n",
              "      <td>Mattouch</td>\n",
              "      <td>IT Services</td>\n",
              "      <td>2013</td>\n",
              "      <td>$14,026,934</td>\n",
              "      <td>7,429,377 Dollars</td>\n",
              "      <td>6597557</td>\n",
              "      <td>not available</td>\n",
              "    </tr>\n",
              "    <tr>\n",
              "      <th>4</th>\n",
              "      <td>5</td>\n",
              "      <td>Techdrill</td>\n",
              "      <td>NaN</td>\n",
              "      <td>2009</td>\n",
              "      <td>$10,573,990</td>\n",
              "      <td>7,435,363 Dollars</td>\n",
              "      <td>3138627</td>\n",
              "      <td>NaN</td>\n",
              "    </tr>\n",
              "  </tbody>\n",
              "</table>\n",
              "</div>"
            ],
            "text/plain": [
              "   ID             Name            Industry  Inception       Revenue  \\\n",
              "0   1          Lamtone         IT Services       2009  $11,757,018    \n",
              "1   2        Stripfind  Financial Services       2010  $12,329,371    \n",
              "2   3  Canecorporation              Health       2012  $10,597,009    \n",
              "3   4         Mattouch         IT Services       2013  $14,026,934    \n",
              "4   5        Techdrill                 NaN       2009  $10,573,990    \n",
              "\n",
              "            Expenses    Profit         Growth  \n",
              "0  6,482,465 Dollars   5274553            30%  \n",
              "1    916,455 Dollars  11412916            20%  \n",
              "2  7,591,189 Dollars   3005820             7%  \n",
              "3  7,429,377 Dollars   6597557  not available  \n",
              "4  7,435,363 Dollars   3138627            NaN  "
            ]
          },
          "execution_count": 46,
          "metadata": {},
          "output_type": "execute_result"
        }
      ],
      "source": [
        "df.head()"
      ]
    },
    {
      "cell_type": "code",
      "execution_count": null,
      "id": "4c0fd884",
      "metadata": {
        "id": "4c0fd884",
        "outputId": "e2e34caf-a04b-49c1-d350-48cc51fcac15"
      },
      "outputs": [
        {
          "data": {
            "text/html": [
              "<div>\n",
              "<style scoped>\n",
              "    .dataframe tbody tr th:only-of-type {\n",
              "        vertical-align: middle;\n",
              "    }\n",
              "\n",
              "    .dataframe tbody tr th {\n",
              "        vertical-align: top;\n",
              "    }\n",
              "\n",
              "    .dataframe thead th {\n",
              "        text-align: right;\n",
              "    }\n",
              "</style>\n",
              "<table border=\"1\" class=\"dataframe\">\n",
              "  <thead>\n",
              "    <tr style=\"text-align: right;\">\n",
              "      <th></th>\n",
              "      <th>ID</th>\n",
              "      <th>Name</th>\n",
              "      <th>Industry</th>\n",
              "      <th>Inception</th>\n",
              "      <th>Revenue</th>\n",
              "      <th>Expenses</th>\n",
              "      <th>Profit</th>\n",
              "      <th>Growth</th>\n",
              "    </tr>\n",
              "  </thead>\n",
              "  <tbody>\n",
              "    <tr>\n",
              "      <th>0</th>\n",
              "      <td>1</td>\n",
              "      <td>Lamtone</td>\n",
              "      <td>IT Services</td>\n",
              "      <td>2009</td>\n",
              "      <td>$11,757,018</td>\n",
              "      <td>6,482,465 Dollars</td>\n",
              "      <td>5274553</td>\n",
              "      <td>30%</td>\n",
              "    </tr>\n",
              "  </tbody>\n",
              "</table>\n",
              "</div>"
            ],
            "text/plain": [
              "   ID     Name     Industry  Inception       Revenue           Expenses  \\\n",
              "0   1  Lamtone  IT Services       2009  $11,757,018   6,482,465 Dollars   \n",
              "\n",
              "    Profit Growth  \n",
              "0  5274553    30%  "
            ]
          },
          "execution_count": 47,
          "metadata": {},
          "output_type": "execute_result"
        }
      ],
      "source": [
        "df = pd.read_csv('Fortune_10.csv', nrows = 1)\n",
        "df"
      ]
    },
    {
      "cell_type": "code",
      "execution_count": null,
      "id": "43604e1e",
      "metadata": {
        "id": "43604e1e",
        "outputId": "2c0aa863-ccd9-468f-9767-bb6d57108ff4"
      },
      "outputs": [
        {
          "data": {
            "text/html": [
              "<div>\n",
              "<style scoped>\n",
              "    .dataframe tbody tr th:only-of-type {\n",
              "        vertical-align: middle;\n",
              "    }\n",
              "\n",
              "    .dataframe tbody tr th {\n",
              "        vertical-align: top;\n",
              "    }\n",
              "\n",
              "    .dataframe thead th {\n",
              "        text-align: right;\n",
              "    }\n",
              "</style>\n",
              "<table border=\"1\" class=\"dataframe\">\n",
              "  <thead>\n",
              "    <tr style=\"text-align: right;\">\n",
              "      <th></th>\n",
              "      <th>ID</th>\n",
              "    </tr>\n",
              "  </thead>\n",
              "  <tbody>\n",
              "    <tr>\n",
              "      <th>0</th>\n",
              "      <td>1</td>\n",
              "    </tr>\n",
              "    <tr>\n",
              "      <th>1</th>\n",
              "      <td>2</td>\n",
              "    </tr>\n",
              "    <tr>\n",
              "      <th>2</th>\n",
              "      <td>3</td>\n",
              "    </tr>\n",
              "    <tr>\n",
              "      <th>3</th>\n",
              "      <td>4</td>\n",
              "    </tr>\n",
              "    <tr>\n",
              "      <th>4</th>\n",
              "      <td>5</td>\n",
              "    </tr>\n",
              "    <tr>\n",
              "      <th>5</th>\n",
              "      <td>6</td>\n",
              "    </tr>\n",
              "    <tr>\n",
              "      <th>6</th>\n",
              "      <td>7</td>\n",
              "    </tr>\n",
              "    <tr>\n",
              "      <th>7</th>\n",
              "      <td>8</td>\n",
              "    </tr>\n",
              "    <tr>\n",
              "      <th>8</th>\n",
              "      <td>9</td>\n",
              "    </tr>\n",
              "    <tr>\n",
              "      <th>9</th>\n",
              "      <td>10</td>\n",
              "    </tr>\n",
              "  </tbody>\n",
              "</table>\n",
              "</div>"
            ],
            "text/plain": [
              "   ID\n",
              "0   1\n",
              "1   2\n",
              "2   3\n",
              "3   4\n",
              "4   5\n",
              "5   6\n",
              "6   7\n",
              "7   8\n",
              "8   9\n",
              "9  10"
            ]
          },
          "execution_count": 48,
          "metadata": {},
          "output_type": "execute_result"
        }
      ],
      "source": [
        "df = pd.read_csv('Fortune_10.csv', usecols = [0])\n",
        "df"
      ]
    },
    {
      "cell_type": "code",
      "execution_count": null,
      "id": "78dba9d8",
      "metadata": {
        "id": "78dba9d8",
        "colab": {
          "base_uri": "https://localhost:8080/",
          "height": 363
        },
        "outputId": "b310be25-e278-45dd-827b-140099d9bb99"
      },
      "outputs": [
        {
          "output_type": "execute_result",
          "data": {
            "text/plain": [
              "              Industry       Revenue    Profit\n",
              "0          IT Services  $11,757,018    5274553\n",
              "1   Financial Services  $12,329,371   11412916\n",
              "2               Health  $10,597,009    3005820\n",
              "3          IT Services  $14,026,934    6597557\n",
              "4                  NaN  $10,573,990    3138627\n",
              "5                  NaN  $13,898,119    8427816\n",
              "6                  NaN   $9,254,614    3005116\n",
              "7                  NaN   $9,451,943    5573830\n",
              "8          IT Services  $14,001,180   11901180\n",
              "9  Government Services  $11,088,336    5453060"
            ],
            "text/html": [
              "\n",
              "  <div id=\"df-5b06da58-8b23-4acb-be87-d82e5f90be36\">\n",
              "    <div class=\"colab-df-container\">\n",
              "      <div>\n",
              "<style scoped>\n",
              "    .dataframe tbody tr th:only-of-type {\n",
              "        vertical-align: middle;\n",
              "    }\n",
              "\n",
              "    .dataframe tbody tr th {\n",
              "        vertical-align: top;\n",
              "    }\n",
              "\n",
              "    .dataframe thead th {\n",
              "        text-align: right;\n",
              "    }\n",
              "</style>\n",
              "<table border=\"1\" class=\"dataframe\">\n",
              "  <thead>\n",
              "    <tr style=\"text-align: right;\">\n",
              "      <th></th>\n",
              "      <th>Industry</th>\n",
              "      <th>Revenue</th>\n",
              "      <th>Profit</th>\n",
              "    </tr>\n",
              "  </thead>\n",
              "  <tbody>\n",
              "    <tr>\n",
              "      <th>0</th>\n",
              "      <td>IT Services</td>\n",
              "      <td>$11,757,018</td>\n",
              "      <td>5274553</td>\n",
              "    </tr>\n",
              "    <tr>\n",
              "      <th>1</th>\n",
              "      <td>Financial Services</td>\n",
              "      <td>$12,329,371</td>\n",
              "      <td>11412916</td>\n",
              "    </tr>\n",
              "    <tr>\n",
              "      <th>2</th>\n",
              "      <td>Health</td>\n",
              "      <td>$10,597,009</td>\n",
              "      <td>3005820</td>\n",
              "    </tr>\n",
              "    <tr>\n",
              "      <th>3</th>\n",
              "      <td>IT Services</td>\n",
              "      <td>$14,026,934</td>\n",
              "      <td>6597557</td>\n",
              "    </tr>\n",
              "    <tr>\n",
              "      <th>4</th>\n",
              "      <td>NaN</td>\n",
              "      <td>$10,573,990</td>\n",
              "      <td>3138627</td>\n",
              "    </tr>\n",
              "    <tr>\n",
              "      <th>5</th>\n",
              "      <td>NaN</td>\n",
              "      <td>$13,898,119</td>\n",
              "      <td>8427816</td>\n",
              "    </tr>\n",
              "    <tr>\n",
              "      <th>6</th>\n",
              "      <td>NaN</td>\n",
              "      <td>$9,254,614</td>\n",
              "      <td>3005116</td>\n",
              "    </tr>\n",
              "    <tr>\n",
              "      <th>7</th>\n",
              "      <td>NaN</td>\n",
              "      <td>$9,451,943</td>\n",
              "      <td>5573830</td>\n",
              "    </tr>\n",
              "    <tr>\n",
              "      <th>8</th>\n",
              "      <td>IT Services</td>\n",
              "      <td>$14,001,180</td>\n",
              "      <td>11901180</td>\n",
              "    </tr>\n",
              "    <tr>\n",
              "      <th>9</th>\n",
              "      <td>Government Services</td>\n",
              "      <td>$11,088,336</td>\n",
              "      <td>5453060</td>\n",
              "    </tr>\n",
              "  </tbody>\n",
              "</table>\n",
              "</div>\n",
              "      <button class=\"colab-df-convert\" onclick=\"convertToInteractive('df-5b06da58-8b23-4acb-be87-d82e5f90be36')\"\n",
              "              title=\"Convert this dataframe to an interactive table.\"\n",
              "              style=\"display:none;\">\n",
              "        \n",
              "  <svg xmlns=\"http://www.w3.org/2000/svg\" height=\"24px\"viewBox=\"0 0 24 24\"\n",
              "       width=\"24px\">\n",
              "    <path d=\"M0 0h24v24H0V0z\" fill=\"none\"/>\n",
              "    <path d=\"M18.56 5.44l.94 2.06.94-2.06 2.06-.94-2.06-.94-.94-2.06-.94 2.06-2.06.94zm-11 1L8.5 8.5l.94-2.06 2.06-.94-2.06-.94L8.5 2.5l-.94 2.06-2.06.94zm10 10l.94 2.06.94-2.06 2.06-.94-2.06-.94-.94-2.06-.94 2.06-2.06.94z\"/><path d=\"M17.41 7.96l-1.37-1.37c-.4-.4-.92-.59-1.43-.59-.52 0-1.04.2-1.43.59L10.3 9.45l-7.72 7.72c-.78.78-.78 2.05 0 2.83L4 21.41c.39.39.9.59 1.41.59.51 0 1.02-.2 1.41-.59l7.78-7.78 2.81-2.81c.8-.78.8-2.07 0-2.86zM5.41 20L4 18.59l7.72-7.72 1.47 1.35L5.41 20z\"/>\n",
              "  </svg>\n",
              "      </button>\n",
              "      \n",
              "  <style>\n",
              "    .colab-df-container {\n",
              "      display:flex;\n",
              "      flex-wrap:wrap;\n",
              "      gap: 12px;\n",
              "    }\n",
              "\n",
              "    .colab-df-convert {\n",
              "      background-color: #E8F0FE;\n",
              "      border: none;\n",
              "      border-radius: 50%;\n",
              "      cursor: pointer;\n",
              "      display: none;\n",
              "      fill: #1967D2;\n",
              "      height: 32px;\n",
              "      padding: 0 0 0 0;\n",
              "      width: 32px;\n",
              "    }\n",
              "\n",
              "    .colab-df-convert:hover {\n",
              "      background-color: #E2EBFA;\n",
              "      box-shadow: 0px 1px 2px rgba(60, 64, 67, 0.3), 0px 1px 3px 1px rgba(60, 64, 67, 0.15);\n",
              "      fill: #174EA6;\n",
              "    }\n",
              "\n",
              "    [theme=dark] .colab-df-convert {\n",
              "      background-color: #3B4455;\n",
              "      fill: #D2E3FC;\n",
              "    }\n",
              "\n",
              "    [theme=dark] .colab-df-convert:hover {\n",
              "      background-color: #434B5C;\n",
              "      box-shadow: 0px 1px 3px 1px rgba(0, 0, 0, 0.15);\n",
              "      filter: drop-shadow(0px 1px 2px rgba(0, 0, 0, 0.3));\n",
              "      fill: #FFFFFF;\n",
              "    }\n",
              "  </style>\n",
              "\n",
              "      <script>\n",
              "        const buttonEl =\n",
              "          document.querySelector('#df-5b06da58-8b23-4acb-be87-d82e5f90be36 button.colab-df-convert');\n",
              "        buttonEl.style.display =\n",
              "          google.colab.kernel.accessAllowed ? 'block' : 'none';\n",
              "\n",
              "        async function convertToInteractive(key) {\n",
              "          const element = document.querySelector('#df-5b06da58-8b23-4acb-be87-d82e5f90be36');\n",
              "          const dataTable =\n",
              "            await google.colab.kernel.invokeFunction('convertToInteractive',\n",
              "                                                     [key], {});\n",
              "          if (!dataTable) return;\n",
              "\n",
              "          const docLinkHtml = 'Like what you see? Visit the ' +\n",
              "            '<a target=\"_blank\" href=https://colab.research.google.com/notebooks/data_table.ipynb>data table notebook</a>'\n",
              "            + ' to learn more about interactive tables.';\n",
              "          element.innerHTML = '';\n",
              "          dataTable['output_type'] = 'display_data';\n",
              "          await google.colab.output.renderOutput(dataTable, element);\n",
              "          const docLink = document.createElement('div');\n",
              "          docLink.innerHTML = docLinkHtml;\n",
              "          element.appendChild(docLink);\n",
              "        }\n",
              "      </script>\n",
              "    </div>\n",
              "  </div>\n",
              "  "
            ]
          },
          "metadata": {},
          "execution_count": 10
        }
      ],
      "source": [
        "df = pd.read_csv('Fortune_10.csv', usecols = [2,4,6])\n",
        "df"
      ]
    },
    {
      "cell_type": "code",
      "execution_count": null,
      "id": "34435a59",
      "metadata": {
        "id": "34435a59"
      },
      "outputs": [],
      "source": [
        "# df = pd.read_csv('C:\\\\Users\\Chandrakant\\Downloads\\Pandas\\Fortune_10.csv', skiprows = 1) #Remove_Rows\n",
        "# df"
      ]
    },
    {
      "cell_type": "code",
      "execution_count": null,
      "id": "c927b376",
      "metadata": {
        "id": "c927b376"
      },
      "outputs": [],
      "source": [
        "# df = pd.read_csv('C:\\\\Users\\Chandrakant\\Downloads\\Pandas\\Fortune_10.csv', index_col = 'ID') #Indexing\n",
        "# df"
      ]
    },
    {
      "cell_type": "code",
      "execution_count": null,
      "id": "dcb8a6b9",
      "metadata": {
        "id": "dcb8a6b9",
        "outputId": "db79f687-1bd0-47da-b240-d106498156ae"
      },
      "outputs": [
        {
          "data": {
            "text/html": [
              "<div>\n",
              "<style scoped>\n",
              "    .dataframe tbody tr th:only-of-type {\n",
              "        vertical-align: middle;\n",
              "    }\n",
              "\n",
              "    .dataframe tbody tr th {\n",
              "        vertical-align: top;\n",
              "    }\n",
              "\n",
              "    .dataframe thead th {\n",
              "        text-align: right;\n",
              "    }\n",
              "</style>\n",
              "<table border=\"1\" class=\"dataframe\">\n",
              "  <thead>\n",
              "    <tr style=\"text-align: right;\">\n",
              "      <th></th>\n",
              "      <th>1</th>\n",
              "      <th>Lamtone</th>\n",
              "      <th>IT Services</th>\n",
              "      <th>2009</th>\n",
              "      <th>$11,757,018</th>\n",
              "      <th>6,482,465 Dollars</th>\n",
              "      <th>5274553</th>\n",
              "      <th>30%</th>\n",
              "    </tr>\n",
              "  </thead>\n",
              "  <tbody>\n",
              "    <tr>\n",
              "      <th>0</th>\n",
              "      <td>2</td>\n",
              "      <td>Stripfind</td>\n",
              "      <td>Financial Services</td>\n",
              "      <td>2010</td>\n",
              "      <td>$12,329,371</td>\n",
              "      <td>916,455 Dollars</td>\n",
              "      <td>11412916</td>\n",
              "      <td>20%</td>\n",
              "    </tr>\n",
              "    <tr>\n",
              "      <th>1</th>\n",
              "      <td>3</td>\n",
              "      <td>Canecorporation</td>\n",
              "      <td>Health</td>\n",
              "      <td>2012</td>\n",
              "      <td>$10,597,009</td>\n",
              "      <td>7,591,189 Dollars</td>\n",
              "      <td>3005820</td>\n",
              "      <td>7%</td>\n",
              "    </tr>\n",
              "    <tr>\n",
              "      <th>2</th>\n",
              "      <td>4</td>\n",
              "      <td>Mattouch</td>\n",
              "      <td>IT Services</td>\n",
              "      <td>2013</td>\n",
              "      <td>$14,026,934</td>\n",
              "      <td>7,429,377 Dollars</td>\n",
              "      <td>6597557</td>\n",
              "      <td>not available</td>\n",
              "    </tr>\n",
              "    <tr>\n",
              "      <th>3</th>\n",
              "      <td>5</td>\n",
              "      <td>Techdrill</td>\n",
              "      <td>NaN</td>\n",
              "      <td>2009</td>\n",
              "      <td>$10,573,990</td>\n",
              "      <td>7,435,363 Dollars</td>\n",
              "      <td>3138627</td>\n",
              "      <td>NaN</td>\n",
              "    </tr>\n",
              "    <tr>\n",
              "      <th>4</th>\n",
              "      <td>6</td>\n",
              "      <td>Techline</td>\n",
              "      <td>NaN</td>\n",
              "      <td>2006</td>\n",
              "      <td>$13,898,119</td>\n",
              "      <td>5,470,303 Dollars</td>\n",
              "      <td>8427816</td>\n",
              "      <td>NaN</td>\n",
              "    </tr>\n",
              "    <tr>\n",
              "      <th>5</th>\n",
              "      <td>7</td>\n",
              "      <td>Cityace</td>\n",
              "      <td>NaN</td>\n",
              "      <td>2010</td>\n",
              "      <td>$9,254,614</td>\n",
              "      <td>6,249,498 Dollars</td>\n",
              "      <td>3005116</td>\n",
              "      <td>6%</td>\n",
              "    </tr>\n",
              "    <tr>\n",
              "      <th>6</th>\n",
              "      <td>8</td>\n",
              "      <td>Kayelectronics</td>\n",
              "      <td>NaN</td>\n",
              "      <td>2009</td>\n",
              "      <td>$9,451,943</td>\n",
              "      <td>3,878,113 Dollars</td>\n",
              "      <td>5573830</td>\n",
              "      <td>4%</td>\n",
              "    </tr>\n",
              "    <tr>\n",
              "      <th>7</th>\n",
              "      <td>9</td>\n",
              "      <td>Ganzlax</td>\n",
              "      <td>IT Services</td>\n",
              "      <td>2011</td>\n",
              "      <td>$14,001,180</td>\n",
              "      <td>NaN</td>\n",
              "      <td>11901180</td>\n",
              "      <td>18%</td>\n",
              "    </tr>\n",
              "    <tr>\n",
              "      <th>8</th>\n",
              "      <td>10</td>\n",
              "      <td>Trantraxlax</td>\n",
              "      <td>Government Services</td>\n",
              "      <td>2011</td>\n",
              "      <td>$11,088,336</td>\n",
              "      <td>5,635,276 Dollars</td>\n",
              "      <td>5453060</td>\n",
              "      <td>7%</td>\n",
              "    </tr>\n",
              "  </tbody>\n",
              "</table>\n",
              "</div>"
            ],
            "text/plain": [
              "    1          Lamtone          IT Services  2009  $11,757,018   \\\n",
              "0   2        Stripfind   Financial Services  2010  $12,329,371    \n",
              "1   3  Canecorporation               Health  2012  $10,597,009    \n",
              "2   4         Mattouch          IT Services  2013  $14,026,934    \n",
              "3   5        Techdrill                  NaN  2009  $10,573,990    \n",
              "4   6         Techline                  NaN  2006  $13,898,119    \n",
              "5   7          Cityace                  NaN  2010   $9,254,614    \n",
              "6   8   Kayelectronics                  NaN  2009   $9,451,943    \n",
              "7   9          Ganzlax          IT Services  2011  $14,001,180    \n",
              "8  10      Trantraxlax  Government Services  2011  $11,088,336    \n",
              "\n",
              "   6,482,465 Dollars   5274553            30%  \n",
              "0    916,455 Dollars  11412916            20%  \n",
              "1  7,591,189 Dollars   3005820             7%  \n",
              "2  7,429,377 Dollars   6597557  not available  \n",
              "3  7,435,363 Dollars   3138627            NaN  \n",
              "4  5,470,303 Dollars   8427816            NaN  \n",
              "5  6,249,498 Dollars   3005116             6%  \n",
              "6  3,878,113 Dollars   5573830             4%  \n",
              "7                NaN  11901180            18%  \n",
              "8  5,635,276 Dollars   5453060             7%  "
            ]
          },
          "execution_count": 52,
          "metadata": {},
          "output_type": "execute_result"
        }
      ],
      "source": [
        "df = pd.read_csv('C:\\\\Users\\Chandrakant\\Downloads\\Pandas\\Fortune_10.csv', header = 1) #Remove_Header\n",
        "df"
      ]
    },
    {
      "cell_type": "code",
      "execution_count": null,
      "id": "72ac0d1c",
      "metadata": {
        "id": "72ac0d1c",
        "outputId": "51bb23b5-bef6-43ab-d464-0ee67dceea52"
      },
      "outputs": [
        {
          "data": {
            "text/html": [
              "<div>\n",
              "<style scoped>\n",
              "    .dataframe tbody tr th:only-of-type {\n",
              "        vertical-align: middle;\n",
              "    }\n",
              "\n",
              "    .dataframe tbody tr th {\n",
              "        vertical-align: top;\n",
              "    }\n",
              "\n",
              "    .dataframe thead th {\n",
              "        text-align: right;\n",
              "    }\n",
              "</style>\n",
              "<table border=\"1\" class=\"dataframe\">\n",
              "  <thead>\n",
              "    <tr style=\"text-align: right;\">\n",
              "      <th></th>\n",
              "      <th>0</th>\n",
              "      <th>1</th>\n",
              "      <th>2</th>\n",
              "      <th>3</th>\n",
              "      <th>4</th>\n",
              "      <th>5</th>\n",
              "      <th>6</th>\n",
              "      <th>7</th>\n",
              "    </tr>\n",
              "  </thead>\n",
              "  <tbody>\n",
              "    <tr>\n",
              "      <th>0</th>\n",
              "      <td>ID</td>\n",
              "      <td>Name</td>\n",
              "      <td>Industry</td>\n",
              "      <td>Inception</td>\n",
              "      <td>Revenue</td>\n",
              "      <td>Expenses</td>\n",
              "      <td>Profit</td>\n",
              "      <td>Growth</td>\n",
              "    </tr>\n",
              "    <tr>\n",
              "      <th>1</th>\n",
              "      <td>1</td>\n",
              "      <td>Lamtone</td>\n",
              "      <td>IT Services</td>\n",
              "      <td>2009</td>\n",
              "      <td>$11,757,018</td>\n",
              "      <td>6,482,465 Dollars</td>\n",
              "      <td>5274553</td>\n",
              "      <td>30%</td>\n",
              "    </tr>\n",
              "    <tr>\n",
              "      <th>2</th>\n",
              "      <td>2</td>\n",
              "      <td>Stripfind</td>\n",
              "      <td>Financial Services</td>\n",
              "      <td>2010</td>\n",
              "      <td>$12,329,371</td>\n",
              "      <td>916,455 Dollars</td>\n",
              "      <td>11412916</td>\n",
              "      <td>20%</td>\n",
              "    </tr>\n",
              "    <tr>\n",
              "      <th>3</th>\n",
              "      <td>3</td>\n",
              "      <td>Canecorporation</td>\n",
              "      <td>Health</td>\n",
              "      <td>2012</td>\n",
              "      <td>$10,597,009</td>\n",
              "      <td>7,591,189 Dollars</td>\n",
              "      <td>3005820</td>\n",
              "      <td>7%</td>\n",
              "    </tr>\n",
              "    <tr>\n",
              "      <th>4</th>\n",
              "      <td>4</td>\n",
              "      <td>Mattouch</td>\n",
              "      <td>IT Services</td>\n",
              "      <td>2013</td>\n",
              "      <td>$14,026,934</td>\n",
              "      <td>7,429,377 Dollars</td>\n",
              "      <td>6597557</td>\n",
              "      <td>not available</td>\n",
              "    </tr>\n",
              "    <tr>\n",
              "      <th>5</th>\n",
              "      <td>5</td>\n",
              "      <td>Techdrill</td>\n",
              "      <td>NaN</td>\n",
              "      <td>2009</td>\n",
              "      <td>$10,573,990</td>\n",
              "      <td>7,435,363 Dollars</td>\n",
              "      <td>3138627</td>\n",
              "      <td>NaN</td>\n",
              "    </tr>\n",
              "    <tr>\n",
              "      <th>6</th>\n",
              "      <td>6</td>\n",
              "      <td>Techline</td>\n",
              "      <td>NaN</td>\n",
              "      <td>2006</td>\n",
              "      <td>$13,898,119</td>\n",
              "      <td>5,470,303 Dollars</td>\n",
              "      <td>8427816</td>\n",
              "      <td>NaN</td>\n",
              "    </tr>\n",
              "    <tr>\n",
              "      <th>7</th>\n",
              "      <td>7</td>\n",
              "      <td>Cityace</td>\n",
              "      <td>NaN</td>\n",
              "      <td>2010</td>\n",
              "      <td>$9,254,614</td>\n",
              "      <td>6,249,498 Dollars</td>\n",
              "      <td>3005116</td>\n",
              "      <td>6%</td>\n",
              "    </tr>\n",
              "    <tr>\n",
              "      <th>8</th>\n",
              "      <td>8</td>\n",
              "      <td>Kayelectronics</td>\n",
              "      <td>NaN</td>\n",
              "      <td>2009</td>\n",
              "      <td>$9,451,943</td>\n",
              "      <td>3,878,113 Dollars</td>\n",
              "      <td>5573830</td>\n",
              "      <td>4%</td>\n",
              "    </tr>\n",
              "    <tr>\n",
              "      <th>9</th>\n",
              "      <td>9</td>\n",
              "      <td>Ganzlax</td>\n",
              "      <td>IT Services</td>\n",
              "      <td>2011</td>\n",
              "      <td>$14,001,180</td>\n",
              "      <td>NaN</td>\n",
              "      <td>11901180</td>\n",
              "      <td>18%</td>\n",
              "    </tr>\n",
              "    <tr>\n",
              "      <th>10</th>\n",
              "      <td>10</td>\n",
              "      <td>Trantraxlax</td>\n",
              "      <td>Government Services</td>\n",
              "      <td>2011</td>\n",
              "      <td>$11,088,336</td>\n",
              "      <td>5,635,276 Dollars</td>\n",
              "      <td>5453060</td>\n",
              "      <td>7%</td>\n",
              "    </tr>\n",
              "  </tbody>\n",
              "</table>\n",
              "</div>"
            ],
            "text/plain": [
              "     0                1                    2          3             4  \\\n",
              "0   ID             Name             Industry  Inception       Revenue   \n",
              "1    1          Lamtone          IT Services       2009  $11,757,018    \n",
              "2    2        Stripfind   Financial Services       2010  $12,329,371    \n",
              "3    3  Canecorporation               Health       2012  $10,597,009    \n",
              "4    4         Mattouch          IT Services       2013  $14,026,934    \n",
              "5    5        Techdrill                  NaN       2009  $10,573,990    \n",
              "6    6         Techline                  NaN       2006  $13,898,119    \n",
              "7    7          Cityace                  NaN       2010   $9,254,614    \n",
              "8    8   Kayelectronics                  NaN       2009   $9,451,943    \n",
              "9    9          Ganzlax          IT Services       2011  $14,001,180    \n",
              "10  10      Trantraxlax  Government Services       2011  $11,088,336    \n",
              "\n",
              "                    5         6              7  \n",
              "0            Expenses    Profit         Growth  \n",
              "1   6,482,465 Dollars   5274553            30%  \n",
              "2     916,455 Dollars  11412916            20%  \n",
              "3   7,591,189 Dollars   3005820             7%  \n",
              "4   7,429,377 Dollars   6597557  not available  \n",
              "5   7,435,363 Dollars   3138627            NaN  \n",
              "6   5,470,303 Dollars   8427816            NaN  \n",
              "7   6,249,498 Dollars   3005116             6%  \n",
              "8   3,878,113 Dollars   5573830             4%  \n",
              "9                 NaN  11901180            18%  \n",
              "10  5,635,276 Dollars   5453060             7%  "
            ]
          },
          "execution_count": 53,
          "metadata": {},
          "output_type": "execute_result"
        }
      ],
      "source": [
        "df = pd.read_csv('C:\\\\Users\\Chandrakant\\Downloads\\Pandas\\Fortune_10.csv', header = None) #Header_None\n",
        "df"
      ]
    },
    {
      "cell_type": "code",
      "execution_count": null,
      "id": "eaeddf81",
      "metadata": {
        "id": "eaeddf81"
      },
      "outputs": [],
      "source": [
        "# df = pd.read_csv('C:\\\\Users\\Chandrakant\\Downloads\\Pandas\\Fortune_10.csv', header = None, prefix = 'Columns') #Columns_Changeing\n",
        "# df"
      ]
    },
    {
      "cell_type": "code",
      "execution_count": null,
      "id": "bce24f12",
      "metadata": {
        "id": "bce24f12"
      },
      "outputs": [],
      "source": [
        "# df = pd.read_csv('C:\\\\Users\\Chandrakant\\Downloads\\Pandas\\Fortune_10.csv', names = ['A','B','C','D','E','F','G','H'])\n",
        "# df"
      ]
    },
    {
      "cell_type": "code",
      "execution_count": null,
      "id": "42bff489",
      "metadata": {
        "id": "42bff489",
        "outputId": "779560ec-1da3-4583-ff36-8275e031de0d"
      },
      "outputs": [
        {
          "data": {
            "text/html": [
              "<div>\n",
              "<style scoped>\n",
              "    .dataframe tbody tr th:only-of-type {\n",
              "        vertical-align: middle;\n",
              "    }\n",
              "\n",
              "    .dataframe tbody tr th {\n",
              "        vertical-align: top;\n",
              "    }\n",
              "\n",
              "    .dataframe thead th {\n",
              "        text-align: right;\n",
              "    }\n",
              "</style>\n",
              "<table border=\"1\" class=\"dataframe\">\n",
              "  <thead>\n",
              "    <tr style=\"text-align: right;\">\n",
              "      <th></th>\n",
              "      <th>ID</th>\n",
              "      <th>Name</th>\n",
              "      <th>Industry</th>\n",
              "      <th>Inception</th>\n",
              "      <th>Revenue</th>\n",
              "      <th>Expenses</th>\n",
              "      <th>Profit</th>\n",
              "      <th>Growth</th>\n",
              "    </tr>\n",
              "  </thead>\n",
              "  <tbody>\n",
              "    <tr>\n",
              "      <th>0</th>\n",
              "      <td>ID</td>\n",
              "      <td>Name</td>\n",
              "      <td>Industry</td>\n",
              "      <td>Inception</td>\n",
              "      <td>Revenue</td>\n",
              "      <td>Expenses</td>\n",
              "      <td>Profit</td>\n",
              "      <td>Growth</td>\n",
              "    </tr>\n",
              "    <tr>\n",
              "      <th>1</th>\n",
              "      <td>1</td>\n",
              "      <td>Lamtone</td>\n",
              "      <td>IT Services</td>\n",
              "      <td>2009</td>\n",
              "      <td>$11,757,018</td>\n",
              "      <td>6,482,465 Dollars</td>\n",
              "      <td>5274553</td>\n",
              "      <td>30%</td>\n",
              "    </tr>\n",
              "    <tr>\n",
              "      <th>2</th>\n",
              "      <td>2</td>\n",
              "      <td>Stripfind</td>\n",
              "      <td>Financial Services</td>\n",
              "      <td>2010</td>\n",
              "      <td>$12,329,371</td>\n",
              "      <td>916,455 Dollars</td>\n",
              "      <td>11412916</td>\n",
              "      <td>20%</td>\n",
              "    </tr>\n",
              "    <tr>\n",
              "      <th>3</th>\n",
              "      <td>3</td>\n",
              "      <td>Canecorporation</td>\n",
              "      <td>Health</td>\n",
              "      <td>2012</td>\n",
              "      <td>$10,597,009</td>\n",
              "      <td>7,591,189 Dollars</td>\n",
              "      <td>3005820</td>\n",
              "      <td>7%</td>\n",
              "    </tr>\n",
              "    <tr>\n",
              "      <th>4</th>\n",
              "      <td>4</td>\n",
              "      <td>Mattouch</td>\n",
              "      <td>IT Services</td>\n",
              "      <td>2013</td>\n",
              "      <td>$14,026,934</td>\n",
              "      <td>7,429,377 Dollars</td>\n",
              "      <td>6597557</td>\n",
              "      <td>not available</td>\n",
              "    </tr>\n",
              "    <tr>\n",
              "      <th>5</th>\n",
              "      <td>5</td>\n",
              "      <td>Techdrill</td>\n",
              "      <td>NaN</td>\n",
              "      <td>2009</td>\n",
              "      <td>$10,573,990</td>\n",
              "      <td>7,435,363 Dollars</td>\n",
              "      <td>3138627</td>\n",
              "      <td>NaN</td>\n",
              "    </tr>\n",
              "    <tr>\n",
              "      <th>6</th>\n",
              "      <td>6</td>\n",
              "      <td>Techline</td>\n",
              "      <td>NaN</td>\n",
              "      <td>2006</td>\n",
              "      <td>$13,898,119</td>\n",
              "      <td>5,470,303 Dollars</td>\n",
              "      <td>8427816</td>\n",
              "      <td>NaN</td>\n",
              "    </tr>\n",
              "    <tr>\n",
              "      <th>7</th>\n",
              "      <td>7</td>\n",
              "      <td>Cityace</td>\n",
              "      <td>NaN</td>\n",
              "      <td>2010</td>\n",
              "      <td>$9,254,614</td>\n",
              "      <td>6,249,498 Dollars</td>\n",
              "      <td>3005116</td>\n",
              "      <td>6%</td>\n",
              "    </tr>\n",
              "    <tr>\n",
              "      <th>8</th>\n",
              "      <td>8</td>\n",
              "      <td>Kayelectronics</td>\n",
              "      <td>NaN</td>\n",
              "      <td>2009</td>\n",
              "      <td>$9,451,943</td>\n",
              "      <td>3,878,113 Dollars</td>\n",
              "      <td>5573830</td>\n",
              "      <td>4%</td>\n",
              "    </tr>\n",
              "    <tr>\n",
              "      <th>9</th>\n",
              "      <td>9</td>\n",
              "      <td>Ganzlax</td>\n",
              "      <td>IT Services</td>\n",
              "      <td>2011</td>\n",
              "      <td>$14,001,180</td>\n",
              "      <td>NaN</td>\n",
              "      <td>11901180</td>\n",
              "      <td>18%</td>\n",
              "    </tr>\n",
              "    <tr>\n",
              "      <th>10</th>\n",
              "      <td>10</td>\n",
              "      <td>Trantraxlax</td>\n",
              "      <td>Government Services</td>\n",
              "      <td>2011</td>\n",
              "      <td>$11,088,336</td>\n",
              "      <td>5,635,276 Dollars</td>\n",
              "      <td>5453060</td>\n",
              "      <td>7%</td>\n",
              "    </tr>\n",
              "  </tbody>\n",
              "</table>\n",
              "</div>"
            ],
            "text/plain": [
              "    ID             Name             Industry  Inception       Revenue  \\\n",
              "0   ID             Name             Industry  Inception       Revenue   \n",
              "1    1          Lamtone          IT Services       2009  $11,757,018    \n",
              "2    2        Stripfind   Financial Services       2010  $12,329,371    \n",
              "3    3  Canecorporation               Health       2012  $10,597,009    \n",
              "4    4         Mattouch          IT Services       2013  $14,026,934    \n",
              "5    5        Techdrill                  NaN       2009  $10,573,990    \n",
              "6    6         Techline                  NaN       2006  $13,898,119    \n",
              "7    7          Cityace                  NaN       2010   $9,254,614    \n",
              "8    8   Kayelectronics                  NaN       2009   $9,451,943    \n",
              "9    9          Ganzlax          IT Services       2011  $14,001,180    \n",
              "10  10      Trantraxlax  Government Services       2011  $11,088,336    \n",
              "\n",
              "             Expenses    Profit         Growth  \n",
              "0            Expenses    Profit         Growth  \n",
              "1   6,482,465 Dollars   5274553            30%  \n",
              "2     916,455 Dollars  11412916            20%  \n",
              "3   7,591,189 Dollars   3005820             7%  \n",
              "4   7,429,377 Dollars   6597557  not available  \n",
              "5   7,435,363 Dollars   3138627            NaN  \n",
              "6   5,470,303 Dollars   8427816            NaN  \n",
              "7   6,249,498 Dollars   3005116             6%  \n",
              "8   3,878,113 Dollars   5573830             4%  \n",
              "9                 NaN  11901180            18%  \n",
              "10  5,635,276 Dollars   5453060             7%  "
            ]
          },
          "execution_count": 56,
          "metadata": {},
          "output_type": "execute_result"
        }
      ],
      "source": [
        "df = pd.read_csv('C:\\\\Users\\Chandrakant\\Downloads\\Pandas\\Fortune_10.csv', names = ['ID','Name','Industry','Inception','Revenue','Expenses','Profit','Growth'])\n",
        "df"
      ]
    },
    {
      "cell_type": "code",
      "execution_count": null,
      "id": "f6d43b60",
      "metadata": {
        "id": "f6d43b60"
      },
      "outputs": [],
      "source": [
        "# df = pd.read_csv('C:\\\\Users\\Chandrakant\\Downloads\\Pandas\\Fortune_10.csv')\n",
        "# df"
      ]
    },
    {
      "cell_type": "code",
      "execution_count": null,
      "id": "2b5aa9c7",
      "metadata": {
        "id": "2b5aa9c7"
      },
      "outputs": [],
      "source": [
        "# df.head(1) #Top_Rows"
      ]
    },
    {
      "cell_type": "code",
      "execution_count": null,
      "id": "d1b7d7e3",
      "metadata": {
        "id": "d1b7d7e3"
      },
      "outputs": [],
      "source": [
        "# df.tail(1) #End_Rows"
      ]
    },
    {
      "cell_type": "code",
      "execution_count": null,
      "id": "aa9fbce1",
      "metadata": {
        "id": "aa9fbce1"
      },
      "outputs": [],
      "source": [
        "# df = pd.read_csv('C:\\\\Users\\Chandrakant\\Downloads\\Pandas\\Fortune_10.csv', dtype = {'ID': 'float64', 'Profit': 'float64'})\n",
        "# df"
      ]
    },
    {
      "cell_type": "code",
      "execution_count": null,
      "id": "6f22e63a",
      "metadata": {
        "id": "6f22e63a"
      },
      "outputs": [],
      "source": [
        "# df = pd.read_csv('C:\\\\Users\\Chandrakant\\Downloads\\Pandas\\Fortune_10.csv', true_values = ['Yes'], false_values = ['No'])\n",
        "# df"
      ]
    },
    {
      "cell_type": "markdown",
      "id": "864f6119",
      "metadata": {
        "id": "864f6119"
      },
      "source": [
        "***Handling Missing Values***"
      ]
    },
    {
      "cell_type": "code",
      "execution_count": null,
      "id": "e475863d",
      "metadata": {
        "id": "e475863d",
        "outputId": "dcc55bf7-1b89-46ce-c071-537797444e6c"
      },
      "outputs": [
        {
          "data": {
            "text/html": [
              "<div>\n",
              "<style scoped>\n",
              "    .dataframe tbody tr th:only-of-type {\n",
              "        vertical-align: middle;\n",
              "    }\n",
              "\n",
              "    .dataframe tbody tr th {\n",
              "        vertical-align: top;\n",
              "    }\n",
              "\n",
              "    .dataframe thead th {\n",
              "        text-align: right;\n",
              "    }\n",
              "</style>\n",
              "<table border=\"1\" class=\"dataframe\">\n",
              "  <thead>\n",
              "    <tr style=\"text-align: right;\">\n",
              "      <th></th>\n",
              "      <th>ID</th>\n",
              "      <th>Name</th>\n",
              "      <th>Industry</th>\n",
              "      <th>Inception</th>\n",
              "      <th>Revenue</th>\n",
              "      <th>Expenses</th>\n",
              "      <th>Profit</th>\n",
              "      <th>Growth</th>\n",
              "    </tr>\n",
              "  </thead>\n",
              "  <tbody>\n",
              "    <tr>\n",
              "      <th>0</th>\n",
              "      <td>1</td>\n",
              "      <td>Lamtone</td>\n",
              "      <td>IT Services</td>\n",
              "      <td>2009</td>\n",
              "      <td>$11,757,018</td>\n",
              "      <td>6,482,465 Dollars</td>\n",
              "      <td>5274553</td>\n",
              "      <td>30%</td>\n",
              "    </tr>\n",
              "    <tr>\n",
              "      <th>1</th>\n",
              "      <td>2</td>\n",
              "      <td>Stripfind</td>\n",
              "      <td>Financial Services</td>\n",
              "      <td>2010</td>\n",
              "      <td>$12,329,371</td>\n",
              "      <td>916,455 Dollars</td>\n",
              "      <td>11412916</td>\n",
              "      <td>20%</td>\n",
              "    </tr>\n",
              "    <tr>\n",
              "      <th>2</th>\n",
              "      <td>3</td>\n",
              "      <td>Canecorporation</td>\n",
              "      <td>Health</td>\n",
              "      <td>2012</td>\n",
              "      <td>$10,597,009</td>\n",
              "      <td>7,591,189 Dollars</td>\n",
              "      <td>3005820</td>\n",
              "      <td>7%</td>\n",
              "    </tr>\n",
              "    <tr>\n",
              "      <th>3</th>\n",
              "      <td>4</td>\n",
              "      <td>Mattouch</td>\n",
              "      <td>IT Services</td>\n",
              "      <td>2013</td>\n",
              "      <td>$14,026,934</td>\n",
              "      <td>7,429,377 Dollars</td>\n",
              "      <td>6597557</td>\n",
              "      <td>NaN</td>\n",
              "    </tr>\n",
              "    <tr>\n",
              "      <th>4</th>\n",
              "      <td>5</td>\n",
              "      <td>Techdrill</td>\n",
              "      <td>NaN</td>\n",
              "      <td>2009</td>\n",
              "      <td>$10,573,990</td>\n",
              "      <td>7,435,363 Dollars</td>\n",
              "      <td>3138627</td>\n",
              "      <td>NaN</td>\n",
              "    </tr>\n",
              "    <tr>\n",
              "      <th>5</th>\n",
              "      <td>6</td>\n",
              "      <td>Techline</td>\n",
              "      <td>NaN</td>\n",
              "      <td>2006</td>\n",
              "      <td>$13,898,119</td>\n",
              "      <td>5,470,303 Dollars</td>\n",
              "      <td>8427816</td>\n",
              "      <td>NaN</td>\n",
              "    </tr>\n",
              "    <tr>\n",
              "      <th>6</th>\n",
              "      <td>7</td>\n",
              "      <td>Cityace</td>\n",
              "      <td>NaN</td>\n",
              "      <td>2010</td>\n",
              "      <td>$9,254,614</td>\n",
              "      <td>6,249,498 Dollars</td>\n",
              "      <td>3005116</td>\n",
              "      <td>6%</td>\n",
              "    </tr>\n",
              "    <tr>\n",
              "      <th>7</th>\n",
              "      <td>8</td>\n",
              "      <td>Kayelectronics</td>\n",
              "      <td>NaN</td>\n",
              "      <td>2009</td>\n",
              "      <td>$9,451,943</td>\n",
              "      <td>3,878,113 Dollars</td>\n",
              "      <td>5573830</td>\n",
              "      <td>4%</td>\n",
              "    </tr>\n",
              "    <tr>\n",
              "      <th>8</th>\n",
              "      <td>9</td>\n",
              "      <td>Ganzlax</td>\n",
              "      <td>IT Services</td>\n",
              "      <td>2011</td>\n",
              "      <td>$14,001,180</td>\n",
              "      <td>NaN</td>\n",
              "      <td>11901180</td>\n",
              "      <td>18%</td>\n",
              "    </tr>\n",
              "    <tr>\n",
              "      <th>9</th>\n",
              "      <td>10</td>\n",
              "      <td>Trantraxlax</td>\n",
              "      <td>Government Services</td>\n",
              "      <td>2011</td>\n",
              "      <td>$11,088,336</td>\n",
              "      <td>5,635,276 Dollars</td>\n",
              "      <td>5453060</td>\n",
              "      <td>7%</td>\n",
              "    </tr>\n",
              "  </tbody>\n",
              "</table>\n",
              "</div>"
            ],
            "text/plain": [
              "   ID             Name             Industry  Inception       Revenue  \\\n",
              "0   1          Lamtone          IT Services       2009  $11,757,018    \n",
              "1   2        Stripfind   Financial Services       2010  $12,329,371    \n",
              "2   3  Canecorporation               Health       2012  $10,597,009    \n",
              "3   4         Mattouch          IT Services       2013  $14,026,934    \n",
              "4   5        Techdrill                  NaN       2009  $10,573,990    \n",
              "5   6         Techline                  NaN       2006  $13,898,119    \n",
              "6   7          Cityace                  NaN       2010   $9,254,614    \n",
              "7   8   Kayelectronics                  NaN       2009   $9,451,943    \n",
              "8   9          Ganzlax          IT Services       2011  $14,001,180    \n",
              "9  10      Trantraxlax  Government Services       2011  $11,088,336    \n",
              "\n",
              "            Expenses    Profit Growth  \n",
              "0  6,482,465 Dollars   5274553    30%  \n",
              "1    916,455 Dollars  11412916    20%  \n",
              "2  7,591,189 Dollars   3005820     7%  \n",
              "3  7,429,377 Dollars   6597557    NaN  \n",
              "4  7,435,363 Dollars   3138627    NaN  \n",
              "5  5,470,303 Dollars   8427816    NaN  \n",
              "6  6,249,498 Dollars   3005116     6%  \n",
              "7  3,878,113 Dollars   5573830     4%  \n",
              "8                NaN  11901180    18%  \n",
              "9  5,635,276 Dollars   5453060     7%  "
            ]
          },
          "execution_count": 62,
          "metadata": {},
          "output_type": "execute_result"
        }
      ],
      "source": [
        "df = pd.read_csv('C:\\\\Users\\Chandrakant\\Downloads\\Pandas\\Fortune_10.csv', na_values = 'not available')\n",
        "df"
      ]
    },
    {
      "cell_type": "code",
      "execution_count": null,
      "id": "e40d0727",
      "metadata": {
        "id": "e40d0727",
        "outputId": "e46180b6-3b33-4485-bf2b-a2cb4c0db3dc"
      },
      "outputs": [
        {
          "data": {
            "text/html": [
              "<div>\n",
              "<style scoped>\n",
              "    .dataframe tbody tr th:only-of-type {\n",
              "        vertical-align: middle;\n",
              "    }\n",
              "\n",
              "    .dataframe tbody tr th {\n",
              "        vertical-align: top;\n",
              "    }\n",
              "\n",
              "    .dataframe thead th {\n",
              "        text-align: right;\n",
              "    }\n",
              "</style>\n",
              "<table border=\"1\" class=\"dataframe\">\n",
              "  <thead>\n",
              "    <tr style=\"text-align: right;\">\n",
              "      <th></th>\n",
              "      <th>ID</th>\n",
              "      <th>Name</th>\n",
              "      <th>Industry</th>\n",
              "      <th>Inception</th>\n",
              "      <th>Revenue</th>\n",
              "      <th>Expenses</th>\n",
              "      <th>Profit</th>\n",
              "      <th>Growth</th>\n",
              "    </tr>\n",
              "  </thead>\n",
              "  <tbody>\n",
              "    <tr>\n",
              "      <th>0</th>\n",
              "      <td>1</td>\n",
              "      <td>Lamtone</td>\n",
              "      <td>IT Services</td>\n",
              "      <td>2009</td>\n",
              "      <td>$11,757,018</td>\n",
              "      <td>6,482,465 Dollars</td>\n",
              "      <td>5274553</td>\n",
              "      <td>30%</td>\n",
              "    </tr>\n",
              "    <tr>\n",
              "      <th>1</th>\n",
              "      <td>2</td>\n",
              "      <td>Stripfind</td>\n",
              "      <td>Financial Services</td>\n",
              "      <td>2010</td>\n",
              "      <td>$12,329,371</td>\n",
              "      <td>916,455 Dollars</td>\n",
              "      <td>11412916</td>\n",
              "      <td>20%</td>\n",
              "    </tr>\n",
              "    <tr>\n",
              "      <th>2</th>\n",
              "      <td>3</td>\n",
              "      <td>Canecorporation</td>\n",
              "      <td>Health</td>\n",
              "      <td>2012</td>\n",
              "      <td>$10,597,009</td>\n",
              "      <td>7,591,189 Dollars</td>\n",
              "      <td>3005820</td>\n",
              "      <td>7%</td>\n",
              "    </tr>\n",
              "    <tr>\n",
              "      <th>3</th>\n",
              "      <td>4</td>\n",
              "      <td>Mattouch</td>\n",
              "      <td>IT Services</td>\n",
              "      <td>2013</td>\n",
              "      <td>$14,026,934</td>\n",
              "      <td>7,429,377 Dollars</td>\n",
              "      <td>6597557</td>\n",
              "      <td>NaN</td>\n",
              "    </tr>\n",
              "    <tr>\n",
              "      <th>4</th>\n",
              "      <td>5</td>\n",
              "      <td>Techdrill</td>\n",
              "      <td>NaN</td>\n",
              "      <td>2009</td>\n",
              "      <td>$10,573,990</td>\n",
              "      <td>7,435,363 Dollars</td>\n",
              "      <td>3138627</td>\n",
              "      <td>NaN</td>\n",
              "    </tr>\n",
              "    <tr>\n",
              "      <th>5</th>\n",
              "      <td>6</td>\n",
              "      <td>Techline</td>\n",
              "      <td>NaN</td>\n",
              "      <td>2006</td>\n",
              "      <td>$13,898,119</td>\n",
              "      <td>5,470,303 Dollars</td>\n",
              "      <td>8427816</td>\n",
              "      <td>NaN</td>\n",
              "    </tr>\n",
              "    <tr>\n",
              "      <th>6</th>\n",
              "      <td>7</td>\n",
              "      <td>Cityace</td>\n",
              "      <td>NaN</td>\n",
              "      <td>2010</td>\n",
              "      <td>$9,254,614</td>\n",
              "      <td>6,249,498 Dollars</td>\n",
              "      <td>3005116</td>\n",
              "      <td>6%</td>\n",
              "    </tr>\n",
              "    <tr>\n",
              "      <th>7</th>\n",
              "      <td>8</td>\n",
              "      <td>Kayelectronics</td>\n",
              "      <td>NaN</td>\n",
              "      <td>2009</td>\n",
              "      <td>$9,451,943</td>\n",
              "      <td>3,878,113 Dollars</td>\n",
              "      <td>5573830</td>\n",
              "      <td>4%</td>\n",
              "    </tr>\n",
              "    <tr>\n",
              "      <th>8</th>\n",
              "      <td>9</td>\n",
              "      <td>Ganzlax</td>\n",
              "      <td>IT Services</td>\n",
              "      <td>2011</td>\n",
              "      <td>$14,001,180</td>\n",
              "      <td>NaN</td>\n",
              "      <td>11901180</td>\n",
              "      <td>18%</td>\n",
              "    </tr>\n",
              "    <tr>\n",
              "      <th>9</th>\n",
              "      <td>10</td>\n",
              "      <td>Trantraxlax</td>\n",
              "      <td>Government Services</td>\n",
              "      <td>2011</td>\n",
              "      <td>$11,088,336</td>\n",
              "      <td>5,635,276 Dollars</td>\n",
              "      <td>5453060</td>\n",
              "      <td>7%</td>\n",
              "    </tr>\n",
              "  </tbody>\n",
              "</table>\n",
              "</div>"
            ],
            "text/plain": [
              "   ID             Name             Industry  Inception       Revenue  \\\n",
              "0   1          Lamtone          IT Services       2009  $11,757,018    \n",
              "1   2        Stripfind   Financial Services       2010  $12,329,371    \n",
              "2   3  Canecorporation               Health       2012  $10,597,009    \n",
              "3   4         Mattouch          IT Services       2013  $14,026,934    \n",
              "4   5        Techdrill                  NaN       2009  $10,573,990    \n",
              "5   6         Techline                  NaN       2006  $13,898,119    \n",
              "6   7          Cityace                  NaN       2010   $9,254,614    \n",
              "7   8   Kayelectronics                  NaN       2009   $9,451,943    \n",
              "8   9          Ganzlax          IT Services       2011  $14,001,180    \n",
              "9  10      Trantraxlax  Government Services       2011  $11,088,336    \n",
              "\n",
              "            Expenses    Profit Growth  \n",
              "0  6,482,465 Dollars   5274553    30%  \n",
              "1    916,455 Dollars  11412916    20%  \n",
              "2  7,591,189 Dollars   3005820     7%  \n",
              "3  7,429,377 Dollars   6597557    NaN  \n",
              "4  7,435,363 Dollars   3138627    NaN  \n",
              "5  5,470,303 Dollars   8427816    NaN  \n",
              "6  6,249,498 Dollars   3005116     6%  \n",
              "7  3,878,113 Dollars   5573830     4%  \n",
              "8                NaN  11901180    18%  \n",
              "9  5,635,276 Dollars   5453060     7%  "
            ]
          },
          "execution_count": 63,
          "metadata": {},
          "output_type": "execute_result"
        }
      ],
      "source": [
        "df = pd.read_csv('C:\\\\Users\\Chandrakant\\Downloads\\Pandas\\Fortune_10.csv', na_values = {'Industry': 'NaN', 'Growth': 'not available'})\n",
        "df"
      ]
    },
    {
      "cell_type": "code",
      "execution_count": null,
      "id": "d20fc873",
      "metadata": {
        "id": "d20fc873"
      },
      "outputs": [],
      "source": [
        "# df = pd.read_csv('C:\\\\Users\\Chandrakant\\Downloads\\Pandas\\Fortune_10.csv', keep_default_na = True)\n",
        "# df"
      ]
    },
    {
      "cell_type": "code",
      "execution_count": null,
      "id": "c0663807",
      "metadata": {
        "id": "c0663807"
      },
      "outputs": [],
      "source": [
        "# df = pd.read_csv('C:\\\\Users\\Chandrakant\\Downloads\\Pandas\\Fortune_10.csv', na_filter = False) #True_is_boost\n",
        "# df"
      ]
    },
    {
      "cell_type": "code",
      "execution_count": null,
      "id": "d228db4a",
      "metadata": {
        "id": "d228db4a",
        "outputId": "39bcbf68-dec1-4c33-f2d8-8f861d7fa4bd"
      },
      "outputs": [
        {
          "data": {
            "text/html": [
              "<div>\n",
              "<style scoped>\n",
              "    .dataframe tbody tr th:only-of-type {\n",
              "        vertical-align: middle;\n",
              "    }\n",
              "\n",
              "    .dataframe tbody tr th {\n",
              "        vertical-align: top;\n",
              "    }\n",
              "\n",
              "    .dataframe thead th {\n",
              "        text-align: right;\n",
              "    }\n",
              "</style>\n",
              "<table border=\"1\" class=\"dataframe\">\n",
              "  <thead>\n",
              "    <tr style=\"text-align: right;\">\n",
              "      <th></th>\n",
              "      <th>ID</th>\n",
              "      <th>Name</th>\n",
              "      <th>Industry</th>\n",
              "      <th>Inception</th>\n",
              "      <th>Revenue</th>\n",
              "      <th>Expenses</th>\n",
              "      <th>Profit</th>\n",
              "      <th>Growth</th>\n",
              "    </tr>\n",
              "  </thead>\n",
              "  <tbody>\n",
              "    <tr>\n",
              "      <th>0</th>\n",
              "      <td>False</td>\n",
              "      <td>False</td>\n",
              "      <td>False</td>\n",
              "      <td>False</td>\n",
              "      <td>False</td>\n",
              "      <td>False</td>\n",
              "      <td>False</td>\n",
              "      <td>False</td>\n",
              "    </tr>\n",
              "    <tr>\n",
              "      <th>1</th>\n",
              "      <td>False</td>\n",
              "      <td>False</td>\n",
              "      <td>False</td>\n",
              "      <td>False</td>\n",
              "      <td>False</td>\n",
              "      <td>False</td>\n",
              "      <td>False</td>\n",
              "      <td>False</td>\n",
              "    </tr>\n",
              "    <tr>\n",
              "      <th>2</th>\n",
              "      <td>False</td>\n",
              "      <td>False</td>\n",
              "      <td>False</td>\n",
              "      <td>False</td>\n",
              "      <td>False</td>\n",
              "      <td>False</td>\n",
              "      <td>False</td>\n",
              "      <td>False</td>\n",
              "    </tr>\n",
              "    <tr>\n",
              "      <th>3</th>\n",
              "      <td>False</td>\n",
              "      <td>False</td>\n",
              "      <td>False</td>\n",
              "      <td>False</td>\n",
              "      <td>False</td>\n",
              "      <td>False</td>\n",
              "      <td>False</td>\n",
              "      <td>True</td>\n",
              "    </tr>\n",
              "    <tr>\n",
              "      <th>4</th>\n",
              "      <td>False</td>\n",
              "      <td>False</td>\n",
              "      <td>True</td>\n",
              "      <td>False</td>\n",
              "      <td>False</td>\n",
              "      <td>False</td>\n",
              "      <td>False</td>\n",
              "      <td>True</td>\n",
              "    </tr>\n",
              "    <tr>\n",
              "      <th>5</th>\n",
              "      <td>False</td>\n",
              "      <td>False</td>\n",
              "      <td>True</td>\n",
              "      <td>False</td>\n",
              "      <td>False</td>\n",
              "      <td>False</td>\n",
              "      <td>False</td>\n",
              "      <td>True</td>\n",
              "    </tr>\n",
              "    <tr>\n",
              "      <th>6</th>\n",
              "      <td>False</td>\n",
              "      <td>False</td>\n",
              "      <td>True</td>\n",
              "      <td>False</td>\n",
              "      <td>False</td>\n",
              "      <td>False</td>\n",
              "      <td>False</td>\n",
              "      <td>False</td>\n",
              "    </tr>\n",
              "    <tr>\n",
              "      <th>7</th>\n",
              "      <td>False</td>\n",
              "      <td>False</td>\n",
              "      <td>True</td>\n",
              "      <td>False</td>\n",
              "      <td>False</td>\n",
              "      <td>False</td>\n",
              "      <td>False</td>\n",
              "      <td>False</td>\n",
              "    </tr>\n",
              "    <tr>\n",
              "      <th>8</th>\n",
              "      <td>False</td>\n",
              "      <td>False</td>\n",
              "      <td>False</td>\n",
              "      <td>False</td>\n",
              "      <td>False</td>\n",
              "      <td>True</td>\n",
              "      <td>False</td>\n",
              "      <td>False</td>\n",
              "    </tr>\n",
              "    <tr>\n",
              "      <th>9</th>\n",
              "      <td>False</td>\n",
              "      <td>False</td>\n",
              "      <td>False</td>\n",
              "      <td>False</td>\n",
              "      <td>False</td>\n",
              "      <td>False</td>\n",
              "      <td>False</td>\n",
              "      <td>False</td>\n",
              "    </tr>\n",
              "  </tbody>\n",
              "</table>\n",
              "</div>"
            ],
            "text/plain": [
              "      ID   Name  Industry  Inception  Revenue  Expenses  Profit  Growth\n",
              "0  False  False     False      False    False     False   False   False\n",
              "1  False  False     False      False    False     False   False   False\n",
              "2  False  False     False      False    False     False   False   False\n",
              "3  False  False     False      False    False     False   False    True\n",
              "4  False  False      True      False    False     False   False    True\n",
              "5  False  False      True      False    False     False   False    True\n",
              "6  False  False      True      False    False     False   False   False\n",
              "7  False  False      True      False    False     False   False   False\n",
              "8  False  False     False      False    False      True   False   False\n",
              "9  False  False     False      False    False     False   False   False"
            ]
          },
          "execution_count": 66,
          "metadata": {},
          "output_type": "execute_result"
        }
      ],
      "source": [
        "df.isnull()"
      ]
    },
    {
      "cell_type": "code",
      "execution_count": null,
      "id": "f690d2b2",
      "metadata": {
        "id": "f690d2b2",
        "outputId": "1a2cec1f-6631-4033-fdd3-78152ace845e"
      },
      "outputs": [
        {
          "data": {
            "text/plain": [
              "ID           0\n",
              "Name         0\n",
              "Industry     4\n",
              "Inception    0\n",
              "Revenue      0\n",
              "Expenses     1\n",
              "Profit       0\n",
              "Growth       3\n",
              "dtype: int64"
            ]
          },
          "execution_count": 67,
          "metadata": {},
          "output_type": "execute_result"
        }
      ],
      "source": [
        "df.isnull().sum()"
      ]
    },
    {
      "cell_type": "code",
      "execution_count": null,
      "id": "667918c7",
      "metadata": {
        "id": "667918c7",
        "outputId": "cdaced0b-4af5-48c5-b542-d775b78d6e4a"
      },
      "outputs": [
        {
          "data": {
            "text/plain": [
              "8"
            ]
          },
          "execution_count": 68,
          "metadata": {},
          "output_type": "execute_result"
        }
      ],
      "source": [
        "df.isnull().sum().sum()"
      ]
    },
    {
      "cell_type": "code",
      "execution_count": null,
      "id": "7c568a1e",
      "metadata": {
        "id": "7c568a1e",
        "outputId": "77a8f5bd-bd2c-4921-b1b0-a4820765992f"
      },
      "outputs": [
        {
          "data": {
            "text/html": [
              "<div>\n",
              "<style scoped>\n",
              "    .dataframe tbody tr th:only-of-type {\n",
              "        vertical-align: middle;\n",
              "    }\n",
              "\n",
              "    .dataframe tbody tr th {\n",
              "        vertical-align: top;\n",
              "    }\n",
              "\n",
              "    .dataframe thead th {\n",
              "        text-align: right;\n",
              "    }\n",
              "</style>\n",
              "<table border=\"1\" class=\"dataframe\">\n",
              "  <thead>\n",
              "    <tr style=\"text-align: right;\">\n",
              "      <th></th>\n",
              "      <th>ID</th>\n",
              "      <th>Name</th>\n",
              "      <th>Industry</th>\n",
              "      <th>Inception</th>\n",
              "      <th>Revenue</th>\n",
              "      <th>Expenses</th>\n",
              "      <th>Profit</th>\n",
              "      <th>Growth</th>\n",
              "    </tr>\n",
              "  </thead>\n",
              "  <tbody>\n",
              "    <tr>\n",
              "      <th>0</th>\n",
              "      <td>True</td>\n",
              "      <td>True</td>\n",
              "      <td>True</td>\n",
              "      <td>True</td>\n",
              "      <td>True</td>\n",
              "      <td>True</td>\n",
              "      <td>True</td>\n",
              "      <td>True</td>\n",
              "    </tr>\n",
              "    <tr>\n",
              "      <th>1</th>\n",
              "      <td>True</td>\n",
              "      <td>True</td>\n",
              "      <td>True</td>\n",
              "      <td>True</td>\n",
              "      <td>True</td>\n",
              "      <td>True</td>\n",
              "      <td>True</td>\n",
              "      <td>True</td>\n",
              "    </tr>\n",
              "    <tr>\n",
              "      <th>2</th>\n",
              "      <td>True</td>\n",
              "      <td>True</td>\n",
              "      <td>True</td>\n",
              "      <td>True</td>\n",
              "      <td>True</td>\n",
              "      <td>True</td>\n",
              "      <td>True</td>\n",
              "      <td>True</td>\n",
              "    </tr>\n",
              "    <tr>\n",
              "      <th>3</th>\n",
              "      <td>True</td>\n",
              "      <td>True</td>\n",
              "      <td>True</td>\n",
              "      <td>True</td>\n",
              "      <td>True</td>\n",
              "      <td>True</td>\n",
              "      <td>True</td>\n",
              "      <td>False</td>\n",
              "    </tr>\n",
              "    <tr>\n",
              "      <th>4</th>\n",
              "      <td>True</td>\n",
              "      <td>True</td>\n",
              "      <td>False</td>\n",
              "      <td>True</td>\n",
              "      <td>True</td>\n",
              "      <td>True</td>\n",
              "      <td>True</td>\n",
              "      <td>False</td>\n",
              "    </tr>\n",
              "    <tr>\n",
              "      <th>5</th>\n",
              "      <td>True</td>\n",
              "      <td>True</td>\n",
              "      <td>False</td>\n",
              "      <td>True</td>\n",
              "      <td>True</td>\n",
              "      <td>True</td>\n",
              "      <td>True</td>\n",
              "      <td>False</td>\n",
              "    </tr>\n",
              "    <tr>\n",
              "      <th>6</th>\n",
              "      <td>True</td>\n",
              "      <td>True</td>\n",
              "      <td>False</td>\n",
              "      <td>True</td>\n",
              "      <td>True</td>\n",
              "      <td>True</td>\n",
              "      <td>True</td>\n",
              "      <td>True</td>\n",
              "    </tr>\n",
              "    <tr>\n",
              "      <th>7</th>\n",
              "      <td>True</td>\n",
              "      <td>True</td>\n",
              "      <td>False</td>\n",
              "      <td>True</td>\n",
              "      <td>True</td>\n",
              "      <td>True</td>\n",
              "      <td>True</td>\n",
              "      <td>True</td>\n",
              "    </tr>\n",
              "    <tr>\n",
              "      <th>8</th>\n",
              "      <td>True</td>\n",
              "      <td>True</td>\n",
              "      <td>True</td>\n",
              "      <td>True</td>\n",
              "      <td>True</td>\n",
              "      <td>False</td>\n",
              "      <td>True</td>\n",
              "      <td>True</td>\n",
              "    </tr>\n",
              "    <tr>\n",
              "      <th>9</th>\n",
              "      <td>True</td>\n",
              "      <td>True</td>\n",
              "      <td>True</td>\n",
              "      <td>True</td>\n",
              "      <td>True</td>\n",
              "      <td>True</td>\n",
              "      <td>True</td>\n",
              "      <td>True</td>\n",
              "    </tr>\n",
              "  </tbody>\n",
              "</table>\n",
              "</div>"
            ],
            "text/plain": [
              "     ID  Name  Industry  Inception  Revenue  Expenses  Profit  Growth\n",
              "0  True  True      True       True     True      True    True    True\n",
              "1  True  True      True       True     True      True    True    True\n",
              "2  True  True      True       True     True      True    True    True\n",
              "3  True  True      True       True     True      True    True   False\n",
              "4  True  True     False       True     True      True    True   False\n",
              "5  True  True     False       True     True      True    True   False\n",
              "6  True  True     False       True     True      True    True    True\n",
              "7  True  True     False       True     True      True    True    True\n",
              "8  True  True      True       True     True     False    True    True\n",
              "9  True  True      True       True     True      True    True    True"
            ]
          },
          "execution_count": 69,
          "metadata": {},
          "output_type": "execute_result"
        }
      ],
      "source": [
        "df.notnull()"
      ]
    },
    {
      "cell_type": "code",
      "execution_count": null,
      "id": "e47730ca",
      "metadata": {
        "id": "e47730ca",
        "outputId": "f4735ae0-5e26-4215-b92b-600c9181630e"
      },
      "outputs": [
        {
          "data": {
            "text/plain": [
              "ID           10\n",
              "Name         10\n",
              "Industry      6\n",
              "Inception    10\n",
              "Revenue      10\n",
              "Expenses      9\n",
              "Profit       10\n",
              "Growth        7\n",
              "dtype: int64"
            ]
          },
          "execution_count": 70,
          "metadata": {},
          "output_type": "execute_result"
        }
      ],
      "source": [
        "df.notnull().sum()"
      ]
    },
    {
      "cell_type": "code",
      "execution_count": null,
      "id": "402e3fd1",
      "metadata": {
        "id": "402e3fd1",
        "outputId": "632d8194-f6f5-423e-be39-986d6befa47b"
      },
      "outputs": [
        {
          "data": {
            "text/plain": [
              "72"
            ]
          },
          "execution_count": 71,
          "metadata": {},
          "output_type": "execute_result"
        }
      ],
      "source": [
        "df.notnull().sum().sum()"
      ]
    },
    {
      "cell_type": "markdown",
      "id": "673c1f01",
      "metadata": {
        "id": "673c1f01"
      },
      "source": [
        "***Series***"
      ]
    },
    {
      "cell_type": "code",
      "execution_count": null,
      "id": "1ddc7976",
      "metadata": {
        "id": "1ddc7976",
        "outputId": "fa29b8ca-cd17-469e-d686-e3f7bc6ea73a"
      },
      "outputs": [
        {
          "data": {
            "text/plain": [
              "0    1.0\n",
              "1    2.0\n",
              "2    3.0\n",
              "3    NaN\n",
              "4    4.0\n",
              "5    NaN\n",
              "dtype: float64"
            ]
          },
          "execution_count": 72,
          "metadata": {},
          "output_type": "execute_result"
        }
      ],
      "source": [
        "import numpy as np\n",
        "\n",
        "sr = pd.Series([1,2,3,np.nan,4,np.NAN])\n",
        "sr"
      ]
    },
    {
      "cell_type": "code",
      "execution_count": null,
      "id": "97754f92",
      "metadata": {
        "id": "97754f92",
        "outputId": "847c75b7-73be-4846-a198-8209a14a939d"
      },
      "outputs": [
        {
          "data": {
            "text/plain": [
              "0    False\n",
              "1    False\n",
              "2    False\n",
              "3     True\n",
              "4    False\n",
              "5     True\n",
              "dtype: bool"
            ]
          },
          "execution_count": 73,
          "metadata": {},
          "output_type": "execute_result"
        }
      ],
      "source": [
        "sr.isnull()"
      ]
    },
    {
      "cell_type": "code",
      "execution_count": null,
      "id": "6412f6fc",
      "metadata": {
        "id": "6412f6fc",
        "outputId": "fb32e099-2464-407d-fc2e-356a3be3affb"
      },
      "outputs": [
        {
          "data": {
            "text/plain": [
              "2"
            ]
          },
          "execution_count": 74,
          "metadata": {},
          "output_type": "execute_result"
        }
      ],
      "source": [
        "sr.isnull().sum()"
      ]
    },
    {
      "cell_type": "markdown",
      "id": "e48f7d33",
      "metadata": {
        "id": "e48f7d33"
      },
      "source": [
        "# "
      ]
    },
    {
      "cell_type": "code",
      "execution_count": null,
      "id": "724ec5d3",
      "metadata": {
        "id": "724ec5d3",
        "outputId": "217f1908-907e-47c4-a45c-6349186e4540"
      },
      "outputs": [
        {
          "data": {
            "text/html": [
              "<div>\n",
              "<style scoped>\n",
              "    .dataframe tbody tr th:only-of-type {\n",
              "        vertical-align: middle;\n",
              "    }\n",
              "\n",
              "    .dataframe tbody tr th {\n",
              "        vertical-align: top;\n",
              "    }\n",
              "\n",
              "    .dataframe thead th {\n",
              "        text-align: right;\n",
              "    }\n",
              "</style>\n",
              "<table border=\"1\" class=\"dataframe\">\n",
              "  <thead>\n",
              "    <tr style=\"text-align: right;\">\n",
              "      <th></th>\n",
              "      <th>ID</th>\n",
              "      <th>Name</th>\n",
              "      <th>Industry</th>\n",
              "      <th>Inception</th>\n",
              "      <th>Revenue</th>\n",
              "      <th>Expenses</th>\n",
              "      <th>Profit</th>\n",
              "      <th>Growth</th>\n",
              "    </tr>\n",
              "  </thead>\n",
              "  <tbody>\n",
              "    <tr>\n",
              "      <th>0</th>\n",
              "      <td>1</td>\n",
              "      <td>Lamtone</td>\n",
              "      <td>IT Services</td>\n",
              "      <td>2009</td>\n",
              "      <td>$11,757,018</td>\n",
              "      <td>6,482,465 Dollars</td>\n",
              "      <td>5274553</td>\n",
              "      <td>30%</td>\n",
              "    </tr>\n",
              "    <tr>\n",
              "      <th>1</th>\n",
              "      <td>2</td>\n",
              "      <td>Stripfind</td>\n",
              "      <td>Financial Services</td>\n",
              "      <td>2010</td>\n",
              "      <td>$12,329,371</td>\n",
              "      <td>916,455 Dollars</td>\n",
              "      <td>11412916</td>\n",
              "      <td>20%</td>\n",
              "    </tr>\n",
              "    <tr>\n",
              "      <th>2</th>\n",
              "      <td>3</td>\n",
              "      <td>Canecorporation</td>\n",
              "      <td>Health</td>\n",
              "      <td>2012</td>\n",
              "      <td>$10,597,009</td>\n",
              "      <td>7,591,189 Dollars</td>\n",
              "      <td>3005820</td>\n",
              "      <td>7%</td>\n",
              "    </tr>\n",
              "    <tr>\n",
              "      <th>9</th>\n",
              "      <td>10</td>\n",
              "      <td>Trantraxlax</td>\n",
              "      <td>Government Services</td>\n",
              "      <td>2011</td>\n",
              "      <td>$11,088,336</td>\n",
              "      <td>5,635,276 Dollars</td>\n",
              "      <td>5453060</td>\n",
              "      <td>7%</td>\n",
              "    </tr>\n",
              "  </tbody>\n",
              "</table>\n",
              "</div>"
            ],
            "text/plain": [
              "   ID             Name             Industry  Inception       Revenue  \\\n",
              "0   1          Lamtone          IT Services       2009  $11,757,018    \n",
              "1   2        Stripfind   Financial Services       2010  $12,329,371    \n",
              "2   3  Canecorporation               Health       2012  $10,597,009    \n",
              "9  10      Trantraxlax  Government Services       2011  $11,088,336    \n",
              "\n",
              "            Expenses    Profit Growth  \n",
              "0  6,482,465 Dollars   5274553    30%  \n",
              "1    916,455 Dollars  11412916    20%  \n",
              "2  7,591,189 Dollars   3005820     7%  \n",
              "9  5,635,276 Dollars   5453060     7%  "
            ]
          },
          "execution_count": 75,
          "metadata": {},
          "output_type": "execute_result"
        }
      ],
      "source": [
        "df.dropna() #NaN_Values_Removeing (Rows)"
      ]
    },
    {
      "cell_type": "code",
      "execution_count": null,
      "id": "6a92b062",
      "metadata": {
        "id": "6a92b062",
        "outputId": "e2e3a949-7071-4f92-d7cb-8c810468ca4f"
      },
      "outputs": [
        {
          "name": "stderr",
          "output_type": "stream",
          "text": [
            "C:\\Users\\prasad jadhav\\AppData\\Local\\Temp\\ipykernel_12320\\2406135860.py:1: FutureWarning: In a future version of pandas all arguments of DataFrame.dropna will be keyword-only.\n",
            "  df.dropna(1) # 0_Rows, 1_Columns\n"
          ]
        },
        {
          "data": {
            "text/html": [
              "<div>\n",
              "<style scoped>\n",
              "    .dataframe tbody tr th:only-of-type {\n",
              "        vertical-align: middle;\n",
              "    }\n",
              "\n",
              "    .dataframe tbody tr th {\n",
              "        vertical-align: top;\n",
              "    }\n",
              "\n",
              "    .dataframe thead th {\n",
              "        text-align: right;\n",
              "    }\n",
              "</style>\n",
              "<table border=\"1\" class=\"dataframe\">\n",
              "  <thead>\n",
              "    <tr style=\"text-align: right;\">\n",
              "      <th></th>\n",
              "      <th>ID</th>\n",
              "      <th>Name</th>\n",
              "      <th>Inception</th>\n",
              "      <th>Revenue</th>\n",
              "      <th>Profit</th>\n",
              "    </tr>\n",
              "  </thead>\n",
              "  <tbody>\n",
              "    <tr>\n",
              "      <th>0</th>\n",
              "      <td>1</td>\n",
              "      <td>Lamtone</td>\n",
              "      <td>2009</td>\n",
              "      <td>$11,757,018</td>\n",
              "      <td>5274553</td>\n",
              "    </tr>\n",
              "    <tr>\n",
              "      <th>1</th>\n",
              "      <td>2</td>\n",
              "      <td>Stripfind</td>\n",
              "      <td>2010</td>\n",
              "      <td>$12,329,371</td>\n",
              "      <td>11412916</td>\n",
              "    </tr>\n",
              "    <tr>\n",
              "      <th>2</th>\n",
              "      <td>3</td>\n",
              "      <td>Canecorporation</td>\n",
              "      <td>2012</td>\n",
              "      <td>$10,597,009</td>\n",
              "      <td>3005820</td>\n",
              "    </tr>\n",
              "    <tr>\n",
              "      <th>3</th>\n",
              "      <td>4</td>\n",
              "      <td>Mattouch</td>\n",
              "      <td>2013</td>\n",
              "      <td>$14,026,934</td>\n",
              "      <td>6597557</td>\n",
              "    </tr>\n",
              "    <tr>\n",
              "      <th>4</th>\n",
              "      <td>5</td>\n",
              "      <td>Techdrill</td>\n",
              "      <td>2009</td>\n",
              "      <td>$10,573,990</td>\n",
              "      <td>3138627</td>\n",
              "    </tr>\n",
              "    <tr>\n",
              "      <th>5</th>\n",
              "      <td>6</td>\n",
              "      <td>Techline</td>\n",
              "      <td>2006</td>\n",
              "      <td>$13,898,119</td>\n",
              "      <td>8427816</td>\n",
              "    </tr>\n",
              "    <tr>\n",
              "      <th>6</th>\n",
              "      <td>7</td>\n",
              "      <td>Cityace</td>\n",
              "      <td>2010</td>\n",
              "      <td>$9,254,614</td>\n",
              "      <td>3005116</td>\n",
              "    </tr>\n",
              "    <tr>\n",
              "      <th>7</th>\n",
              "      <td>8</td>\n",
              "      <td>Kayelectronics</td>\n",
              "      <td>2009</td>\n",
              "      <td>$9,451,943</td>\n",
              "      <td>5573830</td>\n",
              "    </tr>\n",
              "    <tr>\n",
              "      <th>8</th>\n",
              "      <td>9</td>\n",
              "      <td>Ganzlax</td>\n",
              "      <td>2011</td>\n",
              "      <td>$14,001,180</td>\n",
              "      <td>11901180</td>\n",
              "    </tr>\n",
              "    <tr>\n",
              "      <th>9</th>\n",
              "      <td>10</td>\n",
              "      <td>Trantraxlax</td>\n",
              "      <td>2011</td>\n",
              "      <td>$11,088,336</td>\n",
              "      <td>5453060</td>\n",
              "    </tr>\n",
              "  </tbody>\n",
              "</table>\n",
              "</div>"
            ],
            "text/plain": [
              "   ID             Name  Inception       Revenue    Profit\n",
              "0   1          Lamtone       2009  $11,757,018    5274553\n",
              "1   2        Stripfind       2010  $12,329,371   11412916\n",
              "2   3  Canecorporation       2012  $10,597,009    3005820\n",
              "3   4         Mattouch       2013  $14,026,934    6597557\n",
              "4   5        Techdrill       2009  $10,573,990    3138627\n",
              "5   6         Techline       2006  $13,898,119    8427816\n",
              "6   7          Cityace       2010   $9,254,614    3005116\n",
              "7   8   Kayelectronics       2009   $9,451,943    5573830\n",
              "8   9          Ganzlax       2011  $14,001,180   11901180\n",
              "9  10      Trantraxlax       2011  $11,088,336    5453060"
            ]
          },
          "execution_count": 76,
          "metadata": {},
          "output_type": "execute_result"
        }
      ],
      "source": [
        "df.dropna(1) # 0_Rows, 1_Columns"
      ]
    },
    {
      "cell_type": "code",
      "execution_count": null,
      "id": "6d38d233",
      "metadata": {
        "id": "6d38d233"
      },
      "outputs": [],
      "source": [
        "# df.dropna(axis = 1)"
      ]
    },
    {
      "cell_type": "code",
      "execution_count": null,
      "id": "4f695cf0",
      "metadata": {
        "id": "4f695cf0"
      },
      "outputs": [],
      "source": [
        "# df.dropna(how = 'any')"
      ]
    },
    {
      "cell_type": "code",
      "execution_count": null,
      "id": "cd491c30",
      "metadata": {
        "id": "cd491c30"
      },
      "outputs": [],
      "source": [
        "# df.dropna(axis = 1,how = 'any')"
      ]
    },
    {
      "cell_type": "code",
      "execution_count": null,
      "id": "8f501573",
      "metadata": {
        "id": "8f501573"
      },
      "outputs": [],
      "source": [
        "# df.dropna(how = 'all') #All Rows NaN to Remove nan rows line"
      ]
    },
    {
      "cell_type": "code",
      "execution_count": null,
      "id": "ca455c91",
      "metadata": {
        "id": "ca455c91"
      },
      "outputs": [],
      "source": [
        "# df.dropna(thresh = 1)"
      ]
    },
    {
      "cell_type": "code",
      "execution_count": null,
      "id": "cd5a0de2",
      "metadata": {
        "id": "cd5a0de2"
      },
      "outputs": [],
      "source": []
    },
    {
      "cell_type": "code",
      "execution_count": null,
      "id": "2ee1942b",
      "metadata": {
        "id": "2ee1942b",
        "outputId": "2abc23c9-eca2-43bc-f93a-29b99aaa62cf"
      },
      "outputs": [
        {
          "data": {
            "text/html": [
              "<div>\n",
              "<style scoped>\n",
              "    .dataframe tbody tr th:only-of-type {\n",
              "        vertical-align: middle;\n",
              "    }\n",
              "\n",
              "    .dataframe tbody tr th {\n",
              "        vertical-align: top;\n",
              "    }\n",
              "\n",
              "    .dataframe thead th {\n",
              "        text-align: right;\n",
              "    }\n",
              "</style>\n",
              "<table border=\"1\" class=\"dataframe\">\n",
              "  <thead>\n",
              "    <tr style=\"text-align: right;\">\n",
              "      <th></th>\n",
              "      <th>ID</th>\n",
              "      <th>Name</th>\n",
              "      <th>Industry</th>\n",
              "      <th>Inception</th>\n",
              "      <th>Revenue</th>\n",
              "      <th>Expenses</th>\n",
              "      <th>Profit</th>\n",
              "      <th>Growth</th>\n",
              "    </tr>\n",
              "  </thead>\n",
              "  <tbody>\n",
              "    <tr>\n",
              "      <th>0</th>\n",
              "      <td>1</td>\n",
              "      <td>Lamtone</td>\n",
              "      <td>IT Services</td>\n",
              "      <td>2009</td>\n",
              "      <td>$11,757,018</td>\n",
              "      <td>6,482,465 Dollars</td>\n",
              "      <td>5274553</td>\n",
              "      <td>30%</td>\n",
              "    </tr>\n",
              "    <tr>\n",
              "      <th>1</th>\n",
              "      <td>2</td>\n",
              "      <td>Stripfind</td>\n",
              "      <td>Financial Services</td>\n",
              "      <td>2010</td>\n",
              "      <td>$12,329,371</td>\n",
              "      <td>916,455 Dollars</td>\n",
              "      <td>11412916</td>\n",
              "      <td>20%</td>\n",
              "    </tr>\n",
              "    <tr>\n",
              "      <th>2</th>\n",
              "      <td>3</td>\n",
              "      <td>Canecorporation</td>\n",
              "      <td>Health</td>\n",
              "      <td>2012</td>\n",
              "      <td>$10,597,009</td>\n",
              "      <td>7,591,189 Dollars</td>\n",
              "      <td>3005820</td>\n",
              "      <td>7%</td>\n",
              "    </tr>\n",
              "    <tr>\n",
              "      <th>3</th>\n",
              "      <td>4</td>\n",
              "      <td>Mattouch</td>\n",
              "      <td>IT Services</td>\n",
              "      <td>2013</td>\n",
              "      <td>$14,026,934</td>\n",
              "      <td>7,429,377 Dollars</td>\n",
              "      <td>6597557</td>\n",
              "      <td>NaN</td>\n",
              "    </tr>\n",
              "    <tr>\n",
              "      <th>9</th>\n",
              "      <td>10</td>\n",
              "      <td>Trantraxlax</td>\n",
              "      <td>Government Services</td>\n",
              "      <td>2011</td>\n",
              "      <td>$11,088,336</td>\n",
              "      <td>5,635,276 Dollars</td>\n",
              "      <td>5453060</td>\n",
              "      <td>7%</td>\n",
              "    </tr>\n",
              "  </tbody>\n",
              "</table>\n",
              "</div>"
            ],
            "text/plain": [
              "   ID             Name             Industry  Inception       Revenue  \\\n",
              "0   1          Lamtone          IT Services       2009  $11,757,018    \n",
              "1   2        Stripfind   Financial Services       2010  $12,329,371    \n",
              "2   3  Canecorporation               Health       2012  $10,597,009    \n",
              "3   4         Mattouch          IT Services       2013  $14,026,934    \n",
              "9  10      Trantraxlax  Government Services       2011  $11,088,336    \n",
              "\n",
              "            Expenses    Profit Growth  \n",
              "0  6,482,465 Dollars   5274553    30%  \n",
              "1    916,455 Dollars  11412916    20%  \n",
              "2  7,591,189 Dollars   3005820     7%  \n",
              "3  7,429,377 Dollars   6597557    NaN  \n",
              "9  5,635,276 Dollars   5453060     7%  "
            ]
          },
          "execution_count": 82,
          "metadata": {},
          "output_type": "execute_result"
        }
      ],
      "source": [
        "df.dropna(subset = ['Industry','Expenses'])"
      ]
    },
    {
      "cell_type": "code",
      "execution_count": null,
      "id": "52a71174",
      "metadata": {
        "id": "52a71174",
        "outputId": "11e58d4b-a0fa-45ee-e89b-0533d4a61f81"
      },
      "outputs": [
        {
          "data": {
            "text/html": [
              "<div>\n",
              "<style scoped>\n",
              "    .dataframe tbody tr th:only-of-type {\n",
              "        vertical-align: middle;\n",
              "    }\n",
              "\n",
              "    .dataframe tbody tr th {\n",
              "        vertical-align: top;\n",
              "    }\n",
              "\n",
              "    .dataframe thead th {\n",
              "        text-align: right;\n",
              "    }\n",
              "</style>\n",
              "<table border=\"1\" class=\"dataframe\">\n",
              "  <thead>\n",
              "    <tr style=\"text-align: right;\">\n",
              "      <th></th>\n",
              "      <th>ID</th>\n",
              "      <th>Name</th>\n",
              "      <th>Industry</th>\n",
              "      <th>Inception</th>\n",
              "      <th>Revenue</th>\n",
              "      <th>Expenses</th>\n",
              "      <th>Profit</th>\n",
              "      <th>Growth</th>\n",
              "    </tr>\n",
              "  </thead>\n",
              "  <tbody>\n",
              "    <tr>\n",
              "      <th>0</th>\n",
              "      <td>1</td>\n",
              "      <td>Lamtone</td>\n",
              "      <td>IT Services</td>\n",
              "      <td>2009</td>\n",
              "      <td>$11,757,018</td>\n",
              "      <td>6,482,465 Dollars</td>\n",
              "      <td>5274553</td>\n",
              "      <td>30%</td>\n",
              "    </tr>\n",
              "    <tr>\n",
              "      <th>1</th>\n",
              "      <td>2</td>\n",
              "      <td>Stripfind</td>\n",
              "      <td>Financial Services</td>\n",
              "      <td>2010</td>\n",
              "      <td>$12,329,371</td>\n",
              "      <td>916,455 Dollars</td>\n",
              "      <td>11412916</td>\n",
              "      <td>20%</td>\n",
              "    </tr>\n",
              "    <tr>\n",
              "      <th>2</th>\n",
              "      <td>3</td>\n",
              "      <td>Canecorporation</td>\n",
              "      <td>Health</td>\n",
              "      <td>2012</td>\n",
              "      <td>$10,597,009</td>\n",
              "      <td>7,591,189 Dollars</td>\n",
              "      <td>3005820</td>\n",
              "      <td>7%</td>\n",
              "    </tr>\n",
              "    <tr>\n",
              "      <th>9</th>\n",
              "      <td>10</td>\n",
              "      <td>Trantraxlax</td>\n",
              "      <td>Government Services</td>\n",
              "      <td>2011</td>\n",
              "      <td>$11,088,336</td>\n",
              "      <td>5,635,276 Dollars</td>\n",
              "      <td>5453060</td>\n",
              "      <td>7%</td>\n",
              "    </tr>\n",
              "  </tbody>\n",
              "</table>\n",
              "</div>"
            ],
            "text/plain": [
              "   ID             Name             Industry  Inception       Revenue  \\\n",
              "0   1          Lamtone          IT Services       2009  $11,757,018    \n",
              "1   2        Stripfind   Financial Services       2010  $12,329,371    \n",
              "2   3  Canecorporation               Health       2012  $10,597,009    \n",
              "9  10      Trantraxlax  Government Services       2011  $11,088,336    \n",
              "\n",
              "            Expenses    Profit Growth  \n",
              "0  6,482,465 Dollars   5274553    30%  \n",
              "1    916,455 Dollars  11412916    20%  \n",
              "2  7,591,189 Dollars   3005820     7%  \n",
              "9  5,635,276 Dollars   5453060     7%  "
            ]
          },
          "execution_count": 83,
          "metadata": {},
          "output_type": "execute_result"
        }
      ],
      "source": [
        "df.dropna(inplace = True)\n",
        "df"
      ]
    },
    {
      "cell_type": "markdown",
      "id": "6224334e",
      "metadata": {
        "id": "6224334e"
      },
      "source": [
        "***Fillna***"
      ]
    },
    {
      "cell_type": "code",
      "execution_count": null,
      "id": "e77755f9",
      "metadata": {
        "id": "e77755f9",
        "outputId": "592766e5-92ce-433b-c576-3f648c4c1ef6"
      },
      "outputs": [
        {
          "data": {
            "text/html": [
              "<div>\n",
              "<style scoped>\n",
              "    .dataframe tbody tr th:only-of-type {\n",
              "        vertical-align: middle;\n",
              "    }\n",
              "\n",
              "    .dataframe tbody tr th {\n",
              "        vertical-align: top;\n",
              "    }\n",
              "\n",
              "    .dataframe thead th {\n",
              "        text-align: right;\n",
              "    }\n",
              "</style>\n",
              "<table border=\"1\" class=\"dataframe\">\n",
              "  <thead>\n",
              "    <tr style=\"text-align: right;\">\n",
              "      <th></th>\n",
              "      <th>ID</th>\n",
              "      <th>Name</th>\n",
              "      <th>Industry</th>\n",
              "      <th>Inception</th>\n",
              "      <th>Revenue</th>\n",
              "      <th>Expenses</th>\n",
              "      <th>Profit</th>\n",
              "      <th>Growth</th>\n",
              "    </tr>\n",
              "  </thead>\n",
              "  <tbody>\n",
              "    <tr>\n",
              "      <th>0</th>\n",
              "      <td>1</td>\n",
              "      <td>Lamtone</td>\n",
              "      <td>IT Services</td>\n",
              "      <td>2009</td>\n",
              "      <td>$11,757,018</td>\n",
              "      <td>6,482,465 Dollars</td>\n",
              "      <td>5274553</td>\n",
              "      <td>30%</td>\n",
              "    </tr>\n",
              "    <tr>\n",
              "      <th>1</th>\n",
              "      <td>2</td>\n",
              "      <td>Stripfind</td>\n",
              "      <td>Financial Services</td>\n",
              "      <td>2010</td>\n",
              "      <td>$12,329,371</td>\n",
              "      <td>916,455 Dollars</td>\n",
              "      <td>11412916</td>\n",
              "      <td>20%</td>\n",
              "    </tr>\n",
              "    <tr>\n",
              "      <th>2</th>\n",
              "      <td>3</td>\n",
              "      <td>Canecorporation</td>\n",
              "      <td>Health</td>\n",
              "      <td>2012</td>\n",
              "      <td>$10,597,009</td>\n",
              "      <td>7,591,189 Dollars</td>\n",
              "      <td>3005820</td>\n",
              "      <td>7%</td>\n",
              "    </tr>\n",
              "    <tr>\n",
              "      <th>9</th>\n",
              "      <td>10</td>\n",
              "      <td>Trantraxlax</td>\n",
              "      <td>Government Services</td>\n",
              "      <td>2011</td>\n",
              "      <td>$11,088,336</td>\n",
              "      <td>5,635,276 Dollars</td>\n",
              "      <td>5453060</td>\n",
              "      <td>7%</td>\n",
              "    </tr>\n",
              "  </tbody>\n",
              "</table>\n",
              "</div>"
            ],
            "text/plain": [
              "   ID             Name             Industry  Inception       Revenue  \\\n",
              "0   1          Lamtone          IT Services       2009  $11,757,018    \n",
              "1   2        Stripfind   Financial Services       2010  $12,329,371    \n",
              "2   3  Canecorporation               Health       2012  $10,597,009    \n",
              "9  10      Trantraxlax  Government Services       2011  $11,088,336    \n",
              "\n",
              "            Expenses    Profit Growth  \n",
              "0  6,482,465 Dollars   5274553    30%  \n",
              "1    916,455 Dollars  11412916    20%  \n",
              "2  7,591,189 Dollars   3005820     7%  \n",
              "9  5,635,276 Dollars   5453060     7%  "
            ]
          },
          "execution_count": 84,
          "metadata": {},
          "output_type": "execute_result"
        }
      ],
      "source": [
        "df.fillna({'Industry': 'Health','Expenses': '7,591,189 Dollars','Growth': '7%'})"
      ]
    },
    {
      "cell_type": "code",
      "execution_count": null,
      "id": "2536d414",
      "metadata": {
        "id": "2536d414",
        "outputId": "8737574b-4586-450b-df8f-5a66cfcb9d27"
      },
      "outputs": [
        {
          "data": {
            "text/html": [
              "<div>\n",
              "<style scoped>\n",
              "    .dataframe tbody tr th:only-of-type {\n",
              "        vertical-align: middle;\n",
              "    }\n",
              "\n",
              "    .dataframe tbody tr th {\n",
              "        vertical-align: top;\n",
              "    }\n",
              "\n",
              "    .dataframe thead th {\n",
              "        text-align: right;\n",
              "    }\n",
              "</style>\n",
              "<table border=\"1\" class=\"dataframe\">\n",
              "  <thead>\n",
              "    <tr style=\"text-align: right;\">\n",
              "      <th></th>\n",
              "      <th>ID</th>\n",
              "      <th>Name</th>\n",
              "      <th>Industry</th>\n",
              "      <th>Inception</th>\n",
              "      <th>Revenue</th>\n",
              "      <th>Expenses</th>\n",
              "      <th>Profit</th>\n",
              "      <th>Growth</th>\n",
              "    </tr>\n",
              "  </thead>\n",
              "  <tbody>\n",
              "    <tr>\n",
              "      <th>0</th>\n",
              "      <td>1</td>\n",
              "      <td>Lamtone</td>\n",
              "      <td>IT Services</td>\n",
              "      <td>2009</td>\n",
              "      <td>$11,757,018</td>\n",
              "      <td>6,482,465 Dollars</td>\n",
              "      <td>5274553</td>\n",
              "      <td>30%</td>\n",
              "    </tr>\n",
              "    <tr>\n",
              "      <th>1</th>\n",
              "      <td>2</td>\n",
              "      <td>Stripfind</td>\n",
              "      <td>Financial Services</td>\n",
              "      <td>2010</td>\n",
              "      <td>$12,329,371</td>\n",
              "      <td>916,455 Dollars</td>\n",
              "      <td>11412916</td>\n",
              "      <td>20%</td>\n",
              "    </tr>\n",
              "    <tr>\n",
              "      <th>2</th>\n",
              "      <td>3</td>\n",
              "      <td>Canecorporation</td>\n",
              "      <td>Health</td>\n",
              "      <td>2012</td>\n",
              "      <td>$10,597,009</td>\n",
              "      <td>7,591,189 Dollars</td>\n",
              "      <td>3005820</td>\n",
              "      <td>7%</td>\n",
              "    </tr>\n",
              "    <tr>\n",
              "      <th>9</th>\n",
              "      <td>10</td>\n",
              "      <td>Trantraxlax</td>\n",
              "      <td>Government Services</td>\n",
              "      <td>2011</td>\n",
              "      <td>$11,088,336</td>\n",
              "      <td>5,635,276 Dollars</td>\n",
              "      <td>5453060</td>\n",
              "      <td>7%</td>\n",
              "    </tr>\n",
              "  </tbody>\n",
              "</table>\n",
              "</div>"
            ],
            "text/plain": [
              "   ID             Name             Industry  Inception       Revenue  \\\n",
              "0   1          Lamtone          IT Services       2009  $11,757,018    \n",
              "1   2        Stripfind   Financial Services       2010  $12,329,371    \n",
              "2   3  Canecorporation               Health       2012  $10,597,009    \n",
              "9  10      Trantraxlax  Government Services       2011  $11,088,336    \n",
              "\n",
              "            Expenses    Profit Growth  \n",
              "0  6,482,465 Dollars   5274553    30%  \n",
              "1    916,455 Dollars  11412916    20%  \n",
              "2  7,591,189 Dollars   3005820     7%  \n",
              "9  5,635,276 Dollars   5453060     7%  "
            ]
          },
          "execution_count": 85,
          "metadata": {},
          "output_type": "execute_result"
        }
      ],
      "source": [
        "df.fillna(method = 'ffill')"
      ]
    },
    {
      "cell_type": "code",
      "execution_count": null,
      "id": "8ededfe8",
      "metadata": {
        "id": "8ededfe8",
        "outputId": "1e684fe2-562c-4524-9e7a-b24eb39f4854"
      },
      "outputs": [
        {
          "data": {
            "text/html": [
              "<div>\n",
              "<style scoped>\n",
              "    .dataframe tbody tr th:only-of-type {\n",
              "        vertical-align: middle;\n",
              "    }\n",
              "\n",
              "    .dataframe tbody tr th {\n",
              "        vertical-align: top;\n",
              "    }\n",
              "\n",
              "    .dataframe thead th {\n",
              "        text-align: right;\n",
              "    }\n",
              "</style>\n",
              "<table border=\"1\" class=\"dataframe\">\n",
              "  <thead>\n",
              "    <tr style=\"text-align: right;\">\n",
              "      <th></th>\n",
              "      <th>ID</th>\n",
              "      <th>Name</th>\n",
              "      <th>Industry</th>\n",
              "      <th>Inception</th>\n",
              "      <th>Revenue</th>\n",
              "      <th>Expenses</th>\n",
              "      <th>Profit</th>\n",
              "      <th>Growth</th>\n",
              "    </tr>\n",
              "  </thead>\n",
              "  <tbody>\n",
              "    <tr>\n",
              "      <th>0</th>\n",
              "      <td>1</td>\n",
              "      <td>Lamtone</td>\n",
              "      <td>IT Services</td>\n",
              "      <td>2009</td>\n",
              "      <td>$11,757,018</td>\n",
              "      <td>6,482,465 Dollars</td>\n",
              "      <td>5274553</td>\n",
              "      <td>30%</td>\n",
              "    </tr>\n",
              "    <tr>\n",
              "      <th>1</th>\n",
              "      <td>2</td>\n",
              "      <td>Stripfind</td>\n",
              "      <td>Financial Services</td>\n",
              "      <td>2010</td>\n",
              "      <td>$12,329,371</td>\n",
              "      <td>916,455 Dollars</td>\n",
              "      <td>11412916</td>\n",
              "      <td>20%</td>\n",
              "    </tr>\n",
              "    <tr>\n",
              "      <th>2</th>\n",
              "      <td>3</td>\n",
              "      <td>Canecorporation</td>\n",
              "      <td>Health</td>\n",
              "      <td>2012</td>\n",
              "      <td>$10,597,009</td>\n",
              "      <td>7,591,189 Dollars</td>\n",
              "      <td>3005820</td>\n",
              "      <td>7%</td>\n",
              "    </tr>\n",
              "    <tr>\n",
              "      <th>9</th>\n",
              "      <td>10</td>\n",
              "      <td>Trantraxlax</td>\n",
              "      <td>Government Services</td>\n",
              "      <td>2011</td>\n",
              "      <td>$11,088,336</td>\n",
              "      <td>5,635,276 Dollars</td>\n",
              "      <td>5453060</td>\n",
              "      <td>7%</td>\n",
              "    </tr>\n",
              "  </tbody>\n",
              "</table>\n",
              "</div>"
            ],
            "text/plain": [
              "   ID             Name             Industry  Inception       Revenue  \\\n",
              "0   1          Lamtone          IT Services       2009  $11,757,018    \n",
              "1   2        Stripfind   Financial Services       2010  $12,329,371    \n",
              "2   3  Canecorporation               Health       2012  $10,597,009    \n",
              "9  10      Trantraxlax  Government Services       2011  $11,088,336    \n",
              "\n",
              "            Expenses    Profit Growth  \n",
              "0  6,482,465 Dollars   5274553    30%  \n",
              "1    916,455 Dollars  11412916    20%  \n",
              "2  7,591,189 Dollars   3005820     7%  \n",
              "9  5,635,276 Dollars   5453060     7%  "
            ]
          },
          "execution_count": 86,
          "metadata": {},
          "output_type": "execute_result"
        }
      ],
      "source": [
        "df.fillna(method = 'pad')"
      ]
    },
    {
      "cell_type": "code",
      "execution_count": null,
      "id": "c7f48209",
      "metadata": {
        "id": "c7f48209",
        "outputId": "c24d78d6-70d8-4d23-e0ab-6d64ad14d6e6"
      },
      "outputs": [
        {
          "data": {
            "text/html": [
              "<div>\n",
              "<style scoped>\n",
              "    .dataframe tbody tr th:only-of-type {\n",
              "        vertical-align: middle;\n",
              "    }\n",
              "\n",
              "    .dataframe tbody tr th {\n",
              "        vertical-align: top;\n",
              "    }\n",
              "\n",
              "    .dataframe thead th {\n",
              "        text-align: right;\n",
              "    }\n",
              "</style>\n",
              "<table border=\"1\" class=\"dataframe\">\n",
              "  <thead>\n",
              "    <tr style=\"text-align: right;\">\n",
              "      <th></th>\n",
              "      <th>ID</th>\n",
              "      <th>Name</th>\n",
              "      <th>Industry</th>\n",
              "      <th>Inception</th>\n",
              "      <th>Revenue</th>\n",
              "      <th>Expenses</th>\n",
              "      <th>Profit</th>\n",
              "      <th>Growth</th>\n",
              "    </tr>\n",
              "  </thead>\n",
              "  <tbody>\n",
              "    <tr>\n",
              "      <th>0</th>\n",
              "      <td>1</td>\n",
              "      <td>Lamtone</td>\n",
              "      <td>IT Services</td>\n",
              "      <td>2009</td>\n",
              "      <td>$11,757,018</td>\n",
              "      <td>6,482,465 Dollars</td>\n",
              "      <td>5274553</td>\n",
              "      <td>30%</td>\n",
              "    </tr>\n",
              "    <tr>\n",
              "      <th>1</th>\n",
              "      <td>2</td>\n",
              "      <td>Stripfind</td>\n",
              "      <td>Financial Services</td>\n",
              "      <td>2010</td>\n",
              "      <td>$12,329,371</td>\n",
              "      <td>916,455 Dollars</td>\n",
              "      <td>11412916</td>\n",
              "      <td>20%</td>\n",
              "    </tr>\n",
              "    <tr>\n",
              "      <th>2</th>\n",
              "      <td>3</td>\n",
              "      <td>Canecorporation</td>\n",
              "      <td>Health</td>\n",
              "      <td>2012</td>\n",
              "      <td>$10,597,009</td>\n",
              "      <td>7,591,189 Dollars</td>\n",
              "      <td>3005820</td>\n",
              "      <td>7%</td>\n",
              "    </tr>\n",
              "    <tr>\n",
              "      <th>9</th>\n",
              "      <td>10</td>\n",
              "      <td>Trantraxlax</td>\n",
              "      <td>Government Services</td>\n",
              "      <td>2011</td>\n",
              "      <td>$11,088,336</td>\n",
              "      <td>5,635,276 Dollars</td>\n",
              "      <td>5453060</td>\n",
              "      <td>7%</td>\n",
              "    </tr>\n",
              "  </tbody>\n",
              "</table>\n",
              "</div>"
            ],
            "text/plain": [
              "   ID             Name             Industry  Inception       Revenue  \\\n",
              "0   1          Lamtone          IT Services       2009  $11,757,018    \n",
              "1   2        Stripfind   Financial Services       2010  $12,329,371    \n",
              "2   3  Canecorporation               Health       2012  $10,597,009    \n",
              "9  10      Trantraxlax  Government Services       2011  $11,088,336    \n",
              "\n",
              "            Expenses    Profit Growth  \n",
              "0  6,482,465 Dollars   5274553    30%  \n",
              "1    916,455 Dollars  11412916    20%  \n",
              "2  7,591,189 Dollars   3005820     7%  \n",
              "9  5,635,276 Dollars   5453060     7%  "
            ]
          },
          "execution_count": 87,
          "metadata": {},
          "output_type": "execute_result"
        }
      ],
      "source": [
        "df.fillna(method = 'bfill')"
      ]
    },
    {
      "cell_type": "code",
      "execution_count": null,
      "id": "a3d8fc2d",
      "metadata": {
        "id": "a3d8fc2d"
      },
      "outputs": [],
      "source": [
        "# df.fillna(method = 'ffill', axis = 0)"
      ]
    },
    {
      "cell_type": "code",
      "execution_count": null,
      "id": "a869f425",
      "metadata": {
        "id": "a869f425"
      },
      "outputs": [],
      "source": [
        "# df.fillna(method = 'bfill', axis = 0)"
      ]
    },
    {
      "cell_type": "code",
      "execution_count": null,
      "id": "e29e4ba1",
      "metadata": {
        "id": "e29e4ba1"
      },
      "outputs": [],
      "source": [
        "# df.fillna(0, limit = 5)"
      ]
    },
    {
      "cell_type": "code",
      "execution_count": null,
      "id": "2021b3f2",
      "metadata": {
        "id": "2021b3f2"
      },
      "outputs": [],
      "source": [
        "# df.fillna(method = 'ffill', limit = 5)"
      ]
    },
    {
      "cell_type": "code",
      "execution_count": null,
      "id": "557d64d8",
      "metadata": {
        "id": "557d64d8"
      },
      "outputs": [],
      "source": [
        "# df.fillna(5,inplace = True)\n",
        "# df"
      ]
    },
    {
      "cell_type": "markdown",
      "id": "2e009a44",
      "metadata": {
        "id": "2e009a44"
      },
      "source": [
        "***Replace***"
      ]
    },
    {
      "cell_type": "code",
      "execution_count": null,
      "id": "485524ed",
      "metadata": {
        "id": "485524ed",
        "outputId": "6d7a0f77-f0ca-430b-c250-fdce4c9621ff"
      },
      "outputs": [
        {
          "data": {
            "text/html": [
              "<div>\n",
              "<style scoped>\n",
              "    .dataframe tbody tr th:only-of-type {\n",
              "        vertical-align: middle;\n",
              "    }\n",
              "\n",
              "    .dataframe tbody tr th {\n",
              "        vertical-align: top;\n",
              "    }\n",
              "\n",
              "    .dataframe thead th {\n",
              "        text-align: right;\n",
              "    }\n",
              "</style>\n",
              "<table border=\"1\" class=\"dataframe\">\n",
              "  <thead>\n",
              "    <tr style=\"text-align: right;\">\n",
              "      <th></th>\n",
              "      <th>ID</th>\n",
              "      <th>Name</th>\n",
              "      <th>Industry</th>\n",
              "      <th>Inception</th>\n",
              "      <th>Revenue</th>\n",
              "      <th>Expenses</th>\n",
              "      <th>Profit</th>\n",
              "      <th>Growth</th>\n",
              "    </tr>\n",
              "  </thead>\n",
              "  <tbody>\n",
              "    <tr>\n",
              "      <th>0</th>\n",
              "      <td>1</td>\n",
              "      <td>Lamtone</td>\n",
              "      <td>IT Services</td>\n",
              "      <td>2009</td>\n",
              "      <td>$11,757,018</td>\n",
              "      <td>6,482,465 Dollars</td>\n",
              "      <td>5274553</td>\n",
              "      <td>30%</td>\n",
              "    </tr>\n",
              "    <tr>\n",
              "      <th>1</th>\n",
              "      <td>2</td>\n",
              "      <td>Stripfind</td>\n",
              "      <td>Financial Services</td>\n",
              "      <td>2010</td>\n",
              "      <td>$12,329,371</td>\n",
              "      <td>916,455 Dollars</td>\n",
              "      <td>11412916</td>\n",
              "      <td>20%</td>\n",
              "    </tr>\n",
              "    <tr>\n",
              "      <th>2</th>\n",
              "      <td>3</td>\n",
              "      <td>Canecorporation</td>\n",
              "      <td>Health</td>\n",
              "      <td>2012</td>\n",
              "      <td>$10,597,009</td>\n",
              "      <td>7,591,189 Dollars</td>\n",
              "      <td>3005820</td>\n",
              "      <td>7%</td>\n",
              "    </tr>\n",
              "    <tr>\n",
              "      <th>3</th>\n",
              "      <td>4</td>\n",
              "      <td>Mattouch</td>\n",
              "      <td>IT Services</td>\n",
              "      <td>2013</td>\n",
              "      <td>$14,026,934</td>\n",
              "      <td>7,429,377 Dollars</td>\n",
              "      <td>6597557</td>\n",
              "      <td>not available</td>\n",
              "    </tr>\n",
              "    <tr>\n",
              "      <th>4</th>\n",
              "      <td>5</td>\n",
              "      <td>Techdrill</td>\n",
              "      <td>NaN</td>\n",
              "      <td>2009</td>\n",
              "      <td>$10,573,990</td>\n",
              "      <td>7,435,363 Dollars</td>\n",
              "      <td>3138627</td>\n",
              "      <td>NaN</td>\n",
              "    </tr>\n",
              "    <tr>\n",
              "      <th>5</th>\n",
              "      <td>6</td>\n",
              "      <td>Techline</td>\n",
              "      <td>NaN</td>\n",
              "      <td>2006</td>\n",
              "      <td>$13,898,119</td>\n",
              "      <td>5,470,303 Dollars</td>\n",
              "      <td>8427816</td>\n",
              "      <td>NaN</td>\n",
              "    </tr>\n",
              "    <tr>\n",
              "      <th>6</th>\n",
              "      <td>7</td>\n",
              "      <td>Cityace</td>\n",
              "      <td>NaN</td>\n",
              "      <td>2010</td>\n",
              "      <td>$9,254,614</td>\n",
              "      <td>6,249,498 Dollars</td>\n",
              "      <td>3005116</td>\n",
              "      <td>6%</td>\n",
              "    </tr>\n",
              "    <tr>\n",
              "      <th>7</th>\n",
              "      <td>8</td>\n",
              "      <td>Kayelectronics</td>\n",
              "      <td>NaN</td>\n",
              "      <td>2009</td>\n",
              "      <td>$9,451,943</td>\n",
              "      <td>3,878,113 Dollars</td>\n",
              "      <td>5573830</td>\n",
              "      <td>4%</td>\n",
              "    </tr>\n",
              "    <tr>\n",
              "      <th>8</th>\n",
              "      <td>9</td>\n",
              "      <td>Ganzlax</td>\n",
              "      <td>IT Services</td>\n",
              "      <td>2011</td>\n",
              "      <td>$14,001,180</td>\n",
              "      <td>NaN</td>\n",
              "      <td>11901180</td>\n",
              "      <td>18%</td>\n",
              "    </tr>\n",
              "    <tr>\n",
              "      <th>9</th>\n",
              "      <td>10</td>\n",
              "      <td>Trantraxlax</td>\n",
              "      <td>Government Services</td>\n",
              "      <td>2011</td>\n",
              "      <td>$11,088,336</td>\n",
              "      <td>5,635,276 Dollars</td>\n",
              "      <td>5453060</td>\n",
              "      <td>7%</td>\n",
              "    </tr>\n",
              "  </tbody>\n",
              "</table>\n",
              "</div>"
            ],
            "text/plain": [
              "   ID             Name             Industry  Inception       Revenue  \\\n",
              "0   1          Lamtone          IT Services       2009  $11,757,018    \n",
              "1   2        Stripfind   Financial Services       2010  $12,329,371    \n",
              "2   3  Canecorporation               Health       2012  $10,597,009    \n",
              "3   4         Mattouch          IT Services       2013  $14,026,934    \n",
              "4   5        Techdrill                  NaN       2009  $10,573,990    \n",
              "5   6         Techline                  NaN       2006  $13,898,119    \n",
              "6   7          Cityace                  NaN       2010   $9,254,614    \n",
              "7   8   Kayelectronics                  NaN       2009   $9,451,943    \n",
              "8   9          Ganzlax          IT Services       2011  $14,001,180    \n",
              "9  10      Trantraxlax  Government Services       2011  $11,088,336    \n",
              "\n",
              "            Expenses    Profit         Growth  \n",
              "0  6,482,465 Dollars   5274553            30%  \n",
              "1    916,455 Dollars  11412916            20%  \n",
              "2  7,591,189 Dollars   3005820             7%  \n",
              "3  7,429,377 Dollars   6597557  not available  \n",
              "4  7,435,363 Dollars   3138627            NaN  \n",
              "5  5,470,303 Dollars   8427816            NaN  \n",
              "6  6,249,498 Dollars   3005116             6%  \n",
              "7  3,878,113 Dollars   5573830             4%  \n",
              "8                NaN  11901180            18%  \n",
              "9  5,635,276 Dollars   5453060             7%  "
            ]
          },
          "execution_count": 93,
          "metadata": {},
          "output_type": "execute_result"
        }
      ],
      "source": [
        "df = pd.read_csv('C:\\\\Users\\Chandrakant\\Downloads\\Pandas\\Fortune_10.csv')\n",
        "df"
      ]
    },
    {
      "cell_type": "code",
      "execution_count": null,
      "id": "91c5fb43",
      "metadata": {
        "id": "91c5fb43"
      },
      "outputs": [],
      "source": [
        "# df.replace(to_replace = 'IT Services', value = 'Health')"
      ]
    },
    {
      "cell_type": "code",
      "execution_count": null,
      "id": "14f59230",
      "metadata": {
        "id": "14f59230",
        "outputId": "d0e22381-8a04-4b32-8e4d-24eea7fe4cd8"
      },
      "outputs": [
        {
          "data": {
            "text/html": [
              "<div>\n",
              "<style scoped>\n",
              "    .dataframe tbody tr th:only-of-type {\n",
              "        vertical-align: middle;\n",
              "    }\n",
              "\n",
              "    .dataframe tbody tr th {\n",
              "        vertical-align: top;\n",
              "    }\n",
              "\n",
              "    .dataframe thead th {\n",
              "        text-align: right;\n",
              "    }\n",
              "</style>\n",
              "<table border=\"1\" class=\"dataframe\">\n",
              "  <thead>\n",
              "    <tr style=\"text-align: right;\">\n",
              "      <th></th>\n",
              "      <th>ID</th>\n",
              "      <th>Name</th>\n",
              "      <th>Industry</th>\n",
              "      <th>Inception</th>\n",
              "      <th>Revenue</th>\n",
              "      <th>Expenses</th>\n",
              "      <th>Profit</th>\n",
              "      <th>Growth</th>\n",
              "    </tr>\n",
              "  </thead>\n",
              "  <tbody>\n",
              "    <tr>\n",
              "      <th>0</th>\n",
              "      <td>1</td>\n",
              "      <td>Lamtone</td>\n",
              "      <td>IT Services</td>\n",
              "      <td>2009</td>\n",
              "      <td>$11,757,018</td>\n",
              "      <td>6,482,465 Dollars</td>\n",
              "      <td>5274553</td>\n",
              "      <td>30%</td>\n",
              "    </tr>\n",
              "    <tr>\n",
              "      <th>1</th>\n",
              "      <td>2</td>\n",
              "      <td>Stripfind</td>\n",
              "      <td>Financial Services</td>\n",
              "      <td>2010</td>\n",
              "      <td>$12,329,371</td>\n",
              "      <td>916,455 Dollars</td>\n",
              "      <td>11412916</td>\n",
              "      <td>20%</td>\n",
              "    </tr>\n",
              "    <tr>\n",
              "      <th>2</th>\n",
              "      <td>3</td>\n",
              "      <td>Canecorporation</td>\n",
              "      <td>Health</td>\n",
              "      <td>2012</td>\n",
              "      <td>$10,597,009</td>\n",
              "      <td>7,591,189 Dollars</td>\n",
              "      <td>3005820</td>\n",
              "      <td>7%</td>\n",
              "    </tr>\n",
              "    <tr>\n",
              "      <th>3</th>\n",
              "      <td>4</td>\n",
              "      <td>Mattouch</td>\n",
              "      <td>IT Services</td>\n",
              "      <td>2013</td>\n",
              "      <td>$14,026,934</td>\n",
              "      <td>7,429,377 Dollars</td>\n",
              "      <td>6597557</td>\n",
              "      <td>30%</td>\n",
              "    </tr>\n",
              "    <tr>\n",
              "      <th>4</th>\n",
              "      <td>5</td>\n",
              "      <td>Techdrill</td>\n",
              "      <td>NaN</td>\n",
              "      <td>2009</td>\n",
              "      <td>$10,573,990</td>\n",
              "      <td>7,435,363 Dollars</td>\n",
              "      <td>3138627</td>\n",
              "      <td>NaN</td>\n",
              "    </tr>\n",
              "    <tr>\n",
              "      <th>5</th>\n",
              "      <td>6</td>\n",
              "      <td>Techline</td>\n",
              "      <td>NaN</td>\n",
              "      <td>2006</td>\n",
              "      <td>$13,898,119</td>\n",
              "      <td>5,470,303 Dollars</td>\n",
              "      <td>8427816</td>\n",
              "      <td>NaN</td>\n",
              "    </tr>\n",
              "    <tr>\n",
              "      <th>6</th>\n",
              "      <td>7</td>\n",
              "      <td>Cityace</td>\n",
              "      <td>NaN</td>\n",
              "      <td>2010</td>\n",
              "      <td>$9,254,614</td>\n",
              "      <td>6,249,498 Dollars</td>\n",
              "      <td>3005116</td>\n",
              "      <td>6%</td>\n",
              "    </tr>\n",
              "    <tr>\n",
              "      <th>7</th>\n",
              "      <td>8</td>\n",
              "      <td>Kayelectronics</td>\n",
              "      <td>NaN</td>\n",
              "      <td>2009</td>\n",
              "      <td>$9,451,943</td>\n",
              "      <td>3,878,113 Dollars</td>\n",
              "      <td>5573830</td>\n",
              "      <td>4%</td>\n",
              "    </tr>\n",
              "    <tr>\n",
              "      <th>8</th>\n",
              "      <td>9</td>\n",
              "      <td>Ganzlax</td>\n",
              "      <td>IT Services</td>\n",
              "      <td>2011</td>\n",
              "      <td>$14,001,180</td>\n",
              "      <td>NaN</td>\n",
              "      <td>11901180</td>\n",
              "      <td>18%</td>\n",
              "    </tr>\n",
              "    <tr>\n",
              "      <th>9</th>\n",
              "      <td>10</td>\n",
              "      <td>Trantraxlax</td>\n",
              "      <td>Government Services</td>\n",
              "      <td>2011</td>\n",
              "      <td>$11,088,336</td>\n",
              "      <td>5,635,276 Dollars</td>\n",
              "      <td>5453060</td>\n",
              "      <td>7%</td>\n",
              "    </tr>\n",
              "  </tbody>\n",
              "</table>\n",
              "</div>"
            ],
            "text/plain": [
              "   ID             Name             Industry  Inception       Revenue  \\\n",
              "0   1          Lamtone          IT Services       2009  $11,757,018    \n",
              "1   2        Stripfind   Financial Services       2010  $12,329,371    \n",
              "2   3  Canecorporation               Health       2012  $10,597,009    \n",
              "3   4         Mattouch          IT Services       2013  $14,026,934    \n",
              "4   5        Techdrill                  NaN       2009  $10,573,990    \n",
              "5   6         Techline                  NaN       2006  $13,898,119    \n",
              "6   7          Cityace                  NaN       2010   $9,254,614    \n",
              "7   8   Kayelectronics                  NaN       2009   $9,451,943    \n",
              "8   9          Ganzlax          IT Services       2011  $14,001,180    \n",
              "9  10      Trantraxlax  Government Services       2011  $11,088,336    \n",
              "\n",
              "            Expenses    Profit Growth  \n",
              "0  6,482,465 Dollars   5274553    30%  \n",
              "1    916,455 Dollars  11412916    20%  \n",
              "2  7,591,189 Dollars   3005820     7%  \n",
              "3  7,429,377 Dollars   6597557    30%  \n",
              "4  7,435,363 Dollars   3138627    NaN  \n",
              "5  5,470,303 Dollars   8427816    NaN  \n",
              "6  6,249,498 Dollars   3005116     6%  \n",
              "7  3,878,113 Dollars   5573830     4%  \n",
              "8                NaN  11901180    18%  \n",
              "9  5,635,276 Dollars   5453060     7%  "
            ]
          },
          "execution_count": 95,
          "metadata": {},
          "output_type": "execute_result"
        }
      ],
      "source": [
        "df.replace({'Growth': 'not available'}, '30%')"
      ]
    },
    {
      "cell_type": "code",
      "execution_count": null,
      "id": "24dfd25e",
      "metadata": {
        "id": "24dfd25e"
      },
      "outputs": [],
      "source": [
        "# df.replace({'Industry': 'Health'}, 'Financial Services')"
      ]
    },
    {
      "cell_type": "code",
      "execution_count": null,
      "id": "27eab9ba",
      "metadata": {
        "id": "27eab9ba",
        "outputId": "16b5be81-e601-4baa-d115-6e60868c104a"
      },
      "outputs": [
        {
          "data": {
            "text/html": [
              "<div>\n",
              "<style scoped>\n",
              "    .dataframe tbody tr th:only-of-type {\n",
              "        vertical-align: middle;\n",
              "    }\n",
              "\n",
              "    .dataframe tbody tr th {\n",
              "        vertical-align: top;\n",
              "    }\n",
              "\n",
              "    .dataframe thead th {\n",
              "        text-align: right;\n",
              "    }\n",
              "</style>\n",
              "<table border=\"1\" class=\"dataframe\">\n",
              "  <thead>\n",
              "    <tr style=\"text-align: right;\">\n",
              "      <th></th>\n",
              "      <th>ID</th>\n",
              "      <th>Name</th>\n",
              "      <th>Industry</th>\n",
              "      <th>Inception</th>\n",
              "      <th>Revenue</th>\n",
              "      <th>Expenses</th>\n",
              "      <th>Profit</th>\n",
              "      <th>Growth</th>\n",
              "    </tr>\n",
              "  </thead>\n",
              "  <tbody>\n",
              "    <tr>\n",
              "      <th>0</th>\n",
              "      <td>1</td>\n",
              "      <td>0</td>\n",
              "      <td>0.0</td>\n",
              "      <td>2009</td>\n",
              "      <td>$11,757,018</td>\n",
              "      <td>0.0</td>\n",
              "      <td>5274553</td>\n",
              "      <td>30%</td>\n",
              "    </tr>\n",
              "    <tr>\n",
              "      <th>1</th>\n",
              "      <td>2</td>\n",
              "      <td>0</td>\n",
              "      <td>0.0</td>\n",
              "      <td>2010</td>\n",
              "      <td>$12,329,371</td>\n",
              "      <td>0.0</td>\n",
              "      <td>11412916</td>\n",
              "      <td>20%</td>\n",
              "    </tr>\n",
              "    <tr>\n",
              "      <th>2</th>\n",
              "      <td>3</td>\n",
              "      <td>0</td>\n",
              "      <td>0.0</td>\n",
              "      <td>2012</td>\n",
              "      <td>$10,597,009</td>\n",
              "      <td>0.0</td>\n",
              "      <td>3005820</td>\n",
              "      <td>7%</td>\n",
              "    </tr>\n",
              "    <tr>\n",
              "      <th>3</th>\n",
              "      <td>4</td>\n",
              "      <td>0</td>\n",
              "      <td>0.0</td>\n",
              "      <td>2013</td>\n",
              "      <td>$14,026,934</td>\n",
              "      <td>0.0</td>\n",
              "      <td>6597557</td>\n",
              "      <td>0</td>\n",
              "    </tr>\n",
              "    <tr>\n",
              "      <th>4</th>\n",
              "      <td>5</td>\n",
              "      <td>0</td>\n",
              "      <td>NaN</td>\n",
              "      <td>2009</td>\n",
              "      <td>$10,573,990</td>\n",
              "      <td>0.0</td>\n",
              "      <td>3138627</td>\n",
              "      <td>NaN</td>\n",
              "    </tr>\n",
              "    <tr>\n",
              "      <th>5</th>\n",
              "      <td>6</td>\n",
              "      <td>0</td>\n",
              "      <td>NaN</td>\n",
              "      <td>2006</td>\n",
              "      <td>$13,898,119</td>\n",
              "      <td>0.0</td>\n",
              "      <td>8427816</td>\n",
              "      <td>NaN</td>\n",
              "    </tr>\n",
              "    <tr>\n",
              "      <th>6</th>\n",
              "      <td>7</td>\n",
              "      <td>0</td>\n",
              "      <td>NaN</td>\n",
              "      <td>2010</td>\n",
              "      <td>$9,254,614</td>\n",
              "      <td>0.0</td>\n",
              "      <td>3005116</td>\n",
              "      <td>6%</td>\n",
              "    </tr>\n",
              "    <tr>\n",
              "      <th>7</th>\n",
              "      <td>8</td>\n",
              "      <td>0</td>\n",
              "      <td>NaN</td>\n",
              "      <td>2009</td>\n",
              "      <td>$9,451,943</td>\n",
              "      <td>0.0</td>\n",
              "      <td>5573830</td>\n",
              "      <td>4%</td>\n",
              "    </tr>\n",
              "    <tr>\n",
              "      <th>8</th>\n",
              "      <td>9</td>\n",
              "      <td>0</td>\n",
              "      <td>0.0</td>\n",
              "      <td>2011</td>\n",
              "      <td>$14,001,180</td>\n",
              "      <td>NaN</td>\n",
              "      <td>11901180</td>\n",
              "      <td>18%</td>\n",
              "    </tr>\n",
              "    <tr>\n",
              "      <th>9</th>\n",
              "      <td>10</td>\n",
              "      <td>0</td>\n",
              "      <td>0.0</td>\n",
              "      <td>2011</td>\n",
              "      <td>$11,088,336</td>\n",
              "      <td>0.0</td>\n",
              "      <td>5453060</td>\n",
              "      <td>7%</td>\n",
              "    </tr>\n",
              "  </tbody>\n",
              "</table>\n",
              "</div>"
            ],
            "text/plain": [
              "   ID  Name  Industry  Inception       Revenue  Expenses    Profit Growth\n",
              "0   1     0       0.0       2009  $11,757,018        0.0   5274553    30%\n",
              "1   2     0       0.0       2010  $12,329,371        0.0  11412916    20%\n",
              "2   3     0       0.0       2012  $10,597,009        0.0   3005820     7%\n",
              "3   4     0       0.0       2013  $14,026,934        0.0   6597557      0\n",
              "4   5     0       NaN       2009  $10,573,990        0.0   3138627    NaN\n",
              "5   6     0       NaN       2006  $13,898,119        0.0   8427816    NaN\n",
              "6   7     0       NaN       2010   $9,254,614        0.0   3005116     6%\n",
              "7   8     0       NaN       2009   $9,451,943        0.0   5573830     4%\n",
              "8   9     0       0.0       2011  $14,001,180        NaN  11901180    18%\n",
              "9  10     0       0.0       2011  $11,088,336        0.0   5453060     7%"
            ]
          },
          "execution_count": 97,
          "metadata": {},
          "output_type": "execute_result"
        }
      ],
      "source": [
        "df.replace('[A-Za-z]',0,regex = True)"
      ]
    },
    {
      "cell_type": "code",
      "execution_count": null,
      "id": "425c7ed9",
      "metadata": {
        "id": "425c7ed9",
        "outputId": "8e5863c5-d033-4b1c-a80a-b2c1bac10c6f"
      },
      "outputs": [
        {
          "data": {
            "text/html": [
              "<div>\n",
              "<style scoped>\n",
              "    .dataframe tbody tr th:only-of-type {\n",
              "        vertical-align: middle;\n",
              "    }\n",
              "\n",
              "    .dataframe tbody tr th {\n",
              "        vertical-align: top;\n",
              "    }\n",
              "\n",
              "    .dataframe thead th {\n",
              "        text-align: right;\n",
              "    }\n",
              "</style>\n",
              "<table border=\"1\" class=\"dataframe\">\n",
              "  <thead>\n",
              "    <tr style=\"text-align: right;\">\n",
              "      <th></th>\n",
              "      <th>ID</th>\n",
              "      <th>Name</th>\n",
              "      <th>Industry</th>\n",
              "      <th>Inception</th>\n",
              "      <th>Revenue</th>\n",
              "      <th>Expenses</th>\n",
              "      <th>Profit</th>\n",
              "      <th>Growth</th>\n",
              "    </tr>\n",
              "  </thead>\n",
              "  <tbody>\n",
              "    <tr>\n",
              "      <th>0</th>\n",
              "      <td>1</td>\n",
              "      <td>Lamtone</td>\n",
              "      <td>0.0</td>\n",
              "      <td>2009</td>\n",
              "      <td>$11,757,018</td>\n",
              "      <td>6,482,465 Dollars</td>\n",
              "      <td>5274553</td>\n",
              "      <td>30%</td>\n",
              "    </tr>\n",
              "    <tr>\n",
              "      <th>1</th>\n",
              "      <td>2</td>\n",
              "      <td>Stripfind</td>\n",
              "      <td>0.0</td>\n",
              "      <td>2010</td>\n",
              "      <td>$12,329,371</td>\n",
              "      <td>916,455 Dollars</td>\n",
              "      <td>11412916</td>\n",
              "      <td>20%</td>\n",
              "    </tr>\n",
              "    <tr>\n",
              "      <th>2</th>\n",
              "      <td>3</td>\n",
              "      <td>Canecorporation</td>\n",
              "      <td>0.0</td>\n",
              "      <td>2012</td>\n",
              "      <td>$10,597,009</td>\n",
              "      <td>7,591,189 Dollars</td>\n",
              "      <td>3005820</td>\n",
              "      <td>7%</td>\n",
              "    </tr>\n",
              "    <tr>\n",
              "      <th>3</th>\n",
              "      <td>4</td>\n",
              "      <td>Mattouch</td>\n",
              "      <td>0.0</td>\n",
              "      <td>2013</td>\n",
              "      <td>$14,026,934</td>\n",
              "      <td>7,429,377 Dollars</td>\n",
              "      <td>6597557</td>\n",
              "      <td>not available</td>\n",
              "    </tr>\n",
              "    <tr>\n",
              "      <th>4</th>\n",
              "      <td>5</td>\n",
              "      <td>Techdrill</td>\n",
              "      <td>NaN</td>\n",
              "      <td>2009</td>\n",
              "      <td>$10,573,990</td>\n",
              "      <td>7,435,363 Dollars</td>\n",
              "      <td>3138627</td>\n",
              "      <td>NaN</td>\n",
              "    </tr>\n",
              "    <tr>\n",
              "      <th>5</th>\n",
              "      <td>6</td>\n",
              "      <td>Techline</td>\n",
              "      <td>NaN</td>\n",
              "      <td>2006</td>\n",
              "      <td>$13,898,119</td>\n",
              "      <td>5,470,303 Dollars</td>\n",
              "      <td>8427816</td>\n",
              "      <td>NaN</td>\n",
              "    </tr>\n",
              "    <tr>\n",
              "      <th>6</th>\n",
              "      <td>7</td>\n",
              "      <td>Cityace</td>\n",
              "      <td>NaN</td>\n",
              "      <td>2010</td>\n",
              "      <td>$9,254,614</td>\n",
              "      <td>6,249,498 Dollars</td>\n",
              "      <td>3005116</td>\n",
              "      <td>6%</td>\n",
              "    </tr>\n",
              "    <tr>\n",
              "      <th>7</th>\n",
              "      <td>8</td>\n",
              "      <td>Kayelectronics</td>\n",
              "      <td>NaN</td>\n",
              "      <td>2009</td>\n",
              "      <td>$9,451,943</td>\n",
              "      <td>3,878,113 Dollars</td>\n",
              "      <td>5573830</td>\n",
              "      <td>4%</td>\n",
              "    </tr>\n",
              "    <tr>\n",
              "      <th>8</th>\n",
              "      <td>9</td>\n",
              "      <td>Ganzlax</td>\n",
              "      <td>0.0</td>\n",
              "      <td>2011</td>\n",
              "      <td>$14,001,180</td>\n",
              "      <td>NaN</td>\n",
              "      <td>11901180</td>\n",
              "      <td>18%</td>\n",
              "    </tr>\n",
              "    <tr>\n",
              "      <th>9</th>\n",
              "      <td>10</td>\n",
              "      <td>Trantraxlax</td>\n",
              "      <td>0.0</td>\n",
              "      <td>2011</td>\n",
              "      <td>$11,088,336</td>\n",
              "      <td>5,635,276 Dollars</td>\n",
              "      <td>5453060</td>\n",
              "      <td>7%</td>\n",
              "    </tr>\n",
              "  </tbody>\n",
              "</table>\n",
              "</div>"
            ],
            "text/plain": [
              "   ID             Name  Industry  Inception       Revenue           Expenses  \\\n",
              "0   1          Lamtone       0.0       2009  $11,757,018   6,482,465 Dollars   \n",
              "1   2        Stripfind       0.0       2010  $12,329,371     916,455 Dollars   \n",
              "2   3  Canecorporation       0.0       2012  $10,597,009   7,591,189 Dollars   \n",
              "3   4         Mattouch       0.0       2013  $14,026,934   7,429,377 Dollars   \n",
              "4   5        Techdrill       NaN       2009  $10,573,990   7,435,363 Dollars   \n",
              "5   6         Techline       NaN       2006  $13,898,119   5,470,303 Dollars   \n",
              "6   7          Cityace       NaN       2010   $9,254,614   6,249,498 Dollars   \n",
              "7   8   Kayelectronics       NaN       2009   $9,451,943   3,878,113 Dollars   \n",
              "8   9          Ganzlax       0.0       2011  $14,001,180                 NaN   \n",
              "9  10      Trantraxlax       0.0       2011  $11,088,336   5,635,276 Dollars   \n",
              "\n",
              "     Profit         Growth  \n",
              "0   5274553            30%  \n",
              "1  11412916            20%  \n",
              "2   3005820             7%  \n",
              "3   6597557  not available  \n",
              "4   3138627            NaN  \n",
              "5   8427816            NaN  \n",
              "6   3005116             6%  \n",
              "7   5573830             4%  \n",
              "8  11901180            18%  \n",
              "9   5453060             7%  "
            ]
          },
          "execution_count": 98,
          "metadata": {},
          "output_type": "execute_result"
        }
      ],
      "source": [
        "df.replace({'Industry': '[A-Za-z]'},0,regex = True)"
      ]
    },
    {
      "cell_type": "code",
      "execution_count": null,
      "id": "cf0d789f",
      "metadata": {
        "id": "cf0d789f",
        "outputId": "926fd9f0-b8fd-4a17-9f9a-77827080e3c6"
      },
      "outputs": [
        {
          "data": {
            "text/html": [
              "<div>\n",
              "<style scoped>\n",
              "    .dataframe tbody tr th:only-of-type {\n",
              "        vertical-align: middle;\n",
              "    }\n",
              "\n",
              "    .dataframe tbody tr th {\n",
              "        vertical-align: top;\n",
              "    }\n",
              "\n",
              "    .dataframe thead th {\n",
              "        text-align: right;\n",
              "    }\n",
              "</style>\n",
              "<table border=\"1\" class=\"dataframe\">\n",
              "  <thead>\n",
              "    <tr style=\"text-align: right;\">\n",
              "      <th></th>\n",
              "      <th>ID</th>\n",
              "      <th>Name</th>\n",
              "      <th>Industry</th>\n",
              "      <th>Inception</th>\n",
              "      <th>Revenue</th>\n",
              "      <th>Expenses</th>\n",
              "      <th>Profit</th>\n",
              "      <th>Growth</th>\n",
              "    </tr>\n",
              "  </thead>\n",
              "  <tbody>\n",
              "    <tr>\n",
              "      <th>0</th>\n",
              "      <td>1</td>\n",
              "      <td>Lamtone</td>\n",
              "      <td>IT Services</td>\n",
              "      <td>2009</td>\n",
              "      <td>$11,757,018</td>\n",
              "      <td>6,482,465 Dollars</td>\n",
              "      <td>5274553</td>\n",
              "      <td>30%</td>\n",
              "    </tr>\n",
              "    <tr>\n",
              "      <th>1</th>\n",
              "      <td>2</td>\n",
              "      <td>Stripfind</td>\n",
              "      <td>Financial Services</td>\n",
              "      <td>2010</td>\n",
              "      <td>$12,329,371</td>\n",
              "      <td>916,455 Dollars</td>\n",
              "      <td>11412916</td>\n",
              "      <td>20%</td>\n",
              "    </tr>\n",
              "    <tr>\n",
              "      <th>2</th>\n",
              "      <td>3</td>\n",
              "      <td>Canecorporation</td>\n",
              "      <td>Financial Services</td>\n",
              "      <td>2012</td>\n",
              "      <td>$10,597,009</td>\n",
              "      <td>7,591,189 Dollars</td>\n",
              "      <td>3005820</td>\n",
              "      <td>7%</td>\n",
              "    </tr>\n",
              "    <tr>\n",
              "      <th>3</th>\n",
              "      <td>4</td>\n",
              "      <td>Mattouch</td>\n",
              "      <td>IT Services</td>\n",
              "      <td>2013</td>\n",
              "      <td>$14,026,934</td>\n",
              "      <td>7,429,377 Dollars</td>\n",
              "      <td>6597557</td>\n",
              "      <td>not available</td>\n",
              "    </tr>\n",
              "    <tr>\n",
              "      <th>4</th>\n",
              "      <td>5</td>\n",
              "      <td>Techdrill</td>\n",
              "      <td>NaN</td>\n",
              "      <td>2009</td>\n",
              "      <td>$10,573,990</td>\n",
              "      <td>7,435,363 Dollars</td>\n",
              "      <td>3138627</td>\n",
              "      <td>NaN</td>\n",
              "    </tr>\n",
              "    <tr>\n",
              "      <th>5</th>\n",
              "      <td>6</td>\n",
              "      <td>Techline</td>\n",
              "      <td>NaN</td>\n",
              "      <td>2006</td>\n",
              "      <td>$13,898,119</td>\n",
              "      <td>5,470,303 Dollars</td>\n",
              "      <td>8427816</td>\n",
              "      <td>NaN</td>\n",
              "    </tr>\n",
              "    <tr>\n",
              "      <th>6</th>\n",
              "      <td>7</td>\n",
              "      <td>Cityace</td>\n",
              "      <td>NaN</td>\n",
              "      <td>2010</td>\n",
              "      <td>$9,254,614</td>\n",
              "      <td>6,249,498 Dollars</td>\n",
              "      <td>3005116</td>\n",
              "      <td>6%</td>\n",
              "    </tr>\n",
              "    <tr>\n",
              "      <th>7</th>\n",
              "      <td>8</td>\n",
              "      <td>Kayelectronics</td>\n",
              "      <td>NaN</td>\n",
              "      <td>2009</td>\n",
              "      <td>$9,451,943</td>\n",
              "      <td>3,878,113 Dollars</td>\n",
              "      <td>5573830</td>\n",
              "      <td>4%</td>\n",
              "    </tr>\n",
              "    <tr>\n",
              "      <th>8</th>\n",
              "      <td>9</td>\n",
              "      <td>Ganzlax</td>\n",
              "      <td>IT Services</td>\n",
              "      <td>2011</td>\n",
              "      <td>$14,001,180</td>\n",
              "      <td>NaN</td>\n",
              "      <td>11901180</td>\n",
              "      <td>18%</td>\n",
              "    </tr>\n",
              "    <tr>\n",
              "      <th>9</th>\n",
              "      <td>10</td>\n",
              "      <td>Trantraxlax</td>\n",
              "      <td>Government Services</td>\n",
              "      <td>2011</td>\n",
              "      <td>$11,088,336</td>\n",
              "      <td>5,635,276 Dollars</td>\n",
              "      <td>5453060</td>\n",
              "      <td>7%</td>\n",
              "    </tr>\n",
              "  </tbody>\n",
              "</table>\n",
              "</div>"
            ],
            "text/plain": [
              "   ID             Name             Industry  Inception       Revenue  \\\n",
              "0   1          Lamtone          IT Services       2009  $11,757,018    \n",
              "1   2        Stripfind   Financial Services       2010  $12,329,371    \n",
              "2   3  Canecorporation   Financial Services       2012  $10,597,009    \n",
              "3   4         Mattouch          IT Services       2013  $14,026,934    \n",
              "4   5        Techdrill                  NaN       2009  $10,573,990    \n",
              "5   6         Techline                  NaN       2006  $13,898,119    \n",
              "6   7          Cityace                  NaN       2010   $9,254,614    \n",
              "7   8   Kayelectronics                  NaN       2009   $9,451,943    \n",
              "8   9          Ganzlax          IT Services       2011  $14,001,180    \n",
              "9  10      Trantraxlax  Government Services       2011  $11,088,336    \n",
              "\n",
              "            Expenses    Profit         Growth  \n",
              "0  6,482,465 Dollars   5274553            30%  \n",
              "1    916,455 Dollars  11412916            20%  \n",
              "2  7,591,189 Dollars   3005820             7%  \n",
              "3  7,429,377 Dollars   6597557  not available  \n",
              "4  7,435,363 Dollars   3138627            NaN  \n",
              "5  5,470,303 Dollars   8427816            NaN  \n",
              "6  6,249,498 Dollars   3005116             6%  \n",
              "7  3,878,113 Dollars   5573830             4%  \n",
              "8                NaN  11901180            18%  \n",
              "9  5,635,276 Dollars   5453060             7%  "
            ]
          },
          "execution_count": 99,
          "metadata": {},
          "output_type": "execute_result"
        }
      ],
      "source": [
        "df.replace('Health',method = 'ffill')"
      ]
    },
    {
      "cell_type": "code",
      "execution_count": null,
      "id": "8f6a3311",
      "metadata": {
        "id": "8f6a3311",
        "outputId": "0050e616-dc74-42dd-a282-634048a2a78a"
      },
      "outputs": [
        {
          "data": {
            "text/html": [
              "<div>\n",
              "<style scoped>\n",
              "    .dataframe tbody tr th:only-of-type {\n",
              "        vertical-align: middle;\n",
              "    }\n",
              "\n",
              "    .dataframe tbody tr th {\n",
              "        vertical-align: top;\n",
              "    }\n",
              "\n",
              "    .dataframe thead th {\n",
              "        text-align: right;\n",
              "    }\n",
              "</style>\n",
              "<table border=\"1\" class=\"dataframe\">\n",
              "  <thead>\n",
              "    <tr style=\"text-align: right;\">\n",
              "      <th></th>\n",
              "      <th>ID</th>\n",
              "      <th>Name</th>\n",
              "      <th>Industry</th>\n",
              "      <th>Inception</th>\n",
              "      <th>Revenue</th>\n",
              "      <th>Expenses</th>\n",
              "      <th>Profit</th>\n",
              "      <th>Growth</th>\n",
              "    </tr>\n",
              "  </thead>\n",
              "  <tbody>\n",
              "    <tr>\n",
              "      <th>0</th>\n",
              "      <td>1</td>\n",
              "      <td>Lamtone</td>\n",
              "      <td>IT Services</td>\n",
              "      <td>2009</td>\n",
              "      <td>$11,757,018</td>\n",
              "      <td>6,482,465 Dollars</td>\n",
              "      <td>5274553</td>\n",
              "      <td>30%</td>\n",
              "    </tr>\n",
              "    <tr>\n",
              "      <th>1</th>\n",
              "      <td>2</td>\n",
              "      <td>Stripfind</td>\n",
              "      <td>Financial Services</td>\n",
              "      <td>2010</td>\n",
              "      <td>$12,329,371</td>\n",
              "      <td>916,455 Dollars</td>\n",
              "      <td>11412916</td>\n",
              "      <td>20%</td>\n",
              "    </tr>\n",
              "    <tr>\n",
              "      <th>2</th>\n",
              "      <td>3</td>\n",
              "      <td>Canecorporation</td>\n",
              "      <td>IT Services</td>\n",
              "      <td>2012</td>\n",
              "      <td>$10,597,009</td>\n",
              "      <td>7,591,189 Dollars</td>\n",
              "      <td>3005820</td>\n",
              "      <td>7%</td>\n",
              "    </tr>\n",
              "    <tr>\n",
              "      <th>3</th>\n",
              "      <td>4</td>\n",
              "      <td>Mattouch</td>\n",
              "      <td>IT Services</td>\n",
              "      <td>2013</td>\n",
              "      <td>$14,026,934</td>\n",
              "      <td>7,429,377 Dollars</td>\n",
              "      <td>6597557</td>\n",
              "      <td>not available</td>\n",
              "    </tr>\n",
              "    <tr>\n",
              "      <th>4</th>\n",
              "      <td>5</td>\n",
              "      <td>Techdrill</td>\n",
              "      <td>NaN</td>\n",
              "      <td>2009</td>\n",
              "      <td>$10,573,990</td>\n",
              "      <td>7,435,363 Dollars</td>\n",
              "      <td>3138627</td>\n",
              "      <td>NaN</td>\n",
              "    </tr>\n",
              "    <tr>\n",
              "      <th>5</th>\n",
              "      <td>6</td>\n",
              "      <td>Techline</td>\n",
              "      <td>NaN</td>\n",
              "      <td>2006</td>\n",
              "      <td>$13,898,119</td>\n",
              "      <td>5,470,303 Dollars</td>\n",
              "      <td>8427816</td>\n",
              "      <td>NaN</td>\n",
              "    </tr>\n",
              "    <tr>\n",
              "      <th>6</th>\n",
              "      <td>7</td>\n",
              "      <td>Cityace</td>\n",
              "      <td>NaN</td>\n",
              "      <td>2010</td>\n",
              "      <td>$9,254,614</td>\n",
              "      <td>6,249,498 Dollars</td>\n",
              "      <td>3005116</td>\n",
              "      <td>6%</td>\n",
              "    </tr>\n",
              "    <tr>\n",
              "      <th>7</th>\n",
              "      <td>8</td>\n",
              "      <td>Kayelectronics</td>\n",
              "      <td>NaN</td>\n",
              "      <td>2009</td>\n",
              "      <td>$9,451,943</td>\n",
              "      <td>3,878,113 Dollars</td>\n",
              "      <td>5573830</td>\n",
              "      <td>4%</td>\n",
              "    </tr>\n",
              "    <tr>\n",
              "      <th>8</th>\n",
              "      <td>9</td>\n",
              "      <td>Ganzlax</td>\n",
              "      <td>IT Services</td>\n",
              "      <td>2011</td>\n",
              "      <td>$14,001,180</td>\n",
              "      <td>NaN</td>\n",
              "      <td>11901180</td>\n",
              "      <td>18%</td>\n",
              "    </tr>\n",
              "    <tr>\n",
              "      <th>9</th>\n",
              "      <td>10</td>\n",
              "      <td>Trantraxlax</td>\n",
              "      <td>Government Services</td>\n",
              "      <td>2011</td>\n",
              "      <td>$11,088,336</td>\n",
              "      <td>5,635,276 Dollars</td>\n",
              "      <td>5453060</td>\n",
              "      <td>7%</td>\n",
              "    </tr>\n",
              "  </tbody>\n",
              "</table>\n",
              "</div>"
            ],
            "text/plain": [
              "   ID             Name             Industry  Inception       Revenue  \\\n",
              "0   1          Lamtone          IT Services       2009  $11,757,018    \n",
              "1   2        Stripfind   Financial Services       2010  $12,329,371    \n",
              "2   3  Canecorporation          IT Services       2012  $10,597,009    \n",
              "3   4         Mattouch          IT Services       2013  $14,026,934    \n",
              "4   5        Techdrill                  NaN       2009  $10,573,990    \n",
              "5   6         Techline                  NaN       2006  $13,898,119    \n",
              "6   7          Cityace                  NaN       2010   $9,254,614    \n",
              "7   8   Kayelectronics                  NaN       2009   $9,451,943    \n",
              "8   9          Ganzlax          IT Services       2011  $14,001,180    \n",
              "9  10      Trantraxlax  Government Services       2011  $11,088,336    \n",
              "\n",
              "            Expenses    Profit         Growth  \n",
              "0  6,482,465 Dollars   5274553            30%  \n",
              "1    916,455 Dollars  11412916            20%  \n",
              "2  7,591,189 Dollars   3005820             7%  \n",
              "3  7,429,377 Dollars   6597557  not available  \n",
              "4  7,435,363 Dollars   3138627            NaN  \n",
              "5  5,470,303 Dollars   8427816            NaN  \n",
              "6  6,249,498 Dollars   3005116             6%  \n",
              "7  3,878,113 Dollars   5573830             4%  \n",
              "8                NaN  11901180            18%  \n",
              "9  5,635,276 Dollars   5453060             7%  "
            ]
          },
          "execution_count": 100,
          "metadata": {},
          "output_type": "execute_result"
        }
      ],
      "source": [
        "df.replace('Health',method = 'bfill')"
      ]
    },
    {
      "cell_type": "code",
      "execution_count": null,
      "id": "ba93492b",
      "metadata": {
        "id": "ba93492b"
      },
      "outputs": [],
      "source": [
        "# df.replace(0,method = 'bfill',limit = 1)"
      ]
    },
    {
      "cell_type": "code",
      "execution_count": null,
      "id": "3ae63ebf",
      "metadata": {
        "id": "3ae63ebf",
        "outputId": "30a45df9-97e3-4d3f-b1bc-8bf5aa802367"
      },
      "outputs": [
        {
          "data": {
            "text/html": [
              "<div>\n",
              "<style scoped>\n",
              "    .dataframe tbody tr th:only-of-type {\n",
              "        vertical-align: middle;\n",
              "    }\n",
              "\n",
              "    .dataframe tbody tr th {\n",
              "        vertical-align: top;\n",
              "    }\n",
              "\n",
              "    .dataframe thead th {\n",
              "        text-align: right;\n",
              "    }\n",
              "</style>\n",
              "<table border=\"1\" class=\"dataframe\">\n",
              "  <thead>\n",
              "    <tr style=\"text-align: right;\">\n",
              "      <th></th>\n",
              "      <th>ID</th>\n",
              "      <th>Name</th>\n",
              "      <th>Industry</th>\n",
              "      <th>Inception</th>\n",
              "      <th>Revenue</th>\n",
              "      <th>Expenses</th>\n",
              "      <th>Profit</th>\n",
              "      <th>Growth</th>\n",
              "    </tr>\n",
              "  </thead>\n",
              "  <tbody>\n",
              "    <tr>\n",
              "      <th>0</th>\n",
              "      <td>1</td>\n",
              "      <td>Lamtone</td>\n",
              "      <td>IT Services</td>\n",
              "      <td>2009</td>\n",
              "      <td>$11,757,018</td>\n",
              "      <td>6,482,465 Dollars</td>\n",
              "      <td>5274553</td>\n",
              "      <td>30%</td>\n",
              "    </tr>\n",
              "    <tr>\n",
              "      <th>1</th>\n",
              "      <td>2</td>\n",
              "      <td>Stripfind</td>\n",
              "      <td>Financial Services</td>\n",
              "      <td>2010</td>\n",
              "      <td>$12,329,371</td>\n",
              "      <td>916,455 Dollars</td>\n",
              "      <td>11412916</td>\n",
              "      <td>20%</td>\n",
              "    </tr>\n",
              "    <tr>\n",
              "      <th>2</th>\n",
              "      <td>3</td>\n",
              "      <td>Canecorporation</td>\n",
              "      <td>Health</td>\n",
              "      <td>2012</td>\n",
              "      <td>$10,597,009</td>\n",
              "      <td>7,591,189 Dollars</td>\n",
              "      <td>3005820</td>\n",
              "      <td>7%</td>\n",
              "    </tr>\n",
              "    <tr>\n",
              "      <th>3</th>\n",
              "      <td>4</td>\n",
              "      <td>Mattouch</td>\n",
              "      <td>IT Services</td>\n",
              "      <td>2013</td>\n",
              "      <td>$14,026,934</td>\n",
              "      <td>7,429,377 Dollars</td>\n",
              "      <td>6597557</td>\n",
              "      <td>not available</td>\n",
              "    </tr>\n",
              "    <tr>\n",
              "      <th>4</th>\n",
              "      <td>5</td>\n",
              "      <td>Techdrill</td>\n",
              "      <td>NaN</td>\n",
              "      <td>2009</td>\n",
              "      <td>$10,573,990</td>\n",
              "      <td>7,435,363 Dollars</td>\n",
              "      <td>3138627</td>\n",
              "      <td>NaN</td>\n",
              "    </tr>\n",
              "    <tr>\n",
              "      <th>5</th>\n",
              "      <td>6</td>\n",
              "      <td>Techline</td>\n",
              "      <td>NaN</td>\n",
              "      <td>2006</td>\n",
              "      <td>$13,898,119</td>\n",
              "      <td>5,470,303 Dollars</td>\n",
              "      <td>8427816</td>\n",
              "      <td>NaN</td>\n",
              "    </tr>\n",
              "    <tr>\n",
              "      <th>6</th>\n",
              "      <td>7</td>\n",
              "      <td>Cityace</td>\n",
              "      <td>NaN</td>\n",
              "      <td>2010</td>\n",
              "      <td>$9,254,614</td>\n",
              "      <td>6,249,498 Dollars</td>\n",
              "      <td>3005116</td>\n",
              "      <td>6%</td>\n",
              "    </tr>\n",
              "    <tr>\n",
              "      <th>7</th>\n",
              "      <td>8</td>\n",
              "      <td>Kayelectronics</td>\n",
              "      <td>NaN</td>\n",
              "      <td>2009</td>\n",
              "      <td>$9,451,943</td>\n",
              "      <td>3,878,113 Dollars</td>\n",
              "      <td>5573830</td>\n",
              "      <td>4%</td>\n",
              "    </tr>\n",
              "    <tr>\n",
              "      <th>8</th>\n",
              "      <td>9</td>\n",
              "      <td>Ganzlax</td>\n",
              "      <td>IT Services</td>\n",
              "      <td>2011</td>\n",
              "      <td>$14,001,180</td>\n",
              "      <td>NaN</td>\n",
              "      <td>11901180</td>\n",
              "      <td>18%</td>\n",
              "    </tr>\n",
              "    <tr>\n",
              "      <th>9</th>\n",
              "      <td>10</td>\n",
              "      <td>Trantraxlax</td>\n",
              "      <td>Government Services</td>\n",
              "      <td>2011</td>\n",
              "      <td>$11,088,336</td>\n",
              "      <td>5,635,276 Dollars</td>\n",
              "      <td>5453060</td>\n",
              "      <td>7%</td>\n",
              "    </tr>\n",
              "  </tbody>\n",
              "</table>\n",
              "</div>"
            ],
            "text/plain": [
              "   ID             Name             Industry  Inception       Revenue  \\\n",
              "0   1          Lamtone          IT Services       2009  $11,757,018    \n",
              "1   2        Stripfind   Financial Services       2010  $12,329,371    \n",
              "2   3  Canecorporation               Health       2012  $10,597,009    \n",
              "3   4         Mattouch          IT Services       2013  $14,026,934    \n",
              "4   5        Techdrill                  NaN       2009  $10,573,990    \n",
              "5   6         Techline                  NaN       2006  $13,898,119    \n",
              "6   7          Cityace                  NaN       2010   $9,254,614    \n",
              "7   8   Kayelectronics                  NaN       2009   $9,451,943    \n",
              "8   9          Ganzlax          IT Services       2011  $14,001,180    \n",
              "9  10      Trantraxlax  Government Services       2011  $11,088,336    \n",
              "\n",
              "            Expenses    Profit         Growth  \n",
              "0  6,482,465 Dollars   5274553            30%  \n",
              "1    916,455 Dollars  11412916            20%  \n",
              "2  7,591,189 Dollars   3005820             7%  \n",
              "3  7,429,377 Dollars   6597557  not available  \n",
              "4  7,435,363 Dollars   3138627            NaN  \n",
              "5  5,470,303 Dollars   8427816            NaN  \n",
              "6  6,249,498 Dollars   3005116             6%  \n",
              "7  3,878,113 Dollars   5573830             4%  \n",
              "8                NaN  11901180            18%  \n",
              "9  5,635,276 Dollars   5453060             7%  "
            ]
          },
          "execution_count": 102,
          "metadata": {},
          "output_type": "execute_result"
        }
      ],
      "source": [
        "df.replace(0,100,inplace = True)\n",
        "df"
      ]
    },
    {
      "cell_type": "markdown",
      "id": "d572fd0d",
      "metadata": {
        "id": "d572fd0d"
      },
      "source": [
        "***Interpolate***"
      ]
    },
    {
      "cell_type": "code",
      "execution_count": null,
      "id": "1806265e",
      "metadata": {
        "scrolled": true,
        "id": "1806265e",
        "outputId": "382556b7-ab27-4358-f4a1-bebb1e5c21a7"
      },
      "outputs": [
        {
          "data": {
            "text/html": [
              "<div>\n",
              "<style scoped>\n",
              "    .dataframe tbody tr th:only-of-type {\n",
              "        vertical-align: middle;\n",
              "    }\n",
              "\n",
              "    .dataframe tbody tr th {\n",
              "        vertical-align: top;\n",
              "    }\n",
              "\n",
              "    .dataframe thead th {\n",
              "        text-align: right;\n",
              "    }\n",
              "</style>\n",
              "<table border=\"1\" class=\"dataframe\">\n",
              "  <thead>\n",
              "    <tr style=\"text-align: right;\">\n",
              "      <th></th>\n",
              "      <th>Student ID</th>\n",
              "      <th>Class</th>\n",
              "      <th>Section</th>\n",
              "      <th>Study Hrs</th>\n",
              "      <th>Percantege</th>\n",
              "    </tr>\n",
              "    <tr>\n",
              "      <th>Date</th>\n",
              "      <th></th>\n",
              "      <th></th>\n",
              "      <th></th>\n",
              "      <th></th>\n",
              "      <th></th>\n",
              "    </tr>\n",
              "  </thead>\n",
              "  <tbody>\n",
              "    <tr>\n",
              "      <th>2019-01-07</th>\n",
              "      <td>1001.0</td>\n",
              "      <td>10</td>\n",
              "      <td>A</td>\n",
              "      <td>2.0</td>\n",
              "      <td>50.0</td>\n",
              "    </tr>\n",
              "    <tr>\n",
              "      <th>2019-02-07</th>\n",
              "      <td>1002.0</td>\n",
              "      <td>10</td>\n",
              "      <td>NaN</td>\n",
              "      <td>NaN</td>\n",
              "      <td>80.0</td>\n",
              "    </tr>\n",
              "    <tr>\n",
              "      <th>2019-03-07</th>\n",
              "      <td>NaN</td>\n",
              "      <td>10</td>\n",
              "      <td>NaN</td>\n",
              "      <td>3.0</td>\n",
              "      <td>60.0</td>\n",
              "    </tr>\n",
              "    <tr>\n",
              "      <th>2019-06-07</th>\n",
              "      <td>NaN</td>\n",
              "      <td>11</td>\n",
              "      <td>NaN</td>\n",
              "      <td>0.0</td>\n",
              "      <td>NaN</td>\n",
              "    </tr>\n",
              "    <tr>\n",
              "      <th>2019-07-07</th>\n",
              "      <td>1005.0</td>\n",
              "      <td>11</td>\n",
              "      <td>A</td>\n",
              "      <td>NaN</td>\n",
              "      <td>NaN</td>\n",
              "    </tr>\n",
              "  </tbody>\n",
              "</table>\n",
              "</div>"
            ],
            "text/plain": [
              "            Student ID  Class Section  Study Hrs  Percantege\n",
              "Date                                                        \n",
              "2019-01-07      1001.0     10       A        2.0        50.0\n",
              "2019-02-07      1002.0     10     NaN        NaN        80.0\n",
              "2019-03-07         NaN     10     NaN        3.0        60.0\n",
              "2019-06-07         NaN     11     NaN        0.0         NaN\n",
              "2019-07-07      1005.0     11       A        NaN         NaN"
            ]
          },
          "execution_count": 103,
          "metadata": {},
          "output_type": "execute_result"
        }
      ],
      "source": [
        "df = pd.read_csv('C:\\\\Users\\Chandrakant\\Downloads\\Pandas\\student_10.csv',parse_dates = ['Date'],index_col = 'Date')\n",
        "df"
      ]
    },
    {
      "cell_type": "code",
      "execution_count": null,
      "id": "0c45cdd9",
      "metadata": {
        "scrolled": true,
        "id": "0c45cdd9",
        "outputId": "93d35e5e-58dc-4990-d321-ebc1c7032023"
      },
      "outputs": [
        {
          "data": {
            "text/html": [
              "<div>\n",
              "<style scoped>\n",
              "    .dataframe tbody tr th:only-of-type {\n",
              "        vertical-align: middle;\n",
              "    }\n",
              "\n",
              "    .dataframe tbody tr th {\n",
              "        vertical-align: top;\n",
              "    }\n",
              "\n",
              "    .dataframe thead th {\n",
              "        text-align: right;\n",
              "    }\n",
              "</style>\n",
              "<table border=\"1\" class=\"dataframe\">\n",
              "  <thead>\n",
              "    <tr style=\"text-align: right;\">\n",
              "      <th></th>\n",
              "      <th>Student ID</th>\n",
              "      <th>Class</th>\n",
              "      <th>Section</th>\n",
              "      <th>Study Hrs</th>\n",
              "      <th>Percantege</th>\n",
              "    </tr>\n",
              "    <tr>\n",
              "      <th>Date</th>\n",
              "      <th></th>\n",
              "      <th></th>\n",
              "      <th></th>\n",
              "      <th></th>\n",
              "      <th></th>\n",
              "    </tr>\n",
              "  </thead>\n",
              "  <tbody>\n",
              "    <tr>\n",
              "      <th>2019-01-07</th>\n",
              "      <td>1001.00</td>\n",
              "      <td>10</td>\n",
              "      <td>A</td>\n",
              "      <td>2.000000</td>\n",
              "      <td>50.0</td>\n",
              "    </tr>\n",
              "    <tr>\n",
              "      <th>2019-02-07</th>\n",
              "      <td>1002.00</td>\n",
              "      <td>10</td>\n",
              "      <td>NaN</td>\n",
              "      <td>2.525424</td>\n",
              "      <td>80.0</td>\n",
              "    </tr>\n",
              "    <tr>\n",
              "      <th>2019-03-07</th>\n",
              "      <td>1002.56</td>\n",
              "      <td>10</td>\n",
              "      <td>NaN</td>\n",
              "      <td>3.000000</td>\n",
              "      <td>60.0</td>\n",
              "    </tr>\n",
              "    <tr>\n",
              "      <th>2019-06-07</th>\n",
              "      <td>1004.40</td>\n",
              "      <td>11</td>\n",
              "      <td>NaN</td>\n",
              "      <td>0.000000</td>\n",
              "      <td>60.0</td>\n",
              "    </tr>\n",
              "    <tr>\n",
              "      <th>2019-07-07</th>\n",
              "      <td>1005.00</td>\n",
              "      <td>11</td>\n",
              "      <td>A</td>\n",
              "      <td>0.000000</td>\n",
              "      <td>60.0</td>\n",
              "    </tr>\n",
              "  </tbody>\n",
              "</table>\n",
              "</div>"
            ],
            "text/plain": [
              "            Student ID  Class Section  Study Hrs  Percantege\n",
              "Date                                                        \n",
              "2019-01-07     1001.00     10       A   2.000000        50.0\n",
              "2019-02-07     1002.00     10     NaN   2.525424        80.0\n",
              "2019-03-07     1002.56     10     NaN   3.000000        60.0\n",
              "2019-06-07     1004.40     11     NaN   0.000000        60.0\n",
              "2019-07-07     1005.00     11       A   0.000000        60.0"
            ]
          },
          "execution_count": 104,
          "metadata": {},
          "output_type": "execute_result"
        }
      ],
      "source": [
        "df.interpolate(method = 'time')"
      ]
    },
    {
      "cell_type": "code",
      "execution_count": null,
      "id": "9dfd27d8",
      "metadata": {
        "id": "9dfd27d8",
        "outputId": "cc83f55b-16ae-4922-bb63-5bc23e97ff6c"
      },
      "outputs": [
        {
          "data": {
            "text/html": [
              "<div>\n",
              "<style scoped>\n",
              "    .dataframe tbody tr th:only-of-type {\n",
              "        vertical-align: middle;\n",
              "    }\n",
              "\n",
              "    .dataframe tbody tr th {\n",
              "        vertical-align: top;\n",
              "    }\n",
              "\n",
              "    .dataframe thead th {\n",
              "        text-align: right;\n",
              "    }\n",
              "</style>\n",
              "<table border=\"1\" class=\"dataframe\">\n",
              "  <thead>\n",
              "    <tr style=\"text-align: right;\">\n",
              "      <th></th>\n",
              "      <th>Student ID</th>\n",
              "      <th>Class</th>\n",
              "      <th>Section</th>\n",
              "      <th>Study Hrs</th>\n",
              "      <th>Percantege</th>\n",
              "    </tr>\n",
              "    <tr>\n",
              "      <th>Date</th>\n",
              "      <th></th>\n",
              "      <th></th>\n",
              "      <th></th>\n",
              "      <th></th>\n",
              "      <th></th>\n",
              "    </tr>\n",
              "  </thead>\n",
              "  <tbody>\n",
              "    <tr>\n",
              "      <th>2019-01-07</th>\n",
              "      <td>1001.0</td>\n",
              "      <td>10</td>\n",
              "      <td>A</td>\n",
              "      <td>2.0</td>\n",
              "      <td>50.0</td>\n",
              "    </tr>\n",
              "    <tr>\n",
              "      <th>2019-02-07</th>\n",
              "      <td>1002.0</td>\n",
              "      <td>10</td>\n",
              "      <td>NaN</td>\n",
              "      <td>2.5</td>\n",
              "      <td>80.0</td>\n",
              "    </tr>\n",
              "    <tr>\n",
              "      <th>2019-03-07</th>\n",
              "      <td>1003.0</td>\n",
              "      <td>10</td>\n",
              "      <td>NaN</td>\n",
              "      <td>3.0</td>\n",
              "      <td>60.0</td>\n",
              "    </tr>\n",
              "    <tr>\n",
              "      <th>2019-06-07</th>\n",
              "      <td>1004.0</td>\n",
              "      <td>11</td>\n",
              "      <td>NaN</td>\n",
              "      <td>0.0</td>\n",
              "      <td>60.0</td>\n",
              "    </tr>\n",
              "    <tr>\n",
              "      <th>2019-07-07</th>\n",
              "      <td>1005.0</td>\n",
              "      <td>11</td>\n",
              "      <td>A</td>\n",
              "      <td>0.0</td>\n",
              "      <td>60.0</td>\n",
              "    </tr>\n",
              "  </tbody>\n",
              "</table>\n",
              "</div>"
            ],
            "text/plain": [
              "            Student ID  Class Section  Study Hrs  Percantege\n",
              "Date                                                        \n",
              "2019-01-07      1001.0     10       A        2.0        50.0\n",
              "2019-02-07      1002.0     10     NaN        2.5        80.0\n",
              "2019-03-07      1003.0     10     NaN        3.0        60.0\n",
              "2019-06-07      1004.0     11     NaN        0.0        60.0\n",
              "2019-07-07      1005.0     11       A        0.0        60.0"
            ]
          },
          "execution_count": 105,
          "metadata": {},
          "output_type": "execute_result"
        }
      ],
      "source": [
        "df.interpolate(method = 'linear')"
      ]
    },
    {
      "cell_type": "code",
      "execution_count": null,
      "id": "8ba70eb1",
      "metadata": {
        "scrolled": true,
        "id": "8ba70eb1",
        "outputId": "757ac065-bfa1-4baa-e9df-c472d4b040e5"
      },
      "outputs": [
        {
          "data": {
            "text/html": [
              "<div>\n",
              "<style scoped>\n",
              "    .dataframe tbody tr th:only-of-type {\n",
              "        vertical-align: middle;\n",
              "    }\n",
              "\n",
              "    .dataframe tbody tr th {\n",
              "        vertical-align: top;\n",
              "    }\n",
              "\n",
              "    .dataframe thead th {\n",
              "        text-align: right;\n",
              "    }\n",
              "</style>\n",
              "<table border=\"1\" class=\"dataframe\">\n",
              "  <thead>\n",
              "    <tr style=\"text-align: right;\">\n",
              "      <th></th>\n",
              "      <th>Student ID</th>\n",
              "      <th>Class</th>\n",
              "      <th>Section</th>\n",
              "      <th>Study Hrs</th>\n",
              "      <th>Percantege</th>\n",
              "    </tr>\n",
              "    <tr>\n",
              "      <th>Date</th>\n",
              "      <th></th>\n",
              "      <th></th>\n",
              "      <th></th>\n",
              "      <th></th>\n",
              "      <th></th>\n",
              "    </tr>\n",
              "  </thead>\n",
              "  <tbody>\n",
              "    <tr>\n",
              "      <th>2019-01-07</th>\n",
              "      <td>1001.00</td>\n",
              "      <td>10</td>\n",
              "      <td>A</td>\n",
              "      <td>2.000000</td>\n",
              "      <td>50.0</td>\n",
              "    </tr>\n",
              "    <tr>\n",
              "      <th>2019-02-07</th>\n",
              "      <td>1002.00</td>\n",
              "      <td>10</td>\n",
              "      <td>NaN</td>\n",
              "      <td>2.525424</td>\n",
              "      <td>80.0</td>\n",
              "    </tr>\n",
              "    <tr>\n",
              "      <th>2019-03-07</th>\n",
              "      <td>1002.56</td>\n",
              "      <td>10</td>\n",
              "      <td>NaN</td>\n",
              "      <td>3.000000</td>\n",
              "      <td>60.0</td>\n",
              "    </tr>\n",
              "    <tr>\n",
              "      <th>2019-06-07</th>\n",
              "      <td>1004.40</td>\n",
              "      <td>11</td>\n",
              "      <td>NaN</td>\n",
              "      <td>0.000000</td>\n",
              "      <td>60.0</td>\n",
              "    </tr>\n",
              "    <tr>\n",
              "      <th>2019-07-07</th>\n",
              "      <td>1005.00</td>\n",
              "      <td>11</td>\n",
              "      <td>A</td>\n",
              "      <td>0.000000</td>\n",
              "      <td>60.0</td>\n",
              "    </tr>\n",
              "  </tbody>\n",
              "</table>\n",
              "</div>"
            ],
            "text/plain": [
              "            Student ID  Class Section  Study Hrs  Percantege\n",
              "Date                                                        \n",
              "2019-01-07     1001.00     10       A   2.000000        50.0\n",
              "2019-02-07     1002.00     10     NaN   2.525424        80.0\n",
              "2019-03-07     1002.56     10     NaN   3.000000        60.0\n",
              "2019-06-07     1004.40     11     NaN   0.000000        60.0\n",
              "2019-07-07     1005.00     11       A   0.000000        60.0"
            ]
          },
          "execution_count": 106,
          "metadata": {},
          "output_type": "execute_result"
        }
      ],
      "source": [
        "df.interpolate(method = 'index')"
      ]
    },
    {
      "cell_type": "code",
      "execution_count": null,
      "id": "805340d5",
      "metadata": {
        "scrolled": true,
        "id": "805340d5"
      },
      "outputs": [],
      "source": [
        "# df.interpolate(method = 'polynomial',order = 1)"
      ]
    },
    {
      "cell_type": "code",
      "execution_count": null,
      "id": "86d1a062",
      "metadata": {
        "scrolled": true,
        "id": "86d1a062",
        "outputId": "4f059ce9-8d85-464e-fa30-cb27f08be14a"
      },
      "outputs": [
        {
          "data": {
            "text/html": [
              "<div>\n",
              "<style scoped>\n",
              "    .dataframe tbody tr th:only-of-type {\n",
              "        vertical-align: middle;\n",
              "    }\n",
              "\n",
              "    .dataframe tbody tr th {\n",
              "        vertical-align: top;\n",
              "    }\n",
              "\n",
              "    .dataframe thead th {\n",
              "        text-align: right;\n",
              "    }\n",
              "</style>\n",
              "<table border=\"1\" class=\"dataframe\">\n",
              "  <thead>\n",
              "    <tr style=\"text-align: right;\">\n",
              "      <th></th>\n",
              "      <th>Student ID</th>\n",
              "      <th>Class</th>\n",
              "      <th>Section</th>\n",
              "      <th>Study Hrs</th>\n",
              "      <th>Percantege</th>\n",
              "    </tr>\n",
              "    <tr>\n",
              "      <th>Date</th>\n",
              "      <th></th>\n",
              "      <th></th>\n",
              "      <th></th>\n",
              "      <th></th>\n",
              "      <th></th>\n",
              "    </tr>\n",
              "  </thead>\n",
              "  <tbody>\n",
              "    <tr>\n",
              "      <th>2019-01-07</th>\n",
              "      <td>1001.000000</td>\n",
              "      <td>10</td>\n",
              "      <td>A</td>\n",
              "      <td>2.000000</td>\n",
              "      <td>50.000000</td>\n",
              "    </tr>\n",
              "    <tr>\n",
              "      <th>2019-02-07</th>\n",
              "      <td>1002.000000</td>\n",
              "      <td>10</td>\n",
              "      <td>NaN</td>\n",
              "      <td>2.810299</td>\n",
              "      <td>80.000000</td>\n",
              "    </tr>\n",
              "    <tr>\n",
              "      <th>2019-03-07</th>\n",
              "      <td>1002.791346</td>\n",
              "      <td>10</td>\n",
              "      <td>NaN</td>\n",
              "      <td>3.000000</td>\n",
              "      <td>60.000000</td>\n",
              "    </tr>\n",
              "    <tr>\n",
              "      <th>2019-06-07</th>\n",
              "      <td>1004.643807</td>\n",
              "      <td>11</td>\n",
              "      <td>NaN</td>\n",
              "      <td>0.000000</td>\n",
              "      <td>-320.453019</td>\n",
              "    </tr>\n",
              "    <tr>\n",
              "      <th>2019-07-07</th>\n",
              "      <td>1005.000000</td>\n",
              "      <td>11</td>\n",
              "      <td>A</td>\n",
              "      <td>-2.179464</td>\n",
              "      <td>-548.856518</td>\n",
              "    </tr>\n",
              "  </tbody>\n",
              "</table>\n",
              "</div>"
            ],
            "text/plain": [
              "             Student ID  Class Section  Study Hrs  Percantege\n",
              "Date                                                         \n",
              "2019-01-07  1001.000000     10       A   2.000000   50.000000\n",
              "2019-02-07  1002.000000     10     NaN   2.810299   80.000000\n",
              "2019-03-07  1002.791346     10     NaN   3.000000   60.000000\n",
              "2019-06-07  1004.643807     11     NaN   0.000000 -320.453019\n",
              "2019-07-07  1005.000000     11       A  -2.179464 -548.856518"
            ]
          },
          "execution_count": 108,
          "metadata": {},
          "output_type": "execute_result"
        }
      ],
      "source": [
        "df.interpolate(method = 'spline',order = 2)"
      ]
    },
    {
      "cell_type": "code",
      "execution_count": null,
      "id": "9364fcb2",
      "metadata": {
        "id": "9364fcb2",
        "outputId": "4bcb7b55-1584-488b-fa78-628d04043285"
      },
      "outputs": [
        {
          "data": {
            "text/html": [
              "<div>\n",
              "<style scoped>\n",
              "    .dataframe tbody tr th:only-of-type {\n",
              "        vertical-align: middle;\n",
              "    }\n",
              "\n",
              "    .dataframe tbody tr th {\n",
              "        vertical-align: top;\n",
              "    }\n",
              "\n",
              "    .dataframe thead th {\n",
              "        text-align: right;\n",
              "    }\n",
              "</style>\n",
              "<table border=\"1\" class=\"dataframe\">\n",
              "  <thead>\n",
              "    <tr style=\"text-align: right;\">\n",
              "      <th></th>\n",
              "      <th>Student ID</th>\n",
              "      <th>Class</th>\n",
              "      <th>Section</th>\n",
              "      <th>Study Hrs</th>\n",
              "      <th>Percantege</th>\n",
              "    </tr>\n",
              "    <tr>\n",
              "      <th>Date</th>\n",
              "      <th></th>\n",
              "      <th></th>\n",
              "      <th></th>\n",
              "      <th></th>\n",
              "      <th></th>\n",
              "    </tr>\n",
              "  </thead>\n",
              "  <tbody>\n",
              "    <tr>\n",
              "      <th>2019-01-07</th>\n",
              "      <td>1001.0</td>\n",
              "      <td>10</td>\n",
              "      <td>A</td>\n",
              "      <td>2.0</td>\n",
              "      <td>50.0</td>\n",
              "    </tr>\n",
              "    <tr>\n",
              "      <th>2019-02-07</th>\n",
              "      <td>1002.0</td>\n",
              "      <td>10</td>\n",
              "      <td>NaN</td>\n",
              "      <td>2.5</td>\n",
              "      <td>80.0</td>\n",
              "    </tr>\n",
              "    <tr>\n",
              "      <th>2019-03-07</th>\n",
              "      <td>1003.0</td>\n",
              "      <td>10</td>\n",
              "      <td>NaN</td>\n",
              "      <td>3.0</td>\n",
              "      <td>60.0</td>\n",
              "    </tr>\n",
              "    <tr>\n",
              "      <th>2019-06-07</th>\n",
              "      <td>1004.0</td>\n",
              "      <td>11</td>\n",
              "      <td>NaN</td>\n",
              "      <td>0.0</td>\n",
              "      <td>60.0</td>\n",
              "    </tr>\n",
              "    <tr>\n",
              "      <th>2019-07-07</th>\n",
              "      <td>1005.0</td>\n",
              "      <td>11</td>\n",
              "      <td>A</td>\n",
              "      <td>0.0</td>\n",
              "      <td>60.0</td>\n",
              "    </tr>\n",
              "  </tbody>\n",
              "</table>\n",
              "</div>"
            ],
            "text/plain": [
              "            Student ID  Class Section  Study Hrs  Percantege\n",
              "Date                                                        \n",
              "2019-01-07      1001.0     10       A        2.0        50.0\n",
              "2019-02-07      1002.0     10     NaN        2.5        80.0\n",
              "2019-03-07      1003.0     10     NaN        3.0        60.0\n",
              "2019-06-07      1004.0     11     NaN        0.0        60.0\n",
              "2019-07-07      1005.0     11       A        0.0        60.0"
            ]
          },
          "execution_count": 109,
          "metadata": {},
          "output_type": "execute_result"
        }
      ],
      "source": [
        "df.interpolate()"
      ]
    },
    {
      "cell_type": "code",
      "execution_count": null,
      "id": "a7126d1c",
      "metadata": {
        "scrolled": true,
        "id": "a7126d1c",
        "outputId": "13223dc5-2b6b-4f82-be2f-ce7f98aa22ef"
      },
      "outputs": [
        {
          "data": {
            "text/html": [
              "<div>\n",
              "<style scoped>\n",
              "    .dataframe tbody tr th:only-of-type {\n",
              "        vertical-align: middle;\n",
              "    }\n",
              "\n",
              "    .dataframe tbody tr th {\n",
              "        vertical-align: top;\n",
              "    }\n",
              "\n",
              "    .dataframe thead th {\n",
              "        text-align: right;\n",
              "    }\n",
              "</style>\n",
              "<table border=\"1\" class=\"dataframe\">\n",
              "  <thead>\n",
              "    <tr style=\"text-align: right;\">\n",
              "      <th></th>\n",
              "      <th>Date</th>\n",
              "      <th>Student ID</th>\n",
              "      <th>Class</th>\n",
              "      <th>Section</th>\n",
              "      <th>Study Hrs</th>\n",
              "      <th>Percantege</th>\n",
              "    </tr>\n",
              "  </thead>\n",
              "  <tbody>\n",
              "    <tr>\n",
              "      <th>0</th>\n",
              "      <td>01-07-2019</td>\n",
              "      <td>1001.0</td>\n",
              "      <td>10</td>\n",
              "      <td>A</td>\n",
              "      <td>2.0</td>\n",
              "      <td>50.0</td>\n",
              "    </tr>\n",
              "    <tr>\n",
              "      <th>1</th>\n",
              "      <td>02-07-2019</td>\n",
              "      <td>1002.0</td>\n",
              "      <td>10</td>\n",
              "      <td>NaN</td>\n",
              "      <td>NaN</td>\n",
              "      <td>80.0</td>\n",
              "    </tr>\n",
              "    <tr>\n",
              "      <th>2</th>\n",
              "      <td>03-07-2019</td>\n",
              "      <td>NaN</td>\n",
              "      <td>10</td>\n",
              "      <td>NaN</td>\n",
              "      <td>3.0</td>\n",
              "      <td>60.0</td>\n",
              "    </tr>\n",
              "    <tr>\n",
              "      <th>3</th>\n",
              "      <td>06-07-2019</td>\n",
              "      <td>NaN</td>\n",
              "      <td>11</td>\n",
              "      <td>NaN</td>\n",
              "      <td>0.0</td>\n",
              "      <td>NaN</td>\n",
              "    </tr>\n",
              "    <tr>\n",
              "      <th>4</th>\n",
              "      <td>07-07-2019</td>\n",
              "      <td>1005.0</td>\n",
              "      <td>11</td>\n",
              "      <td>A</td>\n",
              "      <td>NaN</td>\n",
              "      <td>NaN</td>\n",
              "    </tr>\n",
              "  </tbody>\n",
              "</table>\n",
              "</div>"
            ],
            "text/plain": [
              "         Date  Student ID  Class Section  Study Hrs  Percantege\n",
              "0  01-07-2019      1001.0     10       A        2.0        50.0\n",
              "1  02-07-2019      1002.0     10     NaN        NaN        80.0\n",
              "2  03-07-2019         NaN     10     NaN        3.0        60.0\n",
              "3  06-07-2019         NaN     11     NaN        0.0         NaN\n",
              "4  07-07-2019      1005.0     11       A        NaN         NaN"
            ]
          },
          "execution_count": 110,
          "metadata": {},
          "output_type": "execute_result"
        }
      ],
      "source": [
        "df = pd.read_csv('C:\\\\Users\\Chandrakant\\Downloads\\Pandas\\student_10.csv')\n",
        "df"
      ]
    },
    {
      "cell_type": "code",
      "execution_count": null,
      "id": "ed295451",
      "metadata": {
        "id": "ed295451",
        "outputId": "5726371a-732a-4deb-d789-3ee403b84672"
      },
      "outputs": [
        {
          "data": {
            "text/plain": [
              "Date           object\n",
              "Student ID    float64\n",
              "Class           int64\n",
              "Section        object\n",
              "Study Hrs     float64\n",
              "Percantege    float64\n",
              "dtype: object"
            ]
          },
          "execution_count": 111,
          "metadata": {},
          "output_type": "execute_result"
        }
      ],
      "source": [
        "df.dtypes"
      ]
    },
    {
      "cell_type": "code",
      "execution_count": null,
      "id": "d01daf85",
      "metadata": {
        "scrolled": true,
        "id": "d01daf85",
        "outputId": "0800e53d-cf7c-46cc-bd5a-0ea3c96e6e32"
      },
      "outputs": [
        {
          "data": {
            "text/html": [
              "<div>\n",
              "<style scoped>\n",
              "    .dataframe tbody tr th:only-of-type {\n",
              "        vertical-align: middle;\n",
              "    }\n",
              "\n",
              "    .dataframe tbody tr th {\n",
              "        vertical-align: top;\n",
              "    }\n",
              "\n",
              "    .dataframe thead th {\n",
              "        text-align: right;\n",
              "    }\n",
              "</style>\n",
              "<table border=\"1\" class=\"dataframe\">\n",
              "  <thead>\n",
              "    <tr style=\"text-align: right;\">\n",
              "      <th></th>\n",
              "      <th>Date</th>\n",
              "      <th>Student ID</th>\n",
              "      <th>Class</th>\n",
              "      <th>Section</th>\n",
              "      <th>Study Hrs</th>\n",
              "      <th>Percantege</th>\n",
              "    </tr>\n",
              "  </thead>\n",
              "  <tbody>\n",
              "    <tr>\n",
              "      <th>0</th>\n",
              "      <td>01-07-2019</td>\n",
              "      <td>1001.0</td>\n",
              "      <td>10</td>\n",
              "      <td>A</td>\n",
              "      <td>2.0</td>\n",
              "      <td>50.0</td>\n",
              "    </tr>\n",
              "    <tr>\n",
              "      <th>1</th>\n",
              "      <td>02-07-2019</td>\n",
              "      <td>1002.0</td>\n",
              "      <td>10</td>\n",
              "      <td>NaN</td>\n",
              "      <td>2.5</td>\n",
              "      <td>80.0</td>\n",
              "    </tr>\n",
              "    <tr>\n",
              "      <th>2</th>\n",
              "      <td>03-07-2019</td>\n",
              "      <td>1003.0</td>\n",
              "      <td>10</td>\n",
              "      <td>NaN</td>\n",
              "      <td>3.0</td>\n",
              "      <td>60.0</td>\n",
              "    </tr>\n",
              "    <tr>\n",
              "      <th>3</th>\n",
              "      <td>06-07-2019</td>\n",
              "      <td>1004.0</td>\n",
              "      <td>11</td>\n",
              "      <td>NaN</td>\n",
              "      <td>0.0</td>\n",
              "      <td>60.0</td>\n",
              "    </tr>\n",
              "    <tr>\n",
              "      <th>4</th>\n",
              "      <td>07-07-2019</td>\n",
              "      <td>1005.0</td>\n",
              "      <td>11</td>\n",
              "      <td>A</td>\n",
              "      <td>0.0</td>\n",
              "      <td>60.0</td>\n",
              "    </tr>\n",
              "  </tbody>\n",
              "</table>\n",
              "</div>"
            ],
            "text/plain": [
              "         Date  Student ID  Class Section  Study Hrs  Percantege\n",
              "0  01-07-2019      1001.0     10       A        2.0        50.0\n",
              "1  02-07-2019      1002.0     10     NaN        2.5        80.0\n",
              "2  03-07-2019      1003.0     10     NaN        3.0        60.0\n",
              "3  06-07-2019      1004.0     11     NaN        0.0        60.0\n",
              "4  07-07-2019      1005.0     11       A        0.0        60.0"
            ]
          },
          "execution_count": 112,
          "metadata": {},
          "output_type": "execute_result"
        }
      ],
      "source": [
        "df.interpolate(limit = 5)"
      ]
    },
    {
      "cell_type": "code",
      "execution_count": null,
      "id": "cf352113",
      "metadata": {
        "id": "cf352113"
      },
      "outputs": [],
      "source": [
        "# df.interpolate(limit = 10,limit_direction = 'backward')"
      ]
    },
    {
      "cell_type": "code",
      "execution_count": null,
      "id": "8b51d9bb",
      "metadata": {
        "id": "8b51d9bb",
        "outputId": "3acb2c59-4a8d-4b2a-db85-6b562c6bf0b7"
      },
      "outputs": [
        {
          "data": {
            "text/html": [
              "<div>\n",
              "<style scoped>\n",
              "    .dataframe tbody tr th:only-of-type {\n",
              "        vertical-align: middle;\n",
              "    }\n",
              "\n",
              "    .dataframe tbody tr th {\n",
              "        vertical-align: top;\n",
              "    }\n",
              "\n",
              "    .dataframe thead th {\n",
              "        text-align: right;\n",
              "    }\n",
              "</style>\n",
              "<table border=\"1\" class=\"dataframe\">\n",
              "  <thead>\n",
              "    <tr style=\"text-align: right;\">\n",
              "      <th></th>\n",
              "      <th>Date</th>\n",
              "      <th>Student ID</th>\n",
              "      <th>Class</th>\n",
              "      <th>Section</th>\n",
              "      <th>Study Hrs</th>\n",
              "      <th>Percantege</th>\n",
              "    </tr>\n",
              "  </thead>\n",
              "  <tbody>\n",
              "    <tr>\n",
              "      <th>0</th>\n",
              "      <td>01-07-2019</td>\n",
              "      <td>1001.0</td>\n",
              "      <td>10</td>\n",
              "      <td>A</td>\n",
              "      <td>2.0</td>\n",
              "      <td>50.0</td>\n",
              "    </tr>\n",
              "    <tr>\n",
              "      <th>1</th>\n",
              "      <td>02-07-2019</td>\n",
              "      <td>1002.0</td>\n",
              "      <td>10</td>\n",
              "      <td>NaN</td>\n",
              "      <td>2.5</td>\n",
              "      <td>80.0</td>\n",
              "    </tr>\n",
              "    <tr>\n",
              "      <th>2</th>\n",
              "      <td>03-07-2019</td>\n",
              "      <td>1003.0</td>\n",
              "      <td>10</td>\n",
              "      <td>NaN</td>\n",
              "      <td>3.0</td>\n",
              "      <td>60.0</td>\n",
              "    </tr>\n",
              "    <tr>\n",
              "      <th>3</th>\n",
              "      <td>06-07-2019</td>\n",
              "      <td>1004.0</td>\n",
              "      <td>11</td>\n",
              "      <td>NaN</td>\n",
              "      <td>0.0</td>\n",
              "      <td>60.0</td>\n",
              "    </tr>\n",
              "    <tr>\n",
              "      <th>4</th>\n",
              "      <td>07-07-2019</td>\n",
              "      <td>1005.0</td>\n",
              "      <td>11</td>\n",
              "      <td>A</td>\n",
              "      <td>0.0</td>\n",
              "      <td>60.0</td>\n",
              "    </tr>\n",
              "  </tbody>\n",
              "</table>\n",
              "</div>"
            ],
            "text/plain": [
              "         Date  Student ID  Class Section  Study Hrs  Percantege\n",
              "0  01-07-2019      1001.0     10       A        2.0        50.0\n",
              "1  02-07-2019      1002.0     10     NaN        2.5        80.0\n",
              "2  03-07-2019      1003.0     10     NaN        3.0        60.0\n",
              "3  06-07-2019      1004.0     11     NaN        0.0        60.0\n",
              "4  07-07-2019      1005.0     11       A        0.0        60.0"
            ]
          },
          "execution_count": 114,
          "metadata": {},
          "output_type": "execute_result"
        }
      ],
      "source": [
        "df.interpolate(limit = 10,limit_direction = 'both')"
      ]
    },
    {
      "cell_type": "code",
      "execution_count": null,
      "id": "8c89cf10",
      "metadata": {
        "scrolled": true,
        "id": "8c89cf10"
      },
      "outputs": [],
      "source": [
        "# df.interpolate(limit_area = 'inside')"
      ]
    },
    {
      "cell_type": "code",
      "execution_count": null,
      "id": "cff33777",
      "metadata": {
        "id": "cff33777"
      },
      "outputs": [],
      "source": [
        "# df.interpolate(limit_area = 'outside')"
      ]
    },
    {
      "cell_type": "code",
      "execution_count": null,
      "id": "ab9f5a88",
      "metadata": {
        "scrolled": true,
        "id": "ab9f5a88",
        "outputId": "013a7bb8-de1a-43c2-f0b4-ee0da3e49332"
      },
      "outputs": [
        {
          "data": {
            "text/html": [
              "<div>\n",
              "<style scoped>\n",
              "    .dataframe tbody tr th:only-of-type {\n",
              "        vertical-align: middle;\n",
              "    }\n",
              "\n",
              "    .dataframe tbody tr th {\n",
              "        vertical-align: top;\n",
              "    }\n",
              "\n",
              "    .dataframe thead th {\n",
              "        text-align: right;\n",
              "    }\n",
              "</style>\n",
              "<table border=\"1\" class=\"dataframe\">\n",
              "  <thead>\n",
              "    <tr style=\"text-align: right;\">\n",
              "      <th></th>\n",
              "      <th>Date</th>\n",
              "      <th>Student ID</th>\n",
              "      <th>Class</th>\n",
              "      <th>Section</th>\n",
              "      <th>Study Hrs</th>\n",
              "      <th>Percantege</th>\n",
              "    </tr>\n",
              "  </thead>\n",
              "  <tbody>\n",
              "    <tr>\n",
              "      <th>0</th>\n",
              "      <td>01-07-2019</td>\n",
              "      <td>1001.0</td>\n",
              "      <td>10</td>\n",
              "      <td>A</td>\n",
              "      <td>2.0</td>\n",
              "      <td>50.0</td>\n",
              "    </tr>\n",
              "    <tr>\n",
              "      <th>1</th>\n",
              "      <td>02-07-2019</td>\n",
              "      <td>1002.0</td>\n",
              "      <td>10</td>\n",
              "      <td>NaN</td>\n",
              "      <td>2.5</td>\n",
              "      <td>80.0</td>\n",
              "    </tr>\n",
              "    <tr>\n",
              "      <th>2</th>\n",
              "      <td>03-07-2019</td>\n",
              "      <td>1003.0</td>\n",
              "      <td>10</td>\n",
              "      <td>NaN</td>\n",
              "      <td>3.0</td>\n",
              "      <td>60.0</td>\n",
              "    </tr>\n",
              "    <tr>\n",
              "      <th>3</th>\n",
              "      <td>06-07-2019</td>\n",
              "      <td>1004.0</td>\n",
              "      <td>11</td>\n",
              "      <td>NaN</td>\n",
              "      <td>0.0</td>\n",
              "      <td>60.0</td>\n",
              "    </tr>\n",
              "    <tr>\n",
              "      <th>4</th>\n",
              "      <td>07-07-2019</td>\n",
              "      <td>1005.0</td>\n",
              "      <td>11</td>\n",
              "      <td>A</td>\n",
              "      <td>0.0</td>\n",
              "      <td>60.0</td>\n",
              "    </tr>\n",
              "  </tbody>\n",
              "</table>\n",
              "</div>"
            ],
            "text/plain": [
              "         Date  Student ID  Class Section  Study Hrs  Percantege\n",
              "0  01-07-2019      1001.0     10       A        2.0        50.0\n",
              "1  02-07-2019      1002.0     10     NaN        2.5        80.0\n",
              "2  03-07-2019      1003.0     10     NaN        3.0        60.0\n",
              "3  06-07-2019      1004.0     11     NaN        0.0        60.0\n",
              "4  07-07-2019      1005.0     11       A        0.0        60.0"
            ]
          },
          "execution_count": 117,
          "metadata": {},
          "output_type": "execute_result"
        }
      ],
      "source": [
        "df.interpolate(inplace = True)\n",
        "df"
      ]
    },
    {
      "cell_type": "code",
      "execution_count": null,
      "id": "ca06ce72",
      "metadata": {
        "id": "ca06ce72"
      },
      "outputs": [],
      "source": [
        "# df.drop('Section',axis = 1)"
      ]
    },
    {
      "cell_type": "code",
      "execution_count": null,
      "id": "35d84639",
      "metadata": {
        "id": "35d84639"
      },
      "outputs": [],
      "source": [
        "# df.interpolate(method = 'polynomial',order = 1)"
      ]
    },
    {
      "cell_type": "code",
      "execution_count": null,
      "id": "0e8e451a",
      "metadata": {
        "id": "0e8e451a"
      },
      "outputs": [],
      "source": [
        "# df.interpolate(\n",
        "#     method: \n",
        "#     axis: \n",
        "#     limit: \n",
        "#     inplace: \n",
        "#     limit_direction: \n",
        "#     limit_area: \n",
        "#     downcast: )"
      ]
    },
    {
      "cell_type": "markdown",
      "id": "c17afda7",
      "metadata": {
        "id": "c17afda7"
      },
      "source": [
        "***Loc & Iloc***"
      ]
    },
    {
      "cell_type": "code",
      "execution_count": null,
      "id": "3527152a",
      "metadata": {
        "id": "3527152a",
        "outputId": "44682f16-467c-43b8-a132-30716a59a6f6"
      },
      "outputs": [
        {
          "data": {
            "text/html": [
              "<div>\n",
              "<style scoped>\n",
              "    .dataframe tbody tr th:only-of-type {\n",
              "        vertical-align: middle;\n",
              "    }\n",
              "\n",
              "    .dataframe tbody tr th {\n",
              "        vertical-align: top;\n",
              "    }\n",
              "\n",
              "    .dataframe thead th {\n",
              "        text-align: right;\n",
              "    }\n",
              "</style>\n",
              "<table border=\"1\" class=\"dataframe\">\n",
              "  <thead>\n",
              "    <tr style=\"text-align: right;\">\n",
              "      <th></th>\n",
              "      <th>Student ID</th>\n",
              "      <th>Class</th>\n",
              "      <th>Study hrs</th>\n",
              "      <th>Sleeping hrs</th>\n",
              "      <th>Social Media usage hrs</th>\n",
              "      <th>Mobile Games hrs</th>\n",
              "      <th>Percantege</th>\n",
              "    </tr>\n",
              "  </thead>\n",
              "  <tbody>\n",
              "    <tr>\n",
              "      <th>0</th>\n",
              "      <td>1001</td>\n",
              "      <td>10</td>\n",
              "      <td>2</td>\n",
              "      <td>9</td>\n",
              "      <td>3</td>\n",
              "      <td>5</td>\n",
              "      <td>50</td>\n",
              "    </tr>\n",
              "    <tr>\n",
              "      <th>1</th>\n",
              "      <td>1002</td>\n",
              "      <td>10</td>\n",
              "      <td>6</td>\n",
              "      <td>8</td>\n",
              "      <td>2</td>\n",
              "      <td>0</td>\n",
              "      <td>80</td>\n",
              "    </tr>\n",
              "    <tr>\n",
              "      <th>2</th>\n",
              "      <td>1003</td>\n",
              "      <td>10</td>\n",
              "      <td>3</td>\n",
              "      <td>8</td>\n",
              "      <td>2</td>\n",
              "      <td>4</td>\n",
              "      <td>60</td>\n",
              "    </tr>\n",
              "    <tr>\n",
              "      <th>3</th>\n",
              "      <td>1004</td>\n",
              "      <td>11</td>\n",
              "      <td>0</td>\n",
              "      <td>10</td>\n",
              "      <td>1</td>\n",
              "      <td>5</td>\n",
              "      <td>45</td>\n",
              "    </tr>\n",
              "    <tr>\n",
              "      <th>4</th>\n",
              "      <td>1005</td>\n",
              "      <td>11</td>\n",
              "      <td>4</td>\n",
              "      <td>7</td>\n",
              "      <td>2</td>\n",
              "      <td>0</td>\n",
              "      <td>75</td>\n",
              "    </tr>\n",
              "    <tr>\n",
              "      <th>5</th>\n",
              "      <td>1006</td>\n",
              "      <td>11</td>\n",
              "      <td>10</td>\n",
              "      <td>7</td>\n",
              "      <td>0</td>\n",
              "      <td>0</td>\n",
              "      <td>96</td>\n",
              "    </tr>\n",
              "    <tr>\n",
              "      <th>6</th>\n",
              "      <td>1007</td>\n",
              "      <td>12</td>\n",
              "      <td>4</td>\n",
              "      <td>6</td>\n",
              "      <td>0</td>\n",
              "      <td>0</td>\n",
              "      <td>80</td>\n",
              "    </tr>\n",
              "    <tr>\n",
              "      <th>7</th>\n",
              "      <td>1008</td>\n",
              "      <td>12</td>\n",
              "      <td>10</td>\n",
              "      <td>6</td>\n",
              "      <td>2</td>\n",
              "      <td>0</td>\n",
              "      <td>90</td>\n",
              "    </tr>\n",
              "    <tr>\n",
              "      <th>8</th>\n",
              "      <td>1009</td>\n",
              "      <td>12</td>\n",
              "      <td>2</td>\n",
              "      <td>8</td>\n",
              "      <td>2</td>\n",
              "      <td>4</td>\n",
              "      <td>60</td>\n",
              "    </tr>\n",
              "    <tr>\n",
              "      <th>9</th>\n",
              "      <td>1010</td>\n",
              "      <td>12</td>\n",
              "      <td>6</td>\n",
              "      <td>9</td>\n",
              "      <td>1</td>\n",
              "      <td>0</td>\n",
              "      <td>85</td>\n",
              "    </tr>\n",
              "  </tbody>\n",
              "</table>\n",
              "</div>"
            ],
            "text/plain": [
              "   Student ID  Class  Study hrs  Sleeping hrs  Social Media usage hrs  \\\n",
              "0        1001     10          2             9                       3   \n",
              "1        1002     10          6             8                       2   \n",
              "2        1003     10          3             8                       2   \n",
              "3        1004     11          0            10                       1   \n",
              "4        1005     11          4             7                       2   \n",
              "5        1006     11         10             7                       0   \n",
              "6        1007     12          4             6                       0   \n",
              "7        1008     12         10             6                       2   \n",
              "8        1009     12          2             8                       2   \n",
              "9        1010     12          6             9                       1   \n",
              "\n",
              "   Mobile Games hrs  Percantege  \n",
              "0                 5          50  \n",
              "1                 0          80  \n",
              "2                 4          60  \n",
              "3                 5          45  \n",
              "4                 0          75  \n",
              "5                 0          96  \n",
              "6                 0          80  \n",
              "7                 0          90  \n",
              "8                 4          60  \n",
              "9                 0          85  "
            ]
          },
          "execution_count": 121,
          "metadata": {},
          "output_type": "execute_result"
        }
      ],
      "source": [
        "df = pd.read_csv('C:\\\\Users\\Chandrakant\\Downloads\\Pandas\\student_results.csv')\n",
        "df"
      ]
    },
    {
      "cell_type": "code",
      "execution_count": null,
      "id": "49a322c6",
      "metadata": {
        "id": "49a322c6",
        "outputId": "021eb4b5-609c-4d62-c2b8-166faab03d6d"
      },
      "outputs": [
        {
          "data": {
            "text/plain": [
              "Student ID                1001\n",
              "Class                       10\n",
              "Study hrs                    2\n",
              "Sleeping hrs                 9\n",
              "Social Media usage hrs       3\n",
              "Mobile Games hrs             5\n",
              "Percantege                  50\n",
              "Name: 0, dtype: int64"
            ]
          },
          "execution_count": 122,
          "metadata": {},
          "output_type": "execute_result"
        }
      ],
      "source": [
        "df.loc[0]"
      ]
    },
    {
      "cell_type": "code",
      "execution_count": null,
      "id": "4e14d880",
      "metadata": {
        "id": "4e14d880",
        "outputId": "e0523acc-cc00-4c9d-9ffc-499154855b43"
      },
      "outputs": [
        {
          "data": {
            "text/plain": [
              "Student ID                1005\n",
              "Class                       11\n",
              "Study hrs                    4\n",
              "Sleeping hrs                 7\n",
              "Social Media usage hrs       2\n",
              "Mobile Games hrs             0\n",
              "Percantege                  75\n",
              "Name: 4, dtype: int64"
            ]
          },
          "execution_count": 123,
          "metadata": {},
          "output_type": "execute_result"
        }
      ],
      "source": [
        "df.loc[4]"
      ]
    },
    {
      "cell_type": "code",
      "execution_count": null,
      "id": "b4a396cd",
      "metadata": {
        "id": "b4a396cd",
        "outputId": "ddcd9b83-c8a2-41ce-a49f-f9569d7f98a8"
      },
      "outputs": [
        {
          "data": {
            "text/html": [
              "<div>\n",
              "<style scoped>\n",
              "    .dataframe tbody tr th:only-of-type {\n",
              "        vertical-align: middle;\n",
              "    }\n",
              "\n",
              "    .dataframe tbody tr th {\n",
              "        vertical-align: top;\n",
              "    }\n",
              "\n",
              "    .dataframe thead th {\n",
              "        text-align: right;\n",
              "    }\n",
              "</style>\n",
              "<table border=\"1\" class=\"dataframe\">\n",
              "  <thead>\n",
              "    <tr style=\"text-align: right;\">\n",
              "      <th></th>\n",
              "      <th>Student ID</th>\n",
              "      <th>Class</th>\n",
              "      <th>Study hrs</th>\n",
              "      <th>Sleeping hrs</th>\n",
              "      <th>Social Media usage hrs</th>\n",
              "      <th>Mobile Games hrs</th>\n",
              "      <th>Percantege</th>\n",
              "    </tr>\n",
              "  </thead>\n",
              "  <tbody>\n",
              "    <tr>\n",
              "      <th>0</th>\n",
              "      <td>1001</td>\n",
              "      <td>10</td>\n",
              "      <td>2</td>\n",
              "      <td>9</td>\n",
              "      <td>3</td>\n",
              "      <td>5</td>\n",
              "      <td>50</td>\n",
              "    </tr>\n",
              "    <tr>\n",
              "      <th>1</th>\n",
              "      <td>1002</td>\n",
              "      <td>10</td>\n",
              "      <td>6</td>\n",
              "      <td>8</td>\n",
              "      <td>2</td>\n",
              "      <td>0</td>\n",
              "      <td>80</td>\n",
              "    </tr>\n",
              "  </tbody>\n",
              "</table>\n",
              "</div>"
            ],
            "text/plain": [
              "   Student ID  Class  Study hrs  Sleeping hrs  Social Media usage hrs  \\\n",
              "0        1001     10          2             9                       3   \n",
              "1        1002     10          6             8                       2   \n",
              "\n",
              "   Mobile Games hrs  Percantege  \n",
              "0                 5          50  \n",
              "1                 0          80  "
            ]
          },
          "execution_count": 124,
          "metadata": {},
          "output_type": "execute_result"
        }
      ],
      "source": [
        "df.loc[[0,1]]"
      ]
    },
    {
      "cell_type": "code",
      "execution_count": null,
      "id": "7cfaab50",
      "metadata": {
        "id": "7cfaab50",
        "outputId": "a72299d2-bff4-486d-a66c-b2c42f01b5e1"
      },
      "outputs": [
        {
          "data": {
            "text/html": [
              "<div>\n",
              "<style scoped>\n",
              "    .dataframe tbody tr th:only-of-type {\n",
              "        vertical-align: middle;\n",
              "    }\n",
              "\n",
              "    .dataframe tbody tr th {\n",
              "        vertical-align: top;\n",
              "    }\n",
              "\n",
              "    .dataframe thead th {\n",
              "        text-align: right;\n",
              "    }\n",
              "</style>\n",
              "<table border=\"1\" class=\"dataframe\">\n",
              "  <thead>\n",
              "    <tr style=\"text-align: right;\">\n",
              "      <th></th>\n",
              "      <th>Student ID</th>\n",
              "      <th>Class</th>\n",
              "      <th>Study hrs</th>\n",
              "      <th>Sleeping hrs</th>\n",
              "      <th>Social Media usage hrs</th>\n",
              "      <th>Mobile Games hrs</th>\n",
              "      <th>Percantege</th>\n",
              "    </tr>\n",
              "  </thead>\n",
              "  <tbody>\n",
              "    <tr>\n",
              "      <th>2</th>\n",
              "      <td>1003</td>\n",
              "      <td>10</td>\n",
              "      <td>3</td>\n",
              "      <td>8</td>\n",
              "      <td>2</td>\n",
              "      <td>4</td>\n",
              "      <td>60</td>\n",
              "    </tr>\n",
              "    <tr>\n",
              "      <th>4</th>\n",
              "      <td>1005</td>\n",
              "      <td>11</td>\n",
              "      <td>4</td>\n",
              "      <td>7</td>\n",
              "      <td>2</td>\n",
              "      <td>0</td>\n",
              "      <td>75</td>\n",
              "    </tr>\n",
              "  </tbody>\n",
              "</table>\n",
              "</div>"
            ],
            "text/plain": [
              "   Student ID  Class  Study hrs  Sleeping hrs  Social Media usage hrs  \\\n",
              "2        1003     10          3             8                       2   \n",
              "4        1005     11          4             7                       2   \n",
              "\n",
              "   Mobile Games hrs  Percantege  \n",
              "2                 4          60  \n",
              "4                 0          75  "
            ]
          },
          "execution_count": 125,
          "metadata": {},
          "output_type": "execute_result"
        }
      ],
      "source": [
        "df.loc[[2,4]]"
      ]
    },
    {
      "cell_type": "code",
      "execution_count": null,
      "id": "2448442c",
      "metadata": {
        "id": "2448442c",
        "outputId": "0a30949f-ca95-43d4-92ca-c0888f1571f9"
      },
      "outputs": [
        {
          "data": {
            "text/plain": [
              "11"
            ]
          },
          "execution_count": 126,
          "metadata": {},
          "output_type": "execute_result"
        }
      ],
      "source": [
        "df.loc[4,'Class']"
      ]
    },
    {
      "cell_type": "code",
      "execution_count": null,
      "id": "50e1d722",
      "metadata": {
        "id": "50e1d722",
        "outputId": "55b74870-7c31-47bc-ebec-acd250cc552b"
      },
      "outputs": [
        {
          "data": {
            "text/plain": [
              "0    10\n",
              "1    10\n",
              "2    10\n",
              "3    11\n",
              "Name: Class, dtype: int64"
            ]
          },
          "execution_count": 127,
          "metadata": {},
          "output_type": "execute_result"
        }
      ],
      "source": [
        "df.loc[0:3,'Class']"
      ]
    },
    {
      "cell_type": "code",
      "execution_count": null,
      "id": "1b9b774f",
      "metadata": {
        "id": "1b9b774f",
        "outputId": "2e9483e3-b8ab-44db-e04b-5c65d4c93595"
      },
      "outputs": [
        {
          "data": {
            "text/plain": [
              "0    50\n",
              "1    80\n",
              "2    60\n",
              "Name: Percantege, dtype: int64"
            ]
          },
          "execution_count": 128,
          "metadata": {},
          "output_type": "execute_result"
        }
      ],
      "source": [
        "df.loc[0:2,'Percantege']"
      ]
    },
    {
      "cell_type": "code",
      "execution_count": null,
      "id": "e7a8cb29",
      "metadata": {
        "id": "e7a8cb29",
        "outputId": "4ba7456b-cb7b-4281-b0e8-351dea5fd22a"
      },
      "outputs": [
        {
          "data": {
            "text/html": [
              "<div>\n",
              "<style scoped>\n",
              "    .dataframe tbody tr th:only-of-type {\n",
              "        vertical-align: middle;\n",
              "    }\n",
              "\n",
              "    .dataframe tbody tr th {\n",
              "        vertical-align: top;\n",
              "    }\n",
              "\n",
              "    .dataframe thead th {\n",
              "        text-align: right;\n",
              "    }\n",
              "</style>\n",
              "<table border=\"1\" class=\"dataframe\">\n",
              "  <thead>\n",
              "    <tr style=\"text-align: right;\">\n",
              "      <th></th>\n",
              "      <th>Student ID</th>\n",
              "      <th>Class</th>\n",
              "      <th>Study hrs</th>\n",
              "      <th>Sleeping hrs</th>\n",
              "      <th>Social Media usage hrs</th>\n",
              "      <th>Mobile Games hrs</th>\n",
              "      <th>Percantege</th>\n",
              "    </tr>\n",
              "  </thead>\n",
              "  <tbody>\n",
              "    <tr>\n",
              "      <th>0</th>\n",
              "      <td>1001</td>\n",
              "      <td>10</td>\n",
              "      <td>2</td>\n",
              "      <td>9</td>\n",
              "      <td>3</td>\n",
              "      <td>5</td>\n",
              "      <td>50</td>\n",
              "    </tr>\n",
              "    <tr>\n",
              "      <th>0</th>\n",
              "      <td>1001</td>\n",
              "      <td>10</td>\n",
              "      <td>2</td>\n",
              "      <td>9</td>\n",
              "      <td>3</td>\n",
              "      <td>5</td>\n",
              "      <td>50</td>\n",
              "    </tr>\n",
              "    <tr>\n",
              "      <th>0</th>\n",
              "      <td>1001</td>\n",
              "      <td>10</td>\n",
              "      <td>2</td>\n",
              "      <td>9</td>\n",
              "      <td>3</td>\n",
              "      <td>5</td>\n",
              "      <td>50</td>\n",
              "    </tr>\n",
              "    <tr>\n",
              "      <th>1</th>\n",
              "      <td>1002</td>\n",
              "      <td>10</td>\n",
              "      <td>6</td>\n",
              "      <td>8</td>\n",
              "      <td>2</td>\n",
              "      <td>0</td>\n",
              "      <td>80</td>\n",
              "    </tr>\n",
              "  </tbody>\n",
              "</table>\n",
              "</div>"
            ],
            "text/plain": [
              "   Student ID  Class  Study hrs  Sleeping hrs  Social Media usage hrs  \\\n",
              "0        1001     10          2             9                       3   \n",
              "0        1001     10          2             9                       3   \n",
              "0        1001     10          2             9                       3   \n",
              "1        1002     10          6             8                       2   \n",
              "\n",
              "   Mobile Games hrs  Percantege  \n",
              "0                 5          50  \n",
              "0                 5          50  \n",
              "0                 5          50  \n",
              "1                 0          80  "
            ]
          },
          "execution_count": 129,
          "metadata": {},
          "output_type": "execute_result"
        }
      ],
      "source": [
        "df.loc[[0,False,False,True]]"
      ]
    },
    {
      "cell_type": "code",
      "execution_count": null,
      "id": "a82a6818",
      "metadata": {
        "id": "a82a6818",
        "outputId": "4d7cfa86-be15-42be-8d9d-e9466febf777"
      },
      "outputs": [
        {
          "data": {
            "text/html": [
              "<div>\n",
              "<style scoped>\n",
              "    .dataframe tbody tr th:only-of-type {\n",
              "        vertical-align: middle;\n",
              "    }\n",
              "\n",
              "    .dataframe tbody tr th {\n",
              "        vertical-align: top;\n",
              "    }\n",
              "\n",
              "    .dataframe thead th {\n",
              "        text-align: right;\n",
              "    }\n",
              "</style>\n",
              "<table border=\"1\" class=\"dataframe\">\n",
              "  <thead>\n",
              "    <tr style=\"text-align: right;\">\n",
              "      <th></th>\n",
              "      <th>Percantege</th>\n",
              "    </tr>\n",
              "  </thead>\n",
              "  <tbody>\n",
              "    <tr>\n",
              "      <th>0</th>\n",
              "      <td>50</td>\n",
              "    </tr>\n",
              "    <tr>\n",
              "      <th>1</th>\n",
              "      <td>80</td>\n",
              "    </tr>\n",
              "    <tr>\n",
              "      <th>2</th>\n",
              "      <td>60</td>\n",
              "    </tr>\n",
              "  </tbody>\n",
              "</table>\n",
              "</div>"
            ],
            "text/plain": [
              "   Percantege\n",
              "0          50\n",
              "1          80\n",
              "2          60"
            ]
          },
          "execution_count": 130,
          "metadata": {},
          "output_type": "execute_result"
        }
      ],
      "source": [
        "df.loc[df['Class'] < 11,['Percantege']]"
      ]
    },
    {
      "cell_type": "markdown",
      "id": "21ec08dc",
      "metadata": {
        "id": "21ec08dc"
      },
      "source": [
        "**Iloc**"
      ]
    },
    {
      "cell_type": "code",
      "execution_count": null,
      "id": "f41d527b",
      "metadata": {
        "id": "f41d527b",
        "outputId": "328e22e0-9415-46f3-f109-2d001d694396"
      },
      "outputs": [
        {
          "data": {
            "text/plain": [
              "Student ID                1001\n",
              "Class                       10\n",
              "Study hrs                    2\n",
              "Sleeping hrs                 9\n",
              "Social Media usage hrs       3\n",
              "Mobile Games hrs             5\n",
              "Percantege                  50\n",
              "Name: 0, dtype: int64"
            ]
          },
          "execution_count": 131,
          "metadata": {},
          "output_type": "execute_result"
        }
      ],
      "source": [
        "df.iloc[0]"
      ]
    },
    {
      "cell_type": "code",
      "execution_count": null,
      "id": "92e339ab",
      "metadata": {
        "id": "92e339ab",
        "outputId": "47239978-293b-4bce-c85e-dead2f7202a1"
      },
      "outputs": [
        {
          "data": {
            "text/html": [
              "<div>\n",
              "<style scoped>\n",
              "    .dataframe tbody tr th:only-of-type {\n",
              "        vertical-align: middle;\n",
              "    }\n",
              "\n",
              "    .dataframe tbody tr th {\n",
              "        vertical-align: top;\n",
              "    }\n",
              "\n",
              "    .dataframe thead th {\n",
              "        text-align: right;\n",
              "    }\n",
              "</style>\n",
              "<table border=\"1\" class=\"dataframe\">\n",
              "  <thead>\n",
              "    <tr style=\"text-align: right;\">\n",
              "      <th></th>\n",
              "      <th>Student ID</th>\n",
              "      <th>Class</th>\n",
              "      <th>Study hrs</th>\n",
              "      <th>Sleeping hrs</th>\n",
              "      <th>Social Media usage hrs</th>\n",
              "      <th>Mobile Games hrs</th>\n",
              "      <th>Percantege</th>\n",
              "    </tr>\n",
              "  </thead>\n",
              "  <tbody>\n",
              "    <tr>\n",
              "      <th>0</th>\n",
              "      <td>1001</td>\n",
              "      <td>10</td>\n",
              "      <td>2</td>\n",
              "      <td>9</td>\n",
              "      <td>3</td>\n",
              "      <td>5</td>\n",
              "      <td>50</td>\n",
              "    </tr>\n",
              "  </tbody>\n",
              "</table>\n",
              "</div>"
            ],
            "text/plain": [
              "   Student ID  Class  Study hrs  Sleeping hrs  Social Media usage hrs  \\\n",
              "0        1001     10          2             9                       3   \n",
              "\n",
              "   Mobile Games hrs  Percantege  \n",
              "0                 5          50  "
            ]
          },
          "execution_count": 132,
          "metadata": {},
          "output_type": "execute_result"
        }
      ],
      "source": [
        "df.iloc[[0]]"
      ]
    },
    {
      "cell_type": "code",
      "execution_count": null,
      "id": "e1f56fbb",
      "metadata": {
        "id": "e1f56fbb",
        "outputId": "3eeb14d7-4f10-4486-df88-aa80cccb2f1e"
      },
      "outputs": [
        {
          "data": {
            "text/plain": [
              "0    1001\n",
              "1    1002\n",
              "2    1003\n",
              "3    1004\n",
              "4    1005\n",
              "5    1006\n",
              "6    1007\n",
              "7    1008\n",
              "8    1009\n",
              "9    1010\n",
              "Name: Student ID, dtype: int64"
            ]
          },
          "execution_count": 133,
          "metadata": {},
          "output_type": "execute_result"
        }
      ],
      "source": [
        "df.iloc[:,0]"
      ]
    },
    {
      "cell_type": "code",
      "execution_count": null,
      "id": "72e3643b",
      "metadata": {
        "id": "72e3643b",
        "outputId": "af48e6c0-e6e4-48b4-c8b8-b44109ebc962"
      },
      "outputs": [
        {
          "data": {
            "text/html": [
              "<div>\n",
              "<style scoped>\n",
              "    .dataframe tbody tr th:only-of-type {\n",
              "        vertical-align: middle;\n",
              "    }\n",
              "\n",
              "    .dataframe tbody tr th {\n",
              "        vertical-align: top;\n",
              "    }\n",
              "\n",
              "    .dataframe thead th {\n",
              "        text-align: right;\n",
              "    }\n",
              "</style>\n",
              "<table border=\"1\" class=\"dataframe\">\n",
              "  <thead>\n",
              "    <tr style=\"text-align: right;\">\n",
              "      <th></th>\n",
              "      <th>Student ID</th>\n",
              "      <th>Class</th>\n",
              "      <th>Study hrs</th>\n",
              "      <th>Sleeping hrs</th>\n",
              "      <th>Social Media usage hrs</th>\n",
              "      <th>Mobile Games hrs</th>\n",
              "      <th>Percantege</th>\n",
              "    </tr>\n",
              "  </thead>\n",
              "  <tbody>\n",
              "    <tr>\n",
              "      <th>0</th>\n",
              "      <td>1001</td>\n",
              "      <td>10</td>\n",
              "      <td>2</td>\n",
              "      <td>9</td>\n",
              "      <td>3</td>\n",
              "      <td>5</td>\n",
              "      <td>50</td>\n",
              "    </tr>\n",
              "    <tr>\n",
              "      <th>1</th>\n",
              "      <td>1002</td>\n",
              "      <td>10</td>\n",
              "      <td>6</td>\n",
              "      <td>8</td>\n",
              "      <td>2</td>\n",
              "      <td>0</td>\n",
              "      <td>80</td>\n",
              "    </tr>\n",
              "  </tbody>\n",
              "</table>\n",
              "</div>"
            ],
            "text/plain": [
              "   Student ID  Class  Study hrs  Sleeping hrs  Social Media usage hrs  \\\n",
              "0        1001     10          2             9                       3   \n",
              "1        1002     10          6             8                       2   \n",
              "\n",
              "   Mobile Games hrs  Percantege  \n",
              "0                 5          50  \n",
              "1                 0          80  "
            ]
          },
          "execution_count": 134,
          "metadata": {},
          "output_type": "execute_result"
        }
      ],
      "source": [
        "df.iloc[[0,1]]"
      ]
    },
    {
      "cell_type": "code",
      "execution_count": null,
      "id": "db533a04",
      "metadata": {
        "id": "db533a04",
        "outputId": "2a7463ab-bda0-4f34-9062-d31ba164fee2"
      },
      "outputs": [
        {
          "data": {
            "text/html": [
              "<div>\n",
              "<style scoped>\n",
              "    .dataframe tbody tr th:only-of-type {\n",
              "        vertical-align: middle;\n",
              "    }\n",
              "\n",
              "    .dataframe tbody tr th {\n",
              "        vertical-align: top;\n",
              "    }\n",
              "\n",
              "    .dataframe thead th {\n",
              "        text-align: right;\n",
              "    }\n",
              "</style>\n",
              "<table border=\"1\" class=\"dataframe\">\n",
              "  <thead>\n",
              "    <tr style=\"text-align: right;\">\n",
              "      <th></th>\n",
              "      <th>Student ID</th>\n",
              "      <th>Class</th>\n",
              "      <th>Study hrs</th>\n",
              "      <th>Sleeping hrs</th>\n",
              "      <th>Social Media usage hrs</th>\n",
              "      <th>Mobile Games hrs</th>\n",
              "      <th>Percantege</th>\n",
              "    </tr>\n",
              "  </thead>\n",
              "  <tbody>\n",
              "    <tr>\n",
              "      <th>0</th>\n",
              "      <td>1001</td>\n",
              "      <td>10</td>\n",
              "      <td>2</td>\n",
              "      <td>9</td>\n",
              "      <td>3</td>\n",
              "      <td>5</td>\n",
              "      <td>50</td>\n",
              "    </tr>\n",
              "    <tr>\n",
              "      <th>1</th>\n",
              "      <td>1002</td>\n",
              "      <td>10</td>\n",
              "      <td>6</td>\n",
              "      <td>8</td>\n",
              "      <td>2</td>\n",
              "      <td>0</td>\n",
              "      <td>80</td>\n",
              "    </tr>\n",
              "    <tr>\n",
              "      <th>0</th>\n",
              "      <td>1001</td>\n",
              "      <td>10</td>\n",
              "      <td>2</td>\n",
              "      <td>9</td>\n",
              "      <td>3</td>\n",
              "      <td>5</td>\n",
              "      <td>50</td>\n",
              "    </tr>\n",
              "    <tr>\n",
              "      <th>1</th>\n",
              "      <td>1002</td>\n",
              "      <td>10</td>\n",
              "      <td>6</td>\n",
              "      <td>8</td>\n",
              "      <td>2</td>\n",
              "      <td>0</td>\n",
              "      <td>80</td>\n",
              "    </tr>\n",
              "  </tbody>\n",
              "</table>\n",
              "</div>"
            ],
            "text/plain": [
              "   Student ID  Class  Study hrs  Sleeping hrs  Social Media usage hrs  \\\n",
              "0        1001     10          2             9                       3   \n",
              "1        1002     10          6             8                       2   \n",
              "0        1001     10          2             9                       3   \n",
              "1        1002     10          6             8                       2   \n",
              "\n",
              "   Mobile Games hrs  Percantege  \n",
              "0                 5          50  \n",
              "1                 0          80  \n",
              "0                 5          50  \n",
              "1                 0          80  "
            ]
          },
          "execution_count": 135,
          "metadata": {},
          "output_type": "execute_result"
        }
      ],
      "source": [
        "df.iloc[[0,True,False,True]]"
      ]
    },
    {
      "cell_type": "markdown",
      "id": "960bf40e",
      "metadata": {
        "id": "960bf40e"
      },
      "source": [
        "***GroupBy***"
      ]
    },
    {
      "cell_type": "code",
      "execution_count": null,
      "id": "0e962e74",
      "metadata": {
        "id": "0e962e74"
      },
      "outputs": [],
      "source": [
        "# -Splitting the object\n",
        "# -Applying a function\n",
        "# -Combining the result"
      ]
    },
    {
      "cell_type": "code",
      "execution_count": null,
      "id": "a2ba3abf",
      "metadata": {
        "id": "a2ba3abf",
        "outputId": "b76f9a76-8f23-417e-b608-28319eaaeee6"
      },
      "outputs": [
        {
          "data": {
            "text/html": [
              "<div>\n",
              "<style scoped>\n",
              "    .dataframe tbody tr th:only-of-type {\n",
              "        vertical-align: middle;\n",
              "    }\n",
              "\n",
              "    .dataframe tbody tr th {\n",
              "        vertical-align: top;\n",
              "    }\n",
              "\n",
              "    .dataframe thead th {\n",
              "        text-align: right;\n",
              "    }\n",
              "</style>\n",
              "<table border=\"1\" class=\"dataframe\">\n",
              "  <thead>\n",
              "    <tr style=\"text-align: right;\">\n",
              "      <th></th>\n",
              "      <th>Student ID</th>\n",
              "      <th>Section</th>\n",
              "      <th>Class</th>\n",
              "      <th>Study hrs</th>\n",
              "      <th>Social Media usage hrs</th>\n",
              "      <th>Percentage</th>\n",
              "    </tr>\n",
              "  </thead>\n",
              "  <tbody>\n",
              "    <tr>\n",
              "      <th>0</th>\n",
              "      <td>1001</td>\n",
              "      <td>A</td>\n",
              "      <td>10</td>\n",
              "      <td>2</td>\n",
              "      <td>3</td>\n",
              "      <td>50</td>\n",
              "    </tr>\n",
              "    <tr>\n",
              "      <th>1</th>\n",
              "      <td>1002</td>\n",
              "      <td>B</td>\n",
              "      <td>10</td>\n",
              "      <td>6</td>\n",
              "      <td>2</td>\n",
              "      <td>80</td>\n",
              "    </tr>\n",
              "    <tr>\n",
              "      <th>2</th>\n",
              "      <td>1003</td>\n",
              "      <td>A</td>\n",
              "      <td>10</td>\n",
              "      <td>3</td>\n",
              "      <td>2</td>\n",
              "      <td>60</td>\n",
              "    </tr>\n",
              "    <tr>\n",
              "      <th>3</th>\n",
              "      <td>1004</td>\n",
              "      <td>C</td>\n",
              "      <td>11</td>\n",
              "      <td>0</td>\n",
              "      <td>1</td>\n",
              "      <td>45</td>\n",
              "    </tr>\n",
              "    <tr>\n",
              "      <th>4</th>\n",
              "      <td>1005</td>\n",
              "      <td>C</td>\n",
              "      <td>12</td>\n",
              "      <td>5</td>\n",
              "      <td>2</td>\n",
              "      <td>75</td>\n",
              "    </tr>\n",
              "  </tbody>\n",
              "</table>\n",
              "</div>"
            ],
            "text/plain": [
              "   Student ID Section  Class  Study hrs  Social Media usage hrs  Percentage\n",
              "0        1001       A     10          2                       3          50\n",
              "1        1002       B     10          6                       2          80\n",
              "2        1003       A     10          3                       2          60\n",
              "3        1004       C     11          0                       1          45\n",
              "4        1005       C     12          5                       2          75"
            ]
          },
          "execution_count": 137,
          "metadata": {},
          "output_type": "execute_result"
        }
      ],
      "source": [
        "df = pd.read_csv('C:\\\\Users\\Chandrakant\\Downloads\\Pandas\\student_result_5.csv')\n",
        "df"
      ]
    },
    {
      "cell_type": "code",
      "execution_count": null,
      "id": "18cacb91",
      "metadata": {
        "id": "18cacb91",
        "outputId": "9d47415f-73d7-4018-f38c-3a896e52d112"
      },
      "outputs": [
        {
          "data": {
            "text/plain": [
              "<pandas.core.groupby.generic.DataFrameGroupBy object at 0x000002EA73AB3AC0>"
            ]
          },
          "execution_count": 138,
          "metadata": {},
          "output_type": "execute_result"
        }
      ],
      "source": [
        "gr_1 = df.groupby(by = 'Section')\n",
        "gr_1"
      ]
    },
    {
      "cell_type": "code",
      "execution_count": null,
      "id": "5b612164",
      "metadata": {
        "id": "5b612164",
        "outputId": "49ddfc86-58fc-439a-ae39-858f2600f332"
      },
      "outputs": [
        {
          "data": {
            "text/plain": [
              "{'A': [0, 2], 'B': [1], 'C': [3, 4]}"
            ]
          },
          "execution_count": 139,
          "metadata": {},
          "output_type": "execute_result"
        }
      ],
      "source": [
        "gr_1.groups"
      ]
    },
    {
      "cell_type": "code",
      "execution_count": null,
      "id": "800a629c",
      "metadata": {
        "id": "800a629c",
        "outputId": "6b8feb24-9053-4163-8a86-d95b1537f71d"
      },
      "outputs": [
        {
          "data": {
            "text/plain": [
              "{('A', 10): [0, 2], ('B', 10): [1], ('C', 11): [3], ('C', 12): [4]}"
            ]
          },
          "execution_count": 140,
          "metadata": {},
          "output_type": "execute_result"
        }
      ],
      "source": [
        "df.groupby(['Section','Class']).groups"
      ]
    },
    {
      "cell_type": "code",
      "execution_count": null,
      "id": "2c10cf91",
      "metadata": {
        "id": "2c10cf91",
        "outputId": "c084631f-e5ef-441b-835e-94448d9ab5ec"
      },
      "outputs": [
        {
          "name": "stdout",
          "output_type": "stream",
          "text": [
            "A\n",
            "   Student ID Section  Class  Study hrs  Social Media usage hrs  Percentage\n",
            "0        1001       A     10          2                       3          50\n",
            "2        1003       A     10          3                       2          60\n",
            "B\n",
            "   Student ID Section  Class  Study hrs  Social Media usage hrs  Percentage\n",
            "1        1002       B     10          6                       2          80\n",
            "C\n",
            "   Student ID Section  Class  Study hrs  Social Media usage hrs  Percentage\n",
            "3        1004       C     11          0                       1          45\n",
            "4        1005       C     12          5                       2          75\n"
          ]
        }
      ],
      "source": [
        "for Section, df_1 in gr_1:\n",
        "    print(Section)\n",
        "    print(df_1)"
      ]
    },
    {
      "cell_type": "code",
      "execution_count": null,
      "id": "b61f3a76",
      "metadata": {
        "id": "b61f3a76",
        "outputId": "56129f4b-5fac-4d4f-d1b3-2096bd764b59"
      },
      "outputs": [
        {
          "data": {
            "text/plain": [
              "{'A':    Student ID Section  Class  Study hrs  Social Media usage hrs  Percentage\n",
              " 0        1001       A     10          2                       3          50\n",
              " 2        1003       A     10          3                       2          60,\n",
              " 'B':    Student ID Section  Class  Study hrs  Social Media usage hrs  Percentage\n",
              " 1        1002       B     10          6                       2          80,\n",
              " 'C':    Student ID Section  Class  Study hrs  Social Media usage hrs  Percentage\n",
              " 3        1004       C     11          0                       1          45\n",
              " 4        1005       C     12          5                       2          75}"
            ]
          },
          "execution_count": 142,
          "metadata": {},
          "output_type": "execute_result"
        }
      ],
      "source": [
        "dict(list(gr_1))"
      ]
    },
    {
      "cell_type": "code",
      "execution_count": null,
      "id": "4cb4188a",
      "metadata": {
        "id": "4cb4188a",
        "outputId": "7e86864e-0036-430a-f139-2d556cb2f6af"
      },
      "outputs": [
        {
          "data": {
            "text/html": [
              "<div>\n",
              "<style scoped>\n",
              "    .dataframe tbody tr th:only-of-type {\n",
              "        vertical-align: middle;\n",
              "    }\n",
              "\n",
              "    .dataframe tbody tr th {\n",
              "        vertical-align: top;\n",
              "    }\n",
              "\n",
              "    .dataframe thead th {\n",
              "        text-align: right;\n",
              "    }\n",
              "</style>\n",
              "<table border=\"1\" class=\"dataframe\">\n",
              "  <thead>\n",
              "    <tr style=\"text-align: right;\">\n",
              "      <th></th>\n",
              "      <th>Student ID</th>\n",
              "      <th>Section</th>\n",
              "      <th>Class</th>\n",
              "      <th>Study hrs</th>\n",
              "      <th>Social Media usage hrs</th>\n",
              "      <th>Percentage</th>\n",
              "    </tr>\n",
              "  </thead>\n",
              "  <tbody>\n",
              "    <tr>\n",
              "      <th>0</th>\n",
              "      <td>1001</td>\n",
              "      <td>A</td>\n",
              "      <td>10</td>\n",
              "      <td>2</td>\n",
              "      <td>3</td>\n",
              "      <td>50</td>\n",
              "    </tr>\n",
              "    <tr>\n",
              "      <th>1</th>\n",
              "      <td>1002</td>\n",
              "      <td>B</td>\n",
              "      <td>10</td>\n",
              "      <td>6</td>\n",
              "      <td>2</td>\n",
              "      <td>80</td>\n",
              "    </tr>\n",
              "    <tr>\n",
              "      <th>2</th>\n",
              "      <td>1003</td>\n",
              "      <td>A</td>\n",
              "      <td>10</td>\n",
              "      <td>3</td>\n",
              "      <td>2</td>\n",
              "      <td>60</td>\n",
              "    </tr>\n",
              "  </tbody>\n",
              "</table>\n",
              "</div>"
            ],
            "text/plain": [
              "   Student ID Section  Class  Study hrs  Social Media usage hrs  Percentage\n",
              "0        1001       A     10          2                       3          50\n",
              "1        1002       B     10          6                       2          80\n",
              "2        1003       A     10          3                       2          60"
            ]
          },
          "execution_count": 143,
          "metadata": {},
          "output_type": "execute_result"
        }
      ],
      "source": [
        "gr_2 = df.groupby('Class').get_group(10)\n",
        "gr_2"
      ]
    },
    {
      "cell_type": "code",
      "execution_count": null,
      "id": "9b6e53ab",
      "metadata": {
        "id": "9b6e53ab",
        "outputId": "cf64284d-588c-4b3e-d6c9-52ade2d3f83b"
      },
      "outputs": [
        {
          "data": {
            "text/html": [
              "<div>\n",
              "<style scoped>\n",
              "    .dataframe tbody tr th:only-of-type {\n",
              "        vertical-align: middle;\n",
              "    }\n",
              "\n",
              "    .dataframe tbody tr th {\n",
              "        vertical-align: top;\n",
              "    }\n",
              "\n",
              "    .dataframe thead th {\n",
              "        text-align: right;\n",
              "    }\n",
              "</style>\n",
              "<table border=\"1\" class=\"dataframe\">\n",
              "  <thead>\n",
              "    <tr style=\"text-align: right;\">\n",
              "      <th></th>\n",
              "      <th>Student ID</th>\n",
              "      <th>Section</th>\n",
              "      <th>Class</th>\n",
              "      <th>Study hrs</th>\n",
              "      <th>Social Media usage hrs</th>\n",
              "      <th>Percentage</th>\n",
              "    </tr>\n",
              "  </thead>\n",
              "  <tbody>\n",
              "    <tr>\n",
              "      <th>0</th>\n",
              "      <td>1001</td>\n",
              "      <td>A</td>\n",
              "      <td>10</td>\n",
              "      <td>2</td>\n",
              "      <td>3</td>\n",
              "      <td>50</td>\n",
              "    </tr>\n",
              "    <tr>\n",
              "      <th>2</th>\n",
              "      <td>1003</td>\n",
              "      <td>A</td>\n",
              "      <td>10</td>\n",
              "      <td>3</td>\n",
              "      <td>2</td>\n",
              "      <td>60</td>\n",
              "    </tr>\n",
              "  </tbody>\n",
              "</table>\n",
              "</div>"
            ],
            "text/plain": [
              "   Student ID Section  Class  Study hrs  Social Media usage hrs  Percentage\n",
              "0        1001       A     10          2                       3          50\n",
              "2        1003       A     10          3                       2          60"
            ]
          },
          "execution_count": 144,
          "metadata": {},
          "output_type": "execute_result"
        }
      ],
      "source": [
        "gr_3 = df.groupby('Section').get_group('A')\n",
        "gr_3"
      ]
    },
    {
      "cell_type": "code",
      "execution_count": null,
      "id": "c138a432",
      "metadata": {
        "id": "c138a432",
        "outputId": "fa101295-48b5-4a28-9079-edcd37f722fd"
      },
      "outputs": [
        {
          "data": {
            "text/html": [
              "<div>\n",
              "<style scoped>\n",
              "    .dataframe tbody tr th:only-of-type {\n",
              "        vertical-align: middle;\n",
              "    }\n",
              "\n",
              "    .dataframe tbody tr th {\n",
              "        vertical-align: top;\n",
              "    }\n",
              "\n",
              "    .dataframe thead th {\n",
              "        text-align: right;\n",
              "    }\n",
              "</style>\n",
              "<table border=\"1\" class=\"dataframe\">\n",
              "  <thead>\n",
              "    <tr style=\"text-align: right;\">\n",
              "      <th></th>\n",
              "      <th>Student ID</th>\n",
              "      <th>Class</th>\n",
              "      <th>Study hrs</th>\n",
              "      <th>Social Media usage hrs</th>\n",
              "      <th>Percentage</th>\n",
              "    </tr>\n",
              "    <tr>\n",
              "      <th>Section</th>\n",
              "      <th></th>\n",
              "      <th></th>\n",
              "      <th></th>\n",
              "      <th></th>\n",
              "      <th></th>\n",
              "    </tr>\n",
              "  </thead>\n",
              "  <tbody>\n",
              "    <tr>\n",
              "      <th>A</th>\n",
              "      <td>2004</td>\n",
              "      <td>20</td>\n",
              "      <td>5</td>\n",
              "      <td>5</td>\n",
              "      <td>110</td>\n",
              "    </tr>\n",
              "    <tr>\n",
              "      <th>B</th>\n",
              "      <td>1002</td>\n",
              "      <td>10</td>\n",
              "      <td>6</td>\n",
              "      <td>2</td>\n",
              "      <td>80</td>\n",
              "    </tr>\n",
              "    <tr>\n",
              "      <th>C</th>\n",
              "      <td>2009</td>\n",
              "      <td>23</td>\n",
              "      <td>5</td>\n",
              "      <td>3</td>\n",
              "      <td>120</td>\n",
              "    </tr>\n",
              "  </tbody>\n",
              "</table>\n",
              "</div>"
            ],
            "text/plain": [
              "         Student ID  Class  Study hrs  Social Media usage hrs  Percentage\n",
              "Section                                                                  \n",
              "A              2004     20          5                       5         110\n",
              "B              1002     10          6                       2          80\n",
              "C              2009     23          5                       3         120"
            ]
          },
          "execution_count": 145,
          "metadata": {},
          "output_type": "execute_result"
        }
      ],
      "source": [
        "gr_1.sum()"
      ]
    },
    {
      "cell_type": "code",
      "execution_count": null,
      "id": "5e8effa4",
      "metadata": {
        "id": "5e8effa4",
        "outputId": "8a3ac64b-5d27-4010-df67-ca73cdddb412"
      },
      "outputs": [
        {
          "data": {
            "text/html": [
              "<div>\n",
              "<style scoped>\n",
              "    .dataframe tbody tr th:only-of-type {\n",
              "        vertical-align: middle;\n",
              "    }\n",
              "\n",
              "    .dataframe tbody tr th {\n",
              "        vertical-align: top;\n",
              "    }\n",
              "\n",
              "    .dataframe thead th {\n",
              "        text-align: right;\n",
              "    }\n",
              "</style>\n",
              "<table border=\"1\" class=\"dataframe\">\n",
              "  <thead>\n",
              "    <tr style=\"text-align: right;\">\n",
              "      <th></th>\n",
              "      <th>Student ID</th>\n",
              "      <th>Class</th>\n",
              "      <th>Study hrs</th>\n",
              "      <th>Social Media usage hrs</th>\n",
              "      <th>Percentage</th>\n",
              "    </tr>\n",
              "    <tr>\n",
              "      <th>Section</th>\n",
              "      <th></th>\n",
              "      <th></th>\n",
              "      <th></th>\n",
              "      <th></th>\n",
              "      <th></th>\n",
              "    </tr>\n",
              "  </thead>\n",
              "  <tbody>\n",
              "    <tr>\n",
              "      <th>A</th>\n",
              "      <td>1002.0</td>\n",
              "      <td>10.0</td>\n",
              "      <td>2.5</td>\n",
              "      <td>2.5</td>\n",
              "      <td>55.0</td>\n",
              "    </tr>\n",
              "    <tr>\n",
              "      <th>B</th>\n",
              "      <td>1002.0</td>\n",
              "      <td>10.0</td>\n",
              "      <td>6.0</td>\n",
              "      <td>2.0</td>\n",
              "      <td>80.0</td>\n",
              "    </tr>\n",
              "    <tr>\n",
              "      <th>C</th>\n",
              "      <td>1004.5</td>\n",
              "      <td>11.5</td>\n",
              "      <td>2.5</td>\n",
              "      <td>1.5</td>\n",
              "      <td>60.0</td>\n",
              "    </tr>\n",
              "  </tbody>\n",
              "</table>\n",
              "</div>"
            ],
            "text/plain": [
              "         Student ID  Class  Study hrs  Social Media usage hrs  Percentage\n",
              "Section                                                                  \n",
              "A            1002.0   10.0        2.5                     2.5        55.0\n",
              "B            1002.0   10.0        6.0                     2.0        80.0\n",
              "C            1004.5   11.5        2.5                     1.5        60.0"
            ]
          },
          "execution_count": 146,
          "metadata": {},
          "output_type": "execute_result"
        }
      ],
      "source": [
        "gr_1.mean()"
      ]
    },
    {
      "cell_type": "code",
      "execution_count": null,
      "id": "9410e288",
      "metadata": {
        "id": "9410e288",
        "outputId": "7ed56072-5815-42df-b0bf-861c29366cbb"
      },
      "outputs": [
        {
          "data": {
            "text/html": [
              "<div>\n",
              "<style scoped>\n",
              "    .dataframe tbody tr th:only-of-type {\n",
              "        vertical-align: middle;\n",
              "    }\n",
              "\n",
              "    .dataframe tbody tr th {\n",
              "        vertical-align: top;\n",
              "    }\n",
              "\n",
              "    .dataframe thead tr th {\n",
              "        text-align: left;\n",
              "    }\n",
              "\n",
              "    .dataframe thead tr:last-of-type th {\n",
              "        text-align: right;\n",
              "    }\n",
              "</style>\n",
              "<table border=\"1\" class=\"dataframe\">\n",
              "  <thead>\n",
              "    <tr>\n",
              "      <th></th>\n",
              "      <th colspan=\"8\" halign=\"left\">Student ID</th>\n",
              "      <th colspan=\"2\" halign=\"left\">Class</th>\n",
              "      <th>...</th>\n",
              "      <th colspan=\"2\" halign=\"left\">Social Media usage hrs</th>\n",
              "      <th colspan=\"8\" halign=\"left\">Percentage</th>\n",
              "    </tr>\n",
              "    <tr>\n",
              "      <th></th>\n",
              "      <th>count</th>\n",
              "      <th>mean</th>\n",
              "      <th>std</th>\n",
              "      <th>min</th>\n",
              "      <th>25%</th>\n",
              "      <th>50%</th>\n",
              "      <th>75%</th>\n",
              "      <th>max</th>\n",
              "      <th>count</th>\n",
              "      <th>mean</th>\n",
              "      <th>...</th>\n",
              "      <th>75%</th>\n",
              "      <th>max</th>\n",
              "      <th>count</th>\n",
              "      <th>mean</th>\n",
              "      <th>std</th>\n",
              "      <th>min</th>\n",
              "      <th>25%</th>\n",
              "      <th>50%</th>\n",
              "      <th>75%</th>\n",
              "      <th>max</th>\n",
              "    </tr>\n",
              "    <tr>\n",
              "      <th>Section</th>\n",
              "      <th></th>\n",
              "      <th></th>\n",
              "      <th></th>\n",
              "      <th></th>\n",
              "      <th></th>\n",
              "      <th></th>\n",
              "      <th></th>\n",
              "      <th></th>\n",
              "      <th></th>\n",
              "      <th></th>\n",
              "      <th></th>\n",
              "      <th></th>\n",
              "      <th></th>\n",
              "      <th></th>\n",
              "      <th></th>\n",
              "      <th></th>\n",
              "      <th></th>\n",
              "      <th></th>\n",
              "      <th></th>\n",
              "      <th></th>\n",
              "      <th></th>\n",
              "    </tr>\n",
              "  </thead>\n",
              "  <tbody>\n",
              "    <tr>\n",
              "      <th>A</th>\n",
              "      <td>2.0</td>\n",
              "      <td>1002.0</td>\n",
              "      <td>1.414214</td>\n",
              "      <td>1001.0</td>\n",
              "      <td>1001.50</td>\n",
              "      <td>1002.0</td>\n",
              "      <td>1002.50</td>\n",
              "      <td>1003.0</td>\n",
              "      <td>2.0</td>\n",
              "      <td>10.0</td>\n",
              "      <td>...</td>\n",
              "      <td>2.75</td>\n",
              "      <td>3.0</td>\n",
              "      <td>2.0</td>\n",
              "      <td>55.0</td>\n",
              "      <td>7.071068</td>\n",
              "      <td>50.0</td>\n",
              "      <td>52.5</td>\n",
              "      <td>55.0</td>\n",
              "      <td>57.5</td>\n",
              "      <td>60.0</td>\n",
              "    </tr>\n",
              "    <tr>\n",
              "      <th>B</th>\n",
              "      <td>1.0</td>\n",
              "      <td>1002.0</td>\n",
              "      <td>NaN</td>\n",
              "      <td>1002.0</td>\n",
              "      <td>1002.00</td>\n",
              "      <td>1002.0</td>\n",
              "      <td>1002.00</td>\n",
              "      <td>1002.0</td>\n",
              "      <td>1.0</td>\n",
              "      <td>10.0</td>\n",
              "      <td>...</td>\n",
              "      <td>2.00</td>\n",
              "      <td>2.0</td>\n",
              "      <td>1.0</td>\n",
              "      <td>80.0</td>\n",
              "      <td>NaN</td>\n",
              "      <td>80.0</td>\n",
              "      <td>80.0</td>\n",
              "      <td>80.0</td>\n",
              "      <td>80.0</td>\n",
              "      <td>80.0</td>\n",
              "    </tr>\n",
              "    <tr>\n",
              "      <th>C</th>\n",
              "      <td>2.0</td>\n",
              "      <td>1004.5</td>\n",
              "      <td>0.707107</td>\n",
              "      <td>1004.0</td>\n",
              "      <td>1004.25</td>\n",
              "      <td>1004.5</td>\n",
              "      <td>1004.75</td>\n",
              "      <td>1005.0</td>\n",
              "      <td>2.0</td>\n",
              "      <td>11.5</td>\n",
              "      <td>...</td>\n",
              "      <td>1.75</td>\n",
              "      <td>2.0</td>\n",
              "      <td>2.0</td>\n",
              "      <td>60.0</td>\n",
              "      <td>21.213203</td>\n",
              "      <td>45.0</td>\n",
              "      <td>52.5</td>\n",
              "      <td>60.0</td>\n",
              "      <td>67.5</td>\n",
              "      <td>75.0</td>\n",
              "    </tr>\n",
              "  </tbody>\n",
              "</table>\n",
              "<p>3 rows × 40 columns</p>\n",
              "</div>"
            ],
            "text/plain": [
              "        Student ID                                                      \\\n",
              "             count    mean       std     min      25%     50%      75%   \n",
              "Section                                                                  \n",
              "A              2.0  1002.0  1.414214  1001.0  1001.50  1002.0  1002.50   \n",
              "B              1.0  1002.0       NaN  1002.0  1002.00  1002.0  1002.00   \n",
              "C              2.0  1004.5  0.707107  1004.0  1004.25  1004.5  1004.75   \n",
              "\n",
              "                Class        ... Social Media usage hrs      Percentage        \\\n",
              "            max count  mean  ...                    75%  max      count  mean   \n",
              "Section                      ...                                                \n",
              "A        1003.0   2.0  10.0  ...                   2.75  3.0        2.0  55.0   \n",
              "B        1002.0   1.0  10.0  ...                   2.00  2.0        1.0  80.0   \n",
              "C        1005.0   2.0  11.5  ...                   1.75  2.0        2.0  60.0   \n",
              "\n",
              "                                                  \n",
              "               std   min   25%   50%   75%   max  \n",
              "Section                                           \n",
              "A         7.071068  50.0  52.5  55.0  57.5  60.0  \n",
              "B              NaN  80.0  80.0  80.0  80.0  80.0  \n",
              "C        21.213203  45.0  52.5  60.0  67.5  75.0  \n",
              "\n",
              "[3 rows x 40 columns]"
            ]
          },
          "execution_count": 147,
          "metadata": {},
          "output_type": "execute_result"
        }
      ],
      "source": [
        "gr_1.describe()"
      ]
    },
    {
      "cell_type": "code",
      "execution_count": null,
      "id": "950f113c",
      "metadata": {
        "id": "950f113c",
        "outputId": "ce7d8ac4-167b-49b3-a0f7-6fcae1621597"
      },
      "outputs": [
        {
          "data": {
            "text/html": [
              "<div>\n",
              "<style scoped>\n",
              "    .dataframe tbody tr th:only-of-type {\n",
              "        vertical-align: middle;\n",
              "    }\n",
              "\n",
              "    .dataframe tbody tr th {\n",
              "        vertical-align: top;\n",
              "    }\n",
              "\n",
              "    .dataframe thead tr th {\n",
              "        text-align: left;\n",
              "    }\n",
              "\n",
              "    .dataframe thead tr:last-of-type th {\n",
              "        text-align: right;\n",
              "    }\n",
              "</style>\n",
              "<table border=\"1\" class=\"dataframe\">\n",
              "  <thead>\n",
              "    <tr>\n",
              "      <th></th>\n",
              "      <th colspan=\"3\" halign=\"left\">Student ID</th>\n",
              "      <th colspan=\"3\" halign=\"left\">Class</th>\n",
              "      <th colspan=\"3\" halign=\"left\">Study hrs</th>\n",
              "      <th colspan=\"3\" halign=\"left\">Social Media usage hrs</th>\n",
              "      <th colspan=\"3\" halign=\"left\">Percentage</th>\n",
              "    </tr>\n",
              "    <tr>\n",
              "      <th></th>\n",
              "      <th>sum</th>\n",
              "      <th>max</th>\n",
              "      <th>min</th>\n",
              "      <th>sum</th>\n",
              "      <th>max</th>\n",
              "      <th>min</th>\n",
              "      <th>sum</th>\n",
              "      <th>max</th>\n",
              "      <th>min</th>\n",
              "      <th>sum</th>\n",
              "      <th>max</th>\n",
              "      <th>min</th>\n",
              "      <th>sum</th>\n",
              "      <th>max</th>\n",
              "      <th>min</th>\n",
              "    </tr>\n",
              "    <tr>\n",
              "      <th>Section</th>\n",
              "      <th></th>\n",
              "      <th></th>\n",
              "      <th></th>\n",
              "      <th></th>\n",
              "      <th></th>\n",
              "      <th></th>\n",
              "      <th></th>\n",
              "      <th></th>\n",
              "      <th></th>\n",
              "      <th></th>\n",
              "      <th></th>\n",
              "      <th></th>\n",
              "      <th></th>\n",
              "      <th></th>\n",
              "      <th></th>\n",
              "    </tr>\n",
              "  </thead>\n",
              "  <tbody>\n",
              "    <tr>\n",
              "      <th>A</th>\n",
              "      <td>2004</td>\n",
              "      <td>1003</td>\n",
              "      <td>1001</td>\n",
              "      <td>20</td>\n",
              "      <td>10</td>\n",
              "      <td>10</td>\n",
              "      <td>5</td>\n",
              "      <td>3</td>\n",
              "      <td>2</td>\n",
              "      <td>5</td>\n",
              "      <td>3</td>\n",
              "      <td>2</td>\n",
              "      <td>110</td>\n",
              "      <td>60</td>\n",
              "      <td>50</td>\n",
              "    </tr>\n",
              "    <tr>\n",
              "      <th>B</th>\n",
              "      <td>1002</td>\n",
              "      <td>1002</td>\n",
              "      <td>1002</td>\n",
              "      <td>10</td>\n",
              "      <td>10</td>\n",
              "      <td>10</td>\n",
              "      <td>6</td>\n",
              "      <td>6</td>\n",
              "      <td>6</td>\n",
              "      <td>2</td>\n",
              "      <td>2</td>\n",
              "      <td>2</td>\n",
              "      <td>80</td>\n",
              "      <td>80</td>\n",
              "      <td>80</td>\n",
              "    </tr>\n",
              "    <tr>\n",
              "      <th>C</th>\n",
              "      <td>2009</td>\n",
              "      <td>1005</td>\n",
              "      <td>1004</td>\n",
              "      <td>23</td>\n",
              "      <td>12</td>\n",
              "      <td>11</td>\n",
              "      <td>5</td>\n",
              "      <td>5</td>\n",
              "      <td>0</td>\n",
              "      <td>3</td>\n",
              "      <td>2</td>\n",
              "      <td>1</td>\n",
              "      <td>120</td>\n",
              "      <td>75</td>\n",
              "      <td>45</td>\n",
              "    </tr>\n",
              "  </tbody>\n",
              "</table>\n",
              "</div>"
            ],
            "text/plain": [
              "        Student ID             Class         Study hrs          \\\n",
              "               sum   max   min   sum max min       sum max min   \n",
              "Section                                                          \n",
              "A             2004  1003  1001    20  10  10         5   3   2   \n",
              "B             1002  1002  1002    10  10  10         6   6   6   \n",
              "C             2009  1005  1004    23  12  11         5   5   0   \n",
              "\n",
              "        Social Media usage hrs         Percentage          \n",
              "                           sum max min        sum max min  \n",
              "Section                                                    \n",
              "A                            5   3   2        110  60  50  \n",
              "B                            2   2   2         80  80  80  \n",
              "C                            3   2   1        120  75  45  "
            ]
          },
          "execution_count": 148,
          "metadata": {},
          "output_type": "execute_result"
        }
      ],
      "source": [
        "gr_1.agg(['sum','max','min'])"
      ]
    },
    {
      "cell_type": "markdown",
      "id": "99445b4c",
      "metadata": {
        "id": "99445b4c"
      },
      "source": [
        "***Merge***"
      ]
    },
    {
      "cell_type": "code",
      "execution_count": null,
      "id": "838d9deb",
      "metadata": {
        "scrolled": true,
        "id": "838d9deb",
        "outputId": "00eb0f3e-3123-44f6-f567-44af90d8a641"
      },
      "outputs": [
        {
          "data": {
            "text/html": [
              "<div>\n",
              "<style scoped>\n",
              "    .dataframe tbody tr th:only-of-type {\n",
              "        vertical-align: middle;\n",
              "    }\n",
              "\n",
              "    .dataframe tbody tr th {\n",
              "        vertical-align: top;\n",
              "    }\n",
              "\n",
              "    .dataframe thead th {\n",
              "        text-align: right;\n",
              "    }\n",
              "</style>\n",
              "<table border=\"1\" class=\"dataframe\">\n",
              "  <thead>\n",
              "    <tr style=\"text-align: right;\">\n",
              "      <th></th>\n",
              "      <th>ID</th>\n",
              "      <th>Class</th>\n",
              "    </tr>\n",
              "  </thead>\n",
              "  <tbody>\n",
              "    <tr>\n",
              "      <th>0</th>\n",
              "      <td>1</td>\n",
              "      <td>9</td>\n",
              "    </tr>\n",
              "    <tr>\n",
              "      <th>1</th>\n",
              "      <td>2</td>\n",
              "      <td>10</td>\n",
              "    </tr>\n",
              "    <tr>\n",
              "      <th>2</th>\n",
              "      <td>3</td>\n",
              "      <td>11</td>\n",
              "    </tr>\n",
              "    <tr>\n",
              "      <th>3</th>\n",
              "      <td>4</td>\n",
              "      <td>12</td>\n",
              "    </tr>\n",
              "  </tbody>\n",
              "</table>\n",
              "</div>"
            ],
            "text/plain": [
              "   ID  Class\n",
              "0   1      9\n",
              "1   2     10\n",
              "2   3     11\n",
              "3   4     12"
            ]
          },
          "execution_count": 149,
          "metadata": {},
          "output_type": "execute_result"
        }
      ],
      "source": [
        "df_1 = pd.DataFrame({'ID': [1,2,3,4],'Class': [9,10,11,12]})\n",
        "df_1"
      ]
    },
    {
      "cell_type": "code",
      "execution_count": null,
      "id": "584e9276",
      "metadata": {
        "id": "584e9276",
        "outputId": "fb5f7a39-63d9-4911-8d7d-21706b7b8227"
      },
      "outputs": [
        {
          "data": {
            "text/html": [
              "<div>\n",
              "<style scoped>\n",
              "    .dataframe tbody tr th:only-of-type {\n",
              "        vertical-align: middle;\n",
              "    }\n",
              "\n",
              "    .dataframe tbody tr th {\n",
              "        vertical-align: top;\n",
              "    }\n",
              "\n",
              "    .dataframe thead th {\n",
              "        text-align: right;\n",
              "    }\n",
              "</style>\n",
              "<table border=\"1\" class=\"dataframe\">\n",
              "  <thead>\n",
              "    <tr style=\"text-align: right;\">\n",
              "      <th></th>\n",
              "      <th>ID</th>\n",
              "      <th>Name</th>\n",
              "    </tr>\n",
              "  </thead>\n",
              "  <tbody>\n",
              "    <tr>\n",
              "      <th>0</th>\n",
              "      <td>1</td>\n",
              "      <td>A</td>\n",
              "    </tr>\n",
              "    <tr>\n",
              "      <th>1</th>\n",
              "      <td>2</td>\n",
              "      <td>B</td>\n",
              "    </tr>\n",
              "    <tr>\n",
              "      <th>2</th>\n",
              "      <td>3</td>\n",
              "      <td>C</td>\n",
              "    </tr>\n",
              "    <tr>\n",
              "      <th>3</th>\n",
              "      <td>4</td>\n",
              "      <td>D</td>\n",
              "    </tr>\n",
              "  </tbody>\n",
              "</table>\n",
              "</div>"
            ],
            "text/plain": [
              "   ID Name\n",
              "0   1    A\n",
              "1   2    B\n",
              "2   3    C\n",
              "3   4    D"
            ]
          },
          "execution_count": 150,
          "metadata": {},
          "output_type": "execute_result"
        }
      ],
      "source": [
        "df_2 = pd.DataFrame({'ID': [1,2,3,4],'Name': ['A','B','C','D']})\n",
        "df_2"
      ]
    },
    {
      "cell_type": "code",
      "execution_count": null,
      "id": "f3aea4f9",
      "metadata": {
        "id": "f3aea4f9",
        "outputId": "43294076-c3d0-45f6-8e68-bc22af94b258"
      },
      "outputs": [
        {
          "data": {
            "text/html": [
              "<div>\n",
              "<style scoped>\n",
              "    .dataframe tbody tr th:only-of-type {\n",
              "        vertical-align: middle;\n",
              "    }\n",
              "\n",
              "    .dataframe tbody tr th {\n",
              "        vertical-align: top;\n",
              "    }\n",
              "\n",
              "    .dataframe thead th {\n",
              "        text-align: right;\n",
              "    }\n",
              "</style>\n",
              "<table border=\"1\" class=\"dataframe\">\n",
              "  <thead>\n",
              "    <tr style=\"text-align: right;\">\n",
              "      <th></th>\n",
              "      <th>ID</th>\n",
              "      <th>Class</th>\n",
              "      <th>Name</th>\n",
              "    </tr>\n",
              "  </thead>\n",
              "  <tbody>\n",
              "    <tr>\n",
              "      <th>0</th>\n",
              "      <td>1</td>\n",
              "      <td>9</td>\n",
              "      <td>A</td>\n",
              "    </tr>\n",
              "    <tr>\n",
              "      <th>1</th>\n",
              "      <td>2</td>\n",
              "      <td>10</td>\n",
              "      <td>B</td>\n",
              "    </tr>\n",
              "    <tr>\n",
              "      <th>2</th>\n",
              "      <td>3</td>\n",
              "      <td>11</td>\n",
              "      <td>C</td>\n",
              "    </tr>\n",
              "    <tr>\n",
              "      <th>3</th>\n",
              "      <td>4</td>\n",
              "      <td>12</td>\n",
              "      <td>D</td>\n",
              "    </tr>\n",
              "  </tbody>\n",
              "</table>\n",
              "</div>"
            ],
            "text/plain": [
              "   ID  Class Name\n",
              "0   1      9    A\n",
              "1   2     10    B\n",
              "2   3     11    C\n",
              "3   4     12    D"
            ]
          },
          "execution_count": 151,
          "metadata": {},
          "output_type": "execute_result"
        }
      ],
      "source": [
        "pd.merge(df_1,df_2,on = 'ID')"
      ]
    },
    {
      "cell_type": "code",
      "execution_count": null,
      "id": "92b58493",
      "metadata": {
        "id": "92b58493",
        "outputId": "002c83ec-0561-4e69-ba93-ed8fbae85cd2"
      },
      "outputs": [
        {
          "data": {
            "text/html": [
              "<div>\n",
              "<style scoped>\n",
              "    .dataframe tbody tr th:only-of-type {\n",
              "        vertical-align: middle;\n",
              "    }\n",
              "\n",
              "    .dataframe tbody tr th {\n",
              "        vertical-align: top;\n",
              "    }\n",
              "\n",
              "    .dataframe thead th {\n",
              "        text-align: right;\n",
              "    }\n",
              "</style>\n",
              "<table border=\"1\" class=\"dataframe\">\n",
              "  <thead>\n",
              "    <tr style=\"text-align: right;\">\n",
              "      <th></th>\n",
              "      <th>ID</th>\n",
              "      <th>Class</th>\n",
              "      <th>Name</th>\n",
              "    </tr>\n",
              "  </thead>\n",
              "  <tbody>\n",
              "    <tr>\n",
              "      <th>0</th>\n",
              "      <td>1</td>\n",
              "      <td>9</td>\n",
              "      <td>A</td>\n",
              "    </tr>\n",
              "    <tr>\n",
              "      <th>1</th>\n",
              "      <td>2</td>\n",
              "      <td>10</td>\n",
              "      <td>B</td>\n",
              "    </tr>\n",
              "    <tr>\n",
              "      <th>2</th>\n",
              "      <td>3</td>\n",
              "      <td>11</td>\n",
              "      <td>C</td>\n",
              "    </tr>\n",
              "    <tr>\n",
              "      <th>3</th>\n",
              "      <td>4</td>\n",
              "      <td>12</td>\n",
              "      <td>D</td>\n",
              "    </tr>\n",
              "  </tbody>\n",
              "</table>\n",
              "</div>"
            ],
            "text/plain": [
              "   ID  Class Name\n",
              "0   1      9    A\n",
              "1   2     10    B\n",
              "2   3     11    C\n",
              "3   4     12    D"
            ]
          },
          "execution_count": 152,
          "metadata": {},
          "output_type": "execute_result"
        }
      ],
      "source": [
        "pd.merge(df_1,df_2,on = 'ID')"
      ]
    },
    {
      "cell_type": "code",
      "execution_count": null,
      "id": "26c39111",
      "metadata": {
        "id": "26c39111"
      },
      "outputs": [],
      "source": [
        "# pd.merge(df_2,df_1,on = 'ID')"
      ]
    },
    {
      "cell_type": "code",
      "execution_count": null,
      "id": "d26490fd",
      "metadata": {
        "id": "d26490fd"
      },
      "outputs": [],
      "source": [
        "# pd.merge(df_1,df_2,on = 'ID',how = 'left')"
      ]
    },
    {
      "cell_type": "code",
      "execution_count": null,
      "id": "dcbfe3be",
      "metadata": {
        "id": "dcbfe3be"
      },
      "outputs": [],
      "source": [
        "# pd.merge(df_1,df_2,on = 'ID',how = 'right')"
      ]
    },
    {
      "cell_type": "code",
      "execution_count": null,
      "id": "dd4332b8",
      "metadata": {
        "id": "dd4332b8"
      },
      "outputs": [],
      "source": [
        "# pd.merge(df_1,df_2,on = 'ID',how = 'outer')"
      ]
    },
    {
      "cell_type": "code",
      "execution_count": null,
      "id": "261f2457",
      "metadata": {
        "id": "261f2457"
      },
      "outputs": [],
      "source": [
        "# pd.merge(df_1,df_2,on = 'ID',how = 'left', indicator = True)"
      ]
    },
    {
      "cell_type": "code",
      "execution_count": null,
      "id": "5b8aca8b",
      "metadata": {
        "id": "5b8aca8b",
        "outputId": "b449f3f2-2295-41c7-e750-42c4c6b9fc4b"
      },
      "outputs": [
        {
          "data": {
            "text/html": [
              "<div>\n",
              "<style scoped>\n",
              "    .dataframe tbody tr th:only-of-type {\n",
              "        vertical-align: middle;\n",
              "    }\n",
              "\n",
              "    .dataframe tbody tr th {\n",
              "        vertical-align: top;\n",
              "    }\n",
              "\n",
              "    .dataframe thead th {\n",
              "        text-align: right;\n",
              "    }\n",
              "</style>\n",
              "<table border=\"1\" class=\"dataframe\">\n",
              "  <thead>\n",
              "    <tr style=\"text-align: right;\">\n",
              "      <th></th>\n",
              "      <th>ID</th>\n",
              "      <th>Name</th>\n",
              "    </tr>\n",
              "  </thead>\n",
              "  <tbody>\n",
              "    <tr>\n",
              "      <th>0</th>\n",
              "      <td>5</td>\n",
              "      <td>A</td>\n",
              "    </tr>\n",
              "    <tr>\n",
              "      <th>1</th>\n",
              "      <td>6</td>\n",
              "      <td>B</td>\n",
              "    </tr>\n",
              "    <tr>\n",
              "      <th>2</th>\n",
              "      <td>7</td>\n",
              "      <td>C</td>\n",
              "    </tr>\n",
              "    <tr>\n",
              "      <th>3</th>\n",
              "      <td>8</td>\n",
              "      <td>D</td>\n",
              "    </tr>\n",
              "  </tbody>\n",
              "</table>\n",
              "</div>"
            ],
            "text/plain": [
              "   ID Name\n",
              "0   5    A\n",
              "1   6    B\n",
              "2   7    C\n",
              "3   8    D"
            ]
          },
          "execution_count": 158,
          "metadata": {},
          "output_type": "execute_result"
        }
      ],
      "source": [
        "df_3 = pd.DataFrame({'ID': [5,6,7,8],'Name': ['A','B','C','D']})\n",
        "df_3"
      ]
    },
    {
      "cell_type": "code",
      "execution_count": null,
      "id": "723b07ab",
      "metadata": {
        "id": "723b07ab",
        "outputId": "f1f05b22-35eb-475f-b5e6-424adc94103f"
      },
      "outputs": [
        {
          "data": {
            "text/html": [
              "<div>\n",
              "<style scoped>\n",
              "    .dataframe tbody tr th:only-of-type {\n",
              "        vertical-align: middle;\n",
              "    }\n",
              "\n",
              "    .dataframe tbody tr th {\n",
              "        vertical-align: top;\n",
              "    }\n",
              "\n",
              "    .dataframe thead th {\n",
              "        text-align: right;\n",
              "    }\n",
              "</style>\n",
              "<table border=\"1\" class=\"dataframe\">\n",
              "  <thead>\n",
              "    <tr style=\"text-align: right;\">\n",
              "      <th></th>\n",
              "      <th>ID_x</th>\n",
              "      <th>Class</th>\n",
              "      <th>ID_y</th>\n",
              "      <th>Name</th>\n",
              "    </tr>\n",
              "  </thead>\n",
              "  <tbody>\n",
              "    <tr>\n",
              "      <th>0</th>\n",
              "      <td>1</td>\n",
              "      <td>9</td>\n",
              "      <td>5</td>\n",
              "      <td>A</td>\n",
              "    </tr>\n",
              "    <tr>\n",
              "      <th>1</th>\n",
              "      <td>2</td>\n",
              "      <td>10</td>\n",
              "      <td>6</td>\n",
              "      <td>B</td>\n",
              "    </tr>\n",
              "    <tr>\n",
              "      <th>2</th>\n",
              "      <td>3</td>\n",
              "      <td>11</td>\n",
              "      <td>7</td>\n",
              "      <td>C</td>\n",
              "    </tr>\n",
              "    <tr>\n",
              "      <th>3</th>\n",
              "      <td>4</td>\n",
              "      <td>12</td>\n",
              "      <td>8</td>\n",
              "      <td>D</td>\n",
              "    </tr>\n",
              "  </tbody>\n",
              "</table>\n",
              "</div>"
            ],
            "text/plain": [
              "   ID_x  Class  ID_y Name\n",
              "0     1      9     5    A\n",
              "1     2     10     6    B\n",
              "2     3     11     7    C\n",
              "3     4     12     8    D"
            ]
          },
          "execution_count": 159,
          "metadata": {},
          "output_type": "execute_result"
        }
      ],
      "source": [
        "pd.merge(df_1,df_3,left_index = True,right_index = True)"
      ]
    },
    {
      "cell_type": "code",
      "execution_count": null,
      "id": "8e92b1c3",
      "metadata": {
        "id": "8e92b1c3",
        "outputId": "15cb7a2f-ac09-47b5-adac-8b886d50f148"
      },
      "outputs": [
        {
          "data": {
            "text/html": [
              "<div>\n",
              "<style scoped>\n",
              "    .dataframe tbody tr th:only-of-type {\n",
              "        vertical-align: middle;\n",
              "    }\n",
              "\n",
              "    .dataframe tbody tr th {\n",
              "        vertical-align: top;\n",
              "    }\n",
              "\n",
              "    .dataframe thead th {\n",
              "        text-align: right;\n",
              "    }\n",
              "</style>\n",
              "<table border=\"1\" class=\"dataframe\">\n",
              "  <thead>\n",
              "    <tr style=\"text-align: right;\">\n",
              "      <th></th>\n",
              "      <th>ID</th>\n",
              "      <th>Class</th>\n",
              "    </tr>\n",
              "  </thead>\n",
              "  <tbody>\n",
              "    <tr>\n",
              "      <th>0</th>\n",
              "      <td>1</td>\n",
              "      <td>9</td>\n",
              "    </tr>\n",
              "    <tr>\n",
              "      <th>1</th>\n",
              "      <td>2</td>\n",
              "      <td>10</td>\n",
              "    </tr>\n",
              "    <tr>\n",
              "      <th>2</th>\n",
              "      <td>3</td>\n",
              "      <td>11</td>\n",
              "    </tr>\n",
              "    <tr>\n",
              "      <th>3</th>\n",
              "      <td>4</td>\n",
              "      <td>12</td>\n",
              "    </tr>\n",
              "  </tbody>\n",
              "</table>\n",
              "</div>"
            ],
            "text/plain": [
              "   ID  Class\n",
              "0   1      9\n",
              "1   2     10\n",
              "2   3     11\n",
              "3   4     12"
            ]
          },
          "execution_count": 160,
          "metadata": {},
          "output_type": "execute_result"
        }
      ],
      "source": [
        "df_2 = pd.DataFrame({'ID': [1,2,3,4],'Class': [9,10,11,12]})\n",
        "df_2"
      ]
    },
    {
      "cell_type": "code",
      "execution_count": null,
      "id": "f4a6f7dd",
      "metadata": {
        "id": "f4a6f7dd",
        "outputId": "26671859-cabc-4342-9e65-b8aaa710e9c4"
      },
      "outputs": [
        {
          "data": {
            "text/html": [
              "<div>\n",
              "<style scoped>\n",
              "    .dataframe tbody tr th:only-of-type {\n",
              "        vertical-align: middle;\n",
              "    }\n",
              "\n",
              "    .dataframe tbody tr th {\n",
              "        vertical-align: top;\n",
              "    }\n",
              "\n",
              "    .dataframe thead th {\n",
              "        text-align: right;\n",
              "    }\n",
              "</style>\n",
              "<table border=\"1\" class=\"dataframe\">\n",
              "  <thead>\n",
              "    <tr style=\"text-align: right;\">\n",
              "      <th></th>\n",
              "      <th>ID</th>\n",
              "      <th>Class_Higher</th>\n",
              "      <th>Class_Middle</th>\n",
              "    </tr>\n",
              "  </thead>\n",
              "  <tbody>\n",
              "    <tr>\n",
              "      <th>0</th>\n",
              "      <td>1</td>\n",
              "      <td>9</td>\n",
              "      <td>9</td>\n",
              "    </tr>\n",
              "    <tr>\n",
              "      <th>1</th>\n",
              "      <td>2</td>\n",
              "      <td>10</td>\n",
              "      <td>10</td>\n",
              "    </tr>\n",
              "    <tr>\n",
              "      <th>2</th>\n",
              "      <td>3</td>\n",
              "      <td>11</td>\n",
              "      <td>11</td>\n",
              "    </tr>\n",
              "    <tr>\n",
              "      <th>3</th>\n",
              "      <td>4</td>\n",
              "      <td>12</td>\n",
              "      <td>12</td>\n",
              "    </tr>\n",
              "  </tbody>\n",
              "</table>\n",
              "</div>"
            ],
            "text/plain": [
              "   ID  Class_Higher  Class_Middle\n",
              "0   1             9             9\n",
              "1   2            10            10\n",
              "2   3            11            11\n",
              "3   4            12            12"
            ]
          },
          "execution_count": 161,
          "metadata": {},
          "output_type": "execute_result"
        }
      ],
      "source": [
        "pd.merge(df_1,df_2,on = 'ID',suffixes = ('_Higher','_Middle'))"
      ]
    },
    {
      "cell_type": "markdown",
      "id": "f6532894",
      "metadata": {
        "id": "f6532894"
      },
      "source": [
        "***Concat***"
      ]
    },
    {
      "cell_type": "code",
      "execution_count": null,
      "id": "b2065bef",
      "metadata": {
        "id": "b2065bef",
        "outputId": "e2078f10-6de1-4fbd-9f63-f938ca6d815a"
      },
      "outputs": [
        {
          "data": {
            "text/plain": [
              "0    0\n",
              "1    1\n",
              "2    2\n",
              "dtype: int64"
            ]
          },
          "execution_count": 162,
          "metadata": {},
          "output_type": "execute_result"
        }
      ],
      "source": [
        "sr_1 = pd.Series([0,1,2])\n",
        "sr_1"
      ]
    },
    {
      "cell_type": "code",
      "execution_count": null,
      "id": "eac3de01",
      "metadata": {
        "id": "eac3de01",
        "outputId": "c8b32026-26e5-4ed4-aa0c-212169539857"
      },
      "outputs": [
        {
          "data": {
            "text/plain": [
              "0    3\n",
              "1    4\n",
              "2    5\n",
              "dtype: int64"
            ]
          },
          "execution_count": 163,
          "metadata": {},
          "output_type": "execute_result"
        }
      ],
      "source": [
        "sr_2 = pd.Series([3,4,5])\n",
        "sr_2"
      ]
    },
    {
      "cell_type": "code",
      "execution_count": null,
      "id": "9d1d5c98",
      "metadata": {
        "id": "9d1d5c98",
        "outputId": "b6b81ad2-3892-4e06-91ce-7f6d781e5446"
      },
      "outputs": [
        {
          "data": {
            "text/plain": [
              "0    0\n",
              "1    1\n",
              "2    2\n",
              "0    3\n",
              "1    4\n",
              "2    5\n",
              "dtype: int64"
            ]
          },
          "execution_count": 164,
          "metadata": {},
          "output_type": "execute_result"
        }
      ],
      "source": [
        "pd.concat([sr_1,sr_2])"
      ]
    },
    {
      "cell_type": "code",
      "execution_count": null,
      "id": "9059eb6e",
      "metadata": {
        "id": "9059eb6e",
        "outputId": "7eee7114-1e02-4717-c4e3-697f85c036c1"
      },
      "outputs": [
        {
          "data": {
            "text/html": [
              "<div>\n",
              "<style scoped>\n",
              "    .dataframe tbody tr th:only-of-type {\n",
              "        vertical-align: middle;\n",
              "    }\n",
              "\n",
              "    .dataframe tbody tr th {\n",
              "        vertical-align: top;\n",
              "    }\n",
              "\n",
              "    .dataframe thead th {\n",
              "        text-align: right;\n",
              "    }\n",
              "</style>\n",
              "<table border=\"1\" class=\"dataframe\">\n",
              "  <thead>\n",
              "    <tr style=\"text-align: right;\">\n",
              "      <th></th>\n",
              "      <th>ID</th>\n",
              "      <th>Name</th>\n",
              "      <th>Class</th>\n",
              "    </tr>\n",
              "  </thead>\n",
              "  <tbody>\n",
              "    <tr>\n",
              "      <th>0</th>\n",
              "      <td>1</td>\n",
              "      <td>A</td>\n",
              "      <td>5</td>\n",
              "    </tr>\n",
              "    <tr>\n",
              "      <th>1</th>\n",
              "      <td>2</td>\n",
              "      <td>B</td>\n",
              "      <td>6</td>\n",
              "    </tr>\n",
              "    <tr>\n",
              "      <th>2</th>\n",
              "      <td>3</td>\n",
              "      <td>C</td>\n",
              "      <td>7</td>\n",
              "    </tr>\n",
              "    <tr>\n",
              "      <th>3</th>\n",
              "      <td>4</td>\n",
              "      <td>D</td>\n",
              "      <td>8</td>\n",
              "    </tr>\n",
              "  </tbody>\n",
              "</table>\n",
              "</div>"
            ],
            "text/plain": [
              "   ID Name  Class\n",
              "0   1    A      5\n",
              "1   2    B      6\n",
              "2   3    C      7\n",
              "3   4    D      8"
            ]
          },
          "execution_count": 165,
          "metadata": {},
          "output_type": "execute_result"
        }
      ],
      "source": [
        "_df1 = pd.DataFrame({'ID': [1,2,3,4],'Name': ['A','B','C','D'],'Class': [5,6,7,8]})\n",
        "_df1"
      ]
    },
    {
      "cell_type": "code",
      "execution_count": null,
      "id": "c45c7a3c",
      "metadata": {
        "id": "c45c7a3c",
        "outputId": "1677cbc9-e7fe-45a0-b9c6-398fd5bd4b51"
      },
      "outputs": [
        {
          "data": {
            "text/html": [
              "<div>\n",
              "<style scoped>\n",
              "    .dataframe tbody tr th:only-of-type {\n",
              "        vertical-align: middle;\n",
              "    }\n",
              "\n",
              "    .dataframe tbody tr th {\n",
              "        vertical-align: top;\n",
              "    }\n",
              "\n",
              "    .dataframe thead th {\n",
              "        text-align: right;\n",
              "    }\n",
              "</style>\n",
              "<table border=\"1\" class=\"dataframe\">\n",
              "  <thead>\n",
              "    <tr style=\"text-align: right;\">\n",
              "      <th></th>\n",
              "      <th>ID</th>\n",
              "      <th>Name</th>\n",
              "      <th>Class</th>\n",
              "    </tr>\n",
              "  </thead>\n",
              "  <tbody>\n",
              "    <tr>\n",
              "      <th>0</th>\n",
              "      <td>5</td>\n",
              "      <td>E</td>\n",
              "      <td>9</td>\n",
              "    </tr>\n",
              "    <tr>\n",
              "      <th>1</th>\n",
              "      <td>6</td>\n",
              "      <td>F</td>\n",
              "      <td>10</td>\n",
              "    </tr>\n",
              "    <tr>\n",
              "      <th>2</th>\n",
              "      <td>7</td>\n",
              "      <td>G</td>\n",
              "      <td>11</td>\n",
              "    </tr>\n",
              "    <tr>\n",
              "      <th>3</th>\n",
              "      <td>8</td>\n",
              "      <td>H</td>\n",
              "      <td>12</td>\n",
              "    </tr>\n",
              "  </tbody>\n",
              "</table>\n",
              "</div>"
            ],
            "text/plain": [
              "   ID Name  Class\n",
              "0   5    E      9\n",
              "1   6    F     10\n",
              "2   7    G     11\n",
              "3   8    H     12"
            ]
          },
          "execution_count": 166,
          "metadata": {},
          "output_type": "execute_result"
        }
      ],
      "source": [
        "_df2 = pd.DataFrame({'ID': [5,6,7,8],'Name': ['E','F','G','H'],'Class': [9,10,11,12]})\n",
        "_df2"
      ]
    },
    {
      "cell_type": "code",
      "execution_count": null,
      "id": "6df149be",
      "metadata": {
        "id": "6df149be",
        "outputId": "03425fb9-8220-49d7-ec6c-ce0932cefd59"
      },
      "outputs": [
        {
          "data": {
            "text/html": [
              "<div>\n",
              "<style scoped>\n",
              "    .dataframe tbody tr th:only-of-type {\n",
              "        vertical-align: middle;\n",
              "    }\n",
              "\n",
              "    .dataframe tbody tr th {\n",
              "        vertical-align: top;\n",
              "    }\n",
              "\n",
              "    .dataframe thead th {\n",
              "        text-align: right;\n",
              "    }\n",
              "</style>\n",
              "<table border=\"1\" class=\"dataframe\">\n",
              "  <thead>\n",
              "    <tr style=\"text-align: right;\">\n",
              "      <th></th>\n",
              "      <th>ID</th>\n",
              "      <th>Name</th>\n",
              "      <th>Class</th>\n",
              "    </tr>\n",
              "  </thead>\n",
              "  <tbody>\n",
              "    <tr>\n",
              "      <th>0</th>\n",
              "      <td>1</td>\n",
              "      <td>A</td>\n",
              "      <td>5</td>\n",
              "    </tr>\n",
              "    <tr>\n",
              "      <th>1</th>\n",
              "      <td>2</td>\n",
              "      <td>B</td>\n",
              "      <td>6</td>\n",
              "    </tr>\n",
              "    <tr>\n",
              "      <th>2</th>\n",
              "      <td>3</td>\n",
              "      <td>C</td>\n",
              "      <td>7</td>\n",
              "    </tr>\n",
              "    <tr>\n",
              "      <th>3</th>\n",
              "      <td>4</td>\n",
              "      <td>D</td>\n",
              "      <td>8</td>\n",
              "    </tr>\n",
              "    <tr>\n",
              "      <th>0</th>\n",
              "      <td>5</td>\n",
              "      <td>E</td>\n",
              "      <td>9</td>\n",
              "    </tr>\n",
              "    <tr>\n",
              "      <th>1</th>\n",
              "      <td>6</td>\n",
              "      <td>F</td>\n",
              "      <td>10</td>\n",
              "    </tr>\n",
              "    <tr>\n",
              "      <th>2</th>\n",
              "      <td>7</td>\n",
              "      <td>G</td>\n",
              "      <td>11</td>\n",
              "    </tr>\n",
              "    <tr>\n",
              "      <th>3</th>\n",
              "      <td>8</td>\n",
              "      <td>H</td>\n",
              "      <td>12</td>\n",
              "    </tr>\n",
              "  </tbody>\n",
              "</table>\n",
              "</div>"
            ],
            "text/plain": [
              "   ID Name  Class\n",
              "0   1    A      5\n",
              "1   2    B      6\n",
              "2   3    C      7\n",
              "3   4    D      8\n",
              "0   5    E      9\n",
              "1   6    F     10\n",
              "2   7    G     11\n",
              "3   8    H     12"
            ]
          },
          "execution_count": 167,
          "metadata": {},
          "output_type": "execute_result"
        }
      ],
      "source": [
        "pd.concat([_df1,_df2])"
      ]
    },
    {
      "cell_type": "code",
      "execution_count": null,
      "id": "e4aecd71",
      "metadata": {
        "id": "e4aecd71",
        "outputId": "7865efbf-6750-42d0-a82e-8ef1ae87159e"
      },
      "outputs": [
        {
          "data": {
            "text/html": [
              "<div>\n",
              "<style scoped>\n",
              "    .dataframe tbody tr th:only-of-type {\n",
              "        vertical-align: middle;\n",
              "    }\n",
              "\n",
              "    .dataframe tbody tr th {\n",
              "        vertical-align: top;\n",
              "    }\n",
              "\n",
              "    .dataframe thead th {\n",
              "        text-align: right;\n",
              "    }\n",
              "</style>\n",
              "<table border=\"1\" class=\"dataframe\">\n",
              "  <thead>\n",
              "    <tr style=\"text-align: right;\">\n",
              "      <th></th>\n",
              "      <th>ID</th>\n",
              "      <th>Name</th>\n",
              "      <th>Class</th>\n",
              "      <th>ID</th>\n",
              "      <th>Name</th>\n",
              "      <th>Class</th>\n",
              "    </tr>\n",
              "  </thead>\n",
              "  <tbody>\n",
              "    <tr>\n",
              "      <th>0</th>\n",
              "      <td>1</td>\n",
              "      <td>A</td>\n",
              "      <td>5</td>\n",
              "      <td>5</td>\n",
              "      <td>E</td>\n",
              "      <td>9</td>\n",
              "    </tr>\n",
              "    <tr>\n",
              "      <th>1</th>\n",
              "      <td>2</td>\n",
              "      <td>B</td>\n",
              "      <td>6</td>\n",
              "      <td>6</td>\n",
              "      <td>F</td>\n",
              "      <td>10</td>\n",
              "    </tr>\n",
              "    <tr>\n",
              "      <th>2</th>\n",
              "      <td>3</td>\n",
              "      <td>C</td>\n",
              "      <td>7</td>\n",
              "      <td>7</td>\n",
              "      <td>G</td>\n",
              "      <td>11</td>\n",
              "    </tr>\n",
              "    <tr>\n",
              "      <th>3</th>\n",
              "      <td>4</td>\n",
              "      <td>D</td>\n",
              "      <td>8</td>\n",
              "      <td>8</td>\n",
              "      <td>H</td>\n",
              "      <td>12</td>\n",
              "    </tr>\n",
              "  </tbody>\n",
              "</table>\n",
              "</div>"
            ],
            "text/plain": [
              "   ID Name  Class  ID Name  Class\n",
              "0   1    A      5   5    E      9\n",
              "1   2    B      6   6    F     10\n",
              "2   3    C      7   7    G     11\n",
              "3   4    D      8   8    H     12"
            ]
          },
          "execution_count": 168,
          "metadata": {},
          "output_type": "execute_result"
        }
      ],
      "source": [
        "pd.concat([_df1,_df2],axis = 1)"
      ]
    },
    {
      "cell_type": "code",
      "execution_count": null,
      "id": "6de147e9",
      "metadata": {
        "id": "6de147e9",
        "outputId": "1ce2001f-1d8c-4b1e-8e78-a9cba34b07b3"
      },
      "outputs": [
        {
          "data": {
            "text/html": [
              "<div>\n",
              "<style scoped>\n",
              "    .dataframe tbody tr th:only-of-type {\n",
              "        vertical-align: middle;\n",
              "    }\n",
              "\n",
              "    .dataframe tbody tr th {\n",
              "        vertical-align: top;\n",
              "    }\n",
              "\n",
              "    .dataframe thead th {\n",
              "        text-align: right;\n",
              "    }\n",
              "</style>\n",
              "<table border=\"1\" class=\"dataframe\">\n",
              "  <thead>\n",
              "    <tr style=\"text-align: right;\">\n",
              "      <th></th>\n",
              "      <th>ID</th>\n",
              "      <th>Name</th>\n",
              "      <th>Class</th>\n",
              "    </tr>\n",
              "  </thead>\n",
              "  <tbody>\n",
              "    <tr>\n",
              "      <th>0</th>\n",
              "      <td>1</td>\n",
              "      <td>A</td>\n",
              "      <td>5</td>\n",
              "    </tr>\n",
              "    <tr>\n",
              "      <th>1</th>\n",
              "      <td>2</td>\n",
              "      <td>B</td>\n",
              "      <td>6</td>\n",
              "    </tr>\n",
              "    <tr>\n",
              "      <th>2</th>\n",
              "      <td>3</td>\n",
              "      <td>C</td>\n",
              "      <td>7</td>\n",
              "    </tr>\n",
              "    <tr>\n",
              "      <th>3</th>\n",
              "      <td>4</td>\n",
              "      <td>D</td>\n",
              "      <td>8</td>\n",
              "    </tr>\n",
              "    <tr>\n",
              "      <th>4</th>\n",
              "      <td>5</td>\n",
              "      <td>E</td>\n",
              "      <td>9</td>\n",
              "    </tr>\n",
              "    <tr>\n",
              "      <th>5</th>\n",
              "      <td>6</td>\n",
              "      <td>F</td>\n",
              "      <td>10</td>\n",
              "    </tr>\n",
              "    <tr>\n",
              "      <th>6</th>\n",
              "      <td>7</td>\n",
              "      <td>G</td>\n",
              "      <td>11</td>\n",
              "    </tr>\n",
              "    <tr>\n",
              "      <th>7</th>\n",
              "      <td>8</td>\n",
              "      <td>H</td>\n",
              "      <td>12</td>\n",
              "    </tr>\n",
              "  </tbody>\n",
              "</table>\n",
              "</div>"
            ],
            "text/plain": [
              "   ID Name  Class\n",
              "0   1    A      5\n",
              "1   2    B      6\n",
              "2   3    C      7\n",
              "3   4    D      8\n",
              "4   5    E      9\n",
              "5   6    F     10\n",
              "6   7    G     11\n",
              "7   8    H     12"
            ]
          },
          "execution_count": 169,
          "metadata": {},
          "output_type": "execute_result"
        }
      ],
      "source": [
        "pd.concat([_df1,_df2],axis = 0,ignore_index = True)"
      ]
    },
    {
      "cell_type": "code",
      "execution_count": null,
      "id": "c939eda1",
      "metadata": {
        "id": "c939eda1",
        "outputId": "f5fc5c94-4b8f-46d0-c358-bab2b60defbf"
      },
      "outputs": [
        {
          "data": {
            "text/html": [
              "<div>\n",
              "<style scoped>\n",
              "    .dataframe tbody tr th:only-of-type {\n",
              "        vertical-align: middle;\n",
              "    }\n",
              "\n",
              "    .dataframe tbody tr th {\n",
              "        vertical-align: top;\n",
              "    }\n",
              "\n",
              "    .dataframe thead th {\n",
              "        text-align: right;\n",
              "    }\n",
              "</style>\n",
              "<table border=\"1\" class=\"dataframe\">\n",
              "  <thead>\n",
              "    <tr style=\"text-align: right;\">\n",
              "      <th></th>\n",
              "      <th>ID</th>\n",
              "      <th>Name</th>\n",
              "      <th>Class</th>\n",
              "    </tr>\n",
              "  </thead>\n",
              "  <tbody>\n",
              "    <tr>\n",
              "      <th>0</th>\n",
              "      <td>1</td>\n",
              "      <td>A</td>\n",
              "      <td>5</td>\n",
              "    </tr>\n",
              "    <tr>\n",
              "      <th>1</th>\n",
              "      <td>2</td>\n",
              "      <td>B</td>\n",
              "      <td>6</td>\n",
              "    </tr>\n",
              "    <tr>\n",
              "      <th>2</th>\n",
              "      <td>3</td>\n",
              "      <td>C</td>\n",
              "      <td>7</td>\n",
              "    </tr>\n",
              "    <tr>\n",
              "      <th>3</th>\n",
              "      <td>4</td>\n",
              "      <td>D</td>\n",
              "      <td>8</td>\n",
              "    </tr>\n",
              "  </tbody>\n",
              "</table>\n",
              "</div>"
            ],
            "text/plain": [
              "   ID Name  Class\n",
              "0   1    A      5\n",
              "1   2    B      6\n",
              "2   3    C      7\n",
              "3   4    D      8"
            ]
          },
          "execution_count": 170,
          "metadata": {},
          "output_type": "execute_result"
        }
      ],
      "source": [
        "_df3 = pd.DataFrame({'ID': [1,2,3,4],'Name': ['A','B','C','D'],'Class': [5,6,7,8]})\n",
        "_df3"
      ]
    },
    {
      "cell_type": "code",
      "execution_count": null,
      "id": "425a2cd6",
      "metadata": {
        "id": "425a2cd6",
        "outputId": "5e40b28a-9615-49cd-f8ee-68816fe10852"
      },
      "outputs": [
        {
          "data": {
            "text/html": [
              "<div>\n",
              "<style scoped>\n",
              "    .dataframe tbody tr th:only-of-type {\n",
              "        vertical-align: middle;\n",
              "    }\n",
              "\n",
              "    .dataframe tbody tr th {\n",
              "        vertical-align: top;\n",
              "    }\n",
              "\n",
              "    .dataframe thead th {\n",
              "        text-align: right;\n",
              "    }\n",
              "</style>\n",
              "<table border=\"1\" class=\"dataframe\">\n",
              "  <thead>\n",
              "    <tr style=\"text-align: right;\">\n",
              "      <th></th>\n",
              "      <th>ID</th>\n",
              "      <th>Name</th>\n",
              "      <th>Class</th>\n",
              "    </tr>\n",
              "  </thead>\n",
              "  <tbody>\n",
              "    <tr>\n",
              "      <th>0</th>\n",
              "      <td>3</td>\n",
              "      <td>C</td>\n",
              "      <td>7</td>\n",
              "    </tr>\n",
              "    <tr>\n",
              "      <th>1</th>\n",
              "      <td>4</td>\n",
              "      <td>D</td>\n",
              "      <td>8</td>\n",
              "    </tr>\n",
              "  </tbody>\n",
              "</table>\n",
              "</div>"
            ],
            "text/plain": [
              "   ID Name  Class\n",
              "0   3    C      7\n",
              "1   4    D      8"
            ]
          },
          "execution_count": 171,
          "metadata": {},
          "output_type": "execute_result"
        }
      ],
      "source": [
        "_df4 = pd.DataFrame({'ID': [3,4],'Name': ['C','D'],'Class': [7,8]})\n",
        "_df4"
      ]
    },
    {
      "cell_type": "code",
      "execution_count": null,
      "id": "6152d75a",
      "metadata": {
        "id": "6152d75a",
        "outputId": "38b91270-f0c2-465b-ebd3-094c86045da0"
      },
      "outputs": [
        {
          "data": {
            "text/html": [
              "<div>\n",
              "<style scoped>\n",
              "    .dataframe tbody tr th:only-of-type {\n",
              "        vertical-align: middle;\n",
              "    }\n",
              "\n",
              "    .dataframe tbody tr th {\n",
              "        vertical-align: top;\n",
              "    }\n",
              "\n",
              "    .dataframe thead th {\n",
              "        text-align: right;\n",
              "    }\n",
              "</style>\n",
              "<table border=\"1\" class=\"dataframe\">\n",
              "  <thead>\n",
              "    <tr style=\"text-align: right;\">\n",
              "      <th></th>\n",
              "      <th>ID</th>\n",
              "      <th>Name</th>\n",
              "      <th>Class</th>\n",
              "    </tr>\n",
              "  </thead>\n",
              "  <tbody>\n",
              "    <tr>\n",
              "      <th>0</th>\n",
              "      <td>1</td>\n",
              "      <td>A</td>\n",
              "      <td>5</td>\n",
              "    </tr>\n",
              "    <tr>\n",
              "      <th>1</th>\n",
              "      <td>2</td>\n",
              "      <td>B</td>\n",
              "      <td>6</td>\n",
              "    </tr>\n",
              "    <tr>\n",
              "      <th>2</th>\n",
              "      <td>3</td>\n",
              "      <td>C</td>\n",
              "      <td>7</td>\n",
              "    </tr>\n",
              "    <tr>\n",
              "      <th>3</th>\n",
              "      <td>4</td>\n",
              "      <td>D</td>\n",
              "      <td>8</td>\n",
              "    </tr>\n",
              "    <tr>\n",
              "      <th>0</th>\n",
              "      <td>3</td>\n",
              "      <td>C</td>\n",
              "      <td>7</td>\n",
              "    </tr>\n",
              "    <tr>\n",
              "      <th>1</th>\n",
              "      <td>4</td>\n",
              "      <td>D</td>\n",
              "      <td>8</td>\n",
              "    </tr>\n",
              "  </tbody>\n",
              "</table>\n",
              "</div>"
            ],
            "text/plain": [
              "   ID Name  Class\n",
              "0   1    A      5\n",
              "1   2    B      6\n",
              "2   3    C      7\n",
              "3   4    D      8\n",
              "0   3    C      7\n",
              "1   4    D      8"
            ]
          },
          "execution_count": 172,
          "metadata": {},
          "output_type": "execute_result"
        }
      ],
      "source": [
        "pd.concat([_df3,_df4])"
      ]
    },
    {
      "cell_type": "code",
      "execution_count": null,
      "id": "7d737202",
      "metadata": {
        "id": "7d737202",
        "outputId": "a78807ee-f90d-4f6a-a471-28537cddb794"
      },
      "outputs": [
        {
          "data": {
            "text/html": [
              "<div>\n",
              "<style scoped>\n",
              "    .dataframe tbody tr th:only-of-type {\n",
              "        vertical-align: middle;\n",
              "    }\n",
              "\n",
              "    .dataframe tbody tr th {\n",
              "        vertical-align: top;\n",
              "    }\n",
              "\n",
              "    .dataframe thead th {\n",
              "        text-align: right;\n",
              "    }\n",
              "</style>\n",
              "<table border=\"1\" class=\"dataframe\">\n",
              "  <thead>\n",
              "    <tr style=\"text-align: right;\">\n",
              "      <th></th>\n",
              "      <th>ID</th>\n",
              "      <th>Name</th>\n",
              "      <th>Class</th>\n",
              "      <th>ID</th>\n",
              "      <th>Name</th>\n",
              "      <th>Class</th>\n",
              "    </tr>\n",
              "  </thead>\n",
              "  <tbody>\n",
              "    <tr>\n",
              "      <th>0</th>\n",
              "      <td>1</td>\n",
              "      <td>A</td>\n",
              "      <td>5</td>\n",
              "      <td>3.0</td>\n",
              "      <td>C</td>\n",
              "      <td>7.0</td>\n",
              "    </tr>\n",
              "    <tr>\n",
              "      <th>1</th>\n",
              "      <td>2</td>\n",
              "      <td>B</td>\n",
              "      <td>6</td>\n",
              "      <td>4.0</td>\n",
              "      <td>D</td>\n",
              "      <td>8.0</td>\n",
              "    </tr>\n",
              "    <tr>\n",
              "      <th>2</th>\n",
              "      <td>3</td>\n",
              "      <td>C</td>\n",
              "      <td>7</td>\n",
              "      <td>NaN</td>\n",
              "      <td>NaN</td>\n",
              "      <td>NaN</td>\n",
              "    </tr>\n",
              "    <tr>\n",
              "      <th>3</th>\n",
              "      <td>4</td>\n",
              "      <td>D</td>\n",
              "      <td>8</td>\n",
              "      <td>NaN</td>\n",
              "      <td>NaN</td>\n",
              "      <td>NaN</td>\n",
              "    </tr>\n",
              "  </tbody>\n",
              "</table>\n",
              "</div>"
            ],
            "text/plain": [
              "   ID Name  Class   ID Name  Class\n",
              "0   1    A      5  3.0    C    7.0\n",
              "1   2    B      6  4.0    D    8.0\n",
              "2   3    C      7  NaN  NaN    NaN\n",
              "3   4    D      8  NaN  NaN    NaN"
            ]
          },
          "execution_count": 173,
          "metadata": {},
          "output_type": "execute_result"
        }
      ],
      "source": [
        "pd.concat([_df3,_df4],axis = 1)"
      ]
    },
    {
      "cell_type": "code",
      "execution_count": null,
      "id": "afd4aee4",
      "metadata": {
        "id": "afd4aee4",
        "outputId": "f23adc0f-7f2c-4339-9e8a-2f300c6fd0ec"
      },
      "outputs": [
        {
          "data": {
            "text/html": [
              "<div>\n",
              "<style scoped>\n",
              "    .dataframe tbody tr th:only-of-type {\n",
              "        vertical-align: middle;\n",
              "    }\n",
              "\n",
              "    .dataframe tbody tr th {\n",
              "        vertical-align: top;\n",
              "    }\n",
              "\n",
              "    .dataframe thead th {\n",
              "        text-align: right;\n",
              "    }\n",
              "</style>\n",
              "<table border=\"1\" class=\"dataframe\">\n",
              "  <thead>\n",
              "    <tr style=\"text-align: right;\">\n",
              "      <th></th>\n",
              "      <th>ID</th>\n",
              "      <th>Name</th>\n",
              "      <th>Class</th>\n",
              "      <th>ID</th>\n",
              "      <th>Name</th>\n",
              "      <th>Class</th>\n",
              "    </tr>\n",
              "  </thead>\n",
              "  <tbody>\n",
              "    <tr>\n",
              "      <th>0</th>\n",
              "      <td>1</td>\n",
              "      <td>A</td>\n",
              "      <td>5</td>\n",
              "      <td>3</td>\n",
              "      <td>C</td>\n",
              "      <td>7</td>\n",
              "    </tr>\n",
              "    <tr>\n",
              "      <th>1</th>\n",
              "      <td>2</td>\n",
              "      <td>B</td>\n",
              "      <td>6</td>\n",
              "      <td>4</td>\n",
              "      <td>D</td>\n",
              "      <td>8</td>\n",
              "    </tr>\n",
              "  </tbody>\n",
              "</table>\n",
              "</div>"
            ],
            "text/plain": [
              "   ID Name  Class  ID Name  Class\n",
              "0   1    A      5   3    C      7\n",
              "1   2    B      6   4    D      8"
            ]
          },
          "execution_count": 174,
          "metadata": {},
          "output_type": "execute_result"
        }
      ],
      "source": [
        "pd.concat([_df3,_df4],axis = 1,join = 'inner')"
      ]
    },
    {
      "cell_type": "code",
      "execution_count": null,
      "id": "743ddd19",
      "metadata": {
        "id": "743ddd19"
      },
      "outputs": [],
      "source": [
        "# pd.concat([_df3,_df4],axis = 1,join = [_df3.index])"
      ]
    },
    {
      "cell_type": "code",
      "execution_count": null,
      "id": "c0955f29",
      "metadata": {
        "id": "c0955f29",
        "outputId": "d28f31a4-ca38-4069-8514-23dff7933f88"
      },
      "outputs": [
        {
          "data": {
            "text/html": [
              "<div>\n",
              "<style scoped>\n",
              "    .dataframe tbody tr th:only-of-type {\n",
              "        vertical-align: middle;\n",
              "    }\n",
              "\n",
              "    .dataframe tbody tr th {\n",
              "        vertical-align: top;\n",
              "    }\n",
              "\n",
              "    .dataframe thead th {\n",
              "        text-align: right;\n",
              "    }\n",
              "</style>\n",
              "<table border=\"1\" class=\"dataframe\">\n",
              "  <thead>\n",
              "    <tr style=\"text-align: right;\">\n",
              "      <th></th>\n",
              "      <th></th>\n",
              "      <th>ID</th>\n",
              "      <th>Name</th>\n",
              "      <th>Class</th>\n",
              "    </tr>\n",
              "  </thead>\n",
              "  <tbody>\n",
              "    <tr>\n",
              "      <th rowspan=\"4\" valign=\"top\">df_1</th>\n",
              "      <th>0</th>\n",
              "      <td>1</td>\n",
              "      <td>A</td>\n",
              "      <td>5</td>\n",
              "    </tr>\n",
              "    <tr>\n",
              "      <th>1</th>\n",
              "      <td>2</td>\n",
              "      <td>B</td>\n",
              "      <td>6</td>\n",
              "    </tr>\n",
              "    <tr>\n",
              "      <th>2</th>\n",
              "      <td>3</td>\n",
              "      <td>C</td>\n",
              "      <td>7</td>\n",
              "    </tr>\n",
              "    <tr>\n",
              "      <th>3</th>\n",
              "      <td>4</td>\n",
              "      <td>D</td>\n",
              "      <td>8</td>\n",
              "    </tr>\n",
              "    <tr>\n",
              "      <th rowspan=\"4\" valign=\"top\">df_2</th>\n",
              "      <th>0</th>\n",
              "      <td>5</td>\n",
              "      <td>E</td>\n",
              "      <td>9</td>\n",
              "    </tr>\n",
              "    <tr>\n",
              "      <th>1</th>\n",
              "      <td>6</td>\n",
              "      <td>F</td>\n",
              "      <td>10</td>\n",
              "    </tr>\n",
              "    <tr>\n",
              "      <th>2</th>\n",
              "      <td>7</td>\n",
              "      <td>G</td>\n",
              "      <td>11</td>\n",
              "    </tr>\n",
              "    <tr>\n",
              "      <th>3</th>\n",
              "      <td>8</td>\n",
              "      <td>H</td>\n",
              "      <td>12</td>\n",
              "    </tr>\n",
              "  </tbody>\n",
              "</table>\n",
              "</div>"
            ],
            "text/plain": [
              "        ID Name  Class\n",
              "df_1 0   1    A      5\n",
              "     1   2    B      6\n",
              "     2   3    C      7\n",
              "     3   4    D      8\n",
              "df_2 0   5    E      9\n",
              "     1   6    F     10\n",
              "     2   7    G     11\n",
              "     3   8    H     12"
            ]
          },
          "execution_count": 176,
          "metadata": {},
          "output_type": "execute_result"
        }
      ],
      "source": [
        "pd.concat([_df1,_df2],keys = ['df_1','df_2'])"
      ]
    },
    {
      "cell_type": "code",
      "execution_count": null,
      "id": "7bc6c3bb",
      "metadata": {
        "id": "7bc6c3bb",
        "outputId": "adb6ecc5-0f32-413e-ff75-bee726ed7cbe"
      },
      "outputs": [
        {
          "data": {
            "text/html": [
              "<div>\n",
              "<style scoped>\n",
              "    .dataframe tbody tr th:only-of-type {\n",
              "        vertical-align: middle;\n",
              "    }\n",
              "\n",
              "    .dataframe tbody tr th {\n",
              "        vertical-align: top;\n",
              "    }\n",
              "\n",
              "    .dataframe thead th {\n",
              "        text-align: right;\n",
              "    }\n",
              "</style>\n",
              "<table border=\"1\" class=\"dataframe\">\n",
              "  <thead>\n",
              "    <tr style=\"text-align: right;\">\n",
              "      <th></th>\n",
              "      <th></th>\n",
              "      <th>ID</th>\n",
              "      <th>Name</th>\n",
              "      <th>Class</th>\n",
              "    </tr>\n",
              "  </thead>\n",
              "  <tbody>\n",
              "    <tr>\n",
              "      <th rowspan=\"4\" valign=\"top\">First_df</th>\n",
              "      <th>0</th>\n",
              "      <td>1</td>\n",
              "      <td>A</td>\n",
              "      <td>5</td>\n",
              "    </tr>\n",
              "    <tr>\n",
              "      <th>1</th>\n",
              "      <td>2</td>\n",
              "      <td>B</td>\n",
              "      <td>6</td>\n",
              "    </tr>\n",
              "    <tr>\n",
              "      <th>2</th>\n",
              "      <td>3</td>\n",
              "      <td>C</td>\n",
              "      <td>7</td>\n",
              "    </tr>\n",
              "    <tr>\n",
              "      <th>3</th>\n",
              "      <td>4</td>\n",
              "      <td>D</td>\n",
              "      <td>8</td>\n",
              "    </tr>\n",
              "    <tr>\n",
              "      <th rowspan=\"4\" valign=\"top\">Second_df</th>\n",
              "      <th>0</th>\n",
              "      <td>5</td>\n",
              "      <td>E</td>\n",
              "      <td>9</td>\n",
              "    </tr>\n",
              "    <tr>\n",
              "      <th>1</th>\n",
              "      <td>6</td>\n",
              "      <td>F</td>\n",
              "      <td>10</td>\n",
              "    </tr>\n",
              "    <tr>\n",
              "      <th>2</th>\n",
              "      <td>7</td>\n",
              "      <td>G</td>\n",
              "      <td>11</td>\n",
              "    </tr>\n",
              "    <tr>\n",
              "      <th>3</th>\n",
              "      <td>8</td>\n",
              "      <td>H</td>\n",
              "      <td>12</td>\n",
              "    </tr>\n",
              "  </tbody>\n",
              "</table>\n",
              "</div>"
            ],
            "text/plain": [
              "             ID Name  Class\n",
              "First_df  0   1    A      5\n",
              "          1   2    B      6\n",
              "          2   3    C      7\n",
              "          3   4    D      8\n",
              "Second_df 0   5    E      9\n",
              "          1   6    F     10\n",
              "          2   7    G     11\n",
              "          3   8    H     12"
            ]
          },
          "execution_count": 177,
          "metadata": {},
          "output_type": "execute_result"
        }
      ],
      "source": [
        "pd.concat([_df1,_df2],keys = ['First_df','Second_df'])"
      ]
    },
    {
      "cell_type": "code",
      "execution_count": null,
      "id": "625374aa",
      "metadata": {
        "id": "625374aa",
        "outputId": "fc2157ec-5a90-4057-8db1-de3f66dc72c2"
      },
      "outputs": [
        {
          "data": {
            "text/html": [
              "<div>\n",
              "<style scoped>\n",
              "    .dataframe tbody tr th:only-of-type {\n",
              "        vertical-align: middle;\n",
              "    }\n",
              "\n",
              "    .dataframe tbody tr th {\n",
              "        vertical-align: top;\n",
              "    }\n",
              "\n",
              "    .dataframe thead tr th {\n",
              "        text-align: left;\n",
              "    }\n",
              "</style>\n",
              "<table border=\"1\" class=\"dataframe\">\n",
              "  <thead>\n",
              "    <tr>\n",
              "      <th></th>\n",
              "      <th colspan=\"3\" halign=\"left\">First_df</th>\n",
              "      <th colspan=\"3\" halign=\"left\">Second_df</th>\n",
              "    </tr>\n",
              "    <tr>\n",
              "      <th></th>\n",
              "      <th>ID</th>\n",
              "      <th>Name</th>\n",
              "      <th>Class</th>\n",
              "      <th>ID</th>\n",
              "      <th>Name</th>\n",
              "      <th>Class</th>\n",
              "    </tr>\n",
              "  </thead>\n",
              "  <tbody>\n",
              "    <tr>\n",
              "      <th>0</th>\n",
              "      <td>1</td>\n",
              "      <td>A</td>\n",
              "      <td>5</td>\n",
              "      <td>5</td>\n",
              "      <td>E</td>\n",
              "      <td>9</td>\n",
              "    </tr>\n",
              "    <tr>\n",
              "      <th>1</th>\n",
              "      <td>2</td>\n",
              "      <td>B</td>\n",
              "      <td>6</td>\n",
              "      <td>6</td>\n",
              "      <td>F</td>\n",
              "      <td>10</td>\n",
              "    </tr>\n",
              "    <tr>\n",
              "      <th>2</th>\n",
              "      <td>3</td>\n",
              "      <td>C</td>\n",
              "      <td>7</td>\n",
              "      <td>7</td>\n",
              "      <td>G</td>\n",
              "      <td>11</td>\n",
              "    </tr>\n",
              "    <tr>\n",
              "      <th>3</th>\n",
              "      <td>4</td>\n",
              "      <td>D</td>\n",
              "      <td>8</td>\n",
              "      <td>8</td>\n",
              "      <td>H</td>\n",
              "      <td>12</td>\n",
              "    </tr>\n",
              "  </tbody>\n",
              "</table>\n",
              "</div>"
            ],
            "text/plain": [
              "  First_df            Second_df           \n",
              "        ID Name Class        ID Name Class\n",
              "0        1    A     5         5    E     9\n",
              "1        2    B     6         6    F    10\n",
              "2        3    C     7         7    G    11\n",
              "3        4    D     8         8    H    12"
            ]
          },
          "execution_count": 178,
          "metadata": {},
          "output_type": "execute_result"
        }
      ],
      "source": [
        "pd.concat([_df1,_df2],axis =1,keys = ['First_df','Second_df'])"
      ]
    },
    {
      "cell_type": "code",
      "execution_count": null,
      "id": "156a8b99",
      "metadata": {
        "id": "156a8b99",
        "outputId": "4e064591-f6de-4021-e6f3-bde73815423d"
      },
      "outputs": [
        {
          "data": {
            "text/html": [
              "<div>\n",
              "<style scoped>\n",
              "    .dataframe tbody tr th:only-of-type {\n",
              "        vertical-align: middle;\n",
              "    }\n",
              "\n",
              "    .dataframe tbody tr th {\n",
              "        vertical-align: top;\n",
              "    }\n",
              "\n",
              "    .dataframe thead th {\n",
              "        text-align: right;\n",
              "    }\n",
              "</style>\n",
              "<table border=\"1\" class=\"dataframe\">\n",
              "  <thead>\n",
              "    <tr style=\"text-align: right;\">\n",
              "      <th></th>\n",
              "      <th>ID</th>\n",
              "      <th>Name</th>\n",
              "      <th>Class</th>\n",
              "    </tr>\n",
              "  </thead>\n",
              "  <tbody>\n",
              "    <tr>\n",
              "      <th>0</th>\n",
              "      <td>1</td>\n",
              "      <td>A</td>\n",
              "      <td>5</td>\n",
              "    </tr>\n",
              "    <tr>\n",
              "      <th>1</th>\n",
              "      <td>2</td>\n",
              "      <td>B</td>\n",
              "      <td>6</td>\n",
              "    </tr>\n",
              "    <tr>\n",
              "      <th>2</th>\n",
              "      <td>3</td>\n",
              "      <td>C</td>\n",
              "      <td>7</td>\n",
              "    </tr>\n",
              "    <tr>\n",
              "      <th>3</th>\n",
              "      <td>4</td>\n",
              "      <td>D</td>\n",
              "      <td>8</td>\n",
              "    </tr>\n",
              "  </tbody>\n",
              "</table>\n",
              "</div>"
            ],
            "text/plain": [
              "   ID Name  Class\n",
              "0   1    A      5\n",
              "1   2    B      6\n",
              "2   3    C      7\n",
              "3   4    D      8"
            ]
          },
          "execution_count": 179,
          "metadata": {},
          "output_type": "execute_result"
        }
      ],
      "source": [
        "_df5 = pd.DataFrame({'ID': [1,2,3,4],'Name': ['A','B','C','D'],'Class': [5,6,7,8]}) #NEW_df c/p\n",
        "_df5"
      ]
    },
    {
      "cell_type": "code",
      "execution_count": null,
      "id": "3279a551",
      "metadata": {
        "id": "3279a551",
        "outputId": "8cffa852-e3e6-44cd-9490-30dcb765fe43"
      },
      "outputs": [
        {
          "data": {
            "text/html": [
              "<div>\n",
              "<style scoped>\n",
              "    .dataframe tbody tr th:only-of-type {\n",
              "        vertical-align: middle;\n",
              "    }\n",
              "\n",
              "    .dataframe tbody tr th {\n",
              "        vertical-align: top;\n",
              "    }\n",
              "\n",
              "    .dataframe thead th {\n",
              "        text-align: right;\n",
              "    }\n",
              "</style>\n",
              "<table border=\"1\" class=\"dataframe\">\n",
              "  <thead>\n",
              "    <tr style=\"text-align: right;\">\n",
              "      <th></th>\n",
              "      <th>Marks</th>\n",
              "    </tr>\n",
              "  </thead>\n",
              "  <tbody>\n",
              "    <tr>\n",
              "      <th>0</th>\n",
              "      <td>40</td>\n",
              "    </tr>\n",
              "    <tr>\n",
              "      <th>1</th>\n",
              "      <td>63</td>\n",
              "    </tr>\n",
              "    <tr>\n",
              "      <th>2</th>\n",
              "      <td>91</td>\n",
              "    </tr>\n",
              "    <tr>\n",
              "      <th>3</th>\n",
              "      <td>34</td>\n",
              "    </tr>\n",
              "  </tbody>\n",
              "</table>\n",
              "</div>"
            ],
            "text/plain": [
              "   Marks\n",
              "0     40\n",
              "1     63\n",
              "2     91\n",
              "3     34"
            ]
          },
          "execution_count": 180,
          "metadata": {},
          "output_type": "execute_result"
        }
      ],
      "source": [
        "_df6 = pd.DataFrame({'Marks': [40,63,91,34]})\n",
        "_df6"
      ]
    },
    {
      "cell_type": "code",
      "execution_count": null,
      "id": "25544efb",
      "metadata": {
        "id": "25544efb",
        "outputId": "cc70a336-1096-425f-bb26-436e0a849c7f"
      },
      "outputs": [
        {
          "data": {
            "text/html": [
              "<div>\n",
              "<style scoped>\n",
              "    .dataframe tbody tr th:only-of-type {\n",
              "        vertical-align: middle;\n",
              "    }\n",
              "\n",
              "    .dataframe tbody tr th {\n",
              "        vertical-align: top;\n",
              "    }\n",
              "\n",
              "    .dataframe thead th {\n",
              "        text-align: right;\n",
              "    }\n",
              "</style>\n",
              "<table border=\"1\" class=\"dataframe\">\n",
              "  <thead>\n",
              "    <tr style=\"text-align: right;\">\n",
              "      <th></th>\n",
              "      <th>ID</th>\n",
              "      <th>Name</th>\n",
              "      <th>Class</th>\n",
              "      <th>Marks</th>\n",
              "    </tr>\n",
              "  </thead>\n",
              "  <tbody>\n",
              "    <tr>\n",
              "      <th>0</th>\n",
              "      <td>1.0</td>\n",
              "      <td>A</td>\n",
              "      <td>5.0</td>\n",
              "      <td>NaN</td>\n",
              "    </tr>\n",
              "    <tr>\n",
              "      <th>1</th>\n",
              "      <td>2.0</td>\n",
              "      <td>B</td>\n",
              "      <td>6.0</td>\n",
              "      <td>NaN</td>\n",
              "    </tr>\n",
              "    <tr>\n",
              "      <th>2</th>\n",
              "      <td>3.0</td>\n",
              "      <td>C</td>\n",
              "      <td>7.0</td>\n",
              "      <td>NaN</td>\n",
              "    </tr>\n",
              "    <tr>\n",
              "      <th>3</th>\n",
              "      <td>4.0</td>\n",
              "      <td>D</td>\n",
              "      <td>8.0</td>\n",
              "      <td>NaN</td>\n",
              "    </tr>\n",
              "    <tr>\n",
              "      <th>0</th>\n",
              "      <td>NaN</td>\n",
              "      <td>NaN</td>\n",
              "      <td>NaN</td>\n",
              "      <td>40.0</td>\n",
              "    </tr>\n",
              "    <tr>\n",
              "      <th>1</th>\n",
              "      <td>NaN</td>\n",
              "      <td>NaN</td>\n",
              "      <td>NaN</td>\n",
              "      <td>63.0</td>\n",
              "    </tr>\n",
              "    <tr>\n",
              "      <th>2</th>\n",
              "      <td>NaN</td>\n",
              "      <td>NaN</td>\n",
              "      <td>NaN</td>\n",
              "      <td>91.0</td>\n",
              "    </tr>\n",
              "    <tr>\n",
              "      <th>3</th>\n",
              "      <td>NaN</td>\n",
              "      <td>NaN</td>\n",
              "      <td>NaN</td>\n",
              "      <td>34.0</td>\n",
              "    </tr>\n",
              "  </tbody>\n",
              "</table>\n",
              "</div>"
            ],
            "text/plain": [
              "    ID Name  Class  Marks\n",
              "0  1.0    A    5.0    NaN\n",
              "1  2.0    B    6.0    NaN\n",
              "2  3.0    C    7.0    NaN\n",
              "3  4.0    D    8.0    NaN\n",
              "0  NaN  NaN    NaN   40.0\n",
              "1  NaN  NaN    NaN   63.0\n",
              "2  NaN  NaN    NaN   91.0\n",
              "3  NaN  NaN    NaN   34.0"
            ]
          },
          "execution_count": 181,
          "metadata": {},
          "output_type": "execute_result"
        }
      ],
      "source": [
        "pd.concat([_df5,_df6],sort = False)"
      ]
    },
    {
      "cell_type": "markdown",
      "id": "ba342cbc",
      "metadata": {
        "id": "ba342cbc"
      },
      "source": [
        "***Join***"
      ]
    },
    {
      "cell_type": "code",
      "execution_count": null,
      "id": "6cd21a43",
      "metadata": {
        "id": "6cd21a43"
      },
      "outputs": [],
      "source": [
        "df__1 = pd.DataFrame({'A': [1,2,3],'B': [10,20,30]})\n",
        "df__2 = pd.DataFrame({'C': [4,5,6],'D': [40,50,60]})"
      ]
    },
    {
      "cell_type": "code",
      "execution_count": null,
      "id": "16aa0b64",
      "metadata": {
        "id": "16aa0b64",
        "outputId": "66e9eace-66b2-4d65-a7c5-17aac3e55173"
      },
      "outputs": [
        {
          "data": {
            "text/html": [
              "<div>\n",
              "<style scoped>\n",
              "    .dataframe tbody tr th:only-of-type {\n",
              "        vertical-align: middle;\n",
              "    }\n",
              "\n",
              "    .dataframe tbody tr th {\n",
              "        vertical-align: top;\n",
              "    }\n",
              "\n",
              "    .dataframe thead th {\n",
              "        text-align: right;\n",
              "    }\n",
              "</style>\n",
              "<table border=\"1\" class=\"dataframe\">\n",
              "  <thead>\n",
              "    <tr style=\"text-align: right;\">\n",
              "      <th></th>\n",
              "      <th>A</th>\n",
              "      <th>B</th>\n",
              "    </tr>\n",
              "  </thead>\n",
              "  <tbody>\n",
              "    <tr>\n",
              "      <th>0</th>\n",
              "      <td>1</td>\n",
              "      <td>10</td>\n",
              "    </tr>\n",
              "    <tr>\n",
              "      <th>1</th>\n",
              "      <td>2</td>\n",
              "      <td>20</td>\n",
              "    </tr>\n",
              "    <tr>\n",
              "      <th>2</th>\n",
              "      <td>3</td>\n",
              "      <td>30</td>\n",
              "    </tr>\n",
              "  </tbody>\n",
              "</table>\n",
              "</div>"
            ],
            "text/plain": [
              "   A   B\n",
              "0  1  10\n",
              "1  2  20\n",
              "2  3  30"
            ]
          },
          "metadata": {},
          "output_type": "display_data"
        },
        {
          "data": {
            "text/html": [
              "<div>\n",
              "<style scoped>\n",
              "    .dataframe tbody tr th:only-of-type {\n",
              "        vertical-align: middle;\n",
              "    }\n",
              "\n",
              "    .dataframe tbody tr th {\n",
              "        vertical-align: top;\n",
              "    }\n",
              "\n",
              "    .dataframe thead th {\n",
              "        text-align: right;\n",
              "    }\n",
              "</style>\n",
              "<table border=\"1\" class=\"dataframe\">\n",
              "  <thead>\n",
              "    <tr style=\"text-align: right;\">\n",
              "      <th></th>\n",
              "      <th>C</th>\n",
              "      <th>D</th>\n",
              "    </tr>\n",
              "  </thead>\n",
              "  <tbody>\n",
              "    <tr>\n",
              "      <th>0</th>\n",
              "      <td>4</td>\n",
              "      <td>40</td>\n",
              "    </tr>\n",
              "    <tr>\n",
              "      <th>1</th>\n",
              "      <td>5</td>\n",
              "      <td>50</td>\n",
              "    </tr>\n",
              "    <tr>\n",
              "      <th>2</th>\n",
              "      <td>6</td>\n",
              "      <td>60</td>\n",
              "    </tr>\n",
              "  </tbody>\n",
              "</table>\n",
              "</div>"
            ],
            "text/plain": [
              "   C   D\n",
              "0  4  40\n",
              "1  5  50\n",
              "2  6  60"
            ]
          },
          "metadata": {},
          "output_type": "display_data"
        }
      ],
      "source": [
        "display(df__1,df__2)"
      ]
    },
    {
      "cell_type": "code",
      "execution_count": null,
      "id": "82b819ca",
      "metadata": {
        "id": "82b819ca",
        "outputId": "702515dd-fcb8-42a1-b4b9-8292e45bfec5"
      },
      "outputs": [
        {
          "data": {
            "text/html": [
              "<div>\n",
              "<style scoped>\n",
              "    .dataframe tbody tr th:only-of-type {\n",
              "        vertical-align: middle;\n",
              "    }\n",
              "\n",
              "    .dataframe tbody tr th {\n",
              "        vertical-align: top;\n",
              "    }\n",
              "\n",
              "    .dataframe thead th {\n",
              "        text-align: right;\n",
              "    }\n",
              "</style>\n",
              "<table border=\"1\" class=\"dataframe\">\n",
              "  <thead>\n",
              "    <tr style=\"text-align: right;\">\n",
              "      <th></th>\n",
              "      <th>A</th>\n",
              "      <th>B</th>\n",
              "      <th>C</th>\n",
              "      <th>D</th>\n",
              "    </tr>\n",
              "  </thead>\n",
              "  <tbody>\n",
              "    <tr>\n",
              "      <th>0</th>\n",
              "      <td>1</td>\n",
              "      <td>10</td>\n",
              "      <td>4</td>\n",
              "      <td>40</td>\n",
              "    </tr>\n",
              "    <tr>\n",
              "      <th>1</th>\n",
              "      <td>2</td>\n",
              "      <td>20</td>\n",
              "      <td>5</td>\n",
              "      <td>50</td>\n",
              "    </tr>\n",
              "    <tr>\n",
              "      <th>2</th>\n",
              "      <td>3</td>\n",
              "      <td>30</td>\n",
              "      <td>6</td>\n",
              "      <td>60</td>\n",
              "    </tr>\n",
              "  </tbody>\n",
              "</table>\n",
              "</div>"
            ],
            "text/plain": [
              "   A   B  C   D\n",
              "0  1  10  4  40\n",
              "1  2  20  5  50\n",
              "2  3  30  6  60"
            ]
          },
          "execution_count": 184,
          "metadata": {},
          "output_type": "execute_result"
        }
      ],
      "source": [
        "df__1.join(df__2)"
      ]
    },
    {
      "cell_type": "markdown",
      "id": "c5790817",
      "metadata": {
        "id": "c5790817"
      },
      "source": [
        "***Append***"
      ]
    },
    {
      "cell_type": "code",
      "execution_count": null,
      "id": "0783f018",
      "metadata": {
        "id": "0783f018",
        "outputId": "71d88cb8-4ce8-4941-d7f6-204c36645874"
      },
      "outputs": [
        {
          "data": {
            "text/html": [
              "<div>\n",
              "<style scoped>\n",
              "    .dataframe tbody tr th:only-of-type {\n",
              "        vertical-align: middle;\n",
              "    }\n",
              "\n",
              "    .dataframe tbody tr th {\n",
              "        vertical-align: top;\n",
              "    }\n",
              "\n",
              "    .dataframe thead th {\n",
              "        text-align: right;\n",
              "    }\n",
              "</style>\n",
              "<table border=\"1\" class=\"dataframe\">\n",
              "  <thead>\n",
              "    <tr style=\"text-align: right;\">\n",
              "      <th></th>\n",
              "      <th>A</th>\n",
              "      <th>B</th>\n",
              "    </tr>\n",
              "  </thead>\n",
              "  <tbody>\n",
              "    <tr>\n",
              "      <th>0</th>\n",
              "      <td>1</td>\n",
              "      <td>10</td>\n",
              "    </tr>\n",
              "    <tr>\n",
              "      <th>1</th>\n",
              "      <td>2</td>\n",
              "      <td>20</td>\n",
              "    </tr>\n",
              "    <tr>\n",
              "      <th>2</th>\n",
              "      <td>3</td>\n",
              "      <td>30</td>\n",
              "    </tr>\n",
              "  </tbody>\n",
              "</table>\n",
              "</div>"
            ],
            "text/plain": [
              "   A   B\n",
              "0  1  10\n",
              "1  2  20\n",
              "2  3  30"
            ]
          },
          "metadata": {},
          "output_type": "display_data"
        },
        {
          "data": {
            "text/html": [
              "<div>\n",
              "<style scoped>\n",
              "    .dataframe tbody tr th:only-of-type {\n",
              "        vertical-align: middle;\n",
              "    }\n",
              "\n",
              "    .dataframe tbody tr th {\n",
              "        vertical-align: top;\n",
              "    }\n",
              "\n",
              "    .dataframe thead th {\n",
              "        text-align: right;\n",
              "    }\n",
              "</style>\n",
              "<table border=\"1\" class=\"dataframe\">\n",
              "  <thead>\n",
              "    <tr style=\"text-align: right;\">\n",
              "      <th></th>\n",
              "      <th>A</th>\n",
              "      <th>B</th>\n",
              "    </tr>\n",
              "  </thead>\n",
              "  <tbody>\n",
              "    <tr>\n",
              "      <th>0</th>\n",
              "      <td>4</td>\n",
              "      <td>40</td>\n",
              "    </tr>\n",
              "    <tr>\n",
              "      <th>1</th>\n",
              "      <td>5</td>\n",
              "      <td>50</td>\n",
              "    </tr>\n",
              "    <tr>\n",
              "      <th>2</th>\n",
              "      <td>6</td>\n",
              "      <td>60</td>\n",
              "    </tr>\n",
              "  </tbody>\n",
              "</table>\n",
              "</div>"
            ],
            "text/plain": [
              "   A   B\n",
              "0  4  40\n",
              "1  5  50\n",
              "2  6  60"
            ]
          },
          "metadata": {},
          "output_type": "display_data"
        }
      ],
      "source": [
        "df_1 = pd.DataFrame({'A': [1,2,3],'B': [10,20,30]})\n",
        "df_2 = pd.DataFrame({'A': [4,5,6],'B': [40,50,60]})\n",
        "\n",
        "display(df_1,df_2)"
      ]
    },
    {
      "cell_type": "code",
      "execution_count": null,
      "id": "96c81220",
      "metadata": {
        "id": "96c81220",
        "outputId": "1ad42a75-7a44-4bf5-aa08-b8e61230dc4e"
      },
      "outputs": [
        {
          "name": "stderr",
          "output_type": "stream",
          "text": [
            "C:\\Users\\prasad jadhav\\AppData\\Local\\Temp\\ipykernel_12320\\4145945755.py:1: FutureWarning: The frame.append method is deprecated and will be removed from pandas in a future version. Use pandas.concat instead.\n",
            "  df_1.append(df_2,ignore_index = True,sort = False)\n"
          ]
        },
        {
          "data": {
            "text/html": [
              "<div>\n",
              "<style scoped>\n",
              "    .dataframe tbody tr th:only-of-type {\n",
              "        vertical-align: middle;\n",
              "    }\n",
              "\n",
              "    .dataframe tbody tr th {\n",
              "        vertical-align: top;\n",
              "    }\n",
              "\n",
              "    .dataframe thead th {\n",
              "        text-align: right;\n",
              "    }\n",
              "</style>\n",
              "<table border=\"1\" class=\"dataframe\">\n",
              "  <thead>\n",
              "    <tr style=\"text-align: right;\">\n",
              "      <th></th>\n",
              "      <th>A</th>\n",
              "      <th>B</th>\n",
              "    </tr>\n",
              "  </thead>\n",
              "  <tbody>\n",
              "    <tr>\n",
              "      <th>0</th>\n",
              "      <td>1</td>\n",
              "      <td>10</td>\n",
              "    </tr>\n",
              "    <tr>\n",
              "      <th>1</th>\n",
              "      <td>2</td>\n",
              "      <td>20</td>\n",
              "    </tr>\n",
              "    <tr>\n",
              "      <th>2</th>\n",
              "      <td>3</td>\n",
              "      <td>30</td>\n",
              "    </tr>\n",
              "    <tr>\n",
              "      <th>3</th>\n",
              "      <td>4</td>\n",
              "      <td>40</td>\n",
              "    </tr>\n",
              "    <tr>\n",
              "      <th>4</th>\n",
              "      <td>5</td>\n",
              "      <td>50</td>\n",
              "    </tr>\n",
              "    <tr>\n",
              "      <th>5</th>\n",
              "      <td>6</td>\n",
              "      <td>60</td>\n",
              "    </tr>\n",
              "  </tbody>\n",
              "</table>\n",
              "</div>"
            ],
            "text/plain": [
              "   A   B\n",
              "0  1  10\n",
              "1  2  20\n",
              "2  3  30\n",
              "3  4  40\n",
              "4  5  50\n",
              "5  6  60"
            ]
          },
          "execution_count": 186,
          "metadata": {},
          "output_type": "execute_result"
        }
      ],
      "source": [
        "df_1.append(df_2,ignore_index = True,sort = False)"
      ]
    },
    {
      "cell_type": "markdown",
      "id": "499dedd2",
      "metadata": {
        "id": "499dedd2"
      },
      "source": [
        "***Pivot Table***"
      ]
    },
    {
      "cell_type": "code",
      "execution_count": null,
      "id": "36eced4b",
      "metadata": {
        "id": "36eced4b",
        "outputId": "1ec8d7b4-0816-4400-955a-007a0f622b96"
      },
      "outputs": [
        {
          "data": {
            "text/html": [
              "<div>\n",
              "<style scoped>\n",
              "    .dataframe tbody tr th:only-of-type {\n",
              "        vertical-align: middle;\n",
              "    }\n",
              "\n",
              "    .dataframe tbody tr th {\n",
              "        vertical-align: top;\n",
              "    }\n",
              "\n",
              "    .dataframe thead th {\n",
              "        text-align: right;\n",
              "    }\n",
              "</style>\n",
              "<table border=\"1\" class=\"dataframe\">\n",
              "  <thead>\n",
              "    <tr style=\"text-align: right;\">\n",
              "      <th></th>\n",
              "      <th>Genre</th>\n",
              "      <th>Year</th>\n",
              "      <th>Budget(MS)</th>\n",
              "      <th>Ratings %</th>\n",
              "    </tr>\n",
              "  </thead>\n",
              "  <tbody>\n",
              "    <tr>\n",
              "      <th>0</th>\n",
              "      <td>Action</td>\n",
              "      <td>2008</td>\n",
              "      <td>28</td>\n",
              "      <td>48</td>\n",
              "    </tr>\n",
              "    <tr>\n",
              "      <th>1</th>\n",
              "      <td>Action</td>\n",
              "      <td>2009</td>\n",
              "      <td>200</td>\n",
              "      <td>63</td>\n",
              "    </tr>\n",
              "    <tr>\n",
              "      <th>2</th>\n",
              "      <td>Action</td>\n",
              "      <td>2008</td>\n",
              "      <td>32</td>\n",
              "      <td>57</td>\n",
              "    </tr>\n",
              "    <tr>\n",
              "      <th>3</th>\n",
              "      <td>Action</td>\n",
              "      <td>2010</td>\n",
              "      <td>20</td>\n",
              "      <td>52</td>\n",
              "    </tr>\n",
              "    <tr>\n",
              "      <th>4</th>\n",
              "      <td>Adventure</td>\n",
              "      <td>2009</td>\n",
              "      <td>18</td>\n",
              "      <td>84</td>\n",
              "    </tr>\n",
              "    <tr>\n",
              "      <th>5</th>\n",
              "      <td>Adventure</td>\n",
              "      <td>2010</td>\n",
              "      <td>105</td>\n",
              "      <td>44</td>\n",
              "    </tr>\n",
              "    <tr>\n",
              "      <th>6</th>\n",
              "      <td>Comedy</td>\n",
              "      <td>2010</td>\n",
              "      <td>20</td>\n",
              "      <td>70</td>\n",
              "    </tr>\n",
              "    <tr>\n",
              "      <th>7</th>\n",
              "      <td>Comedy</td>\n",
              "      <td>2008</td>\n",
              "      <td>8</td>\n",
              "      <td>81</td>\n",
              "    </tr>\n",
              "    <tr>\n",
              "      <th>8</th>\n",
              "      <td>Comedy</td>\n",
              "      <td>2009</td>\n",
              "      <td>30</td>\n",
              "      <td>71</td>\n",
              "    </tr>\n",
              "  </tbody>\n",
              "</table>\n",
              "</div>"
            ],
            "text/plain": [
              "       Genre  Year  Budget(MS)  Ratings %\n",
              "0     Action  2008          28         48\n",
              "1     Action  2009         200         63\n",
              "2     Action  2008          32         57\n",
              "3     Action  2010          20         52\n",
              "4  Adventure  2009          18         84\n",
              "5  Adventure  2010         105         44\n",
              "6     Comedy  2010          20         70\n",
              "7     Comedy  2008           8         81\n",
              "8     Comedy  2009          30         71"
            ]
          },
          "execution_count": 187,
          "metadata": {},
          "output_type": "execute_result"
        }
      ],
      "source": [
        "df = pd.read_csv('C:\\\\Users\\Chandrakant\\Downloads\\Pandas\\Movie_ratings.csv')\n",
        "df"
      ]
    },
    {
      "cell_type": "code",
      "execution_count": null,
      "id": "d851d15a",
      "metadata": {
        "id": "d851d15a",
        "outputId": "ab6209d8-a02d-474e-a0be-9c1050b0a398"
      },
      "outputs": [
        {
          "data": {
            "text/html": [
              "<div>\n",
              "<style scoped>\n",
              "    .dataframe tbody tr th:only-of-type {\n",
              "        vertical-align: middle;\n",
              "    }\n",
              "\n",
              "    .dataframe tbody tr th {\n",
              "        vertical-align: top;\n",
              "    }\n",
              "\n",
              "    .dataframe thead th {\n",
              "        text-align: right;\n",
              "    }\n",
              "</style>\n",
              "<table border=\"1\" class=\"dataframe\">\n",
              "  <thead>\n",
              "    <tr style=\"text-align: right;\">\n",
              "      <th></th>\n",
              "      <th>Budget(MS)</th>\n",
              "      <th>Ratings %</th>\n",
              "      <th>Year</th>\n",
              "    </tr>\n",
              "    <tr>\n",
              "      <th>Genre</th>\n",
              "      <th></th>\n",
              "      <th></th>\n",
              "      <th></th>\n",
              "    </tr>\n",
              "  </thead>\n",
              "  <tbody>\n",
              "    <tr>\n",
              "      <th>Action</th>\n",
              "      <td>70.000000</td>\n",
              "      <td>55</td>\n",
              "      <td>2008.75</td>\n",
              "    </tr>\n",
              "    <tr>\n",
              "      <th>Adventure</th>\n",
              "      <td>61.500000</td>\n",
              "      <td>64</td>\n",
              "      <td>2009.50</td>\n",
              "    </tr>\n",
              "    <tr>\n",
              "      <th>Comedy</th>\n",
              "      <td>19.333333</td>\n",
              "      <td>74</td>\n",
              "      <td>2009.00</td>\n",
              "    </tr>\n",
              "  </tbody>\n",
              "</table>\n",
              "</div>"
            ],
            "text/plain": [
              "           Budget(MS)  Ratings %     Year\n",
              "Genre                                    \n",
              "Action      70.000000         55  2008.75\n",
              "Adventure   61.500000         64  2009.50\n",
              "Comedy      19.333333         74  2009.00"
            ]
          },
          "execution_count": 188,
          "metadata": {},
          "output_type": "execute_result"
        }
      ],
      "source": [
        "df.pivot_table(index = 'Genre') #Total_Mean/Avg"
      ]
    },
    {
      "cell_type": "code",
      "execution_count": null,
      "id": "c1f76329",
      "metadata": {
        "id": "c1f76329",
        "outputId": "08962a62-0ee9-4238-ccbb-5df7d282b4e4"
      },
      "outputs": [
        {
          "data": {
            "text/html": [
              "<div>\n",
              "<style scoped>\n",
              "    .dataframe tbody tr th:only-of-type {\n",
              "        vertical-align: middle;\n",
              "    }\n",
              "\n",
              "    .dataframe tbody tr th {\n",
              "        vertical-align: top;\n",
              "    }\n",
              "\n",
              "    .dataframe thead tr th {\n",
              "        text-align: left;\n",
              "    }\n",
              "\n",
              "    .dataframe thead tr:last-of-type th {\n",
              "        text-align: right;\n",
              "    }\n",
              "</style>\n",
              "<table border=\"1\" class=\"dataframe\">\n",
              "  <thead>\n",
              "    <tr>\n",
              "      <th></th>\n",
              "      <th colspan=\"3\" halign=\"left\">Budget(MS)</th>\n",
              "      <th colspan=\"3\" halign=\"left\">Ratings %</th>\n",
              "    </tr>\n",
              "    <tr>\n",
              "      <th>Year</th>\n",
              "      <th>2008</th>\n",
              "      <th>2009</th>\n",
              "      <th>2010</th>\n",
              "      <th>2008</th>\n",
              "      <th>2009</th>\n",
              "      <th>2010</th>\n",
              "    </tr>\n",
              "    <tr>\n",
              "      <th>Genre</th>\n",
              "      <th></th>\n",
              "      <th></th>\n",
              "      <th></th>\n",
              "      <th></th>\n",
              "      <th></th>\n",
              "      <th></th>\n",
              "    </tr>\n",
              "  </thead>\n",
              "  <tbody>\n",
              "    <tr>\n",
              "      <th>Action</th>\n",
              "      <td>30.0</td>\n",
              "      <td>200.0</td>\n",
              "      <td>20.0</td>\n",
              "      <td>52.5</td>\n",
              "      <td>63.0</td>\n",
              "      <td>52.0</td>\n",
              "    </tr>\n",
              "    <tr>\n",
              "      <th>Adventure</th>\n",
              "      <td>NaN</td>\n",
              "      <td>18.0</td>\n",
              "      <td>105.0</td>\n",
              "      <td>NaN</td>\n",
              "      <td>84.0</td>\n",
              "      <td>44.0</td>\n",
              "    </tr>\n",
              "    <tr>\n",
              "      <th>Comedy</th>\n",
              "      <td>8.0</td>\n",
              "      <td>30.0</td>\n",
              "      <td>20.0</td>\n",
              "      <td>81.0</td>\n",
              "      <td>71.0</td>\n",
              "      <td>70.0</td>\n",
              "    </tr>\n",
              "  </tbody>\n",
              "</table>\n",
              "</div>"
            ],
            "text/plain": [
              "          Budget(MS)               Ratings %            \n",
              "Year            2008   2009   2010      2008  2009  2010\n",
              "Genre                                                   \n",
              "Action          30.0  200.0   20.0      52.5  63.0  52.0\n",
              "Adventure        NaN   18.0  105.0       NaN  84.0  44.0\n",
              "Comedy           8.0   30.0   20.0      81.0  71.0  70.0"
            ]
          },
          "execution_count": 189,
          "metadata": {},
          "output_type": "execute_result"
        }
      ],
      "source": [
        "df.pivot_table(index = 'Genre',columns = 'Year') #Mean_Avg"
      ]
    },
    {
      "cell_type": "code",
      "execution_count": null,
      "id": "ed7ecc0c",
      "metadata": {
        "id": "ed7ecc0c",
        "outputId": "99eb2fae-b80b-469a-9b64-f3e4c133e8ab"
      },
      "outputs": [
        {
          "data": {
            "text/html": [
              "<div>\n",
              "<style scoped>\n",
              "    .dataframe tbody tr th:only-of-type {\n",
              "        vertical-align: middle;\n",
              "    }\n",
              "\n",
              "    .dataframe tbody tr th {\n",
              "        vertical-align: top;\n",
              "    }\n",
              "\n",
              "    .dataframe thead tr th {\n",
              "        text-align: left;\n",
              "    }\n",
              "\n",
              "    .dataframe thead tr:last-of-type th {\n",
              "        text-align: right;\n",
              "    }\n",
              "</style>\n",
              "<table border=\"1\" class=\"dataframe\">\n",
              "  <thead>\n",
              "    <tr>\n",
              "      <th></th>\n",
              "      <th colspan=\"3\" halign=\"left\">Budget(MS)</th>\n",
              "      <th colspan=\"3\" halign=\"left\">Ratings %</th>\n",
              "    </tr>\n",
              "    <tr>\n",
              "      <th>Year</th>\n",
              "      <th>2008</th>\n",
              "      <th>2009</th>\n",
              "      <th>2010</th>\n",
              "      <th>2008</th>\n",
              "      <th>2009</th>\n",
              "      <th>2010</th>\n",
              "    </tr>\n",
              "    <tr>\n",
              "      <th>Genre</th>\n",
              "      <th></th>\n",
              "      <th></th>\n",
              "      <th></th>\n",
              "      <th></th>\n",
              "      <th></th>\n",
              "      <th></th>\n",
              "    </tr>\n",
              "  </thead>\n",
              "  <tbody>\n",
              "    <tr>\n",
              "      <th>Action</th>\n",
              "      <td>2.0</td>\n",
              "      <td>1.0</td>\n",
              "      <td>1.0</td>\n",
              "      <td>2.0</td>\n",
              "      <td>1.0</td>\n",
              "      <td>1.0</td>\n",
              "    </tr>\n",
              "    <tr>\n",
              "      <th>Adventure</th>\n",
              "      <td>NaN</td>\n",
              "      <td>1.0</td>\n",
              "      <td>1.0</td>\n",
              "      <td>NaN</td>\n",
              "      <td>1.0</td>\n",
              "      <td>1.0</td>\n",
              "    </tr>\n",
              "    <tr>\n",
              "      <th>Comedy</th>\n",
              "      <td>1.0</td>\n",
              "      <td>1.0</td>\n",
              "      <td>1.0</td>\n",
              "      <td>1.0</td>\n",
              "      <td>1.0</td>\n",
              "      <td>1.0</td>\n",
              "    </tr>\n",
              "  </tbody>\n",
              "</table>\n",
              "</div>"
            ],
            "text/plain": [
              "          Budget(MS)           Ratings %          \n",
              "Year            2008 2009 2010      2008 2009 2010\n",
              "Genre                                             \n",
              "Action           2.0  1.0  1.0       2.0  1.0  1.0\n",
              "Adventure        NaN  1.0  1.0       NaN  1.0  1.0\n",
              "Comedy           1.0  1.0  1.0       1.0  1.0  1.0"
            ]
          },
          "execution_count": 190,
          "metadata": {},
          "output_type": "execute_result"
        }
      ],
      "source": [
        "df.pivot_table(index = 'Genre',columns = 'Year',aggfunc = 'count')"
      ]
    },
    {
      "cell_type": "code",
      "execution_count": null,
      "id": "199877e8",
      "metadata": {
        "id": "199877e8",
        "outputId": "f350abda-8cfc-40a6-e111-086929ca7b42"
      },
      "outputs": [
        {
          "data": {
            "text/html": [
              "<div>\n",
              "<style scoped>\n",
              "    .dataframe tbody tr th:only-of-type {\n",
              "        vertical-align: middle;\n",
              "    }\n",
              "\n",
              "    .dataframe tbody tr th {\n",
              "        vertical-align: top;\n",
              "    }\n",
              "\n",
              "    .dataframe thead tr th {\n",
              "        text-align: left;\n",
              "    }\n",
              "\n",
              "    .dataframe thead tr:last-of-type th {\n",
              "        text-align: right;\n",
              "    }\n",
              "</style>\n",
              "<table border=\"1\" class=\"dataframe\">\n",
              "  <thead>\n",
              "    <tr>\n",
              "      <th></th>\n",
              "      <th colspan=\"3\" halign=\"left\">Budget(MS)</th>\n",
              "      <th colspan=\"3\" halign=\"left\">Ratings %</th>\n",
              "    </tr>\n",
              "    <tr>\n",
              "      <th>Year</th>\n",
              "      <th>2008</th>\n",
              "      <th>2009</th>\n",
              "      <th>2010</th>\n",
              "      <th>2008</th>\n",
              "      <th>2009</th>\n",
              "      <th>2010</th>\n",
              "    </tr>\n",
              "    <tr>\n",
              "      <th>Genre</th>\n",
              "      <th></th>\n",
              "      <th></th>\n",
              "      <th></th>\n",
              "      <th></th>\n",
              "      <th></th>\n",
              "      <th></th>\n",
              "    </tr>\n",
              "  </thead>\n",
              "  <tbody>\n",
              "    <tr>\n",
              "      <th>Action</th>\n",
              "      <td>32.0</td>\n",
              "      <td>200.0</td>\n",
              "      <td>20.0</td>\n",
              "      <td>57.0</td>\n",
              "      <td>63.0</td>\n",
              "      <td>52.0</td>\n",
              "    </tr>\n",
              "    <tr>\n",
              "      <th>Adventure</th>\n",
              "      <td>NaN</td>\n",
              "      <td>18.0</td>\n",
              "      <td>105.0</td>\n",
              "      <td>NaN</td>\n",
              "      <td>84.0</td>\n",
              "      <td>44.0</td>\n",
              "    </tr>\n",
              "    <tr>\n",
              "      <th>Comedy</th>\n",
              "      <td>8.0</td>\n",
              "      <td>30.0</td>\n",
              "      <td>20.0</td>\n",
              "      <td>81.0</td>\n",
              "      <td>71.0</td>\n",
              "      <td>70.0</td>\n",
              "    </tr>\n",
              "  </tbody>\n",
              "</table>\n",
              "</div>"
            ],
            "text/plain": [
              "          Budget(MS)               Ratings %            \n",
              "Year            2008   2009   2010      2008  2009  2010\n",
              "Genre                                                   \n",
              "Action          32.0  200.0   20.0      57.0  63.0  52.0\n",
              "Adventure        NaN   18.0  105.0       NaN  84.0  44.0\n",
              "Comedy           8.0   30.0   20.0      81.0  71.0  70.0"
            ]
          },
          "execution_count": 191,
          "metadata": {},
          "output_type": "execute_result"
        }
      ],
      "source": [
        "df.pivot_table(index = 'Genre',columns = 'Year',aggfunc = 'max') "
      ]
    },
    {
      "cell_type": "code",
      "execution_count": null,
      "id": "186a3692",
      "metadata": {
        "id": "186a3692",
        "outputId": "2db4a3f4-5865-44e1-a14a-22113c51d2f5"
      },
      "outputs": [
        {
          "data": {
            "text/html": [
              "<div>\n",
              "<style scoped>\n",
              "    .dataframe tbody tr th:only-of-type {\n",
              "        vertical-align: middle;\n",
              "    }\n",
              "\n",
              "    .dataframe tbody tr th {\n",
              "        vertical-align: top;\n",
              "    }\n",
              "\n",
              "    .dataframe thead tr th {\n",
              "        text-align: left;\n",
              "    }\n",
              "\n",
              "    .dataframe thead tr:last-of-type th {\n",
              "        text-align: right;\n",
              "    }\n",
              "</style>\n",
              "<table border=\"1\" class=\"dataframe\">\n",
              "  <thead>\n",
              "    <tr>\n",
              "      <th></th>\n",
              "      <th colspan=\"3\" halign=\"left\">Budget(MS)</th>\n",
              "      <th colspan=\"3\" halign=\"left\">Ratings %</th>\n",
              "    </tr>\n",
              "    <tr>\n",
              "      <th>Year</th>\n",
              "      <th>2008</th>\n",
              "      <th>2009</th>\n",
              "      <th>2010</th>\n",
              "      <th>2008</th>\n",
              "      <th>2009</th>\n",
              "      <th>2010</th>\n",
              "    </tr>\n",
              "    <tr>\n",
              "      <th>Genre</th>\n",
              "      <th></th>\n",
              "      <th></th>\n",
              "      <th></th>\n",
              "      <th></th>\n",
              "      <th></th>\n",
              "      <th></th>\n",
              "    </tr>\n",
              "  </thead>\n",
              "  <tbody>\n",
              "    <tr>\n",
              "      <th>Action</th>\n",
              "      <td>60.0</td>\n",
              "      <td>200.0</td>\n",
              "      <td>20.0</td>\n",
              "      <td>105.0</td>\n",
              "      <td>63.0</td>\n",
              "      <td>52.0</td>\n",
              "    </tr>\n",
              "    <tr>\n",
              "      <th>Adventure</th>\n",
              "      <td>NaN</td>\n",
              "      <td>18.0</td>\n",
              "      <td>105.0</td>\n",
              "      <td>NaN</td>\n",
              "      <td>84.0</td>\n",
              "      <td>44.0</td>\n",
              "    </tr>\n",
              "    <tr>\n",
              "      <th>Comedy</th>\n",
              "      <td>8.0</td>\n",
              "      <td>30.0</td>\n",
              "      <td>20.0</td>\n",
              "      <td>81.0</td>\n",
              "      <td>71.0</td>\n",
              "      <td>70.0</td>\n",
              "    </tr>\n",
              "  </tbody>\n",
              "</table>\n",
              "</div>"
            ],
            "text/plain": [
              "          Budget(MS)               Ratings %            \n",
              "Year            2008   2009   2010      2008  2009  2010\n",
              "Genre                                                   \n",
              "Action          60.0  200.0   20.0     105.0  63.0  52.0\n",
              "Adventure        NaN   18.0  105.0       NaN  84.0  44.0\n",
              "Comedy           8.0   30.0   20.0      81.0  71.0  70.0"
            ]
          },
          "execution_count": 192,
          "metadata": {},
          "output_type": "execute_result"
        }
      ],
      "source": [
        "df.pivot_table(index = 'Genre',columns = 'Year',aggfunc = 'sum') "
      ]
    },
    {
      "cell_type": "code",
      "execution_count": null,
      "id": "250419e2",
      "metadata": {
        "id": "250419e2",
        "outputId": "88710764-84da-4758-866b-44ee7f6d2b3d"
      },
      "outputs": [
        {
          "data": {
            "text/html": [
              "<div>\n",
              "<style scoped>\n",
              "    .dataframe tbody tr th:only-of-type {\n",
              "        vertical-align: middle;\n",
              "    }\n",
              "\n",
              "    .dataframe tbody tr th {\n",
              "        vertical-align: top;\n",
              "    }\n",
              "\n",
              "    .dataframe thead tr th {\n",
              "        text-align: left;\n",
              "    }\n",
              "\n",
              "    .dataframe thead tr:last-of-type th {\n",
              "        text-align: right;\n",
              "    }\n",
              "</style>\n",
              "<table border=\"1\" class=\"dataframe\">\n",
              "  <thead>\n",
              "    <tr>\n",
              "      <th></th>\n",
              "      <th colspan=\"3\" halign=\"left\">Budget(MS)</th>\n",
              "      <th colspan=\"3\" halign=\"left\">Ratings %</th>\n",
              "    </tr>\n",
              "    <tr>\n",
              "      <th>Year</th>\n",
              "      <th>2008</th>\n",
              "      <th>2009</th>\n",
              "      <th>2010</th>\n",
              "      <th>2008</th>\n",
              "      <th>2009</th>\n",
              "      <th>2010</th>\n",
              "    </tr>\n",
              "    <tr>\n",
              "      <th>Genre</th>\n",
              "      <th></th>\n",
              "      <th></th>\n",
              "      <th></th>\n",
              "      <th></th>\n",
              "      <th></th>\n",
              "      <th></th>\n",
              "    </tr>\n",
              "  </thead>\n",
              "  <tbody>\n",
              "    <tr>\n",
              "      <th>Action</th>\n",
              "      <td>30.0</td>\n",
              "      <td>200.0</td>\n",
              "      <td>20.0</td>\n",
              "      <td>52.5</td>\n",
              "      <td>63.0</td>\n",
              "      <td>52.0</td>\n",
              "    </tr>\n",
              "    <tr>\n",
              "      <th>Adventure</th>\n",
              "      <td>none</td>\n",
              "      <td>18.0</td>\n",
              "      <td>105.0</td>\n",
              "      <td>none</td>\n",
              "      <td>84.0</td>\n",
              "      <td>44.0</td>\n",
              "    </tr>\n",
              "    <tr>\n",
              "      <th>Comedy</th>\n",
              "      <td>8.0</td>\n",
              "      <td>30.0</td>\n",
              "      <td>20.0</td>\n",
              "      <td>81.0</td>\n",
              "      <td>71.0</td>\n",
              "      <td>70.0</td>\n",
              "    </tr>\n",
              "  </tbody>\n",
              "</table>\n",
              "</div>"
            ],
            "text/plain": [
              "          Budget(MS)               Ratings %            \n",
              "Year            2008   2009   2010      2008  2009  2010\n",
              "Genre                                                   \n",
              "Action          30.0  200.0   20.0      52.5  63.0  52.0\n",
              "Adventure       none   18.0  105.0      none  84.0  44.0\n",
              "Comedy           8.0   30.0   20.0      81.0  71.0  70.0"
            ]
          },
          "execution_count": 193,
          "metadata": {},
          "output_type": "execute_result"
        }
      ],
      "source": [
        "df.pivot_table(index = 'Genre',columns = 'Year',fill_value = 'none') "
      ]
    },
    {
      "cell_type": "code",
      "execution_count": null,
      "id": "bd150106",
      "metadata": {
        "id": "bd150106",
        "outputId": "c7229fdf-96c8-42bf-d373-bd456904da12"
      },
      "outputs": [
        {
          "data": {
            "text/html": [
              "<div>\n",
              "<style scoped>\n",
              "    .dataframe tbody tr th:only-of-type {\n",
              "        vertical-align: middle;\n",
              "    }\n",
              "\n",
              "    .dataframe tbody tr th {\n",
              "        vertical-align: top;\n",
              "    }\n",
              "\n",
              "    .dataframe thead tr th {\n",
              "        text-align: left;\n",
              "    }\n",
              "\n",
              "    .dataframe thead tr:last-of-type th {\n",
              "        text-align: right;\n",
              "    }\n",
              "</style>\n",
              "<table border=\"1\" class=\"dataframe\">\n",
              "  <thead>\n",
              "    <tr>\n",
              "      <th></th>\n",
              "      <th colspan=\"4\" halign=\"left\">Budget(MS)</th>\n",
              "      <th colspan=\"4\" halign=\"left\">Ratings %</th>\n",
              "    </tr>\n",
              "    <tr>\n",
              "      <th>Year</th>\n",
              "      <th>2008</th>\n",
              "      <th>2009</th>\n",
              "      <th>2010</th>\n",
              "      <th>All</th>\n",
              "      <th>2008</th>\n",
              "      <th>2009</th>\n",
              "      <th>2010</th>\n",
              "      <th>All</th>\n",
              "    </tr>\n",
              "    <tr>\n",
              "      <th>Genre</th>\n",
              "      <th></th>\n",
              "      <th></th>\n",
              "      <th></th>\n",
              "      <th></th>\n",
              "      <th></th>\n",
              "      <th></th>\n",
              "      <th></th>\n",
              "      <th></th>\n",
              "    </tr>\n",
              "  </thead>\n",
              "  <tbody>\n",
              "    <tr>\n",
              "      <th>Action</th>\n",
              "      <td>30.000000</td>\n",
              "      <td>200.000000</td>\n",
              "      <td>20.000000</td>\n",
              "      <td>70.000000</td>\n",
              "      <td>52.5</td>\n",
              "      <td>63.000000</td>\n",
              "      <td>52.000000</td>\n",
              "      <td>55.000000</td>\n",
              "    </tr>\n",
              "    <tr>\n",
              "      <th>Adventure</th>\n",
              "      <td>0.000000</td>\n",
              "      <td>18.000000</td>\n",
              "      <td>105.000000</td>\n",
              "      <td>61.500000</td>\n",
              "      <td>0.0</td>\n",
              "      <td>84.000000</td>\n",
              "      <td>44.000000</td>\n",
              "      <td>64.000000</td>\n",
              "    </tr>\n",
              "    <tr>\n",
              "      <th>Comedy</th>\n",
              "      <td>8.000000</td>\n",
              "      <td>30.000000</td>\n",
              "      <td>20.000000</td>\n",
              "      <td>19.333333</td>\n",
              "      <td>81.0</td>\n",
              "      <td>71.000000</td>\n",
              "      <td>70.000000</td>\n",
              "      <td>74.000000</td>\n",
              "    </tr>\n",
              "    <tr>\n",
              "      <th>All</th>\n",
              "      <td>22.666667</td>\n",
              "      <td>82.666667</td>\n",
              "      <td>48.333333</td>\n",
              "      <td>51.222222</td>\n",
              "      <td>62.0</td>\n",
              "      <td>72.666667</td>\n",
              "      <td>55.333333</td>\n",
              "      <td>63.333333</td>\n",
              "    </tr>\n",
              "  </tbody>\n",
              "</table>\n",
              "</div>"
            ],
            "text/plain": [
              "          Budget(MS)                                    Ratings %             \\\n",
              "Year            2008        2009        2010        All      2008       2009   \n",
              "Genre                                                                          \n",
              "Action     30.000000  200.000000   20.000000  70.000000      52.5  63.000000   \n",
              "Adventure   0.000000   18.000000  105.000000  61.500000       0.0  84.000000   \n",
              "Comedy      8.000000   30.000000   20.000000  19.333333      81.0  71.000000   \n",
              "All        22.666667   82.666667   48.333333  51.222222      62.0  72.666667   \n",
              "\n",
              "                                 \n",
              "Year            2010        All  \n",
              "Genre                            \n",
              "Action     52.000000  55.000000  \n",
              "Adventure  44.000000  64.000000  \n",
              "Comedy     70.000000  74.000000  \n",
              "All        55.333333  63.333333  "
            ]
          },
          "execution_count": 194,
          "metadata": {},
          "output_type": "execute_result"
        }
      ],
      "source": [
        "df.pivot_table(index = 'Genre',columns = 'Year',fill_value = 0,margins = True) #All_is_total_Avg"
      ]
    },
    {
      "cell_type": "code",
      "execution_count": null,
      "id": "ed83da2c",
      "metadata": {
        "id": "ed83da2c",
        "outputId": "f1175112-e437-47c4-ff26-a531bb3e5b9e"
      },
      "outputs": [
        {
          "data": {
            "text/html": [
              "<div>\n",
              "<style scoped>\n",
              "    .dataframe tbody tr th:only-of-type {\n",
              "        vertical-align: middle;\n",
              "    }\n",
              "\n",
              "    .dataframe tbody tr th {\n",
              "        vertical-align: top;\n",
              "    }\n",
              "\n",
              "    .dataframe thead tr th {\n",
              "        text-align: left;\n",
              "    }\n",
              "\n",
              "    .dataframe thead tr:last-of-type th {\n",
              "        text-align: right;\n",
              "    }\n",
              "</style>\n",
              "<table border=\"1\" class=\"dataframe\">\n",
              "  <thead>\n",
              "    <tr>\n",
              "      <th></th>\n",
              "      <th colspan=\"4\" halign=\"left\">Budget(MS)</th>\n",
              "      <th colspan=\"4\" halign=\"left\">Ratings %</th>\n",
              "    </tr>\n",
              "    <tr>\n",
              "      <th>Year</th>\n",
              "      <th>2008</th>\n",
              "      <th>2009</th>\n",
              "      <th>2010</th>\n",
              "      <th>All</th>\n",
              "      <th>2008</th>\n",
              "      <th>2009</th>\n",
              "      <th>2010</th>\n",
              "      <th>All</th>\n",
              "    </tr>\n",
              "    <tr>\n",
              "      <th>Genre</th>\n",
              "      <th></th>\n",
              "      <th></th>\n",
              "      <th></th>\n",
              "      <th></th>\n",
              "      <th></th>\n",
              "      <th></th>\n",
              "      <th></th>\n",
              "      <th></th>\n",
              "    </tr>\n",
              "  </thead>\n",
              "  <tbody>\n",
              "    <tr>\n",
              "      <th>Action</th>\n",
              "      <td>60</td>\n",
              "      <td>200</td>\n",
              "      <td>20</td>\n",
              "      <td>280</td>\n",
              "      <td>105</td>\n",
              "      <td>63</td>\n",
              "      <td>52</td>\n",
              "      <td>220</td>\n",
              "    </tr>\n",
              "    <tr>\n",
              "      <th>Adventure</th>\n",
              "      <td>0</td>\n",
              "      <td>18</td>\n",
              "      <td>105</td>\n",
              "      <td>123</td>\n",
              "      <td>0</td>\n",
              "      <td>84</td>\n",
              "      <td>44</td>\n",
              "      <td>128</td>\n",
              "    </tr>\n",
              "    <tr>\n",
              "      <th>Comedy</th>\n",
              "      <td>8</td>\n",
              "      <td>30</td>\n",
              "      <td>20</td>\n",
              "      <td>58</td>\n",
              "      <td>81</td>\n",
              "      <td>71</td>\n",
              "      <td>70</td>\n",
              "      <td>222</td>\n",
              "    </tr>\n",
              "    <tr>\n",
              "      <th>All</th>\n",
              "      <td>68</td>\n",
              "      <td>248</td>\n",
              "      <td>145</td>\n",
              "      <td>461</td>\n",
              "      <td>186</td>\n",
              "      <td>218</td>\n",
              "      <td>166</td>\n",
              "      <td>570</td>\n",
              "    </tr>\n",
              "  </tbody>\n",
              "</table>\n",
              "</div>"
            ],
            "text/plain": [
              "          Budget(MS)                Ratings %               \n",
              "Year            2008 2009 2010  All      2008 2009 2010  All\n",
              "Genre                                                       \n",
              "Action            60  200   20  280       105   63   52  220\n",
              "Adventure          0   18  105  123         0   84   44  128\n",
              "Comedy             8   30   20   58        81   71   70  222\n",
              "All               68  248  145  461       186  218  166  570"
            ]
          },
          "execution_count": 195,
          "metadata": {},
          "output_type": "execute_result"
        }
      ],
      "source": [
        "df.pivot_table(index = 'Genre',columns = 'Year',aggfunc = 'sum',fill_value = 0,margins = True) #All_is_total_Sum"
      ]
    },
    {
      "cell_type": "markdown",
      "id": "0cfe8dc7",
      "metadata": {
        "id": "0cfe8dc7"
      },
      "source": [
        "***Melt***"
      ]
    },
    {
      "cell_type": "code",
      "execution_count": null,
      "id": "50ff530c",
      "metadata": {
        "id": "50ff530c",
        "outputId": "54c46ac4-91bc-404f-b9b0-69c0216e7391"
      },
      "outputs": [
        {
          "data": {
            "text/html": [
              "<div>\n",
              "<style scoped>\n",
              "    .dataframe tbody tr th:only-of-type {\n",
              "        vertical-align: middle;\n",
              "    }\n",
              "\n",
              "    .dataframe tbody tr th {\n",
              "        vertical-align: top;\n",
              "    }\n",
              "\n",
              "    .dataframe thead th {\n",
              "        text-align: right;\n",
              "    }\n",
              "</style>\n",
              "<table border=\"1\" class=\"dataframe\">\n",
              "  <thead>\n",
              "    <tr style=\"text-align: right;\">\n",
              "      <th></th>\n",
              "      <th>Genre</th>\n",
              "      <th>Year</th>\n",
              "      <th>Budget(MS)</th>\n",
              "      <th>Ratings %</th>\n",
              "    </tr>\n",
              "  </thead>\n",
              "  <tbody>\n",
              "    <tr>\n",
              "      <th>0</th>\n",
              "      <td>Action</td>\n",
              "      <td>2008</td>\n",
              "      <td>28</td>\n",
              "      <td>48</td>\n",
              "    </tr>\n",
              "    <tr>\n",
              "      <th>1</th>\n",
              "      <td>Action</td>\n",
              "      <td>2009</td>\n",
              "      <td>200</td>\n",
              "      <td>63</td>\n",
              "    </tr>\n",
              "    <tr>\n",
              "      <th>2</th>\n",
              "      <td>Action</td>\n",
              "      <td>2008</td>\n",
              "      <td>32</td>\n",
              "      <td>57</td>\n",
              "    </tr>\n",
              "    <tr>\n",
              "      <th>3</th>\n",
              "      <td>Action</td>\n",
              "      <td>2010</td>\n",
              "      <td>20</td>\n",
              "      <td>52</td>\n",
              "    </tr>\n",
              "    <tr>\n",
              "      <th>4</th>\n",
              "      <td>Adventure</td>\n",
              "      <td>2009</td>\n",
              "      <td>18</td>\n",
              "      <td>84</td>\n",
              "    </tr>\n",
              "    <tr>\n",
              "      <th>5</th>\n",
              "      <td>Adventure</td>\n",
              "      <td>2010</td>\n",
              "      <td>105</td>\n",
              "      <td>44</td>\n",
              "    </tr>\n",
              "    <tr>\n",
              "      <th>6</th>\n",
              "      <td>Comedy</td>\n",
              "      <td>2010</td>\n",
              "      <td>20</td>\n",
              "      <td>70</td>\n",
              "    </tr>\n",
              "    <tr>\n",
              "      <th>7</th>\n",
              "      <td>Comedy</td>\n",
              "      <td>2008</td>\n",
              "      <td>8</td>\n",
              "      <td>81</td>\n",
              "    </tr>\n",
              "    <tr>\n",
              "      <th>8</th>\n",
              "      <td>Comedy</td>\n",
              "      <td>2009</td>\n",
              "      <td>30</td>\n",
              "      <td>71</td>\n",
              "    </tr>\n",
              "  </tbody>\n",
              "</table>\n",
              "</div>"
            ],
            "text/plain": [
              "       Genre  Year  Budget(MS)  Ratings %\n",
              "0     Action  2008          28         48\n",
              "1     Action  2009         200         63\n",
              "2     Action  2008          32         57\n",
              "3     Action  2010          20         52\n",
              "4  Adventure  2009          18         84\n",
              "5  Adventure  2010         105         44\n",
              "6     Comedy  2010          20         70\n",
              "7     Comedy  2008           8         81\n",
              "8     Comedy  2009          30         71"
            ]
          },
          "execution_count": 196,
          "metadata": {},
          "output_type": "execute_result"
        }
      ],
      "source": [
        "df = pd.read_csv('C:\\\\Users\\Chandrakant\\Downloads\\Pandas\\Movie_ratings.csv')\n",
        "df"
      ]
    },
    {
      "cell_type": "code",
      "execution_count": null,
      "id": "e115f0d0",
      "metadata": {
        "id": "e115f0d0",
        "outputId": "16d9c8d2-c2e7-43ef-b923-fbef778dc2b1"
      },
      "outputs": [
        {
          "data": {
            "text/html": [
              "<div>\n",
              "<style scoped>\n",
              "    .dataframe tbody tr th:only-of-type {\n",
              "        vertical-align: middle;\n",
              "    }\n",
              "\n",
              "    .dataframe tbody tr th {\n",
              "        vertical-align: top;\n",
              "    }\n",
              "\n",
              "    .dataframe thead th {\n",
              "        text-align: right;\n",
              "    }\n",
              "</style>\n",
              "<table border=\"1\" class=\"dataframe\">\n",
              "  <thead>\n",
              "    <tr style=\"text-align: right;\">\n",
              "      <th></th>\n",
              "      <th>variable</th>\n",
              "      <th>value</th>\n",
              "    </tr>\n",
              "  </thead>\n",
              "  <tbody>\n",
              "    <tr>\n",
              "      <th>0</th>\n",
              "      <td>Genre</td>\n",
              "      <td>Action</td>\n",
              "    </tr>\n",
              "    <tr>\n",
              "      <th>1</th>\n",
              "      <td>Genre</td>\n",
              "      <td>Action</td>\n",
              "    </tr>\n",
              "    <tr>\n",
              "      <th>2</th>\n",
              "      <td>Genre</td>\n",
              "      <td>Action</td>\n",
              "    </tr>\n",
              "    <tr>\n",
              "      <th>3</th>\n",
              "      <td>Genre</td>\n",
              "      <td>Action</td>\n",
              "    </tr>\n",
              "    <tr>\n",
              "      <th>4</th>\n",
              "      <td>Genre</td>\n",
              "      <td>Adventure</td>\n",
              "    </tr>\n",
              "    <tr>\n",
              "      <th>5</th>\n",
              "      <td>Genre</td>\n",
              "      <td>Adventure</td>\n",
              "    </tr>\n",
              "    <tr>\n",
              "      <th>6</th>\n",
              "      <td>Genre</td>\n",
              "      <td>Comedy</td>\n",
              "    </tr>\n",
              "    <tr>\n",
              "      <th>7</th>\n",
              "      <td>Genre</td>\n",
              "      <td>Comedy</td>\n",
              "    </tr>\n",
              "    <tr>\n",
              "      <th>8</th>\n",
              "      <td>Genre</td>\n",
              "      <td>Comedy</td>\n",
              "    </tr>\n",
              "    <tr>\n",
              "      <th>9</th>\n",
              "      <td>Year</td>\n",
              "      <td>2008</td>\n",
              "    </tr>\n",
              "    <tr>\n",
              "      <th>10</th>\n",
              "      <td>Year</td>\n",
              "      <td>2009</td>\n",
              "    </tr>\n",
              "    <tr>\n",
              "      <th>11</th>\n",
              "      <td>Year</td>\n",
              "      <td>2008</td>\n",
              "    </tr>\n",
              "    <tr>\n",
              "      <th>12</th>\n",
              "      <td>Year</td>\n",
              "      <td>2010</td>\n",
              "    </tr>\n",
              "    <tr>\n",
              "      <th>13</th>\n",
              "      <td>Year</td>\n",
              "      <td>2009</td>\n",
              "    </tr>\n",
              "    <tr>\n",
              "      <th>14</th>\n",
              "      <td>Year</td>\n",
              "      <td>2010</td>\n",
              "    </tr>\n",
              "    <tr>\n",
              "      <th>15</th>\n",
              "      <td>Year</td>\n",
              "      <td>2010</td>\n",
              "    </tr>\n",
              "    <tr>\n",
              "      <th>16</th>\n",
              "      <td>Year</td>\n",
              "      <td>2008</td>\n",
              "    </tr>\n",
              "    <tr>\n",
              "      <th>17</th>\n",
              "      <td>Year</td>\n",
              "      <td>2009</td>\n",
              "    </tr>\n",
              "    <tr>\n",
              "      <th>18</th>\n",
              "      <td>Budget(MS)</td>\n",
              "      <td>28</td>\n",
              "    </tr>\n",
              "    <tr>\n",
              "      <th>19</th>\n",
              "      <td>Budget(MS)</td>\n",
              "      <td>200</td>\n",
              "    </tr>\n",
              "    <tr>\n",
              "      <th>20</th>\n",
              "      <td>Budget(MS)</td>\n",
              "      <td>32</td>\n",
              "    </tr>\n",
              "    <tr>\n",
              "      <th>21</th>\n",
              "      <td>Budget(MS)</td>\n",
              "      <td>20</td>\n",
              "    </tr>\n",
              "    <tr>\n",
              "      <th>22</th>\n",
              "      <td>Budget(MS)</td>\n",
              "      <td>18</td>\n",
              "    </tr>\n",
              "    <tr>\n",
              "      <th>23</th>\n",
              "      <td>Budget(MS)</td>\n",
              "      <td>105</td>\n",
              "    </tr>\n",
              "    <tr>\n",
              "      <th>24</th>\n",
              "      <td>Budget(MS)</td>\n",
              "      <td>20</td>\n",
              "    </tr>\n",
              "    <tr>\n",
              "      <th>25</th>\n",
              "      <td>Budget(MS)</td>\n",
              "      <td>8</td>\n",
              "    </tr>\n",
              "    <tr>\n",
              "      <th>26</th>\n",
              "      <td>Budget(MS)</td>\n",
              "      <td>30</td>\n",
              "    </tr>\n",
              "    <tr>\n",
              "      <th>27</th>\n",
              "      <td>Ratings %</td>\n",
              "      <td>48</td>\n",
              "    </tr>\n",
              "    <tr>\n",
              "      <th>28</th>\n",
              "      <td>Ratings %</td>\n",
              "      <td>63</td>\n",
              "    </tr>\n",
              "    <tr>\n",
              "      <th>29</th>\n",
              "      <td>Ratings %</td>\n",
              "      <td>57</td>\n",
              "    </tr>\n",
              "    <tr>\n",
              "      <th>30</th>\n",
              "      <td>Ratings %</td>\n",
              "      <td>52</td>\n",
              "    </tr>\n",
              "    <tr>\n",
              "      <th>31</th>\n",
              "      <td>Ratings %</td>\n",
              "      <td>84</td>\n",
              "    </tr>\n",
              "    <tr>\n",
              "      <th>32</th>\n",
              "      <td>Ratings %</td>\n",
              "      <td>44</td>\n",
              "    </tr>\n",
              "    <tr>\n",
              "      <th>33</th>\n",
              "      <td>Ratings %</td>\n",
              "      <td>70</td>\n",
              "    </tr>\n",
              "    <tr>\n",
              "      <th>34</th>\n",
              "      <td>Ratings %</td>\n",
              "      <td>81</td>\n",
              "    </tr>\n",
              "    <tr>\n",
              "      <th>35</th>\n",
              "      <td>Ratings %</td>\n",
              "      <td>71</td>\n",
              "    </tr>\n",
              "  </tbody>\n",
              "</table>\n",
              "</div>"
            ],
            "text/plain": [
              "      variable      value\n",
              "0        Genre     Action\n",
              "1        Genre     Action\n",
              "2        Genre     Action\n",
              "3        Genre     Action\n",
              "4        Genre  Adventure\n",
              "5        Genre  Adventure\n",
              "6        Genre     Comedy\n",
              "7        Genre     Comedy\n",
              "8        Genre     Comedy\n",
              "9         Year       2008\n",
              "10        Year       2009\n",
              "11        Year       2008\n",
              "12        Year       2010\n",
              "13        Year       2009\n",
              "14        Year       2010\n",
              "15        Year       2010\n",
              "16        Year       2008\n",
              "17        Year       2009\n",
              "18  Budget(MS)         28\n",
              "19  Budget(MS)        200\n",
              "20  Budget(MS)         32\n",
              "21  Budget(MS)         20\n",
              "22  Budget(MS)         18\n",
              "23  Budget(MS)        105\n",
              "24  Budget(MS)         20\n",
              "25  Budget(MS)          8\n",
              "26  Budget(MS)         30\n",
              "27   Ratings %         48\n",
              "28   Ratings %         63\n",
              "29   Ratings %         57\n",
              "30   Ratings %         52\n",
              "31   Ratings %         84\n",
              "32   Ratings %         44\n",
              "33   Ratings %         70\n",
              "34   Ratings %         81\n",
              "35   Ratings %         71"
            ]
          },
          "execution_count": 197,
          "metadata": {},
          "output_type": "execute_result"
        }
      ],
      "source": [
        "pd.melt(df)"
      ]
    },
    {
      "cell_type": "code",
      "execution_count": null,
      "id": "348d1a63",
      "metadata": {
        "id": "348d1a63",
        "outputId": "4b4ddd5a-c551-46a5-e1c1-d03dbbad39f1"
      },
      "outputs": [
        {
          "data": {
            "text/html": [
              "<div>\n",
              "<style scoped>\n",
              "    .dataframe tbody tr th:only-of-type {\n",
              "        vertical-align: middle;\n",
              "    }\n",
              "\n",
              "    .dataframe tbody tr th {\n",
              "        vertical-align: top;\n",
              "    }\n",
              "\n",
              "    .dataframe thead th {\n",
              "        text-align: right;\n",
              "    }\n",
              "</style>\n",
              "<table border=\"1\" class=\"dataframe\">\n",
              "  <thead>\n",
              "    <tr style=\"text-align: right;\">\n",
              "      <th></th>\n",
              "      <th>Genre</th>\n",
              "      <th>variable</th>\n",
              "      <th>value</th>\n",
              "    </tr>\n",
              "  </thead>\n",
              "  <tbody>\n",
              "    <tr>\n",
              "      <th>0</th>\n",
              "      <td>Action</td>\n",
              "      <td>Year</td>\n",
              "      <td>2008</td>\n",
              "    </tr>\n",
              "    <tr>\n",
              "      <th>1</th>\n",
              "      <td>Action</td>\n",
              "      <td>Year</td>\n",
              "      <td>2009</td>\n",
              "    </tr>\n",
              "    <tr>\n",
              "      <th>2</th>\n",
              "      <td>Action</td>\n",
              "      <td>Year</td>\n",
              "      <td>2008</td>\n",
              "    </tr>\n",
              "    <tr>\n",
              "      <th>3</th>\n",
              "      <td>Action</td>\n",
              "      <td>Year</td>\n",
              "      <td>2010</td>\n",
              "    </tr>\n",
              "    <tr>\n",
              "      <th>4</th>\n",
              "      <td>Adventure</td>\n",
              "      <td>Year</td>\n",
              "      <td>2009</td>\n",
              "    </tr>\n",
              "    <tr>\n",
              "      <th>5</th>\n",
              "      <td>Adventure</td>\n",
              "      <td>Year</td>\n",
              "      <td>2010</td>\n",
              "    </tr>\n",
              "    <tr>\n",
              "      <th>6</th>\n",
              "      <td>Comedy</td>\n",
              "      <td>Year</td>\n",
              "      <td>2010</td>\n",
              "    </tr>\n",
              "    <tr>\n",
              "      <th>7</th>\n",
              "      <td>Comedy</td>\n",
              "      <td>Year</td>\n",
              "      <td>2008</td>\n",
              "    </tr>\n",
              "    <tr>\n",
              "      <th>8</th>\n",
              "      <td>Comedy</td>\n",
              "      <td>Year</td>\n",
              "      <td>2009</td>\n",
              "    </tr>\n",
              "    <tr>\n",
              "      <th>9</th>\n",
              "      <td>Action</td>\n",
              "      <td>Budget(MS)</td>\n",
              "      <td>28</td>\n",
              "    </tr>\n",
              "    <tr>\n",
              "      <th>10</th>\n",
              "      <td>Action</td>\n",
              "      <td>Budget(MS)</td>\n",
              "      <td>200</td>\n",
              "    </tr>\n",
              "    <tr>\n",
              "      <th>11</th>\n",
              "      <td>Action</td>\n",
              "      <td>Budget(MS)</td>\n",
              "      <td>32</td>\n",
              "    </tr>\n",
              "    <tr>\n",
              "      <th>12</th>\n",
              "      <td>Action</td>\n",
              "      <td>Budget(MS)</td>\n",
              "      <td>20</td>\n",
              "    </tr>\n",
              "    <tr>\n",
              "      <th>13</th>\n",
              "      <td>Adventure</td>\n",
              "      <td>Budget(MS)</td>\n",
              "      <td>18</td>\n",
              "    </tr>\n",
              "    <tr>\n",
              "      <th>14</th>\n",
              "      <td>Adventure</td>\n",
              "      <td>Budget(MS)</td>\n",
              "      <td>105</td>\n",
              "    </tr>\n",
              "    <tr>\n",
              "      <th>15</th>\n",
              "      <td>Comedy</td>\n",
              "      <td>Budget(MS)</td>\n",
              "      <td>20</td>\n",
              "    </tr>\n",
              "    <tr>\n",
              "      <th>16</th>\n",
              "      <td>Comedy</td>\n",
              "      <td>Budget(MS)</td>\n",
              "      <td>8</td>\n",
              "    </tr>\n",
              "    <tr>\n",
              "      <th>17</th>\n",
              "      <td>Comedy</td>\n",
              "      <td>Budget(MS)</td>\n",
              "      <td>30</td>\n",
              "    </tr>\n",
              "    <tr>\n",
              "      <th>18</th>\n",
              "      <td>Action</td>\n",
              "      <td>Ratings %</td>\n",
              "      <td>48</td>\n",
              "    </tr>\n",
              "    <tr>\n",
              "      <th>19</th>\n",
              "      <td>Action</td>\n",
              "      <td>Ratings %</td>\n",
              "      <td>63</td>\n",
              "    </tr>\n",
              "    <tr>\n",
              "      <th>20</th>\n",
              "      <td>Action</td>\n",
              "      <td>Ratings %</td>\n",
              "      <td>57</td>\n",
              "    </tr>\n",
              "    <tr>\n",
              "      <th>21</th>\n",
              "      <td>Action</td>\n",
              "      <td>Ratings %</td>\n",
              "      <td>52</td>\n",
              "    </tr>\n",
              "    <tr>\n",
              "      <th>22</th>\n",
              "      <td>Adventure</td>\n",
              "      <td>Ratings %</td>\n",
              "      <td>84</td>\n",
              "    </tr>\n",
              "    <tr>\n",
              "      <th>23</th>\n",
              "      <td>Adventure</td>\n",
              "      <td>Ratings %</td>\n",
              "      <td>44</td>\n",
              "    </tr>\n",
              "    <tr>\n",
              "      <th>24</th>\n",
              "      <td>Comedy</td>\n",
              "      <td>Ratings %</td>\n",
              "      <td>70</td>\n",
              "    </tr>\n",
              "    <tr>\n",
              "      <th>25</th>\n",
              "      <td>Comedy</td>\n",
              "      <td>Ratings %</td>\n",
              "      <td>81</td>\n",
              "    </tr>\n",
              "    <tr>\n",
              "      <th>26</th>\n",
              "      <td>Comedy</td>\n",
              "      <td>Ratings %</td>\n",
              "      <td>71</td>\n",
              "    </tr>\n",
              "  </tbody>\n",
              "</table>\n",
              "</div>"
            ],
            "text/plain": [
              "        Genre    variable  value\n",
              "0      Action        Year   2008\n",
              "1      Action        Year   2009\n",
              "2      Action        Year   2008\n",
              "3      Action        Year   2010\n",
              "4   Adventure        Year   2009\n",
              "5   Adventure        Year   2010\n",
              "6      Comedy        Year   2010\n",
              "7      Comedy        Year   2008\n",
              "8      Comedy        Year   2009\n",
              "9      Action  Budget(MS)     28\n",
              "10     Action  Budget(MS)    200\n",
              "11     Action  Budget(MS)     32\n",
              "12     Action  Budget(MS)     20\n",
              "13  Adventure  Budget(MS)     18\n",
              "14  Adventure  Budget(MS)    105\n",
              "15     Comedy  Budget(MS)     20\n",
              "16     Comedy  Budget(MS)      8\n",
              "17     Comedy  Budget(MS)     30\n",
              "18     Action   Ratings %     48\n",
              "19     Action   Ratings %     63\n",
              "20     Action   Ratings %     57\n",
              "21     Action   Ratings %     52\n",
              "22  Adventure   Ratings %     84\n",
              "23  Adventure   Ratings %     44\n",
              "24     Comedy   Ratings %     70\n",
              "25     Comedy   Ratings %     81\n",
              "26     Comedy   Ratings %     71"
            ]
          },
          "execution_count": 198,
          "metadata": {},
          "output_type": "execute_result"
        }
      ],
      "source": [
        "pd.melt(df,id_vars = ['Genre'])"
      ]
    },
    {
      "cell_type": "code",
      "execution_count": null,
      "id": "0b76605c",
      "metadata": {
        "id": "0b76605c",
        "outputId": "a1cb07de-5589-432f-a59a-5cf79ccc12a1"
      },
      "outputs": [
        {
          "data": {
            "text/html": [
              "<div>\n",
              "<style scoped>\n",
              "    .dataframe tbody tr th:only-of-type {\n",
              "        vertical-align: middle;\n",
              "    }\n",
              "\n",
              "    .dataframe tbody tr th {\n",
              "        vertical-align: top;\n",
              "    }\n",
              "\n",
              "    .dataframe thead th {\n",
              "        text-align: right;\n",
              "    }\n",
              "</style>\n",
              "<table border=\"1\" class=\"dataframe\">\n",
              "  <thead>\n",
              "    <tr style=\"text-align: right;\">\n",
              "      <th></th>\n",
              "      <th>Year</th>\n",
              "      <th>variable</th>\n",
              "      <th>value</th>\n",
              "    </tr>\n",
              "  </thead>\n",
              "  <tbody>\n",
              "    <tr>\n",
              "      <th>0</th>\n",
              "      <td>2008</td>\n",
              "      <td>Genre</td>\n",
              "      <td>Action</td>\n",
              "    </tr>\n",
              "    <tr>\n",
              "      <th>1</th>\n",
              "      <td>2009</td>\n",
              "      <td>Genre</td>\n",
              "      <td>Action</td>\n",
              "    </tr>\n",
              "    <tr>\n",
              "      <th>2</th>\n",
              "      <td>2008</td>\n",
              "      <td>Genre</td>\n",
              "      <td>Action</td>\n",
              "    </tr>\n",
              "    <tr>\n",
              "      <th>3</th>\n",
              "      <td>2010</td>\n",
              "      <td>Genre</td>\n",
              "      <td>Action</td>\n",
              "    </tr>\n",
              "    <tr>\n",
              "      <th>4</th>\n",
              "      <td>2009</td>\n",
              "      <td>Genre</td>\n",
              "      <td>Adventure</td>\n",
              "    </tr>\n",
              "    <tr>\n",
              "      <th>5</th>\n",
              "      <td>2010</td>\n",
              "      <td>Genre</td>\n",
              "      <td>Adventure</td>\n",
              "    </tr>\n",
              "    <tr>\n",
              "      <th>6</th>\n",
              "      <td>2010</td>\n",
              "      <td>Genre</td>\n",
              "      <td>Comedy</td>\n",
              "    </tr>\n",
              "    <tr>\n",
              "      <th>7</th>\n",
              "      <td>2008</td>\n",
              "      <td>Genre</td>\n",
              "      <td>Comedy</td>\n",
              "    </tr>\n",
              "    <tr>\n",
              "      <th>8</th>\n",
              "      <td>2009</td>\n",
              "      <td>Genre</td>\n",
              "      <td>Comedy</td>\n",
              "    </tr>\n",
              "  </tbody>\n",
              "</table>\n",
              "</div>"
            ],
            "text/plain": [
              "   Year variable      value\n",
              "0  2008    Genre     Action\n",
              "1  2009    Genre     Action\n",
              "2  2008    Genre     Action\n",
              "3  2010    Genre     Action\n",
              "4  2009    Genre  Adventure\n",
              "5  2010    Genre  Adventure\n",
              "6  2010    Genre     Comedy\n",
              "7  2008    Genre     Comedy\n",
              "8  2009    Genre     Comedy"
            ]
          },
          "execution_count": 199,
          "metadata": {},
          "output_type": "execute_result"
        }
      ],
      "source": [
        "pd.melt(df,id_vars = ['Year'],value_vars = ['Genre'])"
      ]
    },
    {
      "cell_type": "code",
      "execution_count": null,
      "id": "1f94c458",
      "metadata": {
        "id": "1f94c458",
        "outputId": "aae63b57-9f3b-41ff-c82f-1f50cf289e07"
      },
      "outputs": [
        {
          "data": {
            "text/html": [
              "<div>\n",
              "<style scoped>\n",
              "    .dataframe tbody tr th:only-of-type {\n",
              "        vertical-align: middle;\n",
              "    }\n",
              "\n",
              "    .dataframe tbody tr th {\n",
              "        vertical-align: top;\n",
              "    }\n",
              "\n",
              "    .dataframe thead th {\n",
              "        text-align: right;\n",
              "    }\n",
              "</style>\n",
              "<table border=\"1\" class=\"dataframe\">\n",
              "  <thead>\n",
              "    <tr style=\"text-align: right;\">\n",
              "      <th></th>\n",
              "      <th>Year</th>\n",
              "      <th>variable</th>\n",
              "      <th>value</th>\n",
              "    </tr>\n",
              "  </thead>\n",
              "  <tbody>\n",
              "    <tr>\n",
              "      <th>0</th>\n",
              "      <td>2008</td>\n",
              "      <td>Ratings %</td>\n",
              "      <td>48</td>\n",
              "    </tr>\n",
              "    <tr>\n",
              "      <th>1</th>\n",
              "      <td>2009</td>\n",
              "      <td>Ratings %</td>\n",
              "      <td>63</td>\n",
              "    </tr>\n",
              "    <tr>\n",
              "      <th>2</th>\n",
              "      <td>2008</td>\n",
              "      <td>Ratings %</td>\n",
              "      <td>57</td>\n",
              "    </tr>\n",
              "    <tr>\n",
              "      <th>3</th>\n",
              "      <td>2010</td>\n",
              "      <td>Ratings %</td>\n",
              "      <td>52</td>\n",
              "    </tr>\n",
              "    <tr>\n",
              "      <th>4</th>\n",
              "      <td>2009</td>\n",
              "      <td>Ratings %</td>\n",
              "      <td>84</td>\n",
              "    </tr>\n",
              "    <tr>\n",
              "      <th>5</th>\n",
              "      <td>2010</td>\n",
              "      <td>Ratings %</td>\n",
              "      <td>44</td>\n",
              "    </tr>\n",
              "    <tr>\n",
              "      <th>6</th>\n",
              "      <td>2010</td>\n",
              "      <td>Ratings %</td>\n",
              "      <td>70</td>\n",
              "    </tr>\n",
              "    <tr>\n",
              "      <th>7</th>\n",
              "      <td>2008</td>\n",
              "      <td>Ratings %</td>\n",
              "      <td>81</td>\n",
              "    </tr>\n",
              "    <tr>\n",
              "      <th>8</th>\n",
              "      <td>2009</td>\n",
              "      <td>Ratings %</td>\n",
              "      <td>71</td>\n",
              "    </tr>\n",
              "  </tbody>\n",
              "</table>\n",
              "</div>"
            ],
            "text/plain": [
              "   Year   variable  value\n",
              "0  2008  Ratings %     48\n",
              "1  2009  Ratings %     63\n",
              "2  2008  Ratings %     57\n",
              "3  2010  Ratings %     52\n",
              "4  2009  Ratings %     84\n",
              "5  2010  Ratings %     44\n",
              "6  2010  Ratings %     70\n",
              "7  2008  Ratings %     81\n",
              "8  2009  Ratings %     71"
            ]
          },
          "execution_count": 200,
          "metadata": {},
          "output_type": "execute_result"
        }
      ],
      "source": [
        "pd.melt(df,id_vars = ['Year'],value_vars = ['Ratings %'])"
      ]
    },
    {
      "cell_type": "code",
      "execution_count": null,
      "id": "650f2e0f",
      "metadata": {
        "id": "650f2e0f",
        "outputId": "6bace263-52be-4e9b-9b03-44fb835e1ddf"
      },
      "outputs": [
        {
          "data": {
            "text/html": [
              "<div>\n",
              "<style scoped>\n",
              "    .dataframe tbody tr th:only-of-type {\n",
              "        vertical-align: middle;\n",
              "    }\n",
              "\n",
              "    .dataframe tbody tr th {\n",
              "        vertical-align: top;\n",
              "    }\n",
              "\n",
              "    .dataframe thead th {\n",
              "        text-align: right;\n",
              "    }\n",
              "</style>\n",
              "<table border=\"1\" class=\"dataframe\">\n",
              "  <thead>\n",
              "    <tr style=\"text-align: right;\">\n",
              "      <th></th>\n",
              "      <th>Year</th>\n",
              "      <th>Category</th>\n",
              "      <th>Data</th>\n",
              "    </tr>\n",
              "  </thead>\n",
              "  <tbody>\n",
              "    <tr>\n",
              "      <th>0</th>\n",
              "      <td>2008</td>\n",
              "      <td>Ratings %</td>\n",
              "      <td>48</td>\n",
              "    </tr>\n",
              "    <tr>\n",
              "      <th>1</th>\n",
              "      <td>2009</td>\n",
              "      <td>Ratings %</td>\n",
              "      <td>63</td>\n",
              "    </tr>\n",
              "    <tr>\n",
              "      <th>2</th>\n",
              "      <td>2008</td>\n",
              "      <td>Ratings %</td>\n",
              "      <td>57</td>\n",
              "    </tr>\n",
              "    <tr>\n",
              "      <th>3</th>\n",
              "      <td>2010</td>\n",
              "      <td>Ratings %</td>\n",
              "      <td>52</td>\n",
              "    </tr>\n",
              "    <tr>\n",
              "      <th>4</th>\n",
              "      <td>2009</td>\n",
              "      <td>Ratings %</td>\n",
              "      <td>84</td>\n",
              "    </tr>\n",
              "    <tr>\n",
              "      <th>5</th>\n",
              "      <td>2010</td>\n",
              "      <td>Ratings %</td>\n",
              "      <td>44</td>\n",
              "    </tr>\n",
              "    <tr>\n",
              "      <th>6</th>\n",
              "      <td>2010</td>\n",
              "      <td>Ratings %</td>\n",
              "      <td>70</td>\n",
              "    </tr>\n",
              "    <tr>\n",
              "      <th>7</th>\n",
              "      <td>2008</td>\n",
              "      <td>Ratings %</td>\n",
              "      <td>81</td>\n",
              "    </tr>\n",
              "    <tr>\n",
              "      <th>8</th>\n",
              "      <td>2009</td>\n",
              "      <td>Ratings %</td>\n",
              "      <td>71</td>\n",
              "    </tr>\n",
              "  </tbody>\n",
              "</table>\n",
              "</div>"
            ],
            "text/plain": [
              "   Year   Category  Data\n",
              "0  2008  Ratings %    48\n",
              "1  2009  Ratings %    63\n",
              "2  2008  Ratings %    57\n",
              "3  2010  Ratings %    52\n",
              "4  2009  Ratings %    84\n",
              "5  2010  Ratings %    44\n",
              "6  2010  Ratings %    70\n",
              "7  2008  Ratings %    81\n",
              "8  2009  Ratings %    71"
            ]
          },
          "execution_count": 201,
          "metadata": {},
          "output_type": "execute_result"
        }
      ],
      "source": [
        "pd.melt(df,id_vars = ['Year'],value_vars = ['Ratings %'],var_name = 'Category',value_name = 'Data')"
      ]
    },
    {
      "cell_type": "markdown",
      "id": "20a05db1",
      "metadata": {
        "id": "20a05db1"
      },
      "source": [
        "***DatetimeIndex***"
      ]
    },
    {
      "cell_type": "code",
      "execution_count": null,
      "id": "2ccfa86f",
      "metadata": {
        "id": "2ccfa86f"
      },
      "outputs": [],
      "source": [
        "df = pd.read_csv('C:\\\\Users\\Chandrakant\\Downloads\\Pandas\\VC_Starups.csv', parse_dates = ['Date'])"
      ]
    },
    {
      "cell_type": "code",
      "execution_count": null,
      "id": "f24c6881",
      "metadata": {
        "id": "f24c6881",
        "outputId": "0afe0fe5-9a71-4f83-8a79-7667a0d95090"
      },
      "outputs": [
        {
          "data": {
            "text/plain": [
              "Date               datetime64[ns]\n",
              "R&D Spend                   int64\n",
              "Marketing Spend             int64\n",
              "Profit                      int64\n",
              "dtype: object"
            ]
          },
          "execution_count": 203,
          "metadata": {},
          "output_type": "execute_result"
        }
      ],
      "source": [
        "df.dtypes"
      ]
    },
    {
      "cell_type": "code",
      "execution_count": null,
      "id": "8736ab6c",
      "metadata": {
        "id": "8736ab6c",
        "outputId": "0bca83d0-1c17-4a6a-f32a-79c0d9bfbb26"
      },
      "outputs": [
        {
          "data": {
            "text/plain": [
              "pandas._libs.tslibs.timestamps.Timestamp"
            ]
          },
          "execution_count": 204,
          "metadata": {},
          "output_type": "execute_result"
        }
      ],
      "source": [
        "type(df.Date[0])"
      ]
    },
    {
      "cell_type": "markdown",
      "id": "1a710f81",
      "metadata": {
        "id": "1a710f81"
      },
      "source": [
        "# "
      ]
    },
    {
      "cell_type": "markdown",
      "id": "13ca7a4d",
      "metadata": {
        "id": "13ca7a4d"
      },
      "source": [
        "# CampusX"
      ]
    },
    {
      "cell_type": "code",
      "execution_count": null,
      "id": "35281392",
      "metadata": {
        "id": "35281392"
      },
      "outputs": [],
      "source": [
        "import numpy as np\n",
        "import pandas as pd"
      ]
    },
    {
      "cell_type": "code",
      "execution_count": null,
      "id": "9b4b388e",
      "metadata": {
        "id": "9b4b388e",
        "outputId": "8709a71e-0e6f-4605-f29b-c2c875b0d2c9"
      },
      "outputs": [
        {
          "data": {
            "text/html": [
              "<div>\n",
              "<style scoped>\n",
              "    .dataframe tbody tr th:only-of-type {\n",
              "        vertical-align: middle;\n",
              "    }\n",
              "\n",
              "    .dataframe tbody tr th {\n",
              "        vertical-align: top;\n",
              "    }\n",
              "\n",
              "    .dataframe thead th {\n",
              "        text-align: right;\n",
              "    }\n",
              "</style>\n",
              "<table border=\"1\" class=\"dataframe\">\n",
              "  <thead>\n",
              "    <tr style=\"text-align: right;\">\n",
              "      <th></th>\n",
              "      <th>id</th>\n",
              "      <th>season</th>\n",
              "      <th>city</th>\n",
              "      <th>date</th>\n",
              "      <th>team1</th>\n",
              "      <th>team2</th>\n",
              "      <th>toss_winner</th>\n",
              "      <th>toss_decision</th>\n",
              "      <th>result</th>\n",
              "      <th>dl_applied</th>\n",
              "      <th>winner</th>\n",
              "      <th>win_by_runs</th>\n",
              "      <th>win_by_wickets</th>\n",
              "      <th>player_of_match</th>\n",
              "      <th>venue</th>\n",
              "      <th>umpire1</th>\n",
              "      <th>umpire2</th>\n",
              "      <th>umpire3</th>\n",
              "    </tr>\n",
              "  </thead>\n",
              "  <tbody>\n",
              "    <tr>\n",
              "      <th>0</th>\n",
              "      <td>1</td>\n",
              "      <td>2017</td>\n",
              "      <td>Hyderabad</td>\n",
              "      <td>2017-04-05</td>\n",
              "      <td>Sunrisers Hyderabad</td>\n",
              "      <td>Royal Challengers Bangalore</td>\n",
              "      <td>Royal Challengers Bangalore</td>\n",
              "      <td>field</td>\n",
              "      <td>normal</td>\n",
              "      <td>0</td>\n",
              "      <td>Sunrisers Hyderabad</td>\n",
              "      <td>35</td>\n",
              "      <td>0</td>\n",
              "      <td>Yuvraj Singh</td>\n",
              "      <td>Rajiv Gandhi International Stadium, Uppal</td>\n",
              "      <td>AY Dandekar</td>\n",
              "      <td>NJ Llong</td>\n",
              "      <td>NaN</td>\n",
              "    </tr>\n",
              "    <tr>\n",
              "      <th>1</th>\n",
              "      <td>2</td>\n",
              "      <td>2017</td>\n",
              "      <td>Pune</td>\n",
              "      <td>2017-04-06</td>\n",
              "      <td>Mumbai Indians</td>\n",
              "      <td>Rising Pune Supergiant</td>\n",
              "      <td>Rising Pune Supergiant</td>\n",
              "      <td>field</td>\n",
              "      <td>normal</td>\n",
              "      <td>0</td>\n",
              "      <td>Rising Pune Supergiant</td>\n",
              "      <td>0</td>\n",
              "      <td>7</td>\n",
              "      <td>SPD Smith</td>\n",
              "      <td>Maharashtra Cricket Association Stadium</td>\n",
              "      <td>A Nand Kishore</td>\n",
              "      <td>S Ravi</td>\n",
              "      <td>NaN</td>\n",
              "    </tr>\n",
              "    <tr>\n",
              "      <th>2</th>\n",
              "      <td>3</td>\n",
              "      <td>2017</td>\n",
              "      <td>Rajkot</td>\n",
              "      <td>2017-04-07</td>\n",
              "      <td>Gujarat Lions</td>\n",
              "      <td>Kolkata Knight Riders</td>\n",
              "      <td>Kolkata Knight Riders</td>\n",
              "      <td>field</td>\n",
              "      <td>normal</td>\n",
              "      <td>0</td>\n",
              "      <td>Kolkata Knight Riders</td>\n",
              "      <td>0</td>\n",
              "      <td>10</td>\n",
              "      <td>CA Lynn</td>\n",
              "      <td>Saurashtra Cricket Association Stadium</td>\n",
              "      <td>Nitin Menon</td>\n",
              "      <td>CK Nandan</td>\n",
              "      <td>NaN</td>\n",
              "    </tr>\n",
              "    <tr>\n",
              "      <th>3</th>\n",
              "      <td>4</td>\n",
              "      <td>2017</td>\n",
              "      <td>Indore</td>\n",
              "      <td>2017-04-08</td>\n",
              "      <td>Rising Pune Supergiant</td>\n",
              "      <td>Kings XI Punjab</td>\n",
              "      <td>Kings XI Punjab</td>\n",
              "      <td>field</td>\n",
              "      <td>normal</td>\n",
              "      <td>0</td>\n",
              "      <td>Kings XI Punjab</td>\n",
              "      <td>0</td>\n",
              "      <td>6</td>\n",
              "      <td>GJ Maxwell</td>\n",
              "      <td>Holkar Cricket Stadium</td>\n",
              "      <td>AK Chaudhary</td>\n",
              "      <td>C Shamshuddin</td>\n",
              "      <td>NaN</td>\n",
              "    </tr>\n",
              "    <tr>\n",
              "      <th>4</th>\n",
              "      <td>5</td>\n",
              "      <td>2017</td>\n",
              "      <td>Bangalore</td>\n",
              "      <td>2017-04-08</td>\n",
              "      <td>Royal Challengers Bangalore</td>\n",
              "      <td>Delhi Daredevils</td>\n",
              "      <td>Royal Challengers Bangalore</td>\n",
              "      <td>bat</td>\n",
              "      <td>normal</td>\n",
              "      <td>0</td>\n",
              "      <td>Royal Challengers Bangalore</td>\n",
              "      <td>15</td>\n",
              "      <td>0</td>\n",
              "      <td>KM Jadhav</td>\n",
              "      <td>M Chinnaswamy Stadium</td>\n",
              "      <td>NaN</td>\n",
              "      <td>NaN</td>\n",
              "      <td>NaN</td>\n",
              "    </tr>\n",
              "  </tbody>\n",
              "</table>\n",
              "</div>"
            ],
            "text/plain": [
              "   id  season       city        date                        team1  \\\n",
              "0   1    2017  Hyderabad  2017-04-05          Sunrisers Hyderabad   \n",
              "1   2    2017       Pune  2017-04-06               Mumbai Indians   \n",
              "2   3    2017     Rajkot  2017-04-07                Gujarat Lions   \n",
              "3   4    2017     Indore  2017-04-08       Rising Pune Supergiant   \n",
              "4   5    2017  Bangalore  2017-04-08  Royal Challengers Bangalore   \n",
              "\n",
              "                         team2                  toss_winner toss_decision  \\\n",
              "0  Royal Challengers Bangalore  Royal Challengers Bangalore         field   \n",
              "1       Rising Pune Supergiant       Rising Pune Supergiant         field   \n",
              "2        Kolkata Knight Riders        Kolkata Knight Riders         field   \n",
              "3              Kings XI Punjab              Kings XI Punjab         field   \n",
              "4             Delhi Daredevils  Royal Challengers Bangalore           bat   \n",
              "\n",
              "   result  dl_applied                       winner  win_by_runs  \\\n",
              "0  normal           0          Sunrisers Hyderabad           35   \n",
              "1  normal           0       Rising Pune Supergiant            0   \n",
              "2  normal           0        Kolkata Knight Riders            0   \n",
              "3  normal           0              Kings XI Punjab            0   \n",
              "4  normal           0  Royal Challengers Bangalore           15   \n",
              "\n",
              "   win_by_wickets player_of_match                                      venue  \\\n",
              "0               0    Yuvraj Singh  Rajiv Gandhi International Stadium, Uppal   \n",
              "1               7       SPD Smith    Maharashtra Cricket Association Stadium   \n",
              "2              10         CA Lynn     Saurashtra Cricket Association Stadium   \n",
              "3               6      GJ Maxwell                     Holkar Cricket Stadium   \n",
              "4               0       KM Jadhav                      M Chinnaswamy Stadium   \n",
              "\n",
              "          umpire1        umpire2  umpire3  \n",
              "0     AY Dandekar       NJ Llong      NaN  \n",
              "1  A Nand Kishore         S Ravi      NaN  \n",
              "2     Nitin Menon      CK Nandan      NaN  \n",
              "3    AK Chaudhary  C Shamshuddin      NaN  \n",
              "4             NaN            NaN      NaN  "
            ]
          },
          "execution_count": 206,
          "metadata": {},
          "output_type": "execute_result"
        }
      ],
      "source": [
        "data = pd.read_csv('C:\\\\Users\\Chandrakant\\Downloads\\Pandas\\matches.csv')\n",
        "data.head()"
      ]
    },
    {
      "cell_type": "code",
      "execution_count": null,
      "id": "d488fc4b",
      "metadata": {
        "id": "d488fc4b",
        "outputId": "2e6dfbef-e439-4ee0-c69b-7f07bd65f466"
      },
      "outputs": [
        {
          "data": {
            "text/plain": [
              "pandas.core.frame.DataFrame"
            ]
          },
          "execution_count": 207,
          "metadata": {},
          "output_type": "execute_result"
        }
      ],
      "source": [
        "type(data)"
      ]
    },
    {
      "cell_type": "code",
      "execution_count": null,
      "id": "9d84e0d9",
      "metadata": {
        "id": "9d84e0d9",
        "outputId": "72a38190-4615-4695-e77f-7ee6ba33f6e3"
      },
      "outputs": [
        {
          "data": {
            "text/html": [
              "<div>\n",
              "<style scoped>\n",
              "    .dataframe tbody tr th:only-of-type {\n",
              "        vertical-align: middle;\n",
              "    }\n",
              "\n",
              "    .dataframe tbody tr th {\n",
              "        vertical-align: top;\n",
              "    }\n",
              "\n",
              "    .dataframe thead th {\n",
              "        text-align: right;\n",
              "    }\n",
              "</style>\n",
              "<table border=\"1\" class=\"dataframe\">\n",
              "  <thead>\n",
              "    <tr style=\"text-align: right;\">\n",
              "      <th></th>\n",
              "      <th>id</th>\n",
              "      <th>season</th>\n",
              "      <th>city</th>\n",
              "      <th>date</th>\n",
              "      <th>team1</th>\n",
              "      <th>team2</th>\n",
              "      <th>toss_winner</th>\n",
              "      <th>toss_decision</th>\n",
              "      <th>result</th>\n",
              "      <th>dl_applied</th>\n",
              "      <th>winner</th>\n",
              "      <th>win_by_runs</th>\n",
              "      <th>win_by_wickets</th>\n",
              "      <th>player_of_match</th>\n",
              "      <th>venue</th>\n",
              "      <th>umpire1</th>\n",
              "      <th>umpire2</th>\n",
              "      <th>umpire3</th>\n",
              "    </tr>\n",
              "  </thead>\n",
              "  <tbody>\n",
              "    <tr>\n",
              "      <th>631</th>\n",
              "      <td>632</td>\n",
              "      <td>2016</td>\n",
              "      <td>Raipur</td>\n",
              "      <td>2016-05-22</td>\n",
              "      <td>Delhi Daredevils</td>\n",
              "      <td>Royal Challengers Bangalore</td>\n",
              "      <td>Royal Challengers Bangalore</td>\n",
              "      <td>field</td>\n",
              "      <td>normal</td>\n",
              "      <td>0</td>\n",
              "      <td>Royal Challengers Bangalore</td>\n",
              "      <td>0</td>\n",
              "      <td>6</td>\n",
              "      <td>V Kohli</td>\n",
              "      <td>Shaheed Veer Narayan Singh International Stadium</td>\n",
              "      <td>A Nand Kishore</td>\n",
              "      <td>BNJ Oxenford</td>\n",
              "      <td>NaN</td>\n",
              "    </tr>\n",
              "    <tr>\n",
              "      <th>632</th>\n",
              "      <td>633</td>\n",
              "      <td>2016</td>\n",
              "      <td>Bangalore</td>\n",
              "      <td>2016-05-24</td>\n",
              "      <td>Gujarat Lions</td>\n",
              "      <td>Royal Challengers Bangalore</td>\n",
              "      <td>Royal Challengers Bangalore</td>\n",
              "      <td>field</td>\n",
              "      <td>normal</td>\n",
              "      <td>0</td>\n",
              "      <td>Royal Challengers Bangalore</td>\n",
              "      <td>0</td>\n",
              "      <td>4</td>\n",
              "      <td>AB de Villiers</td>\n",
              "      <td>M Chinnaswamy Stadium</td>\n",
              "      <td>AK Chaudhary</td>\n",
              "      <td>HDPK Dharmasena</td>\n",
              "      <td>NaN</td>\n",
              "    </tr>\n",
              "    <tr>\n",
              "      <th>633</th>\n",
              "      <td>634</td>\n",
              "      <td>2016</td>\n",
              "      <td>Delhi</td>\n",
              "      <td>2016-05-25</td>\n",
              "      <td>Sunrisers Hyderabad</td>\n",
              "      <td>Kolkata Knight Riders</td>\n",
              "      <td>Kolkata Knight Riders</td>\n",
              "      <td>field</td>\n",
              "      <td>normal</td>\n",
              "      <td>0</td>\n",
              "      <td>Sunrisers Hyderabad</td>\n",
              "      <td>22</td>\n",
              "      <td>0</td>\n",
              "      <td>MC Henriques</td>\n",
              "      <td>Feroz Shah Kotla</td>\n",
              "      <td>M Erasmus</td>\n",
              "      <td>C Shamshuddin</td>\n",
              "      <td>NaN</td>\n",
              "    </tr>\n",
              "    <tr>\n",
              "      <th>634</th>\n",
              "      <td>635</td>\n",
              "      <td>2016</td>\n",
              "      <td>Delhi</td>\n",
              "      <td>2016-05-27</td>\n",
              "      <td>Gujarat Lions</td>\n",
              "      <td>Sunrisers Hyderabad</td>\n",
              "      <td>Sunrisers Hyderabad</td>\n",
              "      <td>field</td>\n",
              "      <td>normal</td>\n",
              "      <td>0</td>\n",
              "      <td>Sunrisers Hyderabad</td>\n",
              "      <td>0</td>\n",
              "      <td>4</td>\n",
              "      <td>DA Warner</td>\n",
              "      <td>Feroz Shah Kotla</td>\n",
              "      <td>M Erasmus</td>\n",
              "      <td>CK Nandan</td>\n",
              "      <td>NaN</td>\n",
              "    </tr>\n",
              "    <tr>\n",
              "      <th>635</th>\n",
              "      <td>636</td>\n",
              "      <td>2016</td>\n",
              "      <td>Bangalore</td>\n",
              "      <td>2016-05-29</td>\n",
              "      <td>Sunrisers Hyderabad</td>\n",
              "      <td>Royal Challengers Bangalore</td>\n",
              "      <td>Sunrisers Hyderabad</td>\n",
              "      <td>bat</td>\n",
              "      <td>normal</td>\n",
              "      <td>0</td>\n",
              "      <td>Sunrisers Hyderabad</td>\n",
              "      <td>8</td>\n",
              "      <td>0</td>\n",
              "      <td>BCJ Cutting</td>\n",
              "      <td>M Chinnaswamy Stadium</td>\n",
              "      <td>HDPK Dharmasena</td>\n",
              "      <td>BNJ Oxenford</td>\n",
              "      <td>NaN</td>\n",
              "    </tr>\n",
              "  </tbody>\n",
              "</table>\n",
              "</div>"
            ],
            "text/plain": [
              "      id  season       city        date                team1  \\\n",
              "631  632    2016     Raipur  2016-05-22     Delhi Daredevils   \n",
              "632  633    2016  Bangalore  2016-05-24        Gujarat Lions   \n",
              "633  634    2016      Delhi  2016-05-25  Sunrisers Hyderabad   \n",
              "634  635    2016      Delhi  2016-05-27        Gujarat Lions   \n",
              "635  636    2016  Bangalore  2016-05-29  Sunrisers Hyderabad   \n",
              "\n",
              "                           team2                  toss_winner toss_decision  \\\n",
              "631  Royal Challengers Bangalore  Royal Challengers Bangalore         field   \n",
              "632  Royal Challengers Bangalore  Royal Challengers Bangalore         field   \n",
              "633        Kolkata Knight Riders        Kolkata Knight Riders         field   \n",
              "634          Sunrisers Hyderabad          Sunrisers Hyderabad         field   \n",
              "635  Royal Challengers Bangalore          Sunrisers Hyderabad           bat   \n",
              "\n",
              "     result  dl_applied                       winner  win_by_runs  \\\n",
              "631  normal           0  Royal Challengers Bangalore            0   \n",
              "632  normal           0  Royal Challengers Bangalore            0   \n",
              "633  normal           0          Sunrisers Hyderabad           22   \n",
              "634  normal           0          Sunrisers Hyderabad            0   \n",
              "635  normal           0          Sunrisers Hyderabad            8   \n",
              "\n",
              "     win_by_wickets player_of_match  \\\n",
              "631               6         V Kohli   \n",
              "632               4  AB de Villiers   \n",
              "633               0    MC Henriques   \n",
              "634               4       DA Warner   \n",
              "635               0     BCJ Cutting   \n",
              "\n",
              "                                                venue          umpire1  \\\n",
              "631  Shaheed Veer Narayan Singh International Stadium   A Nand Kishore   \n",
              "632                             M Chinnaswamy Stadium     AK Chaudhary   \n",
              "633                                  Feroz Shah Kotla        M Erasmus   \n",
              "634                                  Feroz Shah Kotla        M Erasmus   \n",
              "635                             M Chinnaswamy Stadium  HDPK Dharmasena   \n",
              "\n",
              "             umpire2  umpire3  \n",
              "631     BNJ Oxenford      NaN  \n",
              "632  HDPK Dharmasena      NaN  \n",
              "633    C Shamshuddin      NaN  \n",
              "634        CK Nandan      NaN  \n",
              "635     BNJ Oxenford      NaN  "
            ]
          },
          "execution_count": 208,
          "metadata": {},
          "output_type": "execute_result"
        }
      ],
      "source": [
        "data.tail()"
      ]
    },
    {
      "cell_type": "code",
      "execution_count": null,
      "id": "ed13894a",
      "metadata": {
        "id": "ed13894a",
        "outputId": "9b9a5547-d708-49d1-d41b-44a8dfe13b7d"
      },
      "outputs": [
        {
          "data": {
            "text/plain": [
              "(636, 18)"
            ]
          },
          "execution_count": 209,
          "metadata": {},
          "output_type": "execute_result"
        }
      ],
      "source": [
        "data.shape #Rows_Columns"
      ]
    },
    {
      "cell_type": "code",
      "execution_count": null,
      "id": "090ee13c",
      "metadata": {
        "id": "090ee13c",
        "outputId": "1d574b2b-7f2e-41d8-e44b-7619bd9273c3"
      },
      "outputs": [
        {
          "name": "stdout",
          "output_type": "stream",
          "text": [
            "<class 'pandas.core.frame.DataFrame'>\n",
            "RangeIndex: 636 entries, 0 to 635\n",
            "Data columns (total 18 columns):\n",
            " #   Column           Non-Null Count  Dtype  \n",
            "---  ------           --------------  -----  \n",
            " 0   id               636 non-null    int64  \n",
            " 1   season           636 non-null    int64  \n",
            " 2   city             629 non-null    object \n",
            " 3   date             636 non-null    object \n",
            " 4   team1            636 non-null    object \n",
            " 5   team2            636 non-null    object \n",
            " 6   toss_winner      636 non-null    object \n",
            " 7   toss_decision    636 non-null    object \n",
            " 8   result           636 non-null    object \n",
            " 9   dl_applied       636 non-null    int64  \n",
            " 10  winner           633 non-null    object \n",
            " 11  win_by_runs      636 non-null    int64  \n",
            " 12  win_by_wickets   636 non-null    int64  \n",
            " 13  player_of_match  633 non-null    object \n",
            " 14  venue            636 non-null    object \n",
            " 15  umpire1          635 non-null    object \n",
            " 16  umpire2          635 non-null    object \n",
            " 17  umpire3          0 non-null      float64\n",
            "dtypes: float64(1), int64(5), object(12)\n",
            "memory usage: 89.6+ KB\n"
          ]
        }
      ],
      "source": [
        "data.info()"
      ]
    },
    {
      "cell_type": "code",
      "execution_count": null,
      "id": "d4ff1223",
      "metadata": {
        "id": "d4ff1223",
        "outputId": "6ef5ff7b-6665-460c-c7b8-2fc8ed4ea65e"
      },
      "outputs": [
        {
          "data": {
            "text/html": [
              "<div>\n",
              "<style scoped>\n",
              "    .dataframe tbody tr th:only-of-type {\n",
              "        vertical-align: middle;\n",
              "    }\n",
              "\n",
              "    .dataframe tbody tr th {\n",
              "        vertical-align: top;\n",
              "    }\n",
              "\n",
              "    .dataframe thead th {\n",
              "        text-align: right;\n",
              "    }\n",
              "</style>\n",
              "<table border=\"1\" class=\"dataframe\">\n",
              "  <thead>\n",
              "    <tr style=\"text-align: right;\">\n",
              "      <th></th>\n",
              "      <th>id</th>\n",
              "      <th>season</th>\n",
              "      <th>dl_applied</th>\n",
              "      <th>win_by_runs</th>\n",
              "      <th>win_by_wickets</th>\n",
              "      <th>umpire3</th>\n",
              "    </tr>\n",
              "  </thead>\n",
              "  <tbody>\n",
              "    <tr>\n",
              "      <th>count</th>\n",
              "      <td>636.000000</td>\n",
              "      <td>636.000000</td>\n",
              "      <td>636.000000</td>\n",
              "      <td>636.000000</td>\n",
              "      <td>636.000000</td>\n",
              "      <td>0.0</td>\n",
              "    </tr>\n",
              "    <tr>\n",
              "      <th>mean</th>\n",
              "      <td>318.500000</td>\n",
              "      <td>2012.490566</td>\n",
              "      <td>0.025157</td>\n",
              "      <td>13.682390</td>\n",
              "      <td>3.372642</td>\n",
              "      <td>NaN</td>\n",
              "    </tr>\n",
              "    <tr>\n",
              "      <th>std</th>\n",
              "      <td>183.741666</td>\n",
              "      <td>2.773026</td>\n",
              "      <td>0.156726</td>\n",
              "      <td>23.908877</td>\n",
              "      <td>3.420338</td>\n",
              "      <td>NaN</td>\n",
              "    </tr>\n",
              "    <tr>\n",
              "      <th>min</th>\n",
              "      <td>1.000000</td>\n",
              "      <td>2008.000000</td>\n",
              "      <td>0.000000</td>\n",
              "      <td>0.000000</td>\n",
              "      <td>0.000000</td>\n",
              "      <td>NaN</td>\n",
              "    </tr>\n",
              "    <tr>\n",
              "      <th>25%</th>\n",
              "      <td>159.750000</td>\n",
              "      <td>2010.000000</td>\n",
              "      <td>0.000000</td>\n",
              "      <td>0.000000</td>\n",
              "      <td>0.000000</td>\n",
              "      <td>NaN</td>\n",
              "    </tr>\n",
              "    <tr>\n",
              "      <th>50%</th>\n",
              "      <td>318.500000</td>\n",
              "      <td>2012.000000</td>\n",
              "      <td>0.000000</td>\n",
              "      <td>0.000000</td>\n",
              "      <td>4.000000</td>\n",
              "      <td>NaN</td>\n",
              "    </tr>\n",
              "    <tr>\n",
              "      <th>75%</th>\n",
              "      <td>477.250000</td>\n",
              "      <td>2015.000000</td>\n",
              "      <td>0.000000</td>\n",
              "      <td>20.000000</td>\n",
              "      <td>7.000000</td>\n",
              "      <td>NaN</td>\n",
              "    </tr>\n",
              "    <tr>\n",
              "      <th>max</th>\n",
              "      <td>636.000000</td>\n",
              "      <td>2017.000000</td>\n",
              "      <td>1.000000</td>\n",
              "      <td>146.000000</td>\n",
              "      <td>10.000000</td>\n",
              "      <td>NaN</td>\n",
              "    </tr>\n",
              "  </tbody>\n",
              "</table>\n",
              "</div>"
            ],
            "text/plain": [
              "               id       season  dl_applied  win_by_runs  win_by_wickets  \\\n",
              "count  636.000000   636.000000  636.000000   636.000000      636.000000   \n",
              "mean   318.500000  2012.490566    0.025157    13.682390        3.372642   \n",
              "std    183.741666     2.773026    0.156726    23.908877        3.420338   \n",
              "min      1.000000  2008.000000    0.000000     0.000000        0.000000   \n",
              "25%    159.750000  2010.000000    0.000000     0.000000        0.000000   \n",
              "50%    318.500000  2012.000000    0.000000     0.000000        4.000000   \n",
              "75%    477.250000  2015.000000    0.000000    20.000000        7.000000   \n",
              "max    636.000000  2017.000000    1.000000   146.000000       10.000000   \n",
              "\n",
              "       umpire3  \n",
              "count      0.0  \n",
              "mean       NaN  \n",
              "std        NaN  \n",
              "min        NaN  \n",
              "25%        NaN  \n",
              "50%        NaN  \n",
              "75%        NaN  \n",
              "max        NaN  "
            ]
          },
          "execution_count": 211,
          "metadata": {},
          "output_type": "execute_result"
        }
      ],
      "source": [
        "data.describe() #Numerical"
      ]
    },
    {
      "cell_type": "code",
      "execution_count": null,
      "id": "fec7e1b2",
      "metadata": {
        "id": "fec7e1b2",
        "outputId": "e40f6182-c9e1-48d0-c5c5-ff8e7b69e4eb"
      },
      "outputs": [
        {
          "data": {
            "text/plain": [
              "pandas.core.series.Series"
            ]
          },
          "execution_count": 212,
          "metadata": {},
          "output_type": "execute_result"
        }
      ],
      "source": [
        "type(data['winner'])"
      ]
    },
    {
      "cell_type": "code",
      "execution_count": null,
      "id": "2a676e4a",
      "metadata": {
        "id": "2a676e4a",
        "outputId": "ea2dcba4-2553-492f-936b-e1ca4832aacb"
      },
      "outputs": [
        {
          "name": "stderr",
          "output_type": "stream",
          "text": [
            "C:\\Users\\prasad jadhav\\AppData\\Local\\Temp\\ipykernel_12320\\2511332080.py:1: FutureWarning: Passing a set as an indexer is deprecated and will raise in a future version. Use a list instead.\n",
            "  data[{'team1','team2','winner'}] #Dtype_DF\n"
          ]
        },
        {
          "data": {
            "text/html": [
              "<div>\n",
              "<style scoped>\n",
              "    .dataframe tbody tr th:only-of-type {\n",
              "        vertical-align: middle;\n",
              "    }\n",
              "\n",
              "    .dataframe tbody tr th {\n",
              "        vertical-align: top;\n",
              "    }\n",
              "\n",
              "    .dataframe thead th {\n",
              "        text-align: right;\n",
              "    }\n",
              "</style>\n",
              "<table border=\"1\" class=\"dataframe\">\n",
              "  <thead>\n",
              "    <tr style=\"text-align: right;\">\n",
              "      <th></th>\n",
              "      <th>team1</th>\n",
              "      <th>team2</th>\n",
              "      <th>winner</th>\n",
              "    </tr>\n",
              "  </thead>\n",
              "  <tbody>\n",
              "    <tr>\n",
              "      <th>0</th>\n",
              "      <td>Sunrisers Hyderabad</td>\n",
              "      <td>Royal Challengers Bangalore</td>\n",
              "      <td>Sunrisers Hyderabad</td>\n",
              "    </tr>\n",
              "    <tr>\n",
              "      <th>1</th>\n",
              "      <td>Mumbai Indians</td>\n",
              "      <td>Rising Pune Supergiant</td>\n",
              "      <td>Rising Pune Supergiant</td>\n",
              "    </tr>\n",
              "    <tr>\n",
              "      <th>2</th>\n",
              "      <td>Gujarat Lions</td>\n",
              "      <td>Kolkata Knight Riders</td>\n",
              "      <td>Kolkata Knight Riders</td>\n",
              "    </tr>\n",
              "    <tr>\n",
              "      <th>3</th>\n",
              "      <td>Rising Pune Supergiant</td>\n",
              "      <td>Kings XI Punjab</td>\n",
              "      <td>Kings XI Punjab</td>\n",
              "    </tr>\n",
              "    <tr>\n",
              "      <th>4</th>\n",
              "      <td>Royal Challengers Bangalore</td>\n",
              "      <td>Delhi Daredevils</td>\n",
              "      <td>Royal Challengers Bangalore</td>\n",
              "    </tr>\n",
              "    <tr>\n",
              "      <th>...</th>\n",
              "      <td>...</td>\n",
              "      <td>...</td>\n",
              "      <td>...</td>\n",
              "    </tr>\n",
              "    <tr>\n",
              "      <th>631</th>\n",
              "      <td>Delhi Daredevils</td>\n",
              "      <td>Royal Challengers Bangalore</td>\n",
              "      <td>Royal Challengers Bangalore</td>\n",
              "    </tr>\n",
              "    <tr>\n",
              "      <th>632</th>\n",
              "      <td>Gujarat Lions</td>\n",
              "      <td>Royal Challengers Bangalore</td>\n",
              "      <td>Royal Challengers Bangalore</td>\n",
              "    </tr>\n",
              "    <tr>\n",
              "      <th>633</th>\n",
              "      <td>Sunrisers Hyderabad</td>\n",
              "      <td>Kolkata Knight Riders</td>\n",
              "      <td>Sunrisers Hyderabad</td>\n",
              "    </tr>\n",
              "    <tr>\n",
              "      <th>634</th>\n",
              "      <td>Gujarat Lions</td>\n",
              "      <td>Sunrisers Hyderabad</td>\n",
              "      <td>Sunrisers Hyderabad</td>\n",
              "    </tr>\n",
              "    <tr>\n",
              "      <th>635</th>\n",
              "      <td>Sunrisers Hyderabad</td>\n",
              "      <td>Royal Challengers Bangalore</td>\n",
              "      <td>Sunrisers Hyderabad</td>\n",
              "    </tr>\n",
              "  </tbody>\n",
              "</table>\n",
              "<p>636 rows × 3 columns</p>\n",
              "</div>"
            ],
            "text/plain": [
              "                           team1                        team2  \\\n",
              "0            Sunrisers Hyderabad  Royal Challengers Bangalore   \n",
              "1                 Mumbai Indians       Rising Pune Supergiant   \n",
              "2                  Gujarat Lions        Kolkata Knight Riders   \n",
              "3         Rising Pune Supergiant              Kings XI Punjab   \n",
              "4    Royal Challengers Bangalore             Delhi Daredevils   \n",
              "..                           ...                          ...   \n",
              "631             Delhi Daredevils  Royal Challengers Bangalore   \n",
              "632                Gujarat Lions  Royal Challengers Bangalore   \n",
              "633          Sunrisers Hyderabad        Kolkata Knight Riders   \n",
              "634                Gujarat Lions          Sunrisers Hyderabad   \n",
              "635          Sunrisers Hyderabad  Royal Challengers Bangalore   \n",
              "\n",
              "                          winner  \n",
              "0            Sunrisers Hyderabad  \n",
              "1         Rising Pune Supergiant  \n",
              "2          Kolkata Knight Riders  \n",
              "3                Kings XI Punjab  \n",
              "4    Royal Challengers Bangalore  \n",
              "..                           ...  \n",
              "631  Royal Challengers Bangalore  \n",
              "632  Royal Challengers Bangalore  \n",
              "633          Sunrisers Hyderabad  \n",
              "634          Sunrisers Hyderabad  \n",
              "635          Sunrisers Hyderabad  \n",
              "\n",
              "[636 rows x 3 columns]"
            ]
          },
          "execution_count": 213,
          "metadata": {},
          "output_type": "execute_result"
        }
      ],
      "source": [
        "data[{'team1','team2','winner'}] #Dtype_DF"
      ]
    },
    {
      "cell_type": "code",
      "execution_count": null,
      "id": "60202c52",
      "metadata": {
        "id": "60202c52",
        "outputId": "35eba47e-c580-4417-db5f-b9c7668f715c"
      },
      "outputs": [
        {
          "data": {
            "text/plain": [
              "id                                                         1\n",
              "season                                                  2017\n",
              "city                                               Hyderabad\n",
              "date                                              2017-04-05\n",
              "team1                                    Sunrisers Hyderabad\n",
              "team2                            Royal Challengers Bangalore\n",
              "toss_winner                      Royal Challengers Bangalore\n",
              "toss_decision                                          field\n",
              "result                                                normal\n",
              "dl_applied                                                 0\n",
              "winner                                   Sunrisers Hyderabad\n",
              "win_by_runs                                               35\n",
              "win_by_wickets                                             0\n",
              "player_of_match                                 Yuvraj Singh\n",
              "venue              Rajiv Gandhi International Stadium, Uppal\n",
              "umpire1                                          AY Dandekar\n",
              "umpire2                                             NJ Llong\n",
              "umpire3                                                  NaN\n",
              "Name: 0, dtype: object"
            ]
          },
          "execution_count": 214,
          "metadata": {},
          "output_type": "execute_result"
        }
      ],
      "source": [
        "data.iloc[0] #Rows"
      ]
    },
    {
      "cell_type": "code",
      "execution_count": null,
      "id": "70a37b9d",
      "metadata": {
        "id": "70a37b9d",
        "outputId": "34e8a6f8-2a6f-498a-8bd0-749514091111"
      },
      "outputs": [
        {
          "data": {
            "text/html": [
              "<div>\n",
              "<style scoped>\n",
              "    .dataframe tbody tr th:only-of-type {\n",
              "        vertical-align: middle;\n",
              "    }\n",
              "\n",
              "    .dataframe tbody tr th {\n",
              "        vertical-align: top;\n",
              "    }\n",
              "\n",
              "    .dataframe thead th {\n",
              "        text-align: right;\n",
              "    }\n",
              "</style>\n",
              "<table border=\"1\" class=\"dataframe\">\n",
              "  <thead>\n",
              "    <tr style=\"text-align: right;\">\n",
              "      <th></th>\n",
              "      <th>id</th>\n",
              "      <th>season</th>\n",
              "      <th>city</th>\n",
              "      <th>date</th>\n",
              "      <th>team1</th>\n",
              "      <th>team2</th>\n",
              "      <th>toss_winner</th>\n",
              "      <th>toss_decision</th>\n",
              "      <th>result</th>\n",
              "      <th>dl_applied</th>\n",
              "      <th>winner</th>\n",
              "      <th>win_by_runs</th>\n",
              "      <th>win_by_wickets</th>\n",
              "      <th>player_of_match</th>\n",
              "      <th>venue</th>\n",
              "      <th>umpire1</th>\n",
              "      <th>umpire2</th>\n",
              "      <th>umpire3</th>\n",
              "    </tr>\n",
              "  </thead>\n",
              "  <tbody>\n",
              "    <tr>\n",
              "      <th>1</th>\n",
              "      <td>2</td>\n",
              "      <td>2017</td>\n",
              "      <td>Pune</td>\n",
              "      <td>2017-04-06</td>\n",
              "      <td>Mumbai Indians</td>\n",
              "      <td>Rising Pune Supergiant</td>\n",
              "      <td>Rising Pune Supergiant</td>\n",
              "      <td>field</td>\n",
              "      <td>normal</td>\n",
              "      <td>0</td>\n",
              "      <td>Rising Pune Supergiant</td>\n",
              "      <td>0</td>\n",
              "      <td>7</td>\n",
              "      <td>SPD Smith</td>\n",
              "      <td>Maharashtra Cricket Association Stadium</td>\n",
              "      <td>A Nand Kishore</td>\n",
              "      <td>S Ravi</td>\n",
              "      <td>NaN</td>\n",
              "    </tr>\n",
              "    <tr>\n",
              "      <th>3</th>\n",
              "      <td>4</td>\n",
              "      <td>2017</td>\n",
              "      <td>Indore</td>\n",
              "      <td>2017-04-08</td>\n",
              "      <td>Rising Pune Supergiant</td>\n",
              "      <td>Kings XI Punjab</td>\n",
              "      <td>Kings XI Punjab</td>\n",
              "      <td>field</td>\n",
              "      <td>normal</td>\n",
              "      <td>0</td>\n",
              "      <td>Kings XI Punjab</td>\n",
              "      <td>0</td>\n",
              "      <td>6</td>\n",
              "      <td>GJ Maxwell</td>\n",
              "      <td>Holkar Cricket Stadium</td>\n",
              "      <td>AK Chaudhary</td>\n",
              "      <td>C Shamshuddin</td>\n",
              "      <td>NaN</td>\n",
              "    </tr>\n",
              "    <tr>\n",
              "      <th>5</th>\n",
              "      <td>6</td>\n",
              "      <td>2017</td>\n",
              "      <td>Hyderabad</td>\n",
              "      <td>2017-04-09</td>\n",
              "      <td>Gujarat Lions</td>\n",
              "      <td>Sunrisers Hyderabad</td>\n",
              "      <td>Sunrisers Hyderabad</td>\n",
              "      <td>field</td>\n",
              "      <td>normal</td>\n",
              "      <td>0</td>\n",
              "      <td>Sunrisers Hyderabad</td>\n",
              "      <td>0</td>\n",
              "      <td>9</td>\n",
              "      <td>Rashid Khan</td>\n",
              "      <td>Rajiv Gandhi International Stadium, Uppal</td>\n",
              "      <td>A Deshmukh</td>\n",
              "      <td>NJ Llong</td>\n",
              "      <td>NaN</td>\n",
              "    </tr>\n",
              "    <tr>\n",
              "      <th>7</th>\n",
              "      <td>8</td>\n",
              "      <td>2017</td>\n",
              "      <td>Indore</td>\n",
              "      <td>2017-04-10</td>\n",
              "      <td>Royal Challengers Bangalore</td>\n",
              "      <td>Kings XI Punjab</td>\n",
              "      <td>Royal Challengers Bangalore</td>\n",
              "      <td>bat</td>\n",
              "      <td>normal</td>\n",
              "      <td>0</td>\n",
              "      <td>Kings XI Punjab</td>\n",
              "      <td>0</td>\n",
              "      <td>8</td>\n",
              "      <td>AR Patel</td>\n",
              "      <td>Holkar Cricket Stadium</td>\n",
              "      <td>AK Chaudhary</td>\n",
              "      <td>C Shamshuddin</td>\n",
              "      <td>NaN</td>\n",
              "    </tr>\n",
              "    <tr>\n",
              "      <th>9</th>\n",
              "      <td>10</td>\n",
              "      <td>2017</td>\n",
              "      <td>Mumbai</td>\n",
              "      <td>2017-04-12</td>\n",
              "      <td>Sunrisers Hyderabad</td>\n",
              "      <td>Mumbai Indians</td>\n",
              "      <td>Mumbai Indians</td>\n",
              "      <td>field</td>\n",
              "      <td>normal</td>\n",
              "      <td>0</td>\n",
              "      <td>Mumbai Indians</td>\n",
              "      <td>0</td>\n",
              "      <td>4</td>\n",
              "      <td>JJ Bumrah</td>\n",
              "      <td>Wankhede Stadium</td>\n",
              "      <td>Nitin Menon</td>\n",
              "      <td>CK Nandan</td>\n",
              "      <td>NaN</td>\n",
              "    </tr>\n",
              "  </tbody>\n",
              "</table>\n",
              "</div>"
            ],
            "text/plain": [
              "   id  season       city        date                        team1  \\\n",
              "1   2    2017       Pune  2017-04-06               Mumbai Indians   \n",
              "3   4    2017     Indore  2017-04-08       Rising Pune Supergiant   \n",
              "5   6    2017  Hyderabad  2017-04-09                Gujarat Lions   \n",
              "7   8    2017     Indore  2017-04-10  Royal Challengers Bangalore   \n",
              "9  10    2017     Mumbai  2017-04-12          Sunrisers Hyderabad   \n",
              "\n",
              "                    team2                  toss_winner toss_decision  result  \\\n",
              "1  Rising Pune Supergiant       Rising Pune Supergiant         field  normal   \n",
              "3         Kings XI Punjab              Kings XI Punjab         field  normal   \n",
              "5     Sunrisers Hyderabad          Sunrisers Hyderabad         field  normal   \n",
              "7         Kings XI Punjab  Royal Challengers Bangalore           bat  normal   \n",
              "9          Mumbai Indians               Mumbai Indians         field  normal   \n",
              "\n",
              "   dl_applied                  winner  win_by_runs  win_by_wickets  \\\n",
              "1           0  Rising Pune Supergiant            0               7   \n",
              "3           0         Kings XI Punjab            0               6   \n",
              "5           0     Sunrisers Hyderabad            0               9   \n",
              "7           0         Kings XI Punjab            0               8   \n",
              "9           0          Mumbai Indians            0               4   \n",
              "\n",
              "  player_of_match                                      venue         umpire1  \\\n",
              "1       SPD Smith    Maharashtra Cricket Association Stadium  A Nand Kishore   \n",
              "3      GJ Maxwell                     Holkar Cricket Stadium    AK Chaudhary   \n",
              "5     Rashid Khan  Rajiv Gandhi International Stadium, Uppal      A Deshmukh   \n",
              "7        AR Patel                     Holkar Cricket Stadium    AK Chaudhary   \n",
              "9       JJ Bumrah                           Wankhede Stadium     Nitin Menon   \n",
              "\n",
              "         umpire2  umpire3  \n",
              "1         S Ravi      NaN  \n",
              "3  C Shamshuddin      NaN  \n",
              "5       NJ Llong      NaN  \n",
              "7  C Shamshuddin      NaN  \n",
              "9      CK Nandan      NaN  "
            ]
          },
          "execution_count": 215,
          "metadata": {},
          "output_type": "execute_result"
        }
      ],
      "source": [
        "data.iloc[1:11:2]"
      ]
    },
    {
      "cell_type": "code",
      "execution_count": null,
      "id": "0818317c",
      "metadata": {
        "id": "0818317c",
        "outputId": "3a6d211b-2f65-45c2-fb76-ac56155a5ecb"
      },
      "outputs": [
        {
          "data": {
            "text/html": [
              "<div>\n",
              "<style scoped>\n",
              "    .dataframe tbody tr th:only-of-type {\n",
              "        vertical-align: middle;\n",
              "    }\n",
              "\n",
              "    .dataframe tbody tr th {\n",
              "        vertical-align: top;\n",
              "    }\n",
              "\n",
              "    .dataframe thead th {\n",
              "        text-align: right;\n",
              "    }\n",
              "</style>\n",
              "<table border=\"1\" class=\"dataframe\">\n",
              "  <thead>\n",
              "    <tr style=\"text-align: right;\">\n",
              "      <th></th>\n",
              "      <th>id</th>\n",
              "      <th>season</th>\n",
              "      <th>city</th>\n",
              "      <th>date</th>\n",
              "      <th>team1</th>\n",
              "      <th>team2</th>\n",
              "      <th>toss_winner</th>\n",
              "      <th>toss_decision</th>\n",
              "      <th>result</th>\n",
              "      <th>dl_applied</th>\n",
              "      <th>winner</th>\n",
              "      <th>win_by_runs</th>\n",
              "      <th>win_by_wickets</th>\n",
              "      <th>player_of_match</th>\n",
              "      <th>venue</th>\n",
              "      <th>umpire1</th>\n",
              "      <th>umpire2</th>\n",
              "      <th>umpire3</th>\n",
              "    </tr>\n",
              "  </thead>\n",
              "  <tbody>\n",
              "    <tr>\n",
              "      <th>1</th>\n",
              "      <td>2</td>\n",
              "      <td>2017</td>\n",
              "      <td>Pune</td>\n",
              "      <td>2017-04-06</td>\n",
              "      <td>Mumbai Indians</td>\n",
              "      <td>Rising Pune Supergiant</td>\n",
              "      <td>Rising Pune Supergiant</td>\n",
              "      <td>field</td>\n",
              "      <td>normal</td>\n",
              "      <td>0</td>\n",
              "      <td>Rising Pune Supergiant</td>\n",
              "      <td>0</td>\n",
              "      <td>7</td>\n",
              "      <td>SPD Smith</td>\n",
              "      <td>Maharashtra Cricket Association Stadium</td>\n",
              "      <td>A Nand Kishore</td>\n",
              "      <td>S Ravi</td>\n",
              "      <td>NaN</td>\n",
              "    </tr>\n",
              "    <tr>\n",
              "      <th>5</th>\n",
              "      <td>6</td>\n",
              "      <td>2017</td>\n",
              "      <td>Hyderabad</td>\n",
              "      <td>2017-04-09</td>\n",
              "      <td>Gujarat Lions</td>\n",
              "      <td>Sunrisers Hyderabad</td>\n",
              "      <td>Sunrisers Hyderabad</td>\n",
              "      <td>field</td>\n",
              "      <td>normal</td>\n",
              "      <td>0</td>\n",
              "      <td>Sunrisers Hyderabad</td>\n",
              "      <td>0</td>\n",
              "      <td>9</td>\n",
              "      <td>Rashid Khan</td>\n",
              "      <td>Rajiv Gandhi International Stadium, Uppal</td>\n",
              "      <td>A Deshmukh</td>\n",
              "      <td>NJ Llong</td>\n",
              "      <td>NaN</td>\n",
              "    </tr>\n",
              "    <tr>\n",
              "      <th>6</th>\n",
              "      <td>7</td>\n",
              "      <td>2017</td>\n",
              "      <td>Mumbai</td>\n",
              "      <td>2017-04-09</td>\n",
              "      <td>Kolkata Knight Riders</td>\n",
              "      <td>Mumbai Indians</td>\n",
              "      <td>Mumbai Indians</td>\n",
              "      <td>field</td>\n",
              "      <td>normal</td>\n",
              "      <td>0</td>\n",
              "      <td>Mumbai Indians</td>\n",
              "      <td>0</td>\n",
              "      <td>4</td>\n",
              "      <td>N Rana</td>\n",
              "      <td>Wankhede Stadium</td>\n",
              "      <td>Nitin Menon</td>\n",
              "      <td>CK Nandan</td>\n",
              "      <td>NaN</td>\n",
              "    </tr>\n",
              "  </tbody>\n",
              "</table>\n",
              "</div>"
            ],
            "text/plain": [
              "   id  season       city        date                  team1  \\\n",
              "1   2    2017       Pune  2017-04-06         Mumbai Indians   \n",
              "5   6    2017  Hyderabad  2017-04-09          Gujarat Lions   \n",
              "6   7    2017     Mumbai  2017-04-09  Kolkata Knight Riders   \n",
              "\n",
              "                    team2             toss_winner toss_decision  result  \\\n",
              "1  Rising Pune Supergiant  Rising Pune Supergiant         field  normal   \n",
              "5     Sunrisers Hyderabad     Sunrisers Hyderabad         field  normal   \n",
              "6          Mumbai Indians          Mumbai Indians         field  normal   \n",
              "\n",
              "   dl_applied                  winner  win_by_runs  win_by_wickets  \\\n",
              "1           0  Rising Pune Supergiant            0               7   \n",
              "5           0     Sunrisers Hyderabad            0               9   \n",
              "6           0          Mumbai Indians            0               4   \n",
              "\n",
              "  player_of_match                                      venue         umpire1  \\\n",
              "1       SPD Smith    Maharashtra Cricket Association Stadium  A Nand Kishore   \n",
              "5     Rashid Khan  Rajiv Gandhi International Stadium, Uppal      A Deshmukh   \n",
              "6          N Rana                           Wankhede Stadium     Nitin Menon   \n",
              "\n",
              "     umpire2  umpire3  \n",
              "1     S Ravi      NaN  \n",
              "5   NJ Llong      NaN  \n",
              "6  CK Nandan      NaN  "
            ]
          },
          "execution_count": 216,
          "metadata": {},
          "output_type": "execute_result"
        }
      ],
      "source": [
        "data.iloc[[1,5,6]]"
      ]
    },
    {
      "cell_type": "code",
      "execution_count": null,
      "id": "72ef8229",
      "metadata": {
        "id": "72ef8229",
        "outputId": "97cf36ed-0dd0-4424-8661-d350ba85c4de"
      },
      "outputs": [
        {
          "data": {
            "text/html": [
              "<div>\n",
              "<style scoped>\n",
              "    .dataframe tbody tr th:only-of-type {\n",
              "        vertical-align: middle;\n",
              "    }\n",
              "\n",
              "    .dataframe tbody tr th {\n",
              "        vertical-align: top;\n",
              "    }\n",
              "\n",
              "    .dataframe thead th {\n",
              "        text-align: right;\n",
              "    }\n",
              "</style>\n",
              "<table border=\"1\" class=\"dataframe\">\n",
              "  <thead>\n",
              "    <tr style=\"text-align: right;\">\n",
              "      <th></th>\n",
              "      <th>team1</th>\n",
              "      <th>team2</th>\n",
              "      <th>winner</th>\n",
              "    </tr>\n",
              "  </thead>\n",
              "  <tbody>\n",
              "    <tr>\n",
              "      <th>0</th>\n",
              "      <td>Sunrisers Hyderabad</td>\n",
              "      <td>Royal Challengers Bangalore</td>\n",
              "      <td>Sunrisers Hyderabad</td>\n",
              "    </tr>\n",
              "    <tr>\n",
              "      <th>1</th>\n",
              "      <td>Mumbai Indians</td>\n",
              "      <td>Rising Pune Supergiant</td>\n",
              "      <td>Rising Pune Supergiant</td>\n",
              "    </tr>\n",
              "    <tr>\n",
              "      <th>2</th>\n",
              "      <td>Gujarat Lions</td>\n",
              "      <td>Kolkata Knight Riders</td>\n",
              "      <td>Kolkata Knight Riders</td>\n",
              "    </tr>\n",
              "    <tr>\n",
              "      <th>3</th>\n",
              "      <td>Rising Pune Supergiant</td>\n",
              "      <td>Kings XI Punjab</td>\n",
              "      <td>Kings XI Punjab</td>\n",
              "    </tr>\n",
              "    <tr>\n",
              "      <th>4</th>\n",
              "      <td>Royal Challengers Bangalore</td>\n",
              "      <td>Delhi Daredevils</td>\n",
              "      <td>Royal Challengers Bangalore</td>\n",
              "    </tr>\n",
              "    <tr>\n",
              "      <th>...</th>\n",
              "      <td>...</td>\n",
              "      <td>...</td>\n",
              "      <td>...</td>\n",
              "    </tr>\n",
              "    <tr>\n",
              "      <th>631</th>\n",
              "      <td>Delhi Daredevils</td>\n",
              "      <td>Royal Challengers Bangalore</td>\n",
              "      <td>Royal Challengers Bangalore</td>\n",
              "    </tr>\n",
              "    <tr>\n",
              "      <th>632</th>\n",
              "      <td>Gujarat Lions</td>\n",
              "      <td>Royal Challengers Bangalore</td>\n",
              "      <td>Royal Challengers Bangalore</td>\n",
              "    </tr>\n",
              "    <tr>\n",
              "      <th>633</th>\n",
              "      <td>Sunrisers Hyderabad</td>\n",
              "      <td>Kolkata Knight Riders</td>\n",
              "      <td>Sunrisers Hyderabad</td>\n",
              "    </tr>\n",
              "    <tr>\n",
              "      <th>634</th>\n",
              "      <td>Gujarat Lions</td>\n",
              "      <td>Sunrisers Hyderabad</td>\n",
              "      <td>Sunrisers Hyderabad</td>\n",
              "    </tr>\n",
              "    <tr>\n",
              "      <th>635</th>\n",
              "      <td>Sunrisers Hyderabad</td>\n",
              "      <td>Royal Challengers Bangalore</td>\n",
              "      <td>Sunrisers Hyderabad</td>\n",
              "    </tr>\n",
              "  </tbody>\n",
              "</table>\n",
              "<p>636 rows × 3 columns</p>\n",
              "</div>"
            ],
            "text/plain": [
              "                           team1                        team2  \\\n",
              "0            Sunrisers Hyderabad  Royal Challengers Bangalore   \n",
              "1                 Mumbai Indians       Rising Pune Supergiant   \n",
              "2                  Gujarat Lions        Kolkata Knight Riders   \n",
              "3         Rising Pune Supergiant              Kings XI Punjab   \n",
              "4    Royal Challengers Bangalore             Delhi Daredevils   \n",
              "..                           ...                          ...   \n",
              "631             Delhi Daredevils  Royal Challengers Bangalore   \n",
              "632                Gujarat Lions  Royal Challengers Bangalore   \n",
              "633          Sunrisers Hyderabad        Kolkata Knight Riders   \n",
              "634                Gujarat Lions          Sunrisers Hyderabad   \n",
              "635          Sunrisers Hyderabad  Royal Challengers Bangalore   \n",
              "\n",
              "                          winner  \n",
              "0            Sunrisers Hyderabad  \n",
              "1         Rising Pune Supergiant  \n",
              "2          Kolkata Knight Riders  \n",
              "3                Kings XI Punjab  \n",
              "4    Royal Challengers Bangalore  \n",
              "..                           ...  \n",
              "631  Royal Challengers Bangalore  \n",
              "632  Royal Challengers Bangalore  \n",
              "633          Sunrisers Hyderabad  \n",
              "634          Sunrisers Hyderabad  \n",
              "635          Sunrisers Hyderabad  \n",
              "\n",
              "[636 rows x 3 columns]"
            ]
          },
          "execution_count": 217,
          "metadata": {},
          "output_type": "execute_result"
        }
      ],
      "source": [
        "data.iloc[:,[4,5,10]]"
      ]
    },
    {
      "cell_type": "code",
      "execution_count": null,
      "id": "606ab9de",
      "metadata": {
        "id": "606ab9de",
        "outputId": "38a11e16-e6ea-4348-a6f6-954896d8ea48"
      },
      "outputs": [
        {
          "data": {
            "text/plain": [
              "32"
            ]
          },
          "execution_count": 218,
          "metadata": {},
          "output_type": "execute_result"
        }
      ],
      "source": [
        "mask = data['city'] == 'Pune'\n",
        "data[mask].shape[0]"
      ]
    },
    {
      "cell_type": "code",
      "execution_count": null,
      "id": "7a30ed5c",
      "metadata": {
        "id": "7a30ed5c"
      },
      "outputs": [],
      "source": [
        "def get_city_match_count(city):\n",
        "    mask = data['city'] == city\n",
        "    return data[mask].shape[0]"
      ]
    },
    {
      "cell_type": "code",
      "execution_count": null,
      "id": "08689753",
      "metadata": {
        "id": "08689753",
        "outputId": "8bd47f13-2c43-47b9-ba6f-dbe12c68d76b"
      },
      "outputs": [
        {
          "data": {
            "text/plain": [
              "49"
            ]
          },
          "execution_count": 220,
          "metadata": {},
          "output_type": "execute_result"
        }
      ],
      "source": [
        "get_city_match_count('Hyderabad')"
      ]
    },
    {
      "cell_type": "code",
      "execution_count": null,
      "id": "b091d125",
      "metadata": {
        "id": "b091d125",
        "outputId": "1b290ed7-e50a-4707-b43c-99f2b7de0001"
      },
      "outputs": [
        {
          "data": {
            "text/plain": [
              "66"
            ]
          },
          "execution_count": 221,
          "metadata": {},
          "output_type": "execute_result"
        }
      ],
      "source": [
        "get_city_match_count('Bangalore')"
      ]
    },
    {
      "cell_type": "code",
      "execution_count": null,
      "id": "e15ae902",
      "metadata": {
        "id": "e15ae902",
        "outputId": "e4bb3c65-3e3a-4d50-c421-eb7959991fb3"
      },
      "outputs": [
        {
          "data": {
            "text/plain": [
              "32"
            ]
          },
          "execution_count": 222,
          "metadata": {},
          "output_type": "execute_result"
        }
      ],
      "source": [
        "mask_1 = data['city'] == 'Pune'\n",
        "mask_2 = data['date'] > '2010-01-01'\n",
        "\n",
        "data[mask_1 & mask_2].shape[0]"
      ]
    },
    {
      "cell_type": "code",
      "execution_count": null,
      "id": "271421c3",
      "metadata": {
        "id": "271421c3",
        "outputId": "55008129-c1d0-46ca-b865-94616242056c"
      },
      "outputs": [
        {
          "data": {
            "text/plain": [
              "42"
            ]
          },
          "execution_count": 223,
          "metadata": {},
          "output_type": "execute_result"
        }
      ],
      "source": [
        "mask_1 = data['city'] == 'Hyderabad'\n",
        "mask_2 = data['date'] > '2010-01-01'\n",
        "\n",
        "data[mask_1 & mask_2].shape[0]"
      ]
    },
    {
      "cell_type": "code",
      "execution_count": null,
      "id": "9261f79b",
      "metadata": {
        "id": "9261f79b",
        "outputId": "e220e0be-33ee-4f6d-9683-fa897caac80d"
      },
      "outputs": [
        {
          "data": {
            "text/plain": [
              "7"
            ]
          },
          "execution_count": 224,
          "metadata": {},
          "output_type": "execute_result"
        }
      ],
      "source": [
        "mask_1 = data['city'] == 'Hyderabad'\n",
        "mask_2 = data['date'] < '2010-01-01'\n",
        "\n",
        "data[mask_1 & mask_2].shape[0]"
      ]
    },
    {
      "cell_type": "code",
      "execution_count": null,
      "id": "c0e86879",
      "metadata": {
        "id": "c0e86879",
        "outputId": "0823cca5-bd32-4f9b-8abf-bfae3a6e337c"
      },
      "outputs": [
        {
          "data": {
            "text/plain": [
              "Mumbai Indians                 92\n",
              "Chennai Super Kings            79\n",
              "Kolkata Knight Riders          77\n",
              "Royal Challengers Bangalore    73\n",
              "Kings XI Punjab                70\n",
              "Rajasthan Royals               63\n",
              "Delhi Daredevils               62\n",
              "Sunrisers Hyderabad            42\n",
              "Deccan Chargers                29\n",
              "Gujarat Lions                  13\n",
              "Pune Warriors                  12\n",
              "Rising Pune Supergiant         10\n",
              "Kochi Tuskers Kerala            6\n",
              "Rising Pune Supergiants         5\n",
              "Name: winner, dtype: int64"
            ]
          },
          "execution_count": 225,
          "metadata": {},
          "output_type": "execute_result"
        }
      ],
      "source": [
        "data['winner'].value_counts()"
      ]
    },
    {
      "cell_type": "code",
      "execution_count": null,
      "id": "337856b2",
      "metadata": {
        "scrolled": false,
        "id": "337856b2",
        "outputId": "412af247-173c-4ec4-e93d-1c08d17cf25c"
      },
      "outputs": [
        {
          "data": {
            "text/plain": [
              "<AxesSubplot:>"
            ]
          },
          "execution_count": 226,
          "metadata": {},
          "output_type": "execute_result"
        },
        {
          "data": {
            "image/png": "[encoded data removed]",
            "text/plain": [
              "<Figure size 432x288 with 1 Axes>"
            ]
          },
          "metadata": {
            "needs_background": "light"
          },
          "output_type": "display_data"
        }
      ],
      "source": [
        "data['winner'].value_counts().plot(kind = 'bar')"
      ]
    },
    {
      "cell_type": "code",
      "execution_count": null,
      "id": "d91fd839",
      "metadata": {
        "id": "d91fd839"
      },
      "outputs": [],
      "source": [
        "# data['winner'].value_counts().head(5).plot(kind = 'bar')"
      ]
    },
    {
      "cell_type": "code",
      "execution_count": null,
      "id": "51ddc852",
      "metadata": {
        "id": "51ddc852",
        "outputId": "f8afe5d2-c0f5-4f84-8fb0-a55c7260a744"
      },
      "outputs": [
        {
          "data": {
            "text/plain": [
              "<AxesSubplot:>"
            ]
          },
          "execution_count": 228,
          "metadata": {},
          "output_type": "execute_result"
        },
        {
          "data": {
            "image/png": "[encoded data removed]",
            "text/plain": [
              "<Figure size 432x288 with 1 Axes>"
            ]
          },
          "metadata": {
            "needs_background": "light"
          },
          "output_type": "display_data"
        }
      ],
      "source": [
        "data['winner'].value_counts().plot(kind = 'barh')"
      ]
    },
    {
      "cell_type": "code",
      "execution_count": null,
      "id": "fb55d714",
      "metadata": {
        "id": "fb55d714",
        "outputId": "73de99c8-4149-4364-d2cb-8da8d31de8e7"
      },
      "outputs": [
        {
          "data": {
            "text/plain": [
              "<AxesSubplot:ylabel='toss_decision'>"
            ]
          },
          "execution_count": 229,
          "metadata": {},
          "output_type": "execute_result"
        },
        {
          "data": {
            "image/png": "[encoded data removed]",
            "text/plain": [
              "<Figure size 432x288 with 1 Axes>"
            ]
          },
          "metadata": {},
          "output_type": "display_data"
        }
      ],
      "source": [
        "data['toss_decision'].value_counts().plot(kind = 'pie')"
      ]
    },
    {
      "cell_type": "code",
      "execution_count": null,
      "id": "679fcb18",
      "metadata": {
        "id": "679fcb18",
        "outputId": "ed580247-01ef-4abe-df29-d6b99772f422"
      },
      "outputs": [
        {
          "data": {
            "text/plain": [
              "<AxesSubplot:ylabel='Frequency'>"
            ]
          },
          "execution_count": 230,
          "metadata": {},
          "output_type": "execute_result"
        },
        {
          "data": {
            "image/png": "[encoded data removed]",
            "text/plain": [
              "<Figure size 432x288 with 1 Axes>"
            ]
          },
          "metadata": {
            "needs_background": "light"
          },
          "output_type": "display_data"
        }
      ],
      "source": [
        "data['win_by_runs'].plot(kind = 'hist')"
      ]
    },
    {
      "cell_type": "markdown",
      "id": "5fbb5306",
      "metadata": {
        "id": "5fbb5306"
      },
      "source": [
        "***Series***"
      ]
    },
    {
      "cell_type": "code",
      "execution_count": null,
      "id": "f11675c9",
      "metadata": {
        "id": "f11675c9"
      },
      "outputs": [],
      "source": [
        "my_sr = data['winner'].value_counts()"
      ]
    },
    {
      "cell_type": "code",
      "execution_count": null,
      "id": "477979a6",
      "metadata": {
        "id": "477979a6",
        "outputId": "d190216e-3c76-4ce1-dd37-081bfd67ea74"
      },
      "outputs": [
        {
          "data": {
            "text/plain": [
              "Index(['Mumbai Indians', 'Chennai Super Kings', 'Kolkata Knight Riders',\n",
              "       'Royal Challengers Bangalore', 'Kings XI Punjab', 'Rajasthan Royals',\n",
              "       'Delhi Daredevils', 'Sunrisers Hyderabad', 'Deccan Chargers',\n",
              "       'Gujarat Lions', 'Pune Warriors', 'Rising Pune Supergiant',\n",
              "       'Kochi Tuskers Kerala', 'Rising Pune Supergiants'],\n",
              "      dtype='object')"
            ]
          },
          "execution_count": 232,
          "metadata": {},
          "output_type": "execute_result"
        }
      ],
      "source": [
        "my_sr.index"
      ]
    },
    {
      "cell_type": "code",
      "execution_count": null,
      "id": "ad76b8e0",
      "metadata": {
        "id": "ad76b8e0",
        "outputId": "263c4df0-2af9-4388-b43f-f430b7a431b4"
      },
      "outputs": [
        {
          "data": {
            "text/plain": [
              "array([92, 79, 77, 73, 70, 63, 62, 42, 29, 13, 12, 10,  6,  5],\n",
              "      dtype=int64)"
            ]
          },
          "execution_count": 233,
          "metadata": {},
          "output_type": "execute_result"
        }
      ],
      "source": [
        "my_sr.values"
      ]
    },
    {
      "cell_type": "code",
      "execution_count": null,
      "id": "ac028198",
      "metadata": {
        "id": "ac028198"
      },
      "outputs": [],
      "source": [
        "# my_sr['Pune']"
      ]
    },
    {
      "cell_type": "code",
      "execution_count": null,
      "id": "a6393d3d",
      "metadata": {
        "id": "a6393d3d",
        "outputId": "7195ad17-adbd-440d-fb0f-e58a88b36573"
      },
      "outputs": [
        {
          "data": {
            "text/plain": [
              "92"
            ]
          },
          "execution_count": 235,
          "metadata": {},
          "output_type": "execute_result"
        }
      ],
      "source": [
        "my_sr['Mumbai Indians']"
      ]
    },
    {
      "cell_type": "code",
      "execution_count": null,
      "id": "ed951fab",
      "metadata": {
        "scrolled": true,
        "id": "ed951fab",
        "outputId": "30225c45-78fd-428e-e0fe-3af1acc409b3"
      },
      "outputs": [
        {
          "data": {
            "text/plain": [
              "Chennai Super Kings            131\n",
              "Deccan Chargers                 75\n",
              "Delhi Daredevils               147\n",
              "Gujarat Lions                   30\n",
              "Kings XI Punjab                148\n",
              "Kochi Tuskers Kerala            14\n",
              "Kolkata Knight Riders          148\n",
              "Mumbai Indians                 157\n",
              "Pune Warriors                   46\n",
              "Rajasthan Royals               118\n",
              "Rising Pune Supergiant          16\n",
              "Rising Pune Supergiants         14\n",
              "Royal Challengers Bangalore    152\n",
              "Sunrisers Hyderabad             76\n",
              "dtype: int64"
            ]
          },
          "execution_count": 236,
          "metadata": {},
          "output_type": "execute_result"
        }
      ],
      "source": [
        "data['team1'].value_counts() + data['team2'].value_counts()"
      ]
    },
    {
      "cell_type": "code",
      "execution_count": null,
      "id": "ebeb957f",
      "metadata": {
        "id": "ebeb957f"
      },
      "outputs": [],
      "source": [
        "# (data['team1'].value_counts() + data['team2'].value_counts()).head()"
      ]
    },
    {
      "cell_type": "markdown",
      "id": "9d0299ed",
      "metadata": {
        "id": "9d0299ed"
      },
      "source": [
        "***Sort Values***"
      ]
    },
    {
      "cell_type": "code",
      "execution_count": null,
      "id": "554d7cf0",
      "metadata": {
        "id": "554d7cf0",
        "outputId": "b2c7e086-865a-45fa-ca26-704413058db8"
      },
      "outputs": [
        {
          "data": {
            "text/plain": [
              "Mumbai Indians                 157\n",
              "Royal Challengers Bangalore    152\n",
              "Kings XI Punjab                148\n",
              "Kolkata Knight Riders          148\n",
              "Delhi Daredevils               147\n",
              "Chennai Super Kings            131\n",
              "Rajasthan Royals               118\n",
              "Sunrisers Hyderabad             76\n",
              "Deccan Chargers                 75\n",
              "Pune Warriors                   46\n",
              "Gujarat Lions                   30\n",
              "Rising Pune Supergiant          16\n",
              "Kochi Tuskers Kerala            14\n",
              "Rising Pune Supergiants         14\n",
              "dtype: int64"
            ]
          },
          "execution_count": 238,
          "metadata": {},
          "output_type": "execute_result"
        }
      ],
      "source": [
        "(data['team1'].value_counts() + data['team2'].value_counts()).sort_values(ascending = False)"
      ]
    },
    {
      "cell_type": "code",
      "execution_count": null,
      "id": "ed35861a",
      "metadata": {
        "id": "ed35861a"
      },
      "outputs": [],
      "source": [
        "# data.sort_values('city',ascending = False)"
      ]
    },
    {
      "cell_type": "code",
      "execution_count": null,
      "id": "8ffa0332",
      "metadata": {
        "id": "8ffa0332"
      },
      "outputs": [],
      "source": [
        "# data.sort_values(['city','date'], ascending = [True,False])"
      ]
    },
    {
      "cell_type": "markdown",
      "id": "bd1ff33b",
      "metadata": {
        "id": "bd1ff33b"
      },
      "source": [
        "***Drop Duplicates***"
      ]
    },
    {
      "cell_type": "code",
      "execution_count": null,
      "id": "816fbb45",
      "metadata": {
        "id": "816fbb45",
        "outputId": "103f89e6-3f37-42fd-8093-52b0789abace"
      },
      "outputs": [
        {
          "data": {
            "text/plain": [
              "(31, 18)"
            ]
          },
          "execution_count": 241,
          "metadata": {},
          "output_type": "execute_result"
        }
      ],
      "source": [
        "data.drop_duplicates('city').shape"
      ]
    },
    {
      "cell_type": "code",
      "execution_count": null,
      "id": "074afb42",
      "metadata": {
        "id": "074afb42",
        "outputId": "d1f59a6e-64c5-4296-ed42-9abba8439052"
      },
      "outputs": [
        {
          "data": {
            "text/plain": [
              "(107, 18)"
            ]
          },
          "execution_count": 242,
          "metadata": {},
          "output_type": "execute_result"
        }
      ],
      "source": [
        "data.drop_duplicates(subset = ['city','season']).shape"
      ]
    },
    {
      "cell_type": "code",
      "execution_count": null,
      "id": "f14c6d7e",
      "metadata": {
        "scrolled": true,
        "id": "f14c6d7e",
        "outputId": "463a6284-e4b7-40db-c3ae-47bed1a43475"
      },
      "outputs": [
        {
          "data": {
            "text/html": [
              "<div>\n",
              "<style scoped>\n",
              "    .dataframe tbody tr th:only-of-type {\n",
              "        vertical-align: middle;\n",
              "    }\n",
              "\n",
              "    .dataframe tbody tr th {\n",
              "        vertical-align: top;\n",
              "    }\n",
              "\n",
              "    .dataframe thead th {\n",
              "        text-align: right;\n",
              "    }\n",
              "</style>\n",
              "<table border=\"1\" class=\"dataframe\">\n",
              "  <thead>\n",
              "    <tr style=\"text-align: right;\">\n",
              "      <th></th>\n",
              "      <th>season</th>\n",
              "      <th>winner</th>\n",
              "    </tr>\n",
              "  </thead>\n",
              "  <tbody>\n",
              "    <tr>\n",
              "      <th>116</th>\n",
              "      <td>2008</td>\n",
              "      <td>Rajasthan Royals</td>\n",
              "    </tr>\n",
              "    <tr>\n",
              "      <th>173</th>\n",
              "      <td>2009</td>\n",
              "      <td>Deccan Chargers</td>\n",
              "    </tr>\n",
              "    <tr>\n",
              "      <th>233</th>\n",
              "      <td>2010</td>\n",
              "      <td>Chennai Super Kings</td>\n",
              "    </tr>\n",
              "    <tr>\n",
              "      <th>306</th>\n",
              "      <td>2011</td>\n",
              "      <td>Chennai Super Kings</td>\n",
              "    </tr>\n",
              "    <tr>\n",
              "      <th>380</th>\n",
              "      <td>2012</td>\n",
              "      <td>Kolkata Knight Riders</td>\n",
              "    </tr>\n",
              "    <tr>\n",
              "      <th>456</th>\n",
              "      <td>2013</td>\n",
              "      <td>Mumbai Indians</td>\n",
              "    </tr>\n",
              "    <tr>\n",
              "      <th>516</th>\n",
              "      <td>2014</td>\n",
              "      <td>Kolkata Knight Riders</td>\n",
              "    </tr>\n",
              "    <tr>\n",
              "      <th>575</th>\n",
              "      <td>2015</td>\n",
              "      <td>Mumbai Indians</td>\n",
              "    </tr>\n",
              "    <tr>\n",
              "      <th>635</th>\n",
              "      <td>2016</td>\n",
              "      <td>Sunrisers Hyderabad</td>\n",
              "    </tr>\n",
              "    <tr>\n",
              "      <th>58</th>\n",
              "      <td>2017</td>\n",
              "      <td>Mumbai Indians</td>\n",
              "    </tr>\n",
              "  </tbody>\n",
              "</table>\n",
              "</div>"
            ],
            "text/plain": [
              "     season                 winner\n",
              "116    2008       Rajasthan Royals\n",
              "173    2009        Deccan Chargers\n",
              "233    2010    Chennai Super Kings\n",
              "306    2011    Chennai Super Kings\n",
              "380    2012  Kolkata Knight Riders\n",
              "456    2013         Mumbai Indians\n",
              "516    2014  Kolkata Knight Riders\n",
              "575    2015         Mumbai Indians\n",
              "635    2016    Sunrisers Hyderabad\n",
              "58     2017         Mumbai Indians"
            ]
          },
          "execution_count": 243,
          "metadata": {},
          "output_type": "execute_result"
        }
      ],
      "source": [
        "data.drop_duplicates('season',keep = 'last')[['season','winner']].sort_values('season')"
      ]
    },
    {
      "cell_type": "markdown",
      "id": "102c1bf1",
      "metadata": {
        "id": "102c1bf1"
      },
      "source": [
        "***GroupBy***"
      ]
    },
    {
      "cell_type": "code",
      "execution_count": null,
      "id": "b89d8519",
      "metadata": {
        "id": "b89d8519",
        "outputId": "2368eab9-7830-40b3-9e4b-2ad645587cfc"
      },
      "outputs": [
        {
          "data": {
            "text/html": [
              "<div>\n",
              "<style scoped>\n",
              "    .dataframe tbody tr th:only-of-type {\n",
              "        vertical-align: middle;\n",
              "    }\n",
              "\n",
              "    .dataframe tbody tr th {\n",
              "        vertical-align: top;\n",
              "    }\n",
              "\n",
              "    .dataframe thead th {\n",
              "        text-align: right;\n",
              "    }\n",
              "</style>\n",
              "<table border=\"1\" class=\"dataframe\">\n",
              "  <thead>\n",
              "    <tr style=\"text-align: right;\">\n",
              "      <th></th>\n",
              "      <th>Rank</th>\n",
              "      <th>Title</th>\n",
              "      <th>Website</th>\n",
              "      <th>Employees</th>\n",
              "      <th>Sector</th>\n",
              "      <th>Industry</th>\n",
              "      <th>Hqlocation</th>\n",
              "      <th>Hqaddr</th>\n",
              "      <th>Hqcity</th>\n",
              "      <th>Hqstate</th>\n",
              "      <th>...</th>\n",
              "      <th>Ceo-title</th>\n",
              "      <th>Address</th>\n",
              "      <th>Ticker</th>\n",
              "      <th>Fullname</th>\n",
              "      <th>Revenues</th>\n",
              "      <th>Revchange</th>\n",
              "      <th>Profits</th>\n",
              "      <th>Prftchange</th>\n",
              "      <th>Assets</th>\n",
              "      <th>Totshequity</th>\n",
              "    </tr>\n",
              "  </thead>\n",
              "  <tbody>\n",
              "    <tr>\n",
              "      <th>0</th>\n",
              "      <td>1</td>\n",
              "      <td>Walmart</td>\n",
              "      <td>http://www.walmart.com</td>\n",
              "      <td>2300000</td>\n",
              "      <td>Retailing</td>\n",
              "      <td>General Merchandisers</td>\n",
              "      <td>Bentonville, AR</td>\n",
              "      <td>702 S.W. Eighth St.</td>\n",
              "      <td>Bentonville</td>\n",
              "      <td>AR</td>\n",
              "      <td>...</td>\n",
              "      <td>President, Chief Executive Officer &amp; Director</td>\n",
              "      <td>702 S.W. Eighth St., Bentonville, AR 72716</td>\n",
              "      <td>WMT</td>\n",
              "      <td>Wal-Mart Stores, Inc.</td>\n",
              "      <td>485873</td>\n",
              "      <td>0.8</td>\n",
              "      <td>13643.0</td>\n",
              "      <td>-7.2</td>\n",
              "      <td>198825</td>\n",
              "      <td>77798.0</td>\n",
              "    </tr>\n",
              "    <tr>\n",
              "      <th>1</th>\n",
              "      <td>2</td>\n",
              "      <td>Berkshire Hathaway</td>\n",
              "      <td>http://www.berkshirehathaway.com</td>\n",
              "      <td>367700</td>\n",
              "      <td>Financials</td>\n",
              "      <td>Insurance: Property and Casualty (Stock)</td>\n",
              "      <td>Omaha, NE</td>\n",
              "      <td>3555 Farnam St.</td>\n",
              "      <td>Omaha</td>\n",
              "      <td>NE</td>\n",
              "      <td>...</td>\n",
              "      <td>Chairman &amp; Chief Executive Officer</td>\n",
              "      <td>3555 Farnam St., Omaha, NE 68131</td>\n",
              "      <td>BRKA</td>\n",
              "      <td>Berkshire Hathaway Inc.</td>\n",
              "      <td>223604</td>\n",
              "      <td>6.1</td>\n",
              "      <td>24074.0</td>\n",
              "      <td>0</td>\n",
              "      <td>620854</td>\n",
              "      <td>283001.0</td>\n",
              "    </tr>\n",
              "    <tr>\n",
              "      <th>2</th>\n",
              "      <td>3</td>\n",
              "      <td>Apple</td>\n",
              "      <td>http://www.apple.com</td>\n",
              "      <td>116000</td>\n",
              "      <td>Technology</td>\n",
              "      <td>Computers, Office Equipment</td>\n",
              "      <td>Cupertino, CA</td>\n",
              "      <td>1 Infinite Loop</td>\n",
              "      <td>Cupertino</td>\n",
              "      <td>CA</td>\n",
              "      <td>...</td>\n",
              "      <td>Chief Executive Officer &amp; Director</td>\n",
              "      <td>1 Infinite Loop, Cupertino, CA 95014</td>\n",
              "      <td>AAPL</td>\n",
              "      <td>Apple, Inc.</td>\n",
              "      <td>215639</td>\n",
              "      <td>-7.7</td>\n",
              "      <td>45687.0</td>\n",
              "      <td>-14.4</td>\n",
              "      <td>321686</td>\n",
              "      <td>128249.0</td>\n",
              "    </tr>\n",
              "    <tr>\n",
              "      <th>3</th>\n",
              "      <td>4</td>\n",
              "      <td>Exxon Mobil</td>\n",
              "      <td>http://www.exxonmobil.com</td>\n",
              "      <td>72700</td>\n",
              "      <td>Energy</td>\n",
              "      <td>Petroleum Refining</td>\n",
              "      <td>Irving, TX</td>\n",
              "      <td>5959 Las Colinas Blvd.</td>\n",
              "      <td>Irving</td>\n",
              "      <td>TX</td>\n",
              "      <td>...</td>\n",
              "      <td>Chairman &amp; Chief Executive Officer</td>\n",
              "      <td>5959 Las Colinas Blvd., Irving, TX 75039</td>\n",
              "      <td>XOM</td>\n",
              "      <td>Exxon Mobil Corporation</td>\n",
              "      <td>205004</td>\n",
              "      <td>-16.7</td>\n",
              "      <td>7840.0</td>\n",
              "      <td>-51.5</td>\n",
              "      <td>330314</td>\n",
              "      <td>167325.0</td>\n",
              "    </tr>\n",
              "    <tr>\n",
              "      <th>4</th>\n",
              "      <td>5</td>\n",
              "      <td>McKesson</td>\n",
              "      <td>http://www.mckesson.com</td>\n",
              "      <td>68000</td>\n",
              "      <td>Wholesalers</td>\n",
              "      <td>Wholesalers: Health Care</td>\n",
              "      <td>San Francisco, CA</td>\n",
              "      <td>1 Post St.</td>\n",
              "      <td>San Francisco</td>\n",
              "      <td>CA</td>\n",
              "      <td>...</td>\n",
              "      <td>Chairman, President &amp; Chief Executive Officer</td>\n",
              "      <td>1 Post St., San Francisco, CA 94104</td>\n",
              "      <td>MCK</td>\n",
              "      <td>McKesson Corporation</td>\n",
              "      <td>192487</td>\n",
              "      <td>6.2</td>\n",
              "      <td>2258.0</td>\n",
              "      <td>53</td>\n",
              "      <td>56563</td>\n",
              "      <td>8924.0</td>\n",
              "    </tr>\n",
              "  </tbody>\n",
              "</table>\n",
              "<p>5 rows × 23 columns</p>\n",
              "</div>"
            ],
            "text/plain": [
              "   Rank               Title                           Website  Employees  \\\n",
              "0     1             Walmart            http://www.walmart.com    2300000   \n",
              "1     2  Berkshire Hathaway  http://www.berkshirehathaway.com     367700   \n",
              "2     3               Apple              http://www.apple.com     116000   \n",
              "3     4         Exxon Mobil         http://www.exxonmobil.com      72700   \n",
              "4     5            McKesson           http://www.mckesson.com      68000   \n",
              "\n",
              "        Sector                                  Industry         Hqlocation  \\\n",
              "0    Retailing                     General Merchandisers    Bentonville, AR   \n",
              "1   Financials  Insurance: Property and Casualty (Stock)          Omaha, NE   \n",
              "2   Technology               Computers, Office Equipment      Cupertino, CA   \n",
              "3       Energy                        Petroleum Refining         Irving, TX   \n",
              "4  Wholesalers                  Wholesalers: Health Care  San Francisco, CA   \n",
              "\n",
              "                   Hqaddr         Hqcity Hqstate  ...  \\\n",
              "0     702 S.W. Eighth St.    Bentonville      AR  ...   \n",
              "1         3555 Farnam St.          Omaha      NE  ...   \n",
              "2         1 Infinite Loop      Cupertino      CA  ...   \n",
              "3  5959 Las Colinas Blvd.         Irving      TX  ...   \n",
              "4              1 Post St.  San Francisco      CA  ...   \n",
              "\n",
              "                                       Ceo-title  \\\n",
              "0  President, Chief Executive Officer & Director   \n",
              "1             Chairman & Chief Executive Officer   \n",
              "2             Chief Executive Officer & Director   \n",
              "3             Chairman & Chief Executive Officer   \n",
              "4  Chairman, President & Chief Executive Officer   \n",
              "\n",
              "                                      Address Ticker                 Fullname  \\\n",
              "0  702 S.W. Eighth St., Bentonville, AR 72716    WMT    Wal-Mart Stores, Inc.   \n",
              "1            3555 Farnam St., Omaha, NE 68131   BRKA  Berkshire Hathaway Inc.   \n",
              "2        1 Infinite Loop, Cupertino, CA 95014   AAPL              Apple, Inc.   \n",
              "3    5959 Las Colinas Blvd., Irving, TX 75039    XOM  Exxon Mobil Corporation   \n",
              "4         1 Post St., San Francisco, CA 94104    MCK     McKesson Corporation   \n",
              "\n",
              "  Revenues Revchange  Profits  Prftchange  Assets  Totshequity  \n",
              "0   485873       0.8  13643.0        -7.2  198825      77798.0  \n",
              "1   223604       6.1  24074.0           0  620854     283001.0  \n",
              "2   215639      -7.7  45687.0       -14.4  321686     128249.0  \n",
              "3   205004     -16.7   7840.0       -51.5  330314     167325.0  \n",
              "4   192487       6.2   2258.0          53   56563       8924.0  \n",
              "\n",
              "[5 rows x 23 columns]"
            ]
          },
          "execution_count": 244,
          "metadata": {},
          "output_type": "execute_result"
        }
      ],
      "source": [
        "company = pd.read_csv('C:\\\\Users\\Chandrakant\\Downloads\\Pandas\\Fortune500.csv')\n",
        "company.head()"
      ]
    },
    {
      "cell_type": "code",
      "execution_count": null,
      "id": "4d0b10ca",
      "metadata": {
        "id": "4d0b10ca",
        "outputId": "8d70d120-4a42-4ab6-b759-0c8cadb9c2ac"
      },
      "outputs": [
        {
          "data": {
            "text/plain": [
              "<pandas.core.groupby.generic.DataFrameGroupBy object at 0x000002EA73BA1720>"
            ]
          },
          "execution_count": 245,
          "metadata": {},
          "output_type": "execute_result"
        }
      ],
      "source": [
        "sectors = company.groupby('Sector')\n",
        "sectors"
      ]
    },
    {
      "cell_type": "code",
      "execution_count": null,
      "id": "20116546",
      "metadata": {
        "id": "20116546",
        "outputId": "dff715ad-4ef9-4e99-ed1f-1a2781d4f956"
      },
      "outputs": [
        {
          "data": {
            "text/plain": [
              "500"
            ]
          },
          "execution_count": 246,
          "metadata": {},
          "output_type": "execute_result"
        }
      ],
      "source": [
        "len(company)"
      ]
    },
    {
      "cell_type": "code",
      "execution_count": null,
      "id": "29aeeb73",
      "metadata": {
        "id": "29aeeb73",
        "outputId": "90b82fe9-998d-4095-db8a-67f1ea460f2b"
      },
      "outputs": [
        {
          "data": {
            "text/plain": [
              "21"
            ]
          },
          "execution_count": 247,
          "metadata": {},
          "output_type": "execute_result"
        }
      ],
      "source": [
        "len(sectors)"
      ]
    },
    {
      "cell_type": "code",
      "execution_count": null,
      "id": "6d6fc1a2",
      "metadata": {
        "id": "6d6fc1a2",
        "outputId": "a8cab6c3-fb63-45e6-8552-3b2971cca872"
      },
      "outputs": [
        {
          "data": {
            "text/plain": [
              "Sector\n",
              "Financials                       84\n",
              "Energy                           57\n",
              "Retailing                        47\n",
              "Technology                       43\n",
              "Health Care                      38\n",
              "Wholesalers                      29\n",
              "Food, Beverages & Tobacco        24\n",
              "Business Services                20\n",
              "Materials                        19\n",
              "Industrials                      19\n",
              "Transportation                   17\n",
              "Chemicals                        14\n",
              "Engineering & Construction       13\n",
              "Aerospace & Defense              12\n",
              "Household Products               12\n",
              "Media                            11\n",
              "Telecommunications               10\n",
              "Hotels, Restaurants & Leisure    10\n",
              "Motor Vehicles & Parts            9\n",
              "Food & Drug Stores                7\n",
              "Apparel                           5\n",
              "dtype: int64"
            ]
          },
          "execution_count": 248,
          "metadata": {},
          "output_type": "execute_result"
        }
      ],
      "source": [
        "sectors.size().sort_values(ascending = False)"
      ]
    },
    {
      "cell_type": "code",
      "execution_count": null,
      "id": "be69b161",
      "metadata": {
        "id": "be69b161"
      },
      "outputs": [],
      "source": [
        "# sectors.first()"
      ]
    },
    {
      "cell_type": "code",
      "execution_count": null,
      "id": "3247c127",
      "metadata": {
        "id": "3247c127"
      },
      "outputs": [],
      "source": [
        "# sectors.last()"
      ]
    },
    {
      "cell_type": "code",
      "execution_count": null,
      "id": "4dbb5e5b",
      "metadata": {
        "id": "4dbb5e5b",
        "outputId": "bbe7bf93-cb41-43ff-a4e7-e350d798c3a0"
      },
      "outputs": [
        {
          "data": {
            "text/plain": [
              "{'Aerospace & Defense': [23, 49, 55, 89, 113, 115, 199, 227, 272, 379, 392, 491], 'Apparel': [87, 229, 334, 370, 431], 'Business Services': [145, 178, 186, 191, 200, 239, 241, 263, 266, 298, 300, 344, 377, 451, 458, 470, 477, 489, 492, 499], 'Chemicals': [61, 112, 182, 203, 210, 235, 274, 288, 293, 308, 376, 466, 481, 483], 'Energy': [3, 18, 33, 36, 50, 78, 88, 102, 114, 116, 120, 121, 140, 144, 156, 166, 169, 171, 172, 174, 193, 195, 214, 228, 230, 233, 234, 236, 237, 255, 262, 271, 273, 277, 279, 284, 307, 311, 327, 342, 343, 348, 355, 357, 361, 364, 366, 367, 374, 399, 401, 418, 430, 456, 479, 487, 498], 'Engineering & Construction': [148, 160, 231, 258, 259, 323, 352, 354, 359, 414, 445, 493, 496], 'Financials': [1, 19, 20, 24, 25, 29, 32, 38, 41, 47, 54, 64, 67, 74, 75, 76, 77, 79, 83, 85, 96, 98, 99, 101, 119, 124, 125, 152, 165, 167, 176, 184, 188, 206, 209, 212, 213, 217, 221, 226, 238, 244, 245, 254, 257, 261, 265, 270, 276, 285, 292, 301, 302, 314, 315, 328, 341, 353, 356, 360, 381, 388, 390, 397, 402, 404, 410, 427, 435, 436, 438, 447, 450, 454, 459, 461, 463, 468, 471, 474, 475, 476, 478, 482], 'Food & Drug Stores': [16, 17, 48, 84, 90, 157, 175], 'Food, Beverages & Tobacco': [43, 44, 63, 81, 92, 103, 105, 108, 147, 164, 196, 208, 215, 222, 294, 338, 345, 350, 368, 407, 415, 426, 455, 485], 'Health Care': [5, 6, 21, 28, 34, 42, 52, 53, 62, 65, 68, 69, 91, 110, 122, 129, 131, 133, 134, 146, 155, 180, 194, 224, 247, 251, 253, 275, 280, 289, 326, 351, 365, 373, 375, 389, 433, 453], 'Hotels, Restaurants & Leisure': [111, 130, 162, 240, 248, 296, 384, 398, 421, 460], 'Household Products': [35, 154, 181, 207, 249, 252, 310, 371, 417, 443, 452, 473], 'Industrials': [12, 72, 73, 93, 104, 136, 138, 158, 163, 201, 250, 297, 336, 369, 385, 391, 424, 441, 444], 'Materials': [132, 168, 189, 278, 299, 305, 319, 332, 340, 346, 394, 396, 400, 412, 420, 429, 440, 449, 457], 'Media': [51, 94, 100, 192, 223, 329, 331, 387, 411, 425, 490], 'Motor Vehicles & Parts': [7, 9, 150, 183, 282, 304, 321, 382, 446], 'Retailing': [0, 15, 22, 37, 39, 71, 86, 109, 126, 127, 128, 135, 139, 141, 149, 173, 177, 187, 202, 218, 219, 220, 232, 243, 260, 268, 269, 286, 290, 291, 295, 306, 317, 318, 320, 322, 339, 347, 383, 395, 409, 416, 422, 462, 469, 494, 495], 'Technology': [2, 11, 26, 27, 31, 40, 46, 58, 59, 60, 80, 97, 118, 143, 151, 153, 161, 198, 204, 205, 216, 225, 264, 267, 309, 313, 316, 325, 362, 378, 380, 386, 405, 408, 413, 423, 432, 439, 442, 464, 467, 480, 497], 'Telecommunications': [8, 13, 30, 95, 159, 185, 312, 335, 448, 484], 'Transportation': [45, 57, 66, 70, 82, 137, 142, 190, 211, 256, 283, 393, 403, 406, 428, 434, 437], 'Wholesalers': [4, 10, 14, 56, 106, 107, 117, 123, 170, 179, 197, 242, 246, 281, 287, 303, 324, 330, 333, 337, 349, 358, 363, 372, 419, 465, 472, 486, 488]}"
            ]
          },
          "execution_count": 251,
          "metadata": {},
          "output_type": "execute_result"
        }
      ],
      "source": [
        "sectors.groups\n",
        "\n",
        "#company.iloc[23,:]"
      ]
    },
    {
      "cell_type": "code",
      "execution_count": null,
      "id": "a3999466",
      "metadata": {
        "id": "a3999466",
        "outputId": "f56d73fb-3413-4963-f0c0-1489b65bd660"
      },
      "outputs": [
        {
          "data": {
            "text/plain": [
              "(57, 23)"
            ]
          },
          "execution_count": 252,
          "metadata": {},
          "output_type": "execute_result"
        }
      ],
      "source": [
        "sectors.get_group('Energy').shape"
      ]
    },
    {
      "cell_type": "code",
      "execution_count": null,
      "id": "6c5f98f1",
      "metadata": {
        "id": "6c5f98f1",
        "outputId": "ebf38397-6b39-4a97-dd73-3ecde3458626"
      },
      "outputs": [
        {
          "data": {
            "text/html": [
              "<div>\n",
              "<style scoped>\n",
              "    .dataframe tbody tr th:only-of-type {\n",
              "        vertical-align: middle;\n",
              "    }\n",
              "\n",
              "    .dataframe tbody tr th {\n",
              "        vertical-align: top;\n",
              "    }\n",
              "\n",
              "    .dataframe thead th {\n",
              "        text-align: right;\n",
              "    }\n",
              "</style>\n",
              "<table border=\"1\" class=\"dataframe\">\n",
              "  <thead>\n",
              "    <tr style=\"text-align: right;\">\n",
              "      <th></th>\n",
              "      <th>Rank</th>\n",
              "      <th>Employees</th>\n",
              "      <th>Hqzip</th>\n",
              "      <th>Revenues</th>\n",
              "      <th>Revchange</th>\n",
              "      <th>Profits</th>\n",
              "      <th>Assets</th>\n",
              "      <th>Totshequity</th>\n",
              "    </tr>\n",
              "    <tr>\n",
              "      <th>Sector</th>\n",
              "      <th></th>\n",
              "      <th></th>\n",
              "      <th></th>\n",
              "      <th></th>\n",
              "      <th></th>\n",
              "      <th></th>\n",
              "      <th></th>\n",
              "      <th></th>\n",
              "    </tr>\n",
              "  </thead>\n",
              "  <tbody>\n",
              "    <tr>\n",
              "      <th>Aerospace &amp; Defense</th>\n",
              "      <td>201.333333</td>\n",
              "      <td>71986.666667</td>\n",
              "      <td>25020.500000</td>\n",
              "      <td>28191.833333</td>\n",
              "      <td>-3.208333</td>\n",
              "      <td>2093.308333</td>\n",
              "      <td>31897.666667</td>\n",
              "      <td>6425.750000</td>\n",
              "    </tr>\n",
              "    <tr>\n",
              "      <th>Apparel</th>\n",
              "      <td>291.200000</td>\n",
              "      <td>50930.000000</td>\n",
              "      <td>34311.200000</td>\n",
              "      <td>13250.800000</td>\n",
              "      <td>1.940000</td>\n",
              "      <td>1263.700000</td>\n",
              "      <td>11064.800000</td>\n",
              "      <td>5394.400000</td>\n",
              "    </tr>\n",
              "    <tr>\n",
              "      <th>Business Services</th>\n",
              "      <td>329.200000</td>\n",
              "      <td>42252.500000</td>\n",
              "      <td>45069.200000</td>\n",
              "      <td>9734.250000</td>\n",
              "      <td>5.590000</td>\n",
              "      <td>1155.355000</td>\n",
              "      <td>19626.100000</td>\n",
              "      <td>5044.250000</td>\n",
              "    </tr>\n",
              "    <tr>\n",
              "      <th>Chemicals</th>\n",
              "      <td>284.714286</td>\n",
              "      <td>26064.714286</td>\n",
              "      <td>42833.142857</td>\n",
              "      <td>13476.214286</td>\n",
              "      <td>2.228571</td>\n",
              "      <td>1137.021429</td>\n",
              "      <td>20151.214286</td>\n",
              "      <td>6185.000000</td>\n",
              "    </tr>\n",
              "    <tr>\n",
              "      <th>Energy</th>\n",
              "      <td>249.421053</td>\n",
              "      <td>15254.578947</td>\n",
              "      <td>59845.789474</td>\n",
              "      <td>20638.894737</td>\n",
              "      <td>-7.792982</td>\n",
              "      <td>6.501754</td>\n",
              "      <td>48756.210526</td>\n",
              "      <td>16048.789474</td>\n",
              "    </tr>\n",
              "    <tr>\n",
              "      <th>Engineering &amp; Construction</th>\n",
              "      <td>331.153846</td>\n",
              "      <td>25314.615385</td>\n",
              "      <td>51807.692308</td>\n",
              "      <td>9590.923077</td>\n",
              "      <td>13.369231</td>\n",
              "      <td>390.169231</td>\n",
              "      <td>8199.230769</td>\n",
              "      <td>3666.692308</td>\n",
              "    </tr>\n",
              "    <tr>\n",
              "      <th>Financials</th>\n",
              "      <td>247.797619</td>\n",
              "      <td>37642.833333</td>\n",
              "      <td>34289.547619</td>\n",
              "      <td>24614.369048</td>\n",
              "      <td>2.573810</td>\n",
              "      <td>2719.776190</td>\n",
              "      <td>319245.095238</td>\n",
              "      <td>31624.828571</td>\n",
              "    </tr>\n",
              "    <tr>\n",
              "      <th>Food &amp; Drug Stores</th>\n",
              "      <td>84.857143</td>\n",
              "      <td>198585.000000</td>\n",
              "      <td>53398.857143</td>\n",
              "      <td>55669.428571</td>\n",
              "      <td>22.271429</td>\n",
              "      <td>1217.428571</td>\n",
              "      <td>24630.714286</td>\n",
              "      <td>7861.142857</td>\n",
              "    </tr>\n",
              "    <tr>\n",
              "      <th>Food, Beverages &amp; Tobacco</th>\n",
              "      <td>237.416667</td>\n",
              "      <td>41679.541667</td>\n",
              "      <td>44271.833333</td>\n",
              "      <td>19700.250000</td>\n",
              "      <td>5.404167</td>\n",
              "      <td>2346.183333</td>\n",
              "      <td>29059.750000</td>\n",
              "      <td>9035.958333</td>\n",
              "    </tr>\n",
              "    <tr>\n",
              "      <th>Health Care</th>\n",
              "      <td>182.947368</td>\n",
              "      <td>61616.394737</td>\n",
              "      <td>37741.552632</td>\n",
              "      <td>34694.447368</td>\n",
              "      <td>10.223684</td>\n",
              "      <td>2773.260526</td>\n",
              "      <td>42078.894737</td>\n",
              "      <td>14021.500000</td>\n",
              "    </tr>\n",
              "    <tr>\n",
              "      <th>Hotels, Restaurants &amp; Leisure</th>\n",
              "      <td>286.000000</td>\n",
              "      <td>183874.200000</td>\n",
              "      <td>53492.200000</td>\n",
              "      <td>12118.900000</td>\n",
              "      <td>-1.950000</td>\n",
              "      <td>1451.060000</td>\n",
              "      <td>16795.400000</td>\n",
              "      <td>2672.000000</td>\n",
              "    </tr>\n",
              "    <tr>\n",
              "      <th>Household Products</th>\n",
              "      <td>296.333333</td>\n",
              "      <td>40278.666667</td>\n",
              "      <td>36486.500000</td>\n",
              "      <td>15070.500000</td>\n",
              "      <td>8.775000</td>\n",
              "      <td>1650.308333</td>\n",
              "      <td>23179.083333</td>\n",
              "      <td>7188.166667</td>\n",
              "    </tr>\n",
              "    <tr>\n",
              "      <th>Industrials</th>\n",
              "      <td>237.157895</td>\n",
              "      <td>64436.631579</td>\n",
              "      <td>44082.684211</td>\n",
              "      <td>22018.894737</td>\n",
              "      <td>-5.036842</td>\n",
              "      <td>1727.689474</td>\n",
              "      <td>40117.684211</td>\n",
              "      <td>9844.773684</td>\n",
              "    </tr>\n",
              "    <tr>\n",
              "      <th>Materials</th>\n",
              "      <td>343.368421</td>\n",
              "      <td>20280.000000</td>\n",
              "      <td>51266.789474</td>\n",
              "      <td>8934.473684</td>\n",
              "      <td>8.042105</td>\n",
              "      <td>272.468421</td>\n",
              "      <td>10833.263158</td>\n",
              "      <td>3034.368421</td>\n",
              "    </tr>\n",
              "    <tr>\n",
              "      <th>Media</th>\n",
              "      <td>276.727273</td>\n",
              "      <td>34431.454545</td>\n",
              "      <td>42882.636364</td>\n",
              "      <td>16433.363636</td>\n",
              "      <td>-1.145455</td>\n",
              "      <td>1821.336364</td>\n",
              "      <td>30876.272727</td>\n",
              "      <td>9792.090909</td>\n",
              "    </tr>\n",
              "    <tr>\n",
              "      <th>Motor Vehicles &amp; Parts</th>\n",
              "      <td>232.555556</td>\n",
              "      <td>91025.000000</td>\n",
              "      <td>53697.555556</td>\n",
              "      <td>43607.333333</td>\n",
              "      <td>11.300000</td>\n",
              "      <td>1919.533333</td>\n",
              "      <td>59443.111111</td>\n",
              "      <td>10440.366667</td>\n",
              "    </tr>\n",
              "    <tr>\n",
              "      <th>Retailing</th>\n",
              "      <td>242.851064</td>\n",
              "      <td>123827.382979</td>\n",
              "      <td>46602.000000</td>\n",
              "      <td>29431.510638</td>\n",
              "      <td>2.485106</td>\n",
              "      <td>991.785106</td>\n",
              "      <td>14473.148936</td>\n",
              "      <td>3963.212766</td>\n",
              "    </tr>\n",
              "    <tr>\n",
              "      <th>Technology</th>\n",
              "      <td>244.744186</td>\n",
              "      <td>70915.069767</td>\n",
              "      <td>68534.069767</td>\n",
              "      <td>29246.255814</td>\n",
              "      <td>7.162791</td>\n",
              "      <td>4137.241860</td>\n",
              "      <td>48380.325581</td>\n",
              "      <td>21049.441860</td>\n",
              "    </tr>\n",
              "    <tr>\n",
              "      <th>Telecommunications</th>\n",
              "      <td>207.900000</td>\n",
              "      <td>79324.900000</td>\n",
              "      <td>42375.700000</td>\n",
              "      <td>45997.800000</td>\n",
              "      <td>28.380000</td>\n",
              "      <td>4127.280000</td>\n",
              "      <td>114922.700000</td>\n",
              "      <td>28014.700000</td>\n",
              "    </tr>\n",
              "    <tr>\n",
              "      <th>Transportation</th>\n",
              "      <td>238.588235</td>\n",
              "      <td>78305.588235</td>\n",
              "      <td>50787.705882</td>\n",
              "      <td>20866.647059</td>\n",
              "      <td>5.476471</td>\n",
              "      <td>1670.294118</td>\n",
              "      <td>25922.000000</td>\n",
              "      <td>6442.000000</td>\n",
              "    </tr>\n",
              "    <tr>\n",
              "      <th>Wholesalers</th>\n",
              "      <td>260.931034</td>\n",
              "      <td>21753.172414</td>\n",
              "      <td>49092.620690</td>\n",
              "      <td>27566.068966</td>\n",
              "      <td>3.834483</td>\n",
              "      <td>391.279310</td>\n",
              "      <td>9362.586207</td>\n",
              "      <td>2222.755172</td>\n",
              "    </tr>\n",
              "  </tbody>\n",
              "</table>\n",
              "</div>"
            ],
            "text/plain": [
              "                                     Rank      Employees         Hqzip  \\\n",
              "Sector                                                                   \n",
              "Aerospace & Defense            201.333333   71986.666667  25020.500000   \n",
              "Apparel                        291.200000   50930.000000  34311.200000   \n",
              "Business Services              329.200000   42252.500000  45069.200000   \n",
              "Chemicals                      284.714286   26064.714286  42833.142857   \n",
              "Energy                         249.421053   15254.578947  59845.789474   \n",
              "Engineering & Construction     331.153846   25314.615385  51807.692308   \n",
              "Financials                     247.797619   37642.833333  34289.547619   \n",
              "Food & Drug Stores              84.857143  198585.000000  53398.857143   \n",
              "Food, Beverages & Tobacco      237.416667   41679.541667  44271.833333   \n",
              "Health Care                    182.947368   61616.394737  37741.552632   \n",
              "Hotels, Restaurants & Leisure  286.000000  183874.200000  53492.200000   \n",
              "Household Products             296.333333   40278.666667  36486.500000   \n",
              "Industrials                    237.157895   64436.631579  44082.684211   \n",
              "Materials                      343.368421   20280.000000  51266.789474   \n",
              "Media                          276.727273   34431.454545  42882.636364   \n",
              "Motor Vehicles & Parts         232.555556   91025.000000  53697.555556   \n",
              "Retailing                      242.851064  123827.382979  46602.000000   \n",
              "Technology                     244.744186   70915.069767  68534.069767   \n",
              "Telecommunications             207.900000   79324.900000  42375.700000   \n",
              "Transportation                 238.588235   78305.588235  50787.705882   \n",
              "Wholesalers                    260.931034   21753.172414  49092.620690   \n",
              "\n",
              "                                   Revenues  Revchange      Profits  \\\n",
              "Sector                                                                \n",
              "Aerospace & Defense            28191.833333  -3.208333  2093.308333   \n",
              "Apparel                        13250.800000   1.940000  1263.700000   \n",
              "Business Services               9734.250000   5.590000  1155.355000   \n",
              "Chemicals                      13476.214286   2.228571  1137.021429   \n",
              "Energy                         20638.894737  -7.792982     6.501754   \n",
              "Engineering & Construction      9590.923077  13.369231   390.169231   \n",
              "Financials                     24614.369048   2.573810  2719.776190   \n",
              "Food & Drug Stores             55669.428571  22.271429  1217.428571   \n",
              "Food, Beverages & Tobacco      19700.250000   5.404167  2346.183333   \n",
              "Health Care                    34694.447368  10.223684  2773.260526   \n",
              "Hotels, Restaurants & Leisure  12118.900000  -1.950000  1451.060000   \n",
              "Household Products             15070.500000   8.775000  1650.308333   \n",
              "Industrials                    22018.894737  -5.036842  1727.689474   \n",
              "Materials                       8934.473684   8.042105   272.468421   \n",
              "Media                          16433.363636  -1.145455  1821.336364   \n",
              "Motor Vehicles & Parts         43607.333333  11.300000  1919.533333   \n",
              "Retailing                      29431.510638   2.485106   991.785106   \n",
              "Technology                     29246.255814   7.162791  4137.241860   \n",
              "Telecommunications             45997.800000  28.380000  4127.280000   \n",
              "Transportation                 20866.647059   5.476471  1670.294118   \n",
              "Wholesalers                    27566.068966   3.834483   391.279310   \n",
              "\n",
              "                                      Assets   Totshequity  \n",
              "Sector                                                      \n",
              "Aerospace & Defense             31897.666667   6425.750000  \n",
              "Apparel                         11064.800000   5394.400000  \n",
              "Business Services               19626.100000   5044.250000  \n",
              "Chemicals                       20151.214286   6185.000000  \n",
              "Energy                          48756.210526  16048.789474  \n",
              "Engineering & Construction       8199.230769   3666.692308  \n",
              "Financials                     319245.095238  31624.828571  \n",
              "Food & Drug Stores              24630.714286   7861.142857  \n",
              "Food, Beverages & Tobacco       29059.750000   9035.958333  \n",
              "Health Care                     42078.894737  14021.500000  \n",
              "Hotels, Restaurants & Leisure   16795.400000   2672.000000  \n",
              "Household Products              23179.083333   7188.166667  \n",
              "Industrials                     40117.684211   9844.773684  \n",
              "Materials                       10833.263158   3034.368421  \n",
              "Media                           30876.272727   9792.090909  \n",
              "Motor Vehicles & Parts          59443.111111  10440.366667  \n",
              "Retailing                       14473.148936   3963.212766  \n",
              "Technology                      48380.325581  21049.441860  \n",
              "Telecommunications             114922.700000  28014.700000  \n",
              "Transportation                  25922.000000   6442.000000  \n",
              "Wholesalers                      9362.586207   2222.755172  "
            ]
          },
          "execution_count": 253,
          "metadata": {},
          "output_type": "execute_result"
        }
      ],
      "source": [
        "sectors.mean()"
      ]
    },
    {
      "cell_type": "code",
      "execution_count": null,
      "id": "f36987a0",
      "metadata": {
        "scrolled": false,
        "id": "f36987a0",
        "outputId": "c5d33ea6-8d6d-49c2-d94c-a91dd03e8d4f"
      },
      "outputs": [
        {
          "data": {
            "text/plain": [
              "Sector\n",
              "Food & Drug Stores               55669.428571\n",
              "Telecommunications               45997.800000\n",
              "Motor Vehicles & Parts           43607.333333\n",
              "Health Care                      34694.447368\n",
              "Retailing                        29431.510638\n",
              "Technology                       29246.255814\n",
              "Aerospace & Defense              28191.833333\n",
              "Wholesalers                      27566.068966\n",
              "Financials                       24614.369048\n",
              "Industrials                      22018.894737\n",
              "Transportation                   20866.647059\n",
              "Energy                           20638.894737\n",
              "Food, Beverages & Tobacco        19700.250000\n",
              "Media                            16433.363636\n",
              "Household Products               15070.500000\n",
              "Chemicals                        13476.214286\n",
              "Apparel                          13250.800000\n",
              "Hotels, Restaurants & Leisure    12118.900000\n",
              "Business Services                 9734.250000\n",
              "Engineering & Construction        9590.923077\n",
              "Materials                         8934.473684\n",
              "Name: Revenues, dtype: float64"
            ]
          },
          "execution_count": 254,
          "metadata": {},
          "output_type": "execute_result"
        }
      ],
      "source": [
        "sectors['Revenues'].mean().sort_values(ascending = False)"
      ]
    },
    {
      "cell_type": "code",
      "execution_count": null,
      "id": "342aa06d",
      "metadata": {
        "id": "342aa06d",
        "outputId": "be77465e-5982-4028-a0a1-a4a1b8322ba1"
      },
      "outputs": [
        {
          "data": {
            "text/html": [
              "<div>\n",
              "<style scoped>\n",
              "    .dataframe tbody tr th:only-of-type {\n",
              "        vertical-align: middle;\n",
              "    }\n",
              "\n",
              "    .dataframe tbody tr th {\n",
              "        vertical-align: top;\n",
              "    }\n",
              "\n",
              "    .dataframe thead th {\n",
              "        text-align: right;\n",
              "    }\n",
              "</style>\n",
              "<table border=\"1\" class=\"dataframe\">\n",
              "  <thead>\n",
              "    <tr style=\"text-align: right;\">\n",
              "      <th></th>\n",
              "      <th>match_id</th>\n",
              "      <th>inning</th>\n",
              "      <th>batting_team</th>\n",
              "      <th>bowling_team</th>\n",
              "      <th>over</th>\n",
              "      <th>ball</th>\n",
              "      <th>batsman</th>\n",
              "      <th>non_striker</th>\n",
              "      <th>bowler</th>\n",
              "      <th>is_super_over</th>\n",
              "      <th>...</th>\n",
              "      <th>bye_runs</th>\n",
              "      <th>legbye_runs</th>\n",
              "      <th>noball_runs</th>\n",
              "      <th>penalty_runs</th>\n",
              "      <th>batsman_runs</th>\n",
              "      <th>extra_runs</th>\n",
              "      <th>total_runs</th>\n",
              "      <th>player_dismissed</th>\n",
              "      <th>dismissal_kind</th>\n",
              "      <th>fielder</th>\n",
              "    </tr>\n",
              "  </thead>\n",
              "  <tbody>\n",
              "    <tr>\n",
              "      <th>0</th>\n",
              "      <td>1</td>\n",
              "      <td>1</td>\n",
              "      <td>Sunrisers Hyderabad</td>\n",
              "      <td>Royal Challengers Bangalore</td>\n",
              "      <td>1</td>\n",
              "      <td>1</td>\n",
              "      <td>DA Warner</td>\n",
              "      <td>S Dhawan</td>\n",
              "      <td>TS Mills</td>\n",
              "      <td>0</td>\n",
              "      <td>...</td>\n",
              "      <td>0</td>\n",
              "      <td>0</td>\n",
              "      <td>0</td>\n",
              "      <td>0</td>\n",
              "      <td>0</td>\n",
              "      <td>0</td>\n",
              "      <td>0</td>\n",
              "      <td>NaN</td>\n",
              "      <td>NaN</td>\n",
              "      <td>NaN</td>\n",
              "    </tr>\n",
              "    <tr>\n",
              "      <th>1</th>\n",
              "      <td>1</td>\n",
              "      <td>1</td>\n",
              "      <td>Sunrisers Hyderabad</td>\n",
              "      <td>Royal Challengers Bangalore</td>\n",
              "      <td>1</td>\n",
              "      <td>2</td>\n",
              "      <td>DA Warner</td>\n",
              "      <td>S Dhawan</td>\n",
              "      <td>TS Mills</td>\n",
              "      <td>0</td>\n",
              "      <td>...</td>\n",
              "      <td>0</td>\n",
              "      <td>0</td>\n",
              "      <td>0</td>\n",
              "      <td>0</td>\n",
              "      <td>0</td>\n",
              "      <td>0</td>\n",
              "      <td>0</td>\n",
              "      <td>NaN</td>\n",
              "      <td>NaN</td>\n",
              "      <td>NaN</td>\n",
              "    </tr>\n",
              "    <tr>\n",
              "      <th>2</th>\n",
              "      <td>1</td>\n",
              "      <td>1</td>\n",
              "      <td>Sunrisers Hyderabad</td>\n",
              "      <td>Royal Challengers Bangalore</td>\n",
              "      <td>1</td>\n",
              "      <td>3</td>\n",
              "      <td>DA Warner</td>\n",
              "      <td>S Dhawan</td>\n",
              "      <td>TS Mills</td>\n",
              "      <td>0</td>\n",
              "      <td>...</td>\n",
              "      <td>0</td>\n",
              "      <td>0</td>\n",
              "      <td>0</td>\n",
              "      <td>0</td>\n",
              "      <td>4</td>\n",
              "      <td>0</td>\n",
              "      <td>4</td>\n",
              "      <td>NaN</td>\n",
              "      <td>NaN</td>\n",
              "      <td>NaN</td>\n",
              "    </tr>\n",
              "    <tr>\n",
              "      <th>3</th>\n",
              "      <td>1</td>\n",
              "      <td>1</td>\n",
              "      <td>Sunrisers Hyderabad</td>\n",
              "      <td>Royal Challengers Bangalore</td>\n",
              "      <td>1</td>\n",
              "      <td>4</td>\n",
              "      <td>DA Warner</td>\n",
              "      <td>S Dhawan</td>\n",
              "      <td>TS Mills</td>\n",
              "      <td>0</td>\n",
              "      <td>...</td>\n",
              "      <td>0</td>\n",
              "      <td>0</td>\n",
              "      <td>0</td>\n",
              "      <td>0</td>\n",
              "      <td>0</td>\n",
              "      <td>0</td>\n",
              "      <td>0</td>\n",
              "      <td>NaN</td>\n",
              "      <td>NaN</td>\n",
              "      <td>NaN</td>\n",
              "    </tr>\n",
              "    <tr>\n",
              "      <th>4</th>\n",
              "      <td>1</td>\n",
              "      <td>1</td>\n",
              "      <td>Sunrisers Hyderabad</td>\n",
              "      <td>Royal Challengers Bangalore</td>\n",
              "      <td>1</td>\n",
              "      <td>5</td>\n",
              "      <td>DA Warner</td>\n",
              "      <td>S Dhawan</td>\n",
              "      <td>TS Mills</td>\n",
              "      <td>0</td>\n",
              "      <td>...</td>\n",
              "      <td>0</td>\n",
              "      <td>0</td>\n",
              "      <td>0</td>\n",
              "      <td>0</td>\n",
              "      <td>0</td>\n",
              "      <td>2</td>\n",
              "      <td>2</td>\n",
              "      <td>NaN</td>\n",
              "      <td>NaN</td>\n",
              "      <td>NaN</td>\n",
              "    </tr>\n",
              "  </tbody>\n",
              "</table>\n",
              "<p>5 rows × 21 columns</p>\n",
              "</div>"
            ],
            "text/plain": [
              "   match_id  inning         batting_team                 bowling_team  over  \\\n",
              "0         1       1  Sunrisers Hyderabad  Royal Challengers Bangalore     1   \n",
              "1         1       1  Sunrisers Hyderabad  Royal Challengers Bangalore     1   \n",
              "2         1       1  Sunrisers Hyderabad  Royal Challengers Bangalore     1   \n",
              "3         1       1  Sunrisers Hyderabad  Royal Challengers Bangalore     1   \n",
              "4         1       1  Sunrisers Hyderabad  Royal Challengers Bangalore     1   \n",
              "\n",
              "   ball    batsman non_striker    bowler  is_super_over  ...  bye_runs  \\\n",
              "0     1  DA Warner    S Dhawan  TS Mills              0  ...         0   \n",
              "1     2  DA Warner    S Dhawan  TS Mills              0  ...         0   \n",
              "2     3  DA Warner    S Dhawan  TS Mills              0  ...         0   \n",
              "3     4  DA Warner    S Dhawan  TS Mills              0  ...         0   \n",
              "4     5  DA Warner    S Dhawan  TS Mills              0  ...         0   \n",
              "\n",
              "   legbye_runs  noball_runs  penalty_runs  batsman_runs  extra_runs  \\\n",
              "0            0            0             0             0           0   \n",
              "1            0            0             0             0           0   \n",
              "2            0            0             0             4           0   \n",
              "3            0            0             0             0           0   \n",
              "4            0            0             0             0           2   \n",
              "\n",
              "   total_runs  player_dismissed dismissal_kind fielder  \n",
              "0           0               NaN            NaN     NaN  \n",
              "1           0               NaN            NaN     NaN  \n",
              "2           4               NaN            NaN     NaN  \n",
              "3           0               NaN            NaN     NaN  \n",
              "4           2               NaN            NaN     NaN  \n",
              "\n",
              "[5 rows x 21 columns]"
            ]
          },
          "execution_count": 255,
          "metadata": {},
          "output_type": "execute_result"
        }
      ],
      "source": [
        "delivery = pd.read_csv('C:\\\\Users\\Chandrakant\\Downloads\\Pandas\\deliveries.csv')\n",
        "delivery.head()"
      ]
    },
    {
      "cell_type": "code",
      "execution_count": null,
      "id": "b7af2c38",
      "metadata": {
        "id": "b7af2c38"
      },
      "outputs": [],
      "source": [
        "runs = delivery.groupby('batsman')"
      ]
    },
    {
      "cell_type": "code",
      "execution_count": null,
      "id": "a1388f5a",
      "metadata": {
        "id": "a1388f5a"
      },
      "outputs": [],
      "source": [
        "# runs.get_group('V Kohli').shape"
      ]
    },
    {
      "cell_type": "code",
      "execution_count": null,
      "id": "e338b2c4",
      "metadata": {
        "id": "e338b2c4",
        "outputId": "c977f5cb-ecde-4bb0-ee54-063b438f262d"
      },
      "outputs": [
        {
          "data": {
            "text/plain": [
              "batsman\n",
              "SK Raina          4548\n",
              "V Kohli           4423\n",
              "RG Sharma         4207\n",
              "G Gambhir         4132\n",
              "DA Warner         4014\n",
              "RV Uthappa        3778\n",
              "CH Gayle          3651\n",
              "S Dhawan          3561\n",
              "MS Dhoni          3560\n",
              "AB de Villiers    3486\n",
              "Name: batsman_runs, dtype: int64"
            ]
          },
          "execution_count": 258,
          "metadata": {},
          "output_type": "execute_result"
        }
      ],
      "source": [
        "runs['batsman_runs'].sum().sort_values(ascending = False).head(10)"
      ]
    },
    {
      "cell_type": "code",
      "execution_count": null,
      "id": "474424bc",
      "metadata": {
        "id": "474424bc"
      },
      "outputs": [],
      "source": [
        "mask = delivery['batsman_runs'] == 4 #6\n",
        "new_delivery = delivery[mask]"
      ]
    },
    {
      "cell_type": "code",
      "execution_count": null,
      "id": "3ad39667",
      "metadata": {
        "id": "3ad39667",
        "outputId": "25092210-2e0c-4581-f338-80882b8cf96f"
      },
      "outputs": [
        {
          "data": {
            "text/plain": [
              "17033"
            ]
          },
          "execution_count": 260,
          "metadata": {},
          "output_type": "execute_result"
        }
      ],
      "source": [
        "new_delivery.shape[0]"
      ]
    },
    {
      "cell_type": "code",
      "execution_count": null,
      "id": "11e02411",
      "metadata": {
        "id": "11e02411"
      },
      "outputs": [],
      "source": [
        "mask = delivery['batsman_runs'] == 3\n",
        "new_delivery = delivery[mask]"
      ]
    },
    {
      "cell_type": "code",
      "execution_count": null,
      "id": "52b27952",
      "metadata": {
        "id": "52b27952",
        "outputId": "12845b6e-5589-4fe0-a165-9cc8c5da847a"
      },
      "outputs": [
        {
          "data": {
            "text/plain": [
              "509"
            ]
          },
          "execution_count": 262,
          "metadata": {},
          "output_type": "execute_result"
        }
      ],
      "source": [
        "new_delivery.shape[0]"
      ]
    },
    {
      "cell_type": "code",
      "execution_count": null,
      "id": "e20adf19",
      "metadata": {
        "id": "e20adf19",
        "outputId": "67997a9f-4cda-407a-bbed-054fbe0fd289"
      },
      "outputs": [
        {
          "data": {
            "text/plain": [
              "batsman\n",
              "M Vijay      17\n",
              "S Dhawan     16\n",
              "G Gambhir    15\n",
              "AM Rahane    14\n",
              "DA Warner    13\n",
              "Name: batsman_runs, dtype: int64"
            ]
          },
          "execution_count": 263,
          "metadata": {},
          "output_type": "execute_result"
        }
      ],
      "source": [
        "new_delivery.groupby('batsman')['batsman_runs'].count().sort_values(ascending = False).head(5)"
      ]
    },
    {
      "cell_type": "code",
      "execution_count": null,
      "id": "c85e1942",
      "metadata": {
        "id": "c85e1942"
      },
      "outputs": [],
      "source": [
        "# new_delivery.groupby('batsman')['batsman_runs'].size().sort_values(ascending = False).head(5) #size"
      ]
    },
    {
      "cell_type": "code",
      "execution_count": null,
      "id": "3fa37572",
      "metadata": {
        "id": "3fa37572"
      },
      "outputs": [],
      "source": [
        "vk_mask = delivery[delivery['batsman'] == 'V Kohli']"
      ]
    },
    {
      "cell_type": "code",
      "execution_count": null,
      "id": "8c9010fa",
      "metadata": {
        "id": "8c9010fa",
        "outputId": "4c7ce1c3-a996-4993-dcb8-712a563c097e"
      },
      "outputs": [
        {
          "data": {
            "text/plain": [
              "bowling_team\n",
              "Chennai Super Kings    706\n",
              "Delhi Daredevils       661\n",
              "Kings XI Punjab        483\n",
              "Name: batsman_runs, dtype: int64"
            ]
          },
          "execution_count": 272,
          "metadata": {},
          "output_type": "execute_result"
        }
      ],
      "source": [
        "vk_mask.groupby('bowling_team')['batsman_runs'].sum().sort_values(ascending = False).head(3)"
      ]
    },
    {
      "cell_type": "code",
      "execution_count": null,
      "id": "adfbf6c9",
      "metadata": {
        "id": "adfbf6c9"
      },
      "outputs": [],
      "source": [
        "def run_scored(batsman_name):\n",
        "    vk_mask = delivery[delivery['batsman'] == batsman_name]\n",
        "    return vk_mask.groupby('bowling_team')['batsman_runs'].sum().sort_values(ascending = False).head(1).index[0]"
      ]
    },
    {
      "cell_type": "code",
      "execution_count": null,
      "id": "8c821d9b",
      "metadata": {
        "id": "8c821d9b",
        "outputId": "1ce61f93-1b9a-4174-9934-785d608cd6a9"
      },
      "outputs": [
        {
          "data": {
            "text/plain": [
              "'Chennai Super Kings'"
            ]
          },
          "execution_count": 274,
          "metadata": {},
          "output_type": "execute_result"
        }
      ],
      "source": [
        "run_scored('V Kohli')"
      ]
    },
    {
      "cell_type": "code",
      "execution_count": null,
      "id": "165da8cd",
      "metadata": {
        "id": "165da8cd",
        "outputId": "716d5bf5-0959-47eb-f7f7-366c2822c1e6"
      },
      "outputs": [
        {
          "data": {
            "text/plain": [
              "'Royal Challengers Bangalore'"
            ]
          },
          "execution_count": 275,
          "metadata": {},
          "output_type": "execute_result"
        }
      ],
      "source": [
        "run_scored('MS Dhoni')"
      ]
    },
    {
      "cell_type": "markdown",
      "id": "099042f8",
      "metadata": {
        "id": "099042f8"
      },
      "source": [
        "***IsIn***"
      ]
    },
    {
      "cell_type": "code",
      "execution_count": null,
      "id": "c98cb596",
      "metadata": {
        "id": "c98cb596"
      },
      "outputs": [],
      "source": [
        "death_over = delivery[delivery['over'] > 15]"
      ]
    },
    {
      "cell_type": "code",
      "execution_count": null,
      "id": "3d9d94ab",
      "metadata": {
        "id": "3d9d94ab"
      },
      "outputs": [],
      "source": [
        "all_batsman = death_over.groupby('batsman')['batsman_runs'].count()\n",
        "bt = all_batsman > 200\n",
        "batsman_list = all_batsman[bt].index.tolist()"
      ]
    },
    {
      "cell_type": "code",
      "execution_count": null,
      "id": "f9193081",
      "metadata": {
        "id": "f9193081"
      },
      "outputs": [],
      "source": [
        "final = delivery[delivery['batsman'].isin(batsman_list)]"
      ]
    },
    {
      "cell_type": "code",
      "execution_count": null,
      "id": "559fff98",
      "metadata": {
        "id": "559fff98"
      },
      "outputs": [],
      "source": [
        "runs = final.groupby('batsman')['batsman_runs'].sum()"
      ]
    },
    {
      "cell_type": "code",
      "execution_count": null,
      "id": "8a438248",
      "metadata": {
        "id": "8a438248"
      },
      "outputs": [],
      "source": [
        "balls = final.groupby('batsman')['batsman_runs'].count()"
      ]
    },
    {
      "cell_type": "code",
      "execution_count": null,
      "id": "70e72f6f",
      "metadata": {
        "id": "70e72f6f"
      },
      "outputs": [],
      "source": [
        "# sr = (runs/balls)*100"
      ]
    },
    {
      "cell_type": "markdown",
      "id": "22d0e210",
      "metadata": {
        "id": "22d0e210"
      },
      "source": [
        "***Merge***"
      ]
    },
    {
      "cell_type": "code",
      "execution_count": null,
      "id": "322f4291",
      "metadata": {
        "id": "322f4291",
        "outputId": "bb38bcfa-7fca-422b-efdb-78ee6c64ce65"
      },
      "outputs": [
        {
          "data": {
            "text/html": [
              "<div>\n",
              "<style scoped>\n",
              "    .dataframe tbody tr th:only-of-type {\n",
              "        vertical-align: middle;\n",
              "    }\n",
              "\n",
              "    .dataframe tbody tr th {\n",
              "        vertical-align: top;\n",
              "    }\n",
              "\n",
              "    .dataframe thead th {\n",
              "        text-align: right;\n",
              "    }\n",
              "</style>\n",
              "<table border=\"1\" class=\"dataframe\">\n",
              "  <thead>\n",
              "    <tr style=\"text-align: right;\">\n",
              "      <th></th>\n",
              "      <th>id</th>\n",
              "      <th>season</th>\n",
              "      <th>city</th>\n",
              "      <th>date</th>\n",
              "      <th>team1</th>\n",
              "      <th>team2</th>\n",
              "      <th>toss_winner</th>\n",
              "      <th>toss_decision</th>\n",
              "      <th>result</th>\n",
              "      <th>dl_applied</th>\n",
              "      <th>winner</th>\n",
              "      <th>win_by_runs</th>\n",
              "      <th>win_by_wickets</th>\n",
              "      <th>player_of_match</th>\n",
              "      <th>venue</th>\n",
              "      <th>umpire1</th>\n",
              "      <th>umpire2</th>\n",
              "      <th>umpire3</th>\n",
              "    </tr>\n",
              "  </thead>\n",
              "  <tbody>\n",
              "    <tr>\n",
              "      <th>0</th>\n",
              "      <td>1</td>\n",
              "      <td>2017</td>\n",
              "      <td>Hyderabad</td>\n",
              "      <td>2017-04-05</td>\n",
              "      <td>Sunrisers Hyderabad</td>\n",
              "      <td>Royal Challengers Bangalore</td>\n",
              "      <td>Royal Challengers Bangalore</td>\n",
              "      <td>field</td>\n",
              "      <td>normal</td>\n",
              "      <td>0</td>\n",
              "      <td>Sunrisers Hyderabad</td>\n",
              "      <td>35</td>\n",
              "      <td>0</td>\n",
              "      <td>Yuvraj Singh</td>\n",
              "      <td>Rajiv Gandhi International Stadium, Uppal</td>\n",
              "      <td>AY Dandekar</td>\n",
              "      <td>NJ Llong</td>\n",
              "      <td>NaN</td>\n",
              "    </tr>\n",
              "    <tr>\n",
              "      <th>1</th>\n",
              "      <td>2</td>\n",
              "      <td>2017</td>\n",
              "      <td>Pune</td>\n",
              "      <td>2017-04-06</td>\n",
              "      <td>Mumbai Indians</td>\n",
              "      <td>Rising Pune Supergiant</td>\n",
              "      <td>Rising Pune Supergiant</td>\n",
              "      <td>field</td>\n",
              "      <td>normal</td>\n",
              "      <td>0</td>\n",
              "      <td>Rising Pune Supergiant</td>\n",
              "      <td>0</td>\n",
              "      <td>7</td>\n",
              "      <td>SPD Smith</td>\n",
              "      <td>Maharashtra Cricket Association Stadium</td>\n",
              "      <td>A Nand Kishore</td>\n",
              "      <td>S Ravi</td>\n",
              "      <td>NaN</td>\n",
              "    </tr>\n",
              "    <tr>\n",
              "      <th>2</th>\n",
              "      <td>3</td>\n",
              "      <td>2017</td>\n",
              "      <td>Rajkot</td>\n",
              "      <td>2017-04-07</td>\n",
              "      <td>Gujarat Lions</td>\n",
              "      <td>Kolkata Knight Riders</td>\n",
              "      <td>Kolkata Knight Riders</td>\n",
              "      <td>field</td>\n",
              "      <td>normal</td>\n",
              "      <td>0</td>\n",
              "      <td>Kolkata Knight Riders</td>\n",
              "      <td>0</td>\n",
              "      <td>10</td>\n",
              "      <td>CA Lynn</td>\n",
              "      <td>Saurashtra Cricket Association Stadium</td>\n",
              "      <td>Nitin Menon</td>\n",
              "      <td>CK Nandan</td>\n",
              "      <td>NaN</td>\n",
              "    </tr>\n",
              "    <tr>\n",
              "      <th>3</th>\n",
              "      <td>4</td>\n",
              "      <td>2017</td>\n",
              "      <td>Indore</td>\n",
              "      <td>2017-04-08</td>\n",
              "      <td>Rising Pune Supergiant</td>\n",
              "      <td>Kings XI Punjab</td>\n",
              "      <td>Kings XI Punjab</td>\n",
              "      <td>field</td>\n",
              "      <td>normal</td>\n",
              "      <td>0</td>\n",
              "      <td>Kings XI Punjab</td>\n",
              "      <td>0</td>\n",
              "      <td>6</td>\n",
              "      <td>GJ Maxwell</td>\n",
              "      <td>Holkar Cricket Stadium</td>\n",
              "      <td>AK Chaudhary</td>\n",
              "      <td>C Shamshuddin</td>\n",
              "      <td>NaN</td>\n",
              "    </tr>\n",
              "    <tr>\n",
              "      <th>4</th>\n",
              "      <td>5</td>\n",
              "      <td>2017</td>\n",
              "      <td>Bangalore</td>\n",
              "      <td>2017-04-08</td>\n",
              "      <td>Royal Challengers Bangalore</td>\n",
              "      <td>Delhi Daredevils</td>\n",
              "      <td>Royal Challengers Bangalore</td>\n",
              "      <td>bat</td>\n",
              "      <td>normal</td>\n",
              "      <td>0</td>\n",
              "      <td>Royal Challengers Bangalore</td>\n",
              "      <td>15</td>\n",
              "      <td>0</td>\n",
              "      <td>KM Jadhav</td>\n",
              "      <td>M Chinnaswamy Stadium</td>\n",
              "      <td>NaN</td>\n",
              "      <td>NaN</td>\n",
              "      <td>NaN</td>\n",
              "    </tr>\n",
              "  </tbody>\n",
              "</table>\n",
              "</div>"
            ],
            "text/plain": [
              "   id  season       city        date                        team1  \\\n",
              "0   1    2017  Hyderabad  2017-04-05          Sunrisers Hyderabad   \n",
              "1   2    2017       Pune  2017-04-06               Mumbai Indians   \n",
              "2   3    2017     Rajkot  2017-04-07                Gujarat Lions   \n",
              "3   4    2017     Indore  2017-04-08       Rising Pune Supergiant   \n",
              "4   5    2017  Bangalore  2017-04-08  Royal Challengers Bangalore   \n",
              "\n",
              "                         team2                  toss_winner toss_decision  \\\n",
              "0  Royal Challengers Bangalore  Royal Challengers Bangalore         field   \n",
              "1       Rising Pune Supergiant       Rising Pune Supergiant         field   \n",
              "2        Kolkata Knight Riders        Kolkata Knight Riders         field   \n",
              "3              Kings XI Punjab              Kings XI Punjab         field   \n",
              "4             Delhi Daredevils  Royal Challengers Bangalore           bat   \n",
              "\n",
              "   result  dl_applied                       winner  win_by_runs  \\\n",
              "0  normal           0          Sunrisers Hyderabad           35   \n",
              "1  normal           0       Rising Pune Supergiant            0   \n",
              "2  normal           0        Kolkata Knight Riders            0   \n",
              "3  normal           0              Kings XI Punjab            0   \n",
              "4  normal           0  Royal Challengers Bangalore           15   \n",
              "\n",
              "   win_by_wickets player_of_match                                      venue  \\\n",
              "0               0    Yuvraj Singh  Rajiv Gandhi International Stadium, Uppal   \n",
              "1               7       SPD Smith    Maharashtra Cricket Association Stadium   \n",
              "2              10         CA Lynn     Saurashtra Cricket Association Stadium   \n",
              "3               6      GJ Maxwell                     Holkar Cricket Stadium   \n",
              "4               0       KM Jadhav                      M Chinnaswamy Stadium   \n",
              "\n",
              "          umpire1        umpire2  umpire3  \n",
              "0     AY Dandekar       NJ Llong      NaN  \n",
              "1  A Nand Kishore         S Ravi      NaN  \n",
              "2     Nitin Menon      CK Nandan      NaN  \n",
              "3    AK Chaudhary  C Shamshuddin      NaN  \n",
              "4             NaN            NaN      NaN  "
            ]
          },
          "execution_count": 307,
          "metadata": {},
          "output_type": "execute_result"
        }
      ],
      "source": [
        "match = pd.read_csv('C:\\\\Users\\Chandrakant\\Downloads\\Pandas\\matches.csv')\n",
        "match.head()"
      ]
    },
    {
      "cell_type": "code",
      "execution_count": null,
      "id": "97cd58ea",
      "metadata": {
        "id": "97cd58ea"
      },
      "outputs": [],
      "source": [
        "new_1 = delivery.merge(match,left_on = 'match_id',right_on = 'id')"
      ]
    },
    {
      "cell_type": "code",
      "execution_count": null,
      "id": "a6e601bc",
      "metadata": {
        "id": "a6e601bc",
        "outputId": "2b491ce8-6a3d-4ce8-94d4-4bb25aa50178"
      },
      "outputs": [
        {
          "name": "stdout",
          "output_type": "stream",
          "text": [
            "(150460, 21)\n",
            "(636, 18)\n"
          ]
        }
      ],
      "source": [
        "print(delivery.shape)\n",
        "print(match.shape)"
      ]
    },
    {
      "cell_type": "code",
      "execution_count": null,
      "id": "e857ac16",
      "metadata": {
        "id": "e857ac16",
        "outputId": "6d83c52f-5fc4-477e-b005-9a7ed8b629d4"
      },
      "outputs": [
        {
          "data": {
            "text/html": [
              "<div>\n",
              "<style scoped>\n",
              "    .dataframe tbody tr th:only-of-type {\n",
              "        vertical-align: middle;\n",
              "    }\n",
              "\n",
              "    .dataframe tbody tr th {\n",
              "        vertical-align: top;\n",
              "    }\n",
              "\n",
              "    .dataframe thead th {\n",
              "        text-align: right;\n",
              "    }\n",
              "</style>\n",
              "<table border=\"1\" class=\"dataframe\">\n",
              "  <thead>\n",
              "    <tr style=\"text-align: right;\">\n",
              "      <th></th>\n",
              "      <th>season</th>\n",
              "      <th>batsman</th>\n",
              "    </tr>\n",
              "  </thead>\n",
              "  <tbody>\n",
              "    <tr>\n",
              "      <th>10</th>\n",
              "      <td>2008</td>\n",
              "      <td>SE Marsh</td>\n",
              "    </tr>\n",
              "    <tr>\n",
              "      <th>14</th>\n",
              "      <td>2009</td>\n",
              "      <td>ML Hayden</td>\n",
              "    </tr>\n",
              "    <tr>\n",
              "      <th>9</th>\n",
              "      <td>2010</td>\n",
              "      <td>SR Tendulkar</td>\n",
              "    </tr>\n",
              "    <tr>\n",
              "      <th>11</th>\n",
              "      <td>2011</td>\n",
              "      <td>CH Gayle</td>\n",
              "    </tr>\n",
              "    <tr>\n",
              "      <th>3</th>\n",
              "      <td>2012</td>\n",
              "      <td>CH Gayle</td>\n",
              "    </tr>\n",
              "    <tr>\n",
              "      <th>2</th>\n",
              "      <td>2013</td>\n",
              "      <td>MEK Hussey</td>\n",
              "    </tr>\n",
              "    <tr>\n",
              "      <th>6</th>\n",
              "      <td>2014</td>\n",
              "      <td>RV Uthappa</td>\n",
              "    </tr>\n",
              "    <tr>\n",
              "      <th>17</th>\n",
              "      <td>2015</td>\n",
              "      <td>DA Warner</td>\n",
              "    </tr>\n",
              "    <tr>\n",
              "      <th>0</th>\n",
              "      <td>2016</td>\n",
              "      <td>V Kohli</td>\n",
              "    </tr>\n",
              "    <tr>\n",
              "      <th>7</th>\n",
              "      <td>2017</td>\n",
              "      <td>DA Warner</td>\n",
              "    </tr>\n",
              "  </tbody>\n",
              "</table>\n",
              "</div>"
            ],
            "text/plain": [
              "    season       batsman\n",
              "10    2008      SE Marsh\n",
              "14    2009     ML Hayden\n",
              "9     2010  SR Tendulkar\n",
              "11    2011      CH Gayle\n",
              "3     2012      CH Gayle\n",
              "2     2013    MEK Hussey\n",
              "6     2014    RV Uthappa\n",
              "17    2015     DA Warner\n",
              "0     2016       V Kohli\n",
              "7     2017     DA Warner"
            ]
          },
          "execution_count": 326,
          "metadata": {},
          "output_type": "execute_result"
        }
      ],
      "source": [
        "new_1.groupby(['season','batsman'])['batsman_runs'].sum().sort_values(ascending = False).reset_index().drop_duplicates(subset = 'season',keep = 'first').sort_values('season')[['season','batsman']]"
      ]
    },
    {
      "cell_type": "markdown",
      "id": "23b33532",
      "metadata": {
        "id": "23b33532"
      },
      "source": [
        "***Pivot Table***"
      ]
    },
    {
      "cell_type": "code",
      "execution_count": null,
      "id": "19f9deac",
      "metadata": {
        "id": "19f9deac",
        "outputId": "867b3e8b-3ed7-4641-f573-47c92384f93b"
      },
      "outputs": [
        {
          "data": {
            "text/html": [
              "<div>\n",
              "<style scoped>\n",
              "    .dataframe tbody tr th:only-of-type {\n",
              "        vertical-align: middle;\n",
              "    }\n",
              "\n",
              "    .dataframe tbody tr th {\n",
              "        vertical-align: top;\n",
              "    }\n",
              "\n",
              "    .dataframe thead th {\n",
              "        text-align: right;\n",
              "    }\n",
              "</style>\n",
              "<table border=\"1\" class=\"dataframe\">\n",
              "  <thead>\n",
              "    <tr style=\"text-align: right;\">\n",
              "      <th></th>\n",
              "      <th>Name</th>\n",
              "      <th>Gender</th>\n",
              "      <th>City</th>\n",
              "      <th>Frequency</th>\n",
              "      <th>Item</th>\n",
              "      <th>Spends</th>\n",
              "    </tr>\n",
              "  </thead>\n",
              "  <tbody>\n",
              "    <tr>\n",
              "      <th>0</th>\n",
              "      <td>Nitish</td>\n",
              "      <td>M</td>\n",
              "      <td>Kolkata</td>\n",
              "      <td>Weekly</td>\n",
              "      <td>Burger</td>\n",
              "      <td>11</td>\n",
              "    </tr>\n",
              "    <tr>\n",
              "      <th>1</th>\n",
              "      <td>Anu</td>\n",
              "      <td>F</td>\n",
              "      <td>Gurgaon</td>\n",
              "      <td>Daily</td>\n",
              "      <td>Sandwich</td>\n",
              "      <td>14</td>\n",
              "    </tr>\n",
              "    <tr>\n",
              "      <th>2</th>\n",
              "      <td>Mukku</td>\n",
              "      <td>M</td>\n",
              "      <td>Kolkata</td>\n",
              "      <td>Once</td>\n",
              "      <td>Vada</td>\n",
              "      <td>25</td>\n",
              "    </tr>\n",
              "    <tr>\n",
              "      <th>3</th>\n",
              "      <td>Suri</td>\n",
              "      <td>M</td>\n",
              "      <td>Kolkata</td>\n",
              "      <td>Monthly</td>\n",
              "      <td>Pizza</td>\n",
              "      <td>56</td>\n",
              "    </tr>\n",
              "    <tr>\n",
              "      <th>4</th>\n",
              "      <td>Rajiv</td>\n",
              "      <td>M</td>\n",
              "      <td>Patna</td>\n",
              "      <td>Never</td>\n",
              "      <td>Paneer</td>\n",
              "      <td>34</td>\n",
              "    </tr>\n",
              "  </tbody>\n",
              "</table>\n",
              "</div>"
            ],
            "text/plain": [
              "     Name Gender     City Frequency      Item  Spends\n",
              "0  Nitish      M  Kolkata    Weekly    Burger      11\n",
              "1     Anu      F  Gurgaon     Daily  Sandwich      14\n",
              "2   Mukku      M  Kolkata      Once      Vada      25\n",
              "3    Suri      M  Kolkata   Monthly     Pizza      56\n",
              "4   Rajiv      M    Patna     Never    Paneer      34"
            ]
          },
          "execution_count": 343,
          "metadata": {},
          "output_type": "execute_result"
        }
      ],
      "source": [
        "food = pd.read_csv('C:\\\\Users\\Chandrakant\\Downloads\\Pandas\\food.csv')\n",
        "food"
      ]
    },
    {
      "cell_type": "code",
      "execution_count": null,
      "id": "9e481282",
      "metadata": {
        "id": "9e481282",
        "outputId": "ec3c9530-fc5d-4620-8681-47dc1982fe9b"
      },
      "outputs": [
        {
          "data": {
            "text/html": [
              "<div>\n",
              "<style scoped>\n",
              "    .dataframe tbody tr th:only-of-type {\n",
              "        vertical-align: middle;\n",
              "    }\n",
              "\n",
              "    .dataframe tbody tr th {\n",
              "        vertical-align: top;\n",
              "    }\n",
              "\n",
              "    .dataframe thead tr th {\n",
              "        text-align: left;\n",
              "    }\n",
              "\n",
              "    .dataframe thead tr:last-of-type th {\n",
              "        text-align: right;\n",
              "    }\n",
              "</style>\n",
              "<table border=\"1\" class=\"dataframe\">\n",
              "  <thead>\n",
              "    <tr>\n",
              "      <th></th>\n",
              "      <th>Item</th>\n",
              "      <th>Burger</th>\n",
              "      <th>Paneer</th>\n",
              "      <th>Pizza</th>\n",
              "      <th>Sandwich</th>\n",
              "      <th>Vada</th>\n",
              "    </tr>\n",
              "    <tr>\n",
              "      <th></th>\n",
              "      <th>Frequency</th>\n",
              "      <th>Weekly</th>\n",
              "      <th>Never</th>\n",
              "      <th>Monthly</th>\n",
              "      <th>Daily</th>\n",
              "      <th>Once</th>\n",
              "    </tr>\n",
              "    <tr>\n",
              "      <th>City</th>\n",
              "      <th>Gender</th>\n",
              "      <th></th>\n",
              "      <th></th>\n",
              "      <th></th>\n",
              "      <th></th>\n",
              "      <th></th>\n",
              "    </tr>\n",
              "  </thead>\n",
              "  <tbody>\n",
              "    <tr>\n",
              "      <th>Gurgaon</th>\n",
              "      <th>F</th>\n",
              "      <td>NaN</td>\n",
              "      <td>NaN</td>\n",
              "      <td>NaN</td>\n",
              "      <td>14.0</td>\n",
              "      <td>NaN</td>\n",
              "    </tr>\n",
              "    <tr>\n",
              "      <th>Kolkata</th>\n",
              "      <th>M</th>\n",
              "      <td>11.0</td>\n",
              "      <td>NaN</td>\n",
              "      <td>56.0</td>\n",
              "      <td>NaN</td>\n",
              "      <td>25.0</td>\n",
              "    </tr>\n",
              "    <tr>\n",
              "      <th>Patna</th>\n",
              "      <th>M</th>\n",
              "      <td>NaN</td>\n",
              "      <td>34.0</td>\n",
              "      <td>NaN</td>\n",
              "      <td>NaN</td>\n",
              "      <td>NaN</td>\n",
              "    </tr>\n",
              "  </tbody>\n",
              "</table>\n",
              "</div>"
            ],
            "text/plain": [
              "Item           Burger Paneer   Pizza Sandwich  Vada\n",
              "Frequency      Weekly  Never Monthly    Daily  Once\n",
              "City    Gender                                     \n",
              "Gurgaon F         NaN    NaN     NaN     14.0   NaN\n",
              "Kolkata M        11.0    NaN    56.0      NaN  25.0\n",
              "Patna   M         NaN   34.0     NaN      NaN   NaN"
            ]
          },
          "execution_count": 349,
          "metadata": {},
          "output_type": "execute_result"
        }
      ],
      "source": [
        "food.pivot_table(index = ['City','Gender'],columns = ['Item','Frequency'],values = 'Spends',aggfunc = 'mean')"
      ]
    },
    {
      "cell_type": "code",
      "execution_count": null,
      "id": "29d9dc04",
      "metadata": {
        "id": "29d9dc04",
        "outputId": "b0644ee4-86f7-4dd5-dfd8-aa2607edcce3"
      },
      "outputs": [
        {
          "data": {
            "text/plain": [
              "(6523, 21)"
            ]
          },
          "execution_count": 351,
          "metadata": {},
          "output_type": "execute_result"
        }
      ],
      "source": [
        "mask = delivery['batsman_runs'] == 6\n",
        "six = delivery[mask]\n",
        "six.shape"
      ]
    },
    {
      "cell_type": "code",
      "execution_count": null,
      "id": "4e4cff57",
      "metadata": {
        "id": "4e4cff57"
      },
      "outputs": [],
      "source": [
        "pvt = six.pivot_table(index = 'over',columns = 'batting_team',values = 'batsman_runs', aggfunc = 'count')"
      ]
    },
    {
      "cell_type": "code",
      "execution_count": null,
      "id": "74d7b401",
      "metadata": {
        "id": "74d7b401"
      },
      "outputs": [],
      "source": [
        "import seaborn as sns"
      ]
    },
    {
      "cell_type": "code",
      "execution_count": null,
      "id": "c52adaeb",
      "metadata": {
        "id": "c52adaeb",
        "outputId": "14afc976-0476-490a-97dd-74d5d1709542"
      },
      "outputs": [
        {
          "data": {
            "text/plain": [
              "<AxesSubplot:xlabel='batting_team', ylabel='over'>"
            ]
          },
          "execution_count": 356,
          "metadata": {},
          "output_type": "execute_result"
        },
        {
          "data": {
            "image/png": "[encoded data removed]",
            "text/plain": [
              "<Figure size 432x288 with 2 Axes>"
            ]
          },
          "metadata": {
            "needs_background": "light"
          },
          "output_type": "display_data"
        }
      ],
      "source": [
        "sns.heatmap(pvt)"
      ]
    },
    {
      "cell_type": "markdown",
      "id": "91faf8a8",
      "metadata": {
        "id": "91faf8a8"
      },
      "source": [
        "***Corr***"
      ]
    },
    {
      "cell_type": "code",
      "execution_count": null,
      "id": "c15ccca3",
      "metadata": {
        "id": "c15ccca3",
        "outputId": "c56386e1-fabb-4c0c-add3-ca0d26abd579"
      },
      "outputs": [
        {
          "data": {
            "text/html": [
              "<div>\n",
              "<style scoped>\n",
              "    .dataframe tbody tr th:only-of-type {\n",
              "        vertical-align: middle;\n",
              "    }\n",
              "\n",
              "    .dataframe tbody tr th {\n",
              "        vertical-align: top;\n",
              "    }\n",
              "\n",
              "    .dataframe thead th {\n",
              "        text-align: right;\n",
              "    }\n",
              "</style>\n",
              "<table border=\"1\" class=\"dataframe\">\n",
              "  <thead>\n",
              "    <tr style=\"text-align: right;\">\n",
              "      <th></th>\n",
              "      <th>id</th>\n",
              "      <th>season</th>\n",
              "      <th>dl_applied</th>\n",
              "      <th>win_by_runs</th>\n",
              "      <th>win_by_wickets</th>\n",
              "      <th>umpire3</th>\n",
              "    </tr>\n",
              "  </thead>\n",
              "  <tbody>\n",
              "    <tr>\n",
              "      <th>id</th>\n",
              "      <td>1.000000</td>\n",
              "      <td>0.471087</td>\n",
              "      <td>0.024281</td>\n",
              "      <td>-0.010263</td>\n",
              "      <td>-0.015510</td>\n",
              "      <td>NaN</td>\n",
              "    </tr>\n",
              "    <tr>\n",
              "      <th>season</th>\n",
              "      <td>0.471087</td>\n",
              "      <td>1.000000</td>\n",
              "      <td>0.004170</td>\n",
              "      <td>-0.016815</td>\n",
              "      <td>-0.000708</td>\n",
              "      <td>NaN</td>\n",
              "    </tr>\n",
              "    <tr>\n",
              "      <th>dl_applied</th>\n",
              "      <td>0.024281</td>\n",
              "      <td>0.004170</td>\n",
              "      <td>1.000000</td>\n",
              "      <td>-0.010893</td>\n",
              "      <td>-0.011640</td>\n",
              "      <td>NaN</td>\n",
              "    </tr>\n",
              "    <tr>\n",
              "      <th>win_by_runs</th>\n",
              "      <td>-0.010263</td>\n",
              "      <td>-0.016815</td>\n",
              "      <td>-0.010893</td>\n",
              "      <td>1.000000</td>\n",
              "      <td>-0.565181</td>\n",
              "      <td>NaN</td>\n",
              "    </tr>\n",
              "    <tr>\n",
              "      <th>win_by_wickets</th>\n",
              "      <td>-0.015510</td>\n",
              "      <td>-0.000708</td>\n",
              "      <td>-0.011640</td>\n",
              "      <td>-0.565181</td>\n",
              "      <td>1.000000</td>\n",
              "      <td>NaN</td>\n",
              "    </tr>\n",
              "    <tr>\n",
              "      <th>umpire3</th>\n",
              "      <td>NaN</td>\n",
              "      <td>NaN</td>\n",
              "      <td>NaN</td>\n",
              "      <td>NaN</td>\n",
              "      <td>NaN</td>\n",
              "      <td>NaN</td>\n",
              "    </tr>\n",
              "  </tbody>\n",
              "</table>\n",
              "</div>"
            ],
            "text/plain": [
              "                      id    season  dl_applied  win_by_runs  win_by_wickets  \\\n",
              "id              1.000000  0.471087    0.024281    -0.010263       -0.015510   \n",
              "season          0.471087  1.000000    0.004170    -0.016815       -0.000708   \n",
              "dl_applied      0.024281  0.004170    1.000000    -0.010893       -0.011640   \n",
              "win_by_runs    -0.010263 -0.016815   -0.010893     1.000000       -0.565181   \n",
              "win_by_wickets -0.015510 -0.000708   -0.011640    -0.565181        1.000000   \n",
              "umpire3              NaN       NaN         NaN          NaN             NaN   \n",
              "\n",
              "                umpire3  \n",
              "id                  NaN  \n",
              "season              NaN  \n",
              "dl_applied          NaN  \n",
              "win_by_runs         NaN  \n",
              "win_by_wickets      NaN  \n",
              "umpire3             NaN  "
            ]
          },
          "execution_count": 357,
          "metadata": {},
          "output_type": "execute_result"
        }
      ],
      "source": [
        "match.corr()"
      ]
    },
    {
      "cell_type": "code",
      "execution_count": null,
      "id": "4dc2a450",
      "metadata": {
        "id": "4dc2a450",
        "outputId": "50109a13-63b9-41d6-b79d-8dd565c86a0f"
      },
      "outputs": [
        {
          "data": {
            "text/plain": [
              "<AxesSubplot:>"
            ]
          },
          "execution_count": 358,
          "metadata": {},
          "output_type": "execute_result"
        },
        {
          "data": {
            "image/png": "[encoded data removed]",
            "text/plain": [
              "<Figure size 432x288 with 2 Axes>"
            ]
          },
          "metadata": {
            "needs_background": "light"
          },
          "output_type": "display_data"
        }
      ],
      "source": [
        "sns.heatmap(match.corr())"
      ]
    },
    {
      "cell_type": "code",
      "execution_count": null,
      "id": "20a27cb6",
      "metadata": {
        "id": "20a27cb6",
        "outputId": "eeaae486-a2f4-46da-98b5-565085797254"
      },
      "outputs": [
        {
          "data": {
            "text/html": [
              "<div>\n",
              "<style scoped>\n",
              "    .dataframe tbody tr th:only-of-type {\n",
              "        vertical-align: middle;\n",
              "    }\n",
              "\n",
              "    .dataframe tbody tr th {\n",
              "        vertical-align: top;\n",
              "    }\n",
              "\n",
              "    .dataframe thead th {\n",
              "        text-align: right;\n",
              "    }\n",
              "</style>\n",
              "<table border=\"1\" class=\"dataframe\">\n",
              "  <thead>\n",
              "    <tr style=\"text-align: right;\">\n",
              "      <th></th>\n",
              "      <th>id</th>\n",
              "      <th>season</th>\n",
              "      <th>place</th>\n",
              "      <th>dom</th>\n",
              "      <th>team1</th>\n",
              "      <th>team2</th>\n",
              "      <th>toss_winner</th>\n",
              "      <th>toss_decision</th>\n",
              "      <th>result</th>\n",
              "      <th>dl_applied</th>\n",
              "      <th>winner</th>\n",
              "      <th>win_by_runs</th>\n",
              "      <th>win_by_wickets</th>\n",
              "      <th>player_of_match</th>\n",
              "      <th>venue</th>\n",
              "      <th>umpire1</th>\n",
              "      <th>umpire2</th>\n",
              "      <th>umpire3</th>\n",
              "    </tr>\n",
              "  </thead>\n",
              "  <tbody>\n",
              "    <tr>\n",
              "      <th>0</th>\n",
              "      <td>1</td>\n",
              "      <td>2017</td>\n",
              "      <td>Hyderabad</td>\n",
              "      <td>2017-04-05</td>\n",
              "      <td>Sunrisers Hyderabad</td>\n",
              "      <td>Royal Challengers Bangalore</td>\n",
              "      <td>Royal Challengers Bangalore</td>\n",
              "      <td>field</td>\n",
              "      <td>normal</td>\n",
              "      <td>0</td>\n",
              "      <td>Sunrisers Hyderabad</td>\n",
              "      <td>35</td>\n",
              "      <td>0</td>\n",
              "      <td>Yuvraj Singh</td>\n",
              "      <td>Rajiv Gandhi International Stadium, Uppal</td>\n",
              "      <td>AY Dandekar</td>\n",
              "      <td>NJ Llong</td>\n",
              "      <td>NaN</td>\n",
              "    </tr>\n",
              "    <tr>\n",
              "      <th>1</th>\n",
              "      <td>2</td>\n",
              "      <td>2017</td>\n",
              "      <td>Pune</td>\n",
              "      <td>2017-04-06</td>\n",
              "      <td>Mumbai Indians</td>\n",
              "      <td>Rising Pune Supergiant</td>\n",
              "      <td>Rising Pune Supergiant</td>\n",
              "      <td>field</td>\n",
              "      <td>normal</td>\n",
              "      <td>0</td>\n",
              "      <td>Rising Pune Supergiant</td>\n",
              "      <td>0</td>\n",
              "      <td>7</td>\n",
              "      <td>SPD Smith</td>\n",
              "      <td>Maharashtra Cricket Association Stadium</td>\n",
              "      <td>A Nand Kishore</td>\n",
              "      <td>S Ravi</td>\n",
              "      <td>NaN</td>\n",
              "    </tr>\n",
              "    <tr>\n",
              "      <th>2</th>\n",
              "      <td>3</td>\n",
              "      <td>2017</td>\n",
              "      <td>Rajkot</td>\n",
              "      <td>2017-04-07</td>\n",
              "      <td>Gujarat Lions</td>\n",
              "      <td>Kolkata Knight Riders</td>\n",
              "      <td>Kolkata Knight Riders</td>\n",
              "      <td>field</td>\n",
              "      <td>normal</td>\n",
              "      <td>0</td>\n",
              "      <td>Kolkata Knight Riders</td>\n",
              "      <td>0</td>\n",
              "      <td>10</td>\n",
              "      <td>CA Lynn</td>\n",
              "      <td>Saurashtra Cricket Association Stadium</td>\n",
              "      <td>Nitin Menon</td>\n",
              "      <td>CK Nandan</td>\n",
              "      <td>NaN</td>\n",
              "    </tr>\n",
              "  </tbody>\n",
              "</table>\n",
              "</div>"
            ],
            "text/plain": [
              "   id  season      place         dom                team1  \\\n",
              "0   1    2017  Hyderabad  2017-04-05  Sunrisers Hyderabad   \n",
              "1   2    2017       Pune  2017-04-06       Mumbai Indians   \n",
              "2   3    2017     Rajkot  2017-04-07        Gujarat Lions   \n",
              "\n",
              "                         team2                  toss_winner toss_decision  \\\n",
              "0  Royal Challengers Bangalore  Royal Challengers Bangalore         field   \n",
              "1       Rising Pune Supergiant       Rising Pune Supergiant         field   \n",
              "2        Kolkata Knight Riders        Kolkata Knight Riders         field   \n",
              "\n",
              "   result  dl_applied                  winner  win_by_runs  win_by_wickets  \\\n",
              "0  normal           0     Sunrisers Hyderabad           35               0   \n",
              "1  normal           0  Rising Pune Supergiant            0               7   \n",
              "2  normal           0   Kolkata Knight Riders            0              10   \n",
              "\n",
              "  player_of_match                                      venue         umpire1  \\\n",
              "0    Yuvraj Singh  Rajiv Gandhi International Stadium, Uppal     AY Dandekar   \n",
              "1       SPD Smith    Maharashtra Cricket Association Stadium  A Nand Kishore   \n",
              "2         CA Lynn     Saurashtra Cricket Association Stadium     Nitin Menon   \n",
              "\n",
              "     umpire2  umpire3  \n",
              "0   NJ Llong      NaN  \n",
              "1     S Ravi      NaN  \n",
              "2  CK Nandan      NaN  "
            ]
          },
          "execution_count": 364,
          "metadata": {},
          "output_type": "execute_result"
        }
      ],
      "source": [
        "#Rename_Cols\n",
        "\n",
        "match.rename(columns = {'city': 'place','date': 'dom'}).head(3)"
      ]
    },
    {
      "cell_type": "markdown",
      "id": "ff095ad8",
      "metadata": {
        "id": "ff095ad8"
      },
      "source": [
        "***Set_Index and Reset_Index***"
      ]
    },
    {
      "cell_type": "code",
      "execution_count": null,
      "id": "22b3a8b8",
      "metadata": {
        "scrolled": true,
        "id": "22b3a8b8",
        "outputId": "a0eba4d0-a296-4ad2-daf4-44aa3e6097db"
      },
      "outputs": [
        {
          "data": {
            "text/html": [
              "<div>\n",
              "<style scoped>\n",
              "    .dataframe tbody tr th:only-of-type {\n",
              "        vertical-align: middle;\n",
              "    }\n",
              "\n",
              "    .dataframe tbody tr th {\n",
              "        vertical-align: top;\n",
              "    }\n",
              "\n",
              "    .dataframe thead th {\n",
              "        text-align: right;\n",
              "    }\n",
              "</style>\n",
              "<table border=\"1\" class=\"dataframe\">\n",
              "  <thead>\n",
              "    <tr style=\"text-align: right;\">\n",
              "      <th></th>\n",
              "      <th>season</th>\n",
              "      <th>city</th>\n",
              "      <th>date</th>\n",
              "      <th>team1</th>\n",
              "      <th>team2</th>\n",
              "      <th>toss_winner</th>\n",
              "      <th>toss_decision</th>\n",
              "      <th>result</th>\n",
              "      <th>dl_applied</th>\n",
              "      <th>winner</th>\n",
              "      <th>win_by_runs</th>\n",
              "      <th>win_by_wickets</th>\n",
              "      <th>player_of_match</th>\n",
              "      <th>venue</th>\n",
              "      <th>umpire1</th>\n",
              "      <th>umpire2</th>\n",
              "      <th>umpire3</th>\n",
              "    </tr>\n",
              "    <tr>\n",
              "      <th>id</th>\n",
              "      <th></th>\n",
              "      <th></th>\n",
              "      <th></th>\n",
              "      <th></th>\n",
              "      <th></th>\n",
              "      <th></th>\n",
              "      <th></th>\n",
              "      <th></th>\n",
              "      <th></th>\n",
              "      <th></th>\n",
              "      <th></th>\n",
              "      <th></th>\n",
              "      <th></th>\n",
              "      <th></th>\n",
              "      <th></th>\n",
              "      <th></th>\n",
              "      <th></th>\n",
              "    </tr>\n",
              "  </thead>\n",
              "  <tbody>\n",
              "    <tr>\n",
              "      <th>1</th>\n",
              "      <td>2017</td>\n",
              "      <td>Hyderabad</td>\n",
              "      <td>2017-04-05</td>\n",
              "      <td>Sunrisers Hyderabad</td>\n",
              "      <td>Royal Challengers Bangalore</td>\n",
              "      <td>Royal Challengers Bangalore</td>\n",
              "      <td>field</td>\n",
              "      <td>normal</td>\n",
              "      <td>0</td>\n",
              "      <td>Sunrisers Hyderabad</td>\n",
              "      <td>35</td>\n",
              "      <td>0</td>\n",
              "      <td>Yuvraj Singh</td>\n",
              "      <td>Rajiv Gandhi International Stadium, Uppal</td>\n",
              "      <td>AY Dandekar</td>\n",
              "      <td>NJ Llong</td>\n",
              "      <td>NaN</td>\n",
              "    </tr>\n",
              "  </tbody>\n",
              "</table>\n",
              "</div>"
            ],
            "text/plain": [
              "    season       city        date                team1  \\\n",
              "id                                                       \n",
              "1     2017  Hyderabad  2017-04-05  Sunrisers Hyderabad   \n",
              "\n",
              "                          team2                  toss_winner toss_decision  \\\n",
              "id                                                                           \n",
              "1   Royal Challengers Bangalore  Royal Challengers Bangalore         field   \n",
              "\n",
              "    result  dl_applied               winner  win_by_runs  win_by_wickets  \\\n",
              "id                                                                         \n",
              "1   normal           0  Sunrisers Hyderabad           35               0   \n",
              "\n",
              "   player_of_match                                      venue      umpire1  \\\n",
              "id                                                                           \n",
              "1     Yuvraj Singh  Rajiv Gandhi International Stadium, Uppal  AY Dandekar   \n",
              "\n",
              "     umpire2  umpire3  \n",
              "id                     \n",
              "1   NJ Llong      NaN  "
            ]
          },
          "execution_count": 379,
          "metadata": {},
          "output_type": "execute_result"
        }
      ],
      "source": [
        "data.head(1)"
      ]
    },
    {
      "cell_type": "code",
      "execution_count": null,
      "id": "35913d27",
      "metadata": {
        "id": "35913d27"
      },
      "outputs": [],
      "source": [
        "# data.set_index()"
      ]
    },
    {
      "cell_type": "code",
      "execution_count": null,
      "id": "52622ea0",
      "metadata": {
        "id": "52622ea0"
      },
      "outputs": [],
      "source": [
        "# data.reset_index()"
      ]
    },
    {
      "cell_type": "code",
      "execution_count": null,
      "id": "da42aba9",
      "metadata": {
        "id": "da42aba9",
        "outputId": "b0f2d2f6-46fa-4c99-dbae-50e31b7a5f6f"
      },
      "outputs": [
        {
          "data": {
            "text/html": [
              "<div>\n",
              "<style scoped>\n",
              "    .dataframe tbody tr th:only-of-type {\n",
              "        vertical-align: middle;\n",
              "    }\n",
              "\n",
              "    .dataframe tbody tr th {\n",
              "        vertical-align: top;\n",
              "    }\n",
              "\n",
              "    .dataframe thead th {\n",
              "        text-align: right;\n",
              "    }\n",
              "</style>\n",
              "<table border=\"1\" class=\"dataframe\">\n",
              "  <thead>\n",
              "    <tr style=\"text-align: right;\">\n",
              "      <th></th>\n",
              "      <th>index</th>\n",
              "      <th>winner</th>\n",
              "    </tr>\n",
              "  </thead>\n",
              "  <tbody>\n",
              "    <tr>\n",
              "      <th>0</th>\n",
              "      <td>Mumbai Indians</td>\n",
              "      <td>92</td>\n",
              "    </tr>\n",
              "    <tr>\n",
              "      <th>1</th>\n",
              "      <td>Chennai Super Kings</td>\n",
              "      <td>79</td>\n",
              "    </tr>\n",
              "    <tr>\n",
              "      <th>2</th>\n",
              "      <td>Kolkata Knight Riders</td>\n",
              "      <td>77</td>\n",
              "    </tr>\n",
              "    <tr>\n",
              "      <th>3</th>\n",
              "      <td>Royal Challengers Bangalore</td>\n",
              "      <td>73</td>\n",
              "    </tr>\n",
              "    <tr>\n",
              "      <th>4</th>\n",
              "      <td>Kings XI Punjab</td>\n",
              "      <td>70</td>\n",
              "    </tr>\n",
              "    <tr>\n",
              "      <th>5</th>\n",
              "      <td>Rajasthan Royals</td>\n",
              "      <td>63</td>\n",
              "    </tr>\n",
              "    <tr>\n",
              "      <th>6</th>\n",
              "      <td>Delhi Daredevils</td>\n",
              "      <td>62</td>\n",
              "    </tr>\n",
              "    <tr>\n",
              "      <th>7</th>\n",
              "      <td>Sunrisers Hyderabad</td>\n",
              "      <td>42</td>\n",
              "    </tr>\n",
              "    <tr>\n",
              "      <th>8</th>\n",
              "      <td>Deccan Chargers</td>\n",
              "      <td>29</td>\n",
              "    </tr>\n",
              "    <tr>\n",
              "      <th>9</th>\n",
              "      <td>Gujarat Lions</td>\n",
              "      <td>13</td>\n",
              "    </tr>\n",
              "    <tr>\n",
              "      <th>10</th>\n",
              "      <td>Pune Warriors</td>\n",
              "      <td>12</td>\n",
              "    </tr>\n",
              "    <tr>\n",
              "      <th>11</th>\n",
              "      <td>Rising Pune Supergiant</td>\n",
              "      <td>10</td>\n",
              "    </tr>\n",
              "    <tr>\n",
              "      <th>12</th>\n",
              "      <td>Kochi Tuskers Kerala</td>\n",
              "      <td>6</td>\n",
              "    </tr>\n",
              "    <tr>\n",
              "      <th>13</th>\n",
              "      <td>Rising Pune Supergiants</td>\n",
              "      <td>5</td>\n",
              "    </tr>\n",
              "  </tbody>\n",
              "</table>\n",
              "</div>"
            ],
            "text/plain": [
              "                          index  winner\n",
              "0                Mumbai Indians      92\n",
              "1           Chennai Super Kings      79\n",
              "2         Kolkata Knight Riders      77\n",
              "3   Royal Challengers Bangalore      73\n",
              "4               Kings XI Punjab      70\n",
              "5              Rajasthan Royals      63\n",
              "6              Delhi Daredevils      62\n",
              "7           Sunrisers Hyderabad      42\n",
              "8               Deccan Chargers      29\n",
              "9                 Gujarat Lions      13\n",
              "10                Pune Warriors      12\n",
              "11       Rising Pune Supergiant      10\n",
              "12         Kochi Tuskers Kerala       6\n",
              "13      Rising Pune Supergiants       5"
            ]
          },
          "execution_count": 393,
          "metadata": {},
          "output_type": "execute_result"
        }
      ],
      "source": [
        "data['winner'].value_counts().reset_index()"
      ]
    },
    {
      "cell_type": "markdown",
      "id": "346ea330",
      "metadata": {
        "id": "346ea330"
      },
      "source": [
        "***Handling Missing Values***"
      ]
    },
    {
      "cell_type": "code",
      "execution_count": null,
      "id": "791a495d",
      "metadata": {
        "id": "791a495d",
        "outputId": "eb9ece5b-1901-433b-b5dc-0902416901f4"
      },
      "outputs": [
        {
          "data": {
            "text/html": [
              "<div>\n",
              "<style scoped>\n",
              "    .dataframe tbody tr th:only-of-type {\n",
              "        vertical-align: middle;\n",
              "    }\n",
              "\n",
              "    .dataframe tbody tr th {\n",
              "        vertical-align: top;\n",
              "    }\n",
              "\n",
              "    .dataframe thead th {\n",
              "        text-align: right;\n",
              "    }\n",
              "</style>\n",
              "<table border=\"1\" class=\"dataframe\">\n",
              "  <thead>\n",
              "    <tr style=\"text-align: right;\">\n",
              "      <th></th>\n",
              "      <th>PassengerId</th>\n",
              "      <th>Survived</th>\n",
              "      <th>Pclass</th>\n",
              "      <th>Name</th>\n",
              "      <th>Sex</th>\n",
              "      <th>Age</th>\n",
              "      <th>SibSp</th>\n",
              "      <th>Parch</th>\n",
              "      <th>Ticket</th>\n",
              "      <th>Fare</th>\n",
              "      <th>Cabin</th>\n",
              "      <th>Embarked</th>\n",
              "    </tr>\n",
              "  </thead>\n",
              "  <tbody>\n",
              "    <tr>\n",
              "      <th>0</th>\n",
              "      <td>1</td>\n",
              "      <td>0</td>\n",
              "      <td>3</td>\n",
              "      <td>Braund, Mr. Owen Harris</td>\n",
              "      <td>male</td>\n",
              "      <td>22.0</td>\n",
              "      <td>1</td>\n",
              "      <td>0</td>\n",
              "      <td>A/5 21171</td>\n",
              "      <td>7.2500</td>\n",
              "      <td>NaN</td>\n",
              "      <td>S</td>\n",
              "    </tr>\n",
              "    <tr>\n",
              "      <th>1</th>\n",
              "      <td>2</td>\n",
              "      <td>1</td>\n",
              "      <td>1</td>\n",
              "      <td>Cumings, Mrs. John Bradley (Florence Briggs Th...</td>\n",
              "      <td>female</td>\n",
              "      <td>38.0</td>\n",
              "      <td>1</td>\n",
              "      <td>0</td>\n",
              "      <td>PC 17599</td>\n",
              "      <td>71.2833</td>\n",
              "      <td>C85</td>\n",
              "      <td>C</td>\n",
              "    </tr>\n",
              "    <tr>\n",
              "      <th>2</th>\n",
              "      <td>3</td>\n",
              "      <td>1</td>\n",
              "      <td>3</td>\n",
              "      <td>Heikkinen, Miss. Laina</td>\n",
              "      <td>female</td>\n",
              "      <td>26.0</td>\n",
              "      <td>0</td>\n",
              "      <td>0</td>\n",
              "      <td>STON/O2. 3101282</td>\n",
              "      <td>7.9250</td>\n",
              "      <td>NaN</td>\n",
              "      <td>S</td>\n",
              "    </tr>\n",
              "    <tr>\n",
              "      <th>3</th>\n",
              "      <td>4</td>\n",
              "      <td>1</td>\n",
              "      <td>1</td>\n",
              "      <td>Futrelle, Mrs. Jacques Heath (Lily May Peel)</td>\n",
              "      <td>female</td>\n",
              "      <td>35.0</td>\n",
              "      <td>1</td>\n",
              "      <td>0</td>\n",
              "      <td>113803</td>\n",
              "      <td>53.1000</td>\n",
              "      <td>C123</td>\n",
              "      <td>S</td>\n",
              "    </tr>\n",
              "    <tr>\n",
              "      <th>4</th>\n",
              "      <td>5</td>\n",
              "      <td>0</td>\n",
              "      <td>3</td>\n",
              "      <td>Allen, Mr. William Henry</td>\n",
              "      <td>male</td>\n",
              "      <td>35.0</td>\n",
              "      <td>0</td>\n",
              "      <td>0</td>\n",
              "      <td>373450</td>\n",
              "      <td>8.0500</td>\n",
              "      <td>NaN</td>\n",
              "      <td>S</td>\n",
              "    </tr>\n",
              "  </tbody>\n",
              "</table>\n",
              "</div>"
            ],
            "text/plain": [
              "   PassengerId  Survived  Pclass  \\\n",
              "0            1         0       3   \n",
              "1            2         1       1   \n",
              "2            3         1       3   \n",
              "3            4         1       1   \n",
              "4            5         0       3   \n",
              "\n",
              "                                                Name     Sex   Age  SibSp  \\\n",
              "0                            Braund, Mr. Owen Harris    male  22.0      1   \n",
              "1  Cumings, Mrs. John Bradley (Florence Briggs Th...  female  38.0      1   \n",
              "2                             Heikkinen, Miss. Laina  female  26.0      0   \n",
              "3       Futrelle, Mrs. Jacques Heath (Lily May Peel)  female  35.0      1   \n",
              "4                           Allen, Mr. William Henry    male  35.0      0   \n",
              "\n",
              "   Parch            Ticket     Fare Cabin Embarked  \n",
              "0      0         A/5 21171   7.2500   NaN        S  \n",
              "1      0          PC 17599  71.2833   C85        C  \n",
              "2      0  STON/O2. 3101282   7.9250   NaN        S  \n",
              "3      0            113803  53.1000  C123        S  \n",
              "4      0            373450   8.0500   NaN        S  "
            ]
          },
          "execution_count": 395,
          "metadata": {},
          "output_type": "execute_result"
        }
      ],
      "source": [
        "data_1 = pd.read_csv('train.csv')\n",
        "data_1.head()"
      ]
    },
    {
      "cell_type": "code",
      "execution_count": null,
      "id": "49d9475a",
      "metadata": {
        "id": "49d9475a",
        "outputId": "3fa74765-86bd-4af3-bb10-282e0e422f01"
      },
      "outputs": [
        {
          "data": {
            "text/plain": [
              "(202, 12)"
            ]
          },
          "execution_count": 403,
          "metadata": {},
          "output_type": "execute_result"
        }
      ],
      "source": [
        "data_1.dropna(subset = ['Cabin','Embarked']).shape"
      ]
    },
    {
      "cell_type": "code",
      "execution_count": null,
      "id": "a511a993",
      "metadata": {
        "id": "a511a993",
        "outputId": "6a42c806-9c68-4ab0-9682-8ae57fcabc1a"
      },
      "outputs": [
        {
          "data": {
            "text/html": [
              "<div>\n",
              "<style scoped>\n",
              "    .dataframe tbody tr th:only-of-type {\n",
              "        vertical-align: middle;\n",
              "    }\n",
              "\n",
              "    .dataframe tbody tr th {\n",
              "        vertical-align: top;\n",
              "    }\n",
              "\n",
              "    .dataframe thead th {\n",
              "        text-align: right;\n",
              "    }\n",
              "</style>\n",
              "<table border=\"1\" class=\"dataframe\">\n",
              "  <thead>\n",
              "    <tr style=\"text-align: right;\">\n",
              "      <th></th>\n",
              "      <th>PassengerId</th>\n",
              "      <th>Survived</th>\n",
              "      <th>Pclass</th>\n",
              "      <th>Name</th>\n",
              "      <th>Sex</th>\n",
              "      <th>Age</th>\n",
              "      <th>SibSp</th>\n",
              "      <th>Parch</th>\n",
              "      <th>Ticket</th>\n",
              "      <th>Fare</th>\n",
              "      <th>Cabin</th>\n",
              "      <th>Embarked</th>\n",
              "    </tr>\n",
              "  </thead>\n",
              "  <tbody>\n",
              "    <tr>\n",
              "      <th>0</th>\n",
              "      <td>1</td>\n",
              "      <td>0</td>\n",
              "      <td>3</td>\n",
              "      <td>Braund, Mr. Owen Harris</td>\n",
              "      <td>male</td>\n",
              "      <td>22.0</td>\n",
              "      <td>1</td>\n",
              "      <td>0</td>\n",
              "      <td>A/5 21171</td>\n",
              "      <td>7.2500</td>\n",
              "      <td>0</td>\n",
              "      <td>S</td>\n",
              "    </tr>\n",
              "    <tr>\n",
              "      <th>1</th>\n",
              "      <td>2</td>\n",
              "      <td>1</td>\n",
              "      <td>1</td>\n",
              "      <td>Cumings, Mrs. John Bradley (Florence Briggs Th...</td>\n",
              "      <td>female</td>\n",
              "      <td>38.0</td>\n",
              "      <td>1</td>\n",
              "      <td>0</td>\n",
              "      <td>PC 17599</td>\n",
              "      <td>71.2833</td>\n",
              "      <td>C85</td>\n",
              "      <td>C</td>\n",
              "    </tr>\n",
              "    <tr>\n",
              "      <th>2</th>\n",
              "      <td>3</td>\n",
              "      <td>1</td>\n",
              "      <td>3</td>\n",
              "      <td>Heikkinen, Miss. Laina</td>\n",
              "      <td>female</td>\n",
              "      <td>26.0</td>\n",
              "      <td>0</td>\n",
              "      <td>0</td>\n",
              "      <td>STON/O2. 3101282</td>\n",
              "      <td>7.9250</td>\n",
              "      <td>0</td>\n",
              "      <td>S</td>\n",
              "    </tr>\n",
              "    <tr>\n",
              "      <th>3</th>\n",
              "      <td>4</td>\n",
              "      <td>1</td>\n",
              "      <td>1</td>\n",
              "      <td>Futrelle, Mrs. Jacques Heath (Lily May Peel)</td>\n",
              "      <td>female</td>\n",
              "      <td>35.0</td>\n",
              "      <td>1</td>\n",
              "      <td>0</td>\n",
              "      <td>113803</td>\n",
              "      <td>53.1000</td>\n",
              "      <td>C123</td>\n",
              "      <td>S</td>\n",
              "    </tr>\n",
              "    <tr>\n",
              "      <th>4</th>\n",
              "      <td>5</td>\n",
              "      <td>0</td>\n",
              "      <td>3</td>\n",
              "      <td>Allen, Mr. William Henry</td>\n",
              "      <td>male</td>\n",
              "      <td>35.0</td>\n",
              "      <td>0</td>\n",
              "      <td>0</td>\n",
              "      <td>373450</td>\n",
              "      <td>8.0500</td>\n",
              "      <td>0</td>\n",
              "      <td>S</td>\n",
              "    </tr>\n",
              "  </tbody>\n",
              "</table>\n",
              "</div>"
            ],
            "text/plain": [
              "   PassengerId  Survived  Pclass  \\\n",
              "0            1         0       3   \n",
              "1            2         1       1   \n",
              "2            3         1       3   \n",
              "3            4         1       1   \n",
              "4            5         0       3   \n",
              "\n",
              "                                                Name     Sex   Age  SibSp  \\\n",
              "0                            Braund, Mr. Owen Harris    male  22.0      1   \n",
              "1  Cumings, Mrs. John Bradley (Florence Briggs Th...  female  38.0      1   \n",
              "2                             Heikkinen, Miss. Laina  female  26.0      0   \n",
              "3       Futrelle, Mrs. Jacques Heath (Lily May Peel)  female  35.0      1   \n",
              "4                           Allen, Mr. William Henry    male  35.0      0   \n",
              "\n",
              "   Parch            Ticket     Fare Cabin Embarked  \n",
              "0      0         A/5 21171   7.2500     0        S  \n",
              "1      0          PC 17599  71.2833   C85        C  \n",
              "2      0  STON/O2. 3101282   7.9250     0        S  \n",
              "3      0            113803  53.1000  C123        S  \n",
              "4      0            373450   8.0500     0        S  "
            ]
          },
          "execution_count": 405,
          "metadata": {},
          "output_type": "execute_result"
        }
      ],
      "source": [
        "data_1.fillna(0).head()"
      ]
    },
    {
      "cell_type": "code",
      "execution_count": null,
      "id": "337ff0b4",
      "metadata": {
        "id": "337ff0b4",
        "outputId": "0af09ebc-dac1-4449-b1d5-50d8edd0628f"
      },
      "outputs": [
        {
          "data": {
            "text/html": [
              "<div>\n",
              "<style scoped>\n",
              "    .dataframe tbody tr th:only-of-type {\n",
              "        vertical-align: middle;\n",
              "    }\n",
              "\n",
              "    .dataframe tbody tr th {\n",
              "        vertical-align: top;\n",
              "    }\n",
              "\n",
              "    .dataframe thead th {\n",
              "        text-align: right;\n",
              "    }\n",
              "</style>\n",
              "<table border=\"1\" class=\"dataframe\">\n",
              "  <thead>\n",
              "    <tr style=\"text-align: right;\">\n",
              "      <th></th>\n",
              "      <th>Cabin</th>\n",
              "    </tr>\n",
              "  </thead>\n",
              "  <tbody>\n",
              "    <tr>\n",
              "      <th>0</th>\n",
              "      <td>Not Specified</td>\n",
              "    </tr>\n",
              "    <tr>\n",
              "      <th>1</th>\n",
              "      <td>C85</td>\n",
              "    </tr>\n",
              "    <tr>\n",
              "      <th>2</th>\n",
              "      <td>Not Specified</td>\n",
              "    </tr>\n",
              "    <tr>\n",
              "      <th>3</th>\n",
              "      <td>C123</td>\n",
              "    </tr>\n",
              "    <tr>\n",
              "      <th>4</th>\n",
              "      <td>Not Specified</td>\n",
              "    </tr>\n",
              "    <tr>\n",
              "      <th>...</th>\n",
              "      <td>...</td>\n",
              "    </tr>\n",
              "    <tr>\n",
              "      <th>886</th>\n",
              "      <td>Not Specified</td>\n",
              "    </tr>\n",
              "    <tr>\n",
              "      <th>887</th>\n",
              "      <td>B42</td>\n",
              "    </tr>\n",
              "    <tr>\n",
              "      <th>888</th>\n",
              "      <td>Not Specified</td>\n",
              "    </tr>\n",
              "    <tr>\n",
              "      <th>889</th>\n",
              "      <td>C148</td>\n",
              "    </tr>\n",
              "    <tr>\n",
              "      <th>890</th>\n",
              "      <td>Not Specified</td>\n",
              "    </tr>\n",
              "  </tbody>\n",
              "</table>\n",
              "<p>891 rows × 1 columns</p>\n",
              "</div>"
            ],
            "text/plain": [
              "             Cabin\n",
              "0    Not Specified\n",
              "1              C85\n",
              "2    Not Specified\n",
              "3             C123\n",
              "4    Not Specified\n",
              "..             ...\n",
              "886  Not Specified\n",
              "887            B42\n",
              "888  Not Specified\n",
              "889           C148\n",
              "890  Not Specified\n",
              "\n",
              "[891 rows x 1 columns]"
            ]
          },
          "execution_count": 416,
          "metadata": {},
          "output_type": "execute_result"
        }
      ],
      "source": [
        "data_1['Cabin'].fillna('Not Specified').to_frame()"
      ]
    },
    {
      "cell_type": "code",
      "execution_count": null,
      "id": "a1b3977d",
      "metadata": {
        "id": "a1b3977d",
        "outputId": "bbf41877-c57e-4425-a430-d254c58d9e3e"
      },
      "outputs": [
        {
          "data": {
            "text/html": [
              "<div>\n",
              "<style scoped>\n",
              "    .dataframe tbody tr th:only-of-type {\n",
              "        vertical-align: middle;\n",
              "    }\n",
              "\n",
              "    .dataframe tbody tr th {\n",
              "        vertical-align: top;\n",
              "    }\n",
              "\n",
              "    .dataframe thead th {\n",
              "        text-align: right;\n",
              "    }\n",
              "</style>\n",
              "<table border=\"1\" class=\"dataframe\">\n",
              "  <thead>\n",
              "    <tr style=\"text-align: right;\">\n",
              "      <th></th>\n",
              "      <th>Age</th>\n",
              "    </tr>\n",
              "  </thead>\n",
              "  <tbody>\n",
              "    <tr>\n",
              "      <th>0</th>\n",
              "      <td>22.0</td>\n",
              "    </tr>\n",
              "    <tr>\n",
              "      <th>1</th>\n",
              "      <td>38.0</td>\n",
              "    </tr>\n",
              "    <tr>\n",
              "      <th>2</th>\n",
              "      <td>26.0</td>\n",
              "    </tr>\n",
              "    <tr>\n",
              "      <th>3</th>\n",
              "      <td>35.0</td>\n",
              "    </tr>\n",
              "    <tr>\n",
              "      <th>4</th>\n",
              "      <td>35.0</td>\n",
              "    </tr>\n",
              "    <tr>\n",
              "      <th>...</th>\n",
              "      <td>...</td>\n",
              "    </tr>\n",
              "    <tr>\n",
              "      <th>886</th>\n",
              "      <td>27.0</td>\n",
              "    </tr>\n",
              "    <tr>\n",
              "      <th>887</th>\n",
              "      <td>19.0</td>\n",
              "    </tr>\n",
              "    <tr>\n",
              "      <th>888</th>\n",
              "      <td>30.0</td>\n",
              "    </tr>\n",
              "    <tr>\n",
              "      <th>889</th>\n",
              "      <td>26.0</td>\n",
              "    </tr>\n",
              "    <tr>\n",
              "      <th>890</th>\n",
              "      <td>32.0</td>\n",
              "    </tr>\n",
              "  </tbody>\n",
              "</table>\n",
              "<p>891 rows × 1 columns</p>\n",
              "</div>"
            ],
            "text/plain": [
              "      Age\n",
              "0    22.0\n",
              "1    38.0\n",
              "2    26.0\n",
              "3    35.0\n",
              "4    35.0\n",
              "..    ...\n",
              "886  27.0\n",
              "887  19.0\n",
              "888  30.0\n",
              "889  26.0\n",
              "890  32.0\n",
              "\n",
              "[891 rows x 1 columns]"
            ]
          },
          "execution_count": 415,
          "metadata": {},
          "output_type": "execute_result"
        }
      ],
      "source": [
        "data_1['Age'].fillna(30).to_frame()"
      ]
    },
    {
      "cell_type": "code",
      "execution_count": null,
      "id": "735ce5e5",
      "metadata": {
        "id": "735ce5e5"
      },
      "outputs": [],
      "source": [
        "# data_1['Age'].fillna(method = 'bfill')"
      ]
    }
  ],
  "metadata": {
    "kernelspec": {
      "display_name": "Python 3 (ipykernel)",
      "language": "python",
      "name": "python3"
    },
    "language_info": {
      "codemirror_mode": {
        "name": "ipython",
        "version": 3
      },
      "file_extension": ".py",
      "mimetype": "text/x-python",
      "name": "python",
      "nbconvert_exporter": "python",
      "pygments_lexer": "ipython3",
      "version": "3.10.5"
    },
    "colab": {
      "provenance": [],
      "include_colab_link": true
    }
  },
  "nbformat": 4,
  "nbformat_minor": 5
}